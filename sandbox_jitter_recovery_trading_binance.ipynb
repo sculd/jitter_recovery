{
 "cells": [
  {
   "cell_type": "markdown",
   "id": "f2737de0-4e5d-4c43-a52a-96c3c639e234",
   "metadata": {
    "execution": {
     "iopub.execute_input": "2023-12-12T21:48:55.276471Z",
     "iopub.status.busy": "2023-12-12T21:48:55.276035Z",
     "iopub.status.idle": "2023-12-12T21:48:55.282856Z",
     "shell.execute_reply": "2023-12-12T21:48:55.281886Z",
     "shell.execute_reply.started": "2023-12-12T21:48:55.276437Z"
    }
   },
   "source": [
    "## import & load"
   ]
  },
  {
   "cell_type": "code",
   "execution_count": 1,
   "id": "a115d0f3-c935-4c05-a33a-732933233c0a",
   "metadata": {
    "execution": {
     "iopub.execute_input": "2024-02-03T21:32:23.563742Z",
     "iopub.status.busy": "2024-02-03T21:32:23.562908Z",
     "iopub.status.idle": "2024-02-03T21:32:24.885438Z",
     "shell.execute_reply": "2024-02-03T21:32:24.884447Z",
     "shell.execute_reply.started": "2024-02-03T21:32:23.563670Z"
    }
   },
   "outputs": [],
   "source": [
    "import pandas as pd\n",
    "import numpy as np\n",
    "import sys\n",
    "import requests\n",
    "import pprint\n",
    "\n",
    "import datetime\n",
    "import pytz\n",
    "import importlib\n",
    "import matplotlib.pyplot as plt\n",
    "\n",
    "\n",
    "import datetime, json, math\n",
    "from google.cloud import bigquery\n",
    "from numpy_ext import rolling_apply as rolling_apply_ext"
   ]
  },
  {
   "cell_type": "code",
   "execution_count": 2,
   "id": "da881dba-cd40-4bd5-ba15-3fa2691a5107",
   "metadata": {
    "execution": {
     "iopub.execute_input": "2024-02-03T21:32:24.888622Z",
     "iopub.status.busy": "2024-02-03T21:32:24.887433Z",
     "iopub.status.idle": "2024-02-03T21:32:24.893690Z",
     "shell.execute_reply": "2024-02-03T21:32:24.892690Z",
     "shell.execute_reply.started": "2024-02-03T21:32:24.888576Z"
    }
   },
   "outputs": [],
   "source": [
    "import os\n",
    "\n",
    "if os.path.exists('credential.json'):\n",
    "    os.environ[\"GOOGLE_APPLICATION_CREDENTIALS\"] = os.path.join(os.getcwd(), 'credential.json')"
   ]
  },
  {
   "cell_type": "code",
   "execution_count": 3,
   "id": "0781806b-5f96-42f9-acec-2b15f54f6b35",
   "metadata": {
    "execution": {
     "iopub.execute_input": "2024-02-03T21:32:24.895250Z",
     "iopub.status.busy": "2024-02-03T21:32:24.894995Z",
     "iopub.status.idle": "2024-02-03T21:32:32.126054Z",
     "shell.execute_reply": "2024-02-03T21:32:32.125329Z",
     "shell.execute_reply.started": "2024-02-03T21:32:24.895233Z"
    }
   },
   "outputs": [
    {
     "data": {
      "text/plain": [
       "<module 'data.read' from '/home/junlim/projects/jitter_recovery/data/read.py'>"
      ]
     },
     "execution_count": 3,
     "metadata": {},
     "output_type": "execute_result"
    }
   ],
   "source": [
    "import data.read\n",
    "importlib.reload(data.read)"
   ]
  },
  {
   "cell_type": "code",
   "execution_count": 23,
   "id": "6a2ffc80-5719-43fe-b7dd-ea2bc98199b2",
   "metadata": {
    "execution": {
     "iopub.execute_input": "2024-02-03T21:34:39.295701Z",
     "iopub.status.busy": "2024-02-03T21:34:39.292879Z",
     "iopub.status.idle": "2024-02-03T21:34:41.199264Z",
     "shell.execute_reply": "2024-02-03T21:34:41.198660Z",
     "shell.execute_reply.started": "2024-02-03T21:34:39.295592Z"
    }
   },
   "outputs": [],
   "source": [
    "df = data.read.df_binance_20240125_0130\n",
    "df_close = df.pivot(index='timestamp', columns='symbol', values='close')\n",
    "dfi = df.set_index(['timestamp', 'symbol'])\n",
    "all_symbols = df.symbol.unique()"
   ]
  },
  {
   "cell_type": "code",
   "execution_count": 24,
   "id": "f1cd98bd-1939-44bf-ad3d-d96df1a4382e",
   "metadata": {
    "execution": {
     "iopub.execute_input": "2024-02-03T21:34:41.200452Z",
     "iopub.status.busy": "2024-02-03T21:34:41.200155Z",
     "iopub.status.idle": "2024-02-03T21:34:41.209446Z",
     "shell.execute_reply": "2024-02-03T21:34:41.208813Z",
     "shell.execute_reply.started": "2024-02-03T21:34:41.200431Z"
    }
   },
   "outputs": [
    {
     "data": {
      "text/html": [
       "<div>\n",
       "<style scoped>\n",
       "    .dataframe tbody tr th:only-of-type {\n",
       "        vertical-align: middle;\n",
       "    }\n",
       "\n",
       "    .dataframe tbody tr th {\n",
       "        vertical-align: top;\n",
       "    }\n",
       "\n",
       "    .dataframe thead th {\n",
       "        text-align: right;\n",
       "    }\n",
       "</style>\n",
       "<table border=\"1\" class=\"dataframe\">\n",
       "  <thead>\n",
       "    <tr style=\"text-align: right;\">\n",
       "      <th></th>\n",
       "      <th>timestamp</th>\n",
       "      <th>symbol</th>\n",
       "      <th>open</th>\n",
       "      <th>high</th>\n",
       "      <th>low</th>\n",
       "      <th>close</th>\n",
       "      <th>volume</th>\n",
       "    </tr>\n",
       "  </thead>\n",
       "  <tbody>\n",
       "    <tr>\n",
       "      <th>2685224</th>\n",
       "      <td>2024-01-30 04:58:00</td>\n",
       "      <td>WRXUSDT</td>\n",
       "      <td>0.2174</td>\n",
       "      <td>0.2176</td>\n",
       "      <td>0.2174</td>\n",
       "      <td>0.2176</td>\n",
       "      <td>446.50</td>\n",
       "    </tr>\n",
       "    <tr>\n",
       "      <th>2685225</th>\n",
       "      <td>2024-01-30 04:58:00</td>\n",
       "      <td>ICPUSDT</td>\n",
       "      <td>12.3770</td>\n",
       "      <td>12.3850</td>\n",
       "      <td>12.3720</td>\n",
       "      <td>12.3850</td>\n",
       "      <td>1392.41</td>\n",
       "    </tr>\n",
       "    <tr>\n",
       "      <th>2685226</th>\n",
       "      <td>2024-01-30 04:58:00</td>\n",
       "      <td>LSKUSDT</td>\n",
       "      <td>1.4270</td>\n",
       "      <td>1.4270</td>\n",
       "      <td>1.4270</td>\n",
       "      <td>1.4270</td>\n",
       "      <td>817.10</td>\n",
       "    </tr>\n",
       "  </tbody>\n",
       "</table>\n",
       "</div>"
      ],
      "text/plain": [
       "                  timestamp   symbol     open     high      low    close  \\\n",
       "2685224 2024-01-30 04:58:00  WRXUSDT   0.2174   0.2176   0.2174   0.2176   \n",
       "2685225 2024-01-30 04:58:00  ICPUSDT  12.3770  12.3850  12.3720  12.3850   \n",
       "2685226 2024-01-30 04:58:00  LSKUSDT   1.4270   1.4270   1.4270   1.4270   \n",
       "\n",
       "          volume  \n",
       "2685224   446.50  \n",
       "2685225  1392.41  \n",
       "2685226   817.10  "
      ]
     },
     "execution_count": 24,
     "metadata": {},
     "output_type": "execute_result"
    }
   ],
   "source": [
    "df.tail(3)"
   ]
  },
  {
   "cell_type": "code",
   "execution_count": 25,
   "id": "2f63a12c-2f68-4b0f-abe0-e9eb20afd5b4",
   "metadata": {
    "execution": {
     "iopub.execute_input": "2024-02-03T21:34:41.210373Z",
     "iopub.status.busy": "2024-02-03T21:34:41.210172Z",
     "iopub.status.idle": "2024-02-03T21:34:41.237101Z",
     "shell.execute_reply": "2024-02-03T21:34:41.236348Z",
     "shell.execute_reply.started": "2024-02-03T21:34:41.210346Z"
    }
   },
   "outputs": [
    {
     "data": {
      "text/plain": [
       "373"
      ]
     },
     "execution_count": 25,
     "metadata": {},
     "output_type": "execute_result"
    }
   ],
   "source": [
    "len([s for s in all_symbols if 'USDT' in s])"
   ]
  },
  {
   "cell_type": "code",
   "execution_count": null,
   "id": "580bc04c-057f-4f19-827b-0a6d69e35322",
   "metadata": {},
   "outputs": [],
   "source": []
  },
  {
   "cell_type": "markdown",
   "id": "9bb84b8e-cb19-47dd-a19e-fc04b0721b1a",
   "metadata": {},
   "source": [
    "## multiple symbols"
   ]
  },
  {
   "cell_type": "code",
   "execution_count": 26,
   "id": "7e4ad85d-1c7a-4dcf-b468-da209eb874d2",
   "metadata": {
    "execution": {
     "iopub.execute_input": "2024-02-03T21:34:42.865220Z",
     "iopub.status.busy": "2024-02-03T21:34:42.864626Z",
     "iopub.status.idle": "2024-02-03T21:34:42.873165Z",
     "shell.execute_reply": "2024-02-03T21:34:42.872635Z",
     "shell.execute_reply.started": "2024-02-03T21:34:42.865163Z"
    }
   },
   "outputs": [
    {
     "data": {
      "text/plain": [
       "<module 'algo.jitter_recovery.research' from '/home/junlim/projects/jitter_recovery/algo/jitter_recovery/research.py'>"
      ]
     },
     "execution_count": 26,
     "metadata": {},
     "output_type": "execute_result"
    }
   ],
   "source": [
    "import algo.jitter_recovery.calculate\n",
    "importlib.reload(algo.jitter_recovery.calculate)\n",
    "import algo.jitter_recovery.research\n",
    "importlib.reload(algo.jitter_recovery.research)"
   ]
  },
  {
   "cell_type": "code",
   "execution_count": 27,
   "id": "dde2af94-4fca-46e0-bbf4-ad2201155953",
   "metadata": {
    "execution": {
     "iopub.execute_input": "2024-02-03T21:34:43.155536Z",
     "iopub.status.busy": "2024-02-03T21:34:43.154972Z",
     "iopub.status.idle": "2024-02-03T21:34:43.160474Z",
     "shell.execute_reply": "2024-02-03T21:34:43.159878Z",
     "shell.execute_reply.started": "2024-02-03T21:34:43.155491Z"
    }
   },
   "outputs": [],
   "source": [
    "jitter_recovery_feature_param = algo.jitter_recovery.calculate.JitterRecoveryFeatureParam(40)\n",
    "jitter_recovery_trading_param = algo.jitter_recovery.calculate.JitterRecoveryTradingParam(\n",
    "    jitter_recovery_feature_param, \n",
    "    0.20, -0.04, 0.02, is_long_term=False)"
   ]
  },
  {
   "cell_type": "code",
   "execution_count": 28,
   "id": "5066f44d-7cb8-45a6-bc2c-c0291fac7ace",
   "metadata": {
    "execution": {
     "iopub.execute_input": "2024-02-03T21:34:45.489972Z",
     "iopub.status.busy": "2024-02-03T21:34:45.489509Z",
     "iopub.status.idle": "2024-02-03T21:35:12.125535Z",
     "shell.execute_reply": "2024-02-03T21:35:12.125005Z",
     "shell.execute_reply.started": "2024-02-03T21:34:45.489939Z"
    },
    "scrolled": true
   },
   "outputs": [
    {
     "name": "stdout",
     "output_type": "stream",
     "text": [
      "0 symbol: QKCUSDT: 0\n",
      "1 symbol: BEAMXUSDT: 0\n",
      "2 symbol: VANRYUSDT: 0\n",
      "3 symbol: NULSUSDT: 0\n",
      "4 symbol: ZECUSDT: 0\n",
      "5 symbol: XTZUSDT: 0\n",
      "6 symbol: GLMUSDT: 0\n",
      "7 symbol: HFTUSDT: 0\n",
      "8 symbol: MOBUSDT: 0\n",
      "9 symbol: PERPUSDT: 0\n",
      "10 symbol: PEOPLEUSDT: 0\n",
      "11 symbol: BALUSDT: 0\n",
      "12 symbol: ZILUSDT: 0\n",
      "13 symbol: DEXEUSDT: 0\n",
      "14 symbol: KMDUSDT: 0\n",
      "15 symbol: NFPUSDT: 0\n",
      "16 symbol: BARUSDT: 0\n",
      "17 symbol: JSTUSDT: 0\n",
      "18 symbol: CFXUSDT: 0\n",
      "19 symbol: TWTUSDT: 0\n",
      "20 symbol: BURGERUSDT: 0\n",
      "21 symbol: APEUSDT: 0\n",
      "22 symbol: OMGUSDT: 0\n",
      "23 symbol: LAZIOUSDT: 0\n",
      "24 symbol: TIAUSDT: 0\n",
      "25 symbol: FLUXUSDT: 0\n",
      "26 symbol: AMPUSDT: 0\n",
      "27 symbol: OSMOUSDT: 0\n",
      "28 symbol: BNXUSDT: 0\n",
      "29 symbol: XAIUSDT: 0\n",
      "30 symbol: FILUSDT: 0\n",
      "31 symbol: OPUSDT: 0\n",
      "32 symbol: ORDIUSDT: 0\n",
      "33 symbol: ANKRUSDT: 0\n",
      "34 symbol: NMRUSDT: 0\n",
      "35 symbol: ASTRUSDT: 0\n",
      "36 symbol: LUNAUSDT: 0\n",
      "37 symbol: CREAMUSDT: 0\n",
      "38 symbol: ACMUSDT: 0\n",
      "39 symbol: SEIUSDT: 0\n",
      "40 symbol: AEURUSDT: 0\n",
      "41 symbol: UNIUSDT: 0\n",
      "42 symbol: IRISUSDT: 0\n",
      "43 symbol: TFUELUSDT: 0\n",
      "44 symbol: COTIUSDT: 0\n",
      "45 symbol: ANTUSDT: 0\n",
      "46 symbol: VICUSDT: 0\n",
      "47 symbol: TRBUSDT: 0\n",
      "48 symbol: CTSIUSDT: 0\n",
      "49 symbol: PROMUSDT: 4\n",
      "50 symbol: BNBUPUSDT: 0\n",
      "51 symbol: SNTUSDT: 0\n",
      "52 symbol: HARDUSDT: 0\n",
      "53 symbol: DREPUSDT: 0\n",
      "54 symbol: DIAUSDT: 0\n",
      "55 symbol: OXTUSDT: 0\n",
      "56 symbol: RAYUSDT: 0\n",
      "57 symbol: VGXUSDT: 0\n",
      "58 symbol: BONDUSDT: 0\n",
      "59 symbol: AGLDUSDT: 0\n",
      "60 symbol: WLDUSDT: 0\n",
      "61 symbol: SANTOSUSDT: 0\n",
      "62 symbol: TUSDUSDT: 0\n",
      "63 symbol: VETUSDT: 0\n",
      "64 symbol: FDUSDUSDT: 0\n",
      "65 symbol: CVPUSDT: 0\n",
      "66 symbol: PYRUSDT: 0\n",
      "67 symbol: CRVUSDT: 0\n",
      "68 symbol: PAXGUSDT: 0\n",
      "69 symbol: 1INCHUSDT: 0\n",
      "70 symbol: KP3RUSDT: 0\n",
      "71 symbol: AVAXUSDT: 0\n",
      "72 symbol: VIBUSDT: 0\n",
      "73 symbol: DOCKUSDT: 0\n",
      "74 symbol: NKNUSDT: 0\n",
      "75 symbol: CTXCUSDT: 0\n",
      "76 symbol: VTHOUSDT: 0\n",
      "77 symbol: REIUSDT: 0\n",
      "78 symbol: BCHUSDT: 0\n",
      "79 symbol: SUIUSDT: 0\n",
      "80 symbol: DFUSDT: 0\n",
      "81 symbol: BTCUPUSDT: 0\n",
      "82 symbol: DEGOUSDT: 0\n",
      "83 symbol: LDOUSDT: 0\n",
      "84 symbol: VITEUSDT: 0\n",
      "85 symbol: TUSDT: 0\n",
      "86 symbol: DYDXUSDT: 0\n",
      "87 symbol: YGGUSDT: 0\n",
      "88 symbol: LITUSDT: 0\n",
      "89 symbol: ADAUSDT: 0\n",
      "90 symbol: PONDUSDT: 0\n",
      "91 symbol: ETHDOWNUSDT: 0\n",
      "92 symbol: GLMRUSDT: 0\n",
      "93 symbol: BNTUSDT: 0\n",
      "94 symbol: CHRUSDT: 0\n",
      "95 symbol: MATICUSDT: 0\n",
      "96 symbol: RLCUSDT: 0\n",
      "97 symbol: ARBUSDT: 0\n",
      "98 symbol: RENUSDT: 0\n",
      "99 symbol: PNTUSDT: 0\n",
      "100 symbol: ACAUSDT: 0\n",
      "101 symbol: MDTUSDT: 0\n",
      "102 symbol: CHZUSDT: 0\n",
      "103 symbol: CELRUSDT: 0\n",
      "104 symbol: USDCUSDT: 0\n",
      "105 symbol: FIOUSDT: 0\n",
      "106 symbol: REQUSDT: 0\n",
      "107 symbol: EPXUSDT: 0\n",
      "108 symbol: RDNTUSDT: 0\n",
      "109 symbol: LPTUSDT: 0\n",
      "110 symbol: GMXUSDT: 0\n",
      "111 symbol: PHAUSDT: 0\n",
      "112 symbol: WOOUSDT: 0\n",
      "113 symbol: ALCXUSDT: 0\n",
      "114 symbol: POLYXUSDT: 0\n",
      "115 symbol: AUCTIONUSDT: 0\n",
      "116 symbol: CTKUSDT: 0\n",
      "117 symbol: SUSHIUSDT: 0\n",
      "118 symbol: MEMEUSDT: 0\n",
      "119 symbol: RAREUSDT: 3\n",
      "120 symbol: MANAUSDT: 0\n",
      "121 symbol: ONEUSDT: 0\n",
      "122 symbol: INJUSDT: 0\n",
      "123 symbol: VIDTUSDT: 0\n",
      "124 symbol: IOSTUSDT: 0\n",
      "125 symbol: CELOUSDT: 0\n",
      "126 symbol: AAVEUSDT: 0\n",
      "127 symbol: POWRUSDT: 0\n",
      "128 symbol: ONTUSDT: 0\n",
      "129 symbol: STEEMUSDT: 0\n",
      "130 symbol: STMXUSDT: 0\n",
      "131 symbol: GASUSDT: 0\n",
      "132 symbol: KDAUSDT: 0\n",
      "133 symbol: FIROUSDT: 0\n",
      "134 symbol: STRAXUSDT: 0\n",
      "135 symbol: ONGUSDT: 0\n",
      "136 symbol: COMPUSDT: 0\n",
      "137 symbol: WRXUSDT: 0\n",
      "138 symbol: IQUSDT: 0\n",
      "139 symbol: IOTXUSDT: 0\n",
      "140 symbol: TRUUSDT: 0\n",
      "141 symbol: ETHUSDT: 0\n",
      "142 symbol: KLAYUSDT: 0\n",
      "143 symbol: BADGERUSDT: 0\n",
      "144 symbol: PEPEUSDT: 0\n",
      "145 symbol: FXSUSDT: 0\n",
      "146 symbol: XNOUSDT: 0\n",
      "147 symbol: BIFIUSDT: 0\n",
      "148 symbol: ALPHAUSDT: 0\n",
      "149 symbol: RSRUSDT: 0\n",
      "150 symbol: USTCUSDT: 0\n",
      "151 symbol: KAVAUSDT: 0\n",
      "152 symbol: ALPACAUSDT: 0\n",
      "153 symbol: AIUSDT: 0\n",
      "154 symbol: DODOUSDT: 0\n",
      "155 symbol: LINKUSDT: 0\n",
      "156 symbol: COMBOUSDT: 0\n",
      "157 symbol: GALAUSDT: 0\n",
      "158 symbol: FLOWUSDT: 0\n",
      "159 symbol: IDEXUSDT: 0\n",
      "160 symbol: ERNUSDT: 0\n",
      "161 symbol: ALICEUSDT: 0\n",
      "162 symbol: BETAUSDT: 0\n",
      "163 symbol: SLPUSDT: 0\n",
      "164 symbol: AERGOUSDT: 0\n",
      "165 symbol: SCRTUSDT: 0\n",
      "166 symbol: FLOKIUSDT: 0\n",
      "167 symbol: WBETHUSDT: 0\n",
      "168 symbol: DATAUSDT: 0\n",
      "169 symbol: AXSUSDT: 0\n",
      "170 symbol: OMUSDT: 7\n",
      "171 symbol: SYNUSDT: 0\n",
      "172 symbol: PLAUSDT: 0\n",
      "173 symbol: ATMUSDT: 0\n",
      "174 symbol: USDPUSDT: 0\n",
      "175 symbol: ICXUSDT: 0\n",
      "176 symbol: STPTUSDT: 0\n",
      "177 symbol: AGIXUSDT: 0\n",
      "178 symbol: ARKUSDT: 6\n",
      "179 symbol: CHESSUSDT: 0\n",
      "180 symbol: ORNUSDT: 0\n",
      "181 symbol: SUNUSDT: 0\n",
      "182 symbol: CKBUSDT: 0\n",
      "183 symbol: CVCUSDT: 0\n",
      "184 symbol: XLMUSDT: 0\n",
      "185 symbol: KSMUSDT: 0\n",
      "186 symbol: CYBERUSDT: 0\n",
      "187 symbol: IMXUSDT: 0\n",
      "188 symbol: LRCUSDT: 0\n",
      "189 symbol: GHSTUSDT: 0\n",
      "190 symbol: PROSUSDT: 0\n",
      "191 symbol: JTOUSDT: 0\n",
      "192 symbol: QUICKUSDT: 0\n",
      "193 symbol: ENSUSDT: 0\n",
      "194 symbol: XMRUSDT: 0\n",
      "195 symbol: 1000SATSUSDT: 0\n",
      "196 symbol: FRONTUSDT: 0\n",
      "197 symbol: NEARUSDT: 0\n",
      "198 symbol: AUDIOUSDT: 0\n",
      "199 symbol: LSKUSDT: 0\n",
      "200 symbol: RADUSDT: 0\n",
      "201 symbol: DOGEUSDT: 0\n",
      "202 symbol: XVSUSDT: 0\n",
      "203 symbol: MASKUSDT: 0\n",
      "204 symbol: TLMUSDT: 0\n",
      "205 symbol: YFIUSDT: 0\n",
      "206 symbol: ZRXUSDT: 0\n",
      "207 symbol: RVNUSDT: 0\n",
      "208 symbol: EOSUSDT: 0\n",
      "209 symbol: AKROUSDT: 0\n",
      "210 symbol: JASMYUSDT: 0\n",
      "211 symbol: OAXUSDT: 0\n",
      "212 symbol: NEXOUSDT: 0\n",
      "213 symbol: FISUSDT: 0\n",
      "214 symbol: ASRUSDT: 0\n",
      "215 symbol: SXPUSDT: 0\n",
      "216 symbol: MDXUSDT: 0\n",
      "217 symbol: FORUSDT: 0\n",
      "218 symbol: LEVERUSDT: 0\n",
      "219 symbol: XVGUSDT: 0\n",
      "220 symbol: LOKAUSDT: 0\n",
      "221 symbol: NEOUSDT: 0\n",
      "222 symbol: KNCUSDT: 0\n",
      "223 symbol: TRXUSDT: 0\n",
      "224 symbol: SNXUSDT: 0\n",
      "225 symbol: HIFIUSDT: 0\n",
      "226 symbol: ENJUSDT: 0\n",
      "227 symbol: WINUSDT: 0\n",
      "228 symbol: GRTUSDT: 0\n",
      "229 symbol: KEYUSDT: 0\n",
      "230 symbol: BTCUSDT: 0\n",
      "231 symbol: FTTUSDT: 0\n",
      "232 symbol: HOTUSDT: 0\n",
      "233 symbol: ARUSDT: 0\n",
      "234 symbol: STGUSDT: 0\n",
      "235 symbol: ATAUSDT: 0\n",
      "236 symbol: BANDUSDT: 0\n",
      "237 symbol: GFTUSDT: 0\n",
      "238 symbol: WNXMUSDT: 0\n",
      "239 symbol: MTLUSDT: 0\n",
      "240 symbol: BNBDOWNUSDT: 0\n",
      "241 symbol: BLZUSDT: 0\n",
      "242 symbol: COSUSDT: 0\n",
      "243 symbol: RNDRUSDT: 0\n",
      "244 symbol: DOTUSDT: 0\n",
      "245 symbol: MINAUSDT: 0\n",
      "246 symbol: WANUSDT: 0\n",
      "247 symbol: NTRNUSDT: 0\n",
      "248 symbol: ICPUSDT: 0\n",
      "249 symbol: GALUSDT: 0\n",
      "250 symbol: UFTUSDT: 0\n",
      "251 symbol: GMTUSDT: 0\n",
      "252 symbol: WBTCUSDT: 0\n",
      "253 symbol: DGBUSDT: 0\n",
      "254 symbol: RIFUSDT: 0\n",
      "255 symbol: RUNEUSDT: 0\n",
      "256 symbol: SYSUSDT: 0\n",
      "257 symbol: APTUSDT: 0\n",
      "258 symbol: CVXUSDT: 0\n",
      "259 symbol: ZENUSDT: 0\n",
      "260 symbol: SHIBUSDT: 0\n",
      "261 symbol: PENDLEUSDT: 0\n",
      "262 symbol: JOEUSDT: 0\n",
      "263 symbol: DCRUSDT: 7\n",
      "264 symbol: ELFUSDT: 0\n",
      "265 symbol: EGLDUSDT: 0\n",
      "266 symbol: ARDRUSDT: 0\n",
      "267 symbol: MAGICUSDT: 0\n",
      "268 symbol: STORJUSDT: 0\n",
      "269 symbol: CAKEUSDT: 0\n",
      "270 symbol: BATUSDT: 0\n",
      "271 symbol: CLVUSDT: 0\n",
      "272 symbol: WAVESUSDT: 0\n",
      "273 symbol: SOLUSDT: 0\n",
      "274 symbol: MBLUSDT: 0\n",
      "275 symbol: SUPERUSDT: 0\n",
      "276 symbol: BAKEUSDT: 0\n",
      "277 symbol: OGUSDT: 0\n",
      "278 symbol: WAXPUSDT: 0\n",
      "279 symbol: THETAUSDT: 0\n",
      "280 symbol: MKRUSDT: 0\n",
      "281 symbol: ACHUSDT: 0\n",
      "282 symbol: ILVUSDT: 0\n",
      "283 symbol: SCUSDT: 0\n",
      "284 symbol: ALGOUSDT: 0\n",
      "285 symbol: BONKUSDT: 0\n",
      "286 symbol: MAVUSDT: 0\n",
      "287 symbol: MBOXUSDT: 0\n",
      "288 symbol: CITYUSDT: 0\n",
      "289 symbol: ADXUSDT: 0\n",
      "290 symbol: ETCUSDT: 0\n",
      "291 symbol: TKOUSDT: 0\n",
      "292 symbol: UNFIUSDT: 0\n",
      "293 symbol: OOKIUSDT: 0\n",
      "294 symbol: FORTHUSDT: 0\n",
      "295 symbol: XRPUSDT: 0\n",
      "296 symbol: ARPAUSDT: 0\n",
      "297 symbol: IOTAUSDT: 0\n",
      "298 symbol: HIGHUSDT: 0\n",
      "299 symbol: FUNUSDT: 0\n",
      "300 symbol: DUSKUSDT: 0\n",
      "301 symbol: VOXELUSDT: 0\n",
      "302 symbol: OGNUSDT: 0\n",
      "303 symbol: LQTYUSDT: 0\n",
      "304 symbol: MOVRUSDT: 0\n",
      "305 symbol: PHBUSDT: 0\n",
      "306 symbol: BSWUSDT: 0\n",
      "307 symbol: QTUMUSDT: 0\n",
      "308 symbol: BICOUSDT: 0\n",
      "309 symbol: LOOMUSDT: 0\n",
      "310 symbol: ATOMUSDT: 0\n",
      "311 symbol: HIVEUSDT: 0\n",
      "312 symbol: SSVUSDT: 0\n",
      "313 symbol: HOOKUSDT: 0\n",
      "314 symbol: MANTAUSDT: 0\n",
      "315 symbol: ETHUPUSDT: 0\n",
      "316 symbol: UMAUSDT: 0\n",
      "317 symbol: EDUUSDT: 0\n",
      "318 symbol: LUNCUSDT: 0\n",
      "319 symbol: SPELLUSDT: 0\n",
      "320 symbol: GTCUSDT: 0\n",
      "321 symbol: STXUSDT: 0\n",
      "322 symbol: REEFUSDT: 0\n",
      "323 symbol: DASHUSDT: 0\n",
      "324 symbol: MULTIUSDT: 8\n",
      "325 symbol: OCEANUSDT: 0\n",
      "326 symbol: WINGUSDT: 0\n",
      "327 symbol: XEMUSDT: 0\n",
      "328 symbol: GNOUSDT: 0\n",
      "329 symbol: AVAUSDT: 0\n",
      "330 symbol: API3USDT: 0\n",
      "331 symbol: DARUSDT: 0\n",
      "332 symbol: QIUSDT: 0\n",
      "333 symbol: PORTOUSDT: 0\n",
      "334 symbol: PUNDIXUSDT: 0\n",
      "335 symbol: FETUSDT: 0\n",
      "336 symbol: BELUSDT: 0\n",
      "337 symbol: BTCDOWNUSDT: 0\n",
      "338 symbol: PIVXUSDT: 0\n",
      "339 symbol: ALPINEUSDT: 0\n",
      "340 symbol: GNSUSDT: 0\n",
      "341 symbol: QNTUSDT: 0\n",
      "342 symbol: LTCUSDT: 0\n",
      "343 symbol: BLURUSDT: 0\n",
      "344 symbol: UTKUSDT: 0\n",
      "345 symbol: HBARUSDT: 0\n",
      "346 symbol: LINAUSDT: 0\n",
      "347 symbol: BNBUSDT: 0\n",
      "348 symbol: FTMUSDT: 0\n",
      "349 symbol: LTOUSDT: 0\n",
      "350 symbol: SANDUSDT: 0\n",
      "351 symbol: C98USDT: 0\n",
      "352 symbol: MLNUSDT: 0\n",
      "353 symbol: JUVUSDT: 0\n",
      "354 symbol: FARMUSDT: 0\n",
      "355 symbol: ACEUSDT: 0\n",
      "356 symbol: SKLUSDT: 0\n",
      "357 symbol: TROYUSDT: 0\n",
      "358 symbol: BTTCUSDT: 0\n",
      "359 symbol: ASTUSDT: 0\n",
      "360 symbol: IDUSDT: 0\n",
      "361 symbol: ROSEUSDT: 0\n",
      "362 symbol: AMBUSDT: 0\n",
      "363 symbol: FLMUSDT: 0\n",
      "364 symbol: POLSUSDT: 4\n",
      "365 symbol: SFPUSDT: 0\n",
      "366 symbol: EURUSDT: 0\n",
      "367 symbol: FIDAUSDT: 0\n",
      "368 symbol: XECUSDT: 0\n",
      "369 symbol: DENTUSDT: 0\n",
      "370 symbol: ARKMUSDT: 0\n",
      "371 symbol: RPLUSDT: 0\n",
      "372 symbol: PSGUSDT: 0\n"
     ]
    }
   ],
   "source": [
    "dfst_feature = algo.jitter_recovery.research.get_dfst_feature(df, jitter_recovery_trading_param)"
   ]
  },
  {
   "cell_type": "code",
   "execution_count": 29,
   "id": "f2c517e3-6acf-48c9-9bfa-70abd2676470",
   "metadata": {
    "execution": {
     "iopub.execute_input": "2024-02-03T21:35:12.126503Z",
     "iopub.status.busy": "2024-02-03T21:35:12.126336Z",
     "iopub.status.idle": "2024-02-03T21:35:13.478157Z",
     "shell.execute_reply": "2024-02-03T21:35:13.477592Z",
     "shell.execute_reply.started": "2024-02-03T21:35:12.126491Z"
    },
    "scrolled": true
   },
   "outputs": [
    {
     "data": {
      "text/plain": [
       "7"
      ]
     },
     "execution_count": 29,
     "metadata": {},
     "output_type": "execute_result"
    }
   ],
   "source": [
    "symbol_with_jumps = [s for s in list(set(list(dfst_feature[dfst_feature.ch_max >= 0.18].index.get_level_values(0)))) if 'USDT' in s]\n",
    "len(symbol_with_jumps)"
   ]
  },
  {
   "cell_type": "code",
   "execution_count": null,
   "id": "e4345d36-fe66-4952-af69-81362cbda2b8",
   "metadata": {},
   "outputs": [],
   "source": []
  },
  {
   "cell_type": "code",
   "execution_count": 30,
   "id": "d98968b0-af32-4faa-b5cf-a491da123f74",
   "metadata": {
    "execution": {
     "iopub.execute_input": "2024-02-03T21:35:13.478934Z",
     "iopub.status.busy": "2024-02-03T21:35:13.478781Z",
     "iopub.status.idle": "2024-02-03T21:35:13.485683Z",
     "shell.execute_reply": "2024-02-03T21:35:13.484994Z",
     "shell.execute_reply.started": "2024-02-03T21:35:13.478922Z"
    }
   },
   "outputs": [
    {
     "data": {
      "text/plain": [
       "<module 'algo.jitter_recovery.calculate' from '/home/junlim/projects/jitter_recovery/algo/jitter_recovery/calculate.py'>"
      ]
     },
     "execution_count": 30,
     "metadata": {},
     "output_type": "execute_result"
    }
   ],
   "source": [
    "import algo.jitter_recovery.calculate\n",
    "importlib.reload(algo.jitter_recovery.calculate)"
   ]
  },
  {
   "cell_type": "code",
   "execution_count": 31,
   "id": "44588351-2834-4217-a94d-2e6e2959f182",
   "metadata": {
    "execution": {
     "iopub.execute_input": "2024-02-03T21:35:13.488010Z",
     "iopub.status.busy": "2024-02-03T21:35:13.487684Z",
     "iopub.status.idle": "2024-02-03T21:35:20.183543Z",
     "shell.execute_reply": "2024-02-03T21:35:20.182664Z",
     "shell.execute_reply.started": "2024-02-03T21:35:13.487978Z"
    },
    "scrolled": true
   },
   "outputs": [
    {
     "name": "stdout",
     "output_type": "stream",
     "text": [
      "0 symbol: PROMUSDT\n",
      "1 symbol: DCRUSDT\n",
      "2 symbol: ARKUSDT\n",
      "3 symbol: RAREUSDT\n",
      "4 symbol: OMUSDT\n",
      "5 symbol: MULTIUSDT\n",
      "6 symbol: POLSUSDT\n"
     ]
    }
   ],
   "source": [
    "dfst_trading = algo.jitter_recovery.research.get_dfst_trading(df, symbol_with_jumps, jitter_recovery_trading_param)"
   ]
  },
  {
   "cell_type": "code",
   "execution_count": null,
   "id": "24cb3b49-b1d2-4367-beeb-e2bb782a9129",
   "metadata": {},
   "outputs": [],
   "source": []
  },
  {
   "cell_type": "code",
   "execution_count": 32,
   "id": "20480c36-f91e-4859-89bb-6b169debe736",
   "metadata": {
    "execution": {
     "iopub.execute_input": "2024-02-03T21:35:20.184723Z",
     "iopub.status.busy": "2024-02-03T21:35:20.184538Z",
     "iopub.status.idle": "2024-02-03T21:35:23.624706Z",
     "shell.execute_reply": "2024-02-03T21:35:23.623993Z",
     "shell.execute_reply.started": "2024-02-03T21:35:20.184708Z"
    }
   },
   "outputs": [
    {
     "data": {
      "text/plain": [
       "<Axes: xlabel='timestamp'>"
      ]
     },
     "execution_count": 32,
     "metadata": {},
     "output_type": "execute_result"
    },
    {
     "data": {
      "image/png": "[encoded data removed]",
      "text/plain": [
       "<Figure size 1600x100 with 1 Axes>"
      ]
     },
     "metadata": {},
     "output_type": "display_data"
    }
   ],
   "source": [
    "dfst_trading[['profit']].groupby('timestamp').sum().cumsum().plot(figsize=(16,1))"
   ]
  },
  {
   "cell_type": "code",
   "execution_count": null,
   "id": "0f5738fa-476f-4514-8930-31b67ca022c8",
   "metadata": {},
   "outputs": [],
   "source": []
  },
  {
   "cell_type": "code",
   "execution_count": 33,
   "id": "71d70f75-f474-42cf-b7f2-bb075b9b7c12",
   "metadata": {
    "execution": {
     "iopub.execute_input": "2024-02-03T21:35:23.625597Z",
     "iopub.status.busy": "2024-02-03T21:35:23.625433Z",
     "iopub.status.idle": "2024-02-03T21:35:25.525082Z",
     "shell.execute_reply": "2024-02-03T21:35:25.524528Z",
     "shell.execute_reply.started": "2024-02-03T21:35:23.625582Z"
    }
   },
   "outputs": [
    {
     "data": {
      "text/html": [
       "<div>\n",
       "<style scoped>\n",
       "    .dataframe tbody tr th:only-of-type {\n",
       "        vertical-align: middle;\n",
       "    }\n",
       "\n",
       "    .dataframe tbody tr th {\n",
       "        vertical-align: top;\n",
       "    }\n",
       "\n",
       "    .dataframe thead th {\n",
       "        text-align: right;\n",
       "    }\n",
       "</style>\n",
       "<table border=\"1\" class=\"dataframe\">\n",
       "  <thead>\n",
       "    <tr style=\"text-align: right;\">\n",
       "      <th></th>\n",
       "      <th>profit</th>\n",
       "    </tr>\n",
       "    <tr>\n",
       "      <th>symbol</th>\n",
       "      <th></th>\n",
       "    </tr>\n",
       "  </thead>\n",
       "  <tbody>\n",
       "    <tr>\n",
       "      <th>DCRUSDT</th>\n",
       "      <td>-0.093880</td>\n",
       "    </tr>\n",
       "    <tr>\n",
       "      <th>PROMUSDT</th>\n",
       "      <td>-0.075276</td>\n",
       "    </tr>\n",
       "    <tr>\n",
       "      <th>ARKUSDT</th>\n",
       "      <td>-0.040330</td>\n",
       "    </tr>\n",
       "    <tr>\n",
       "      <th>OMUSDT</th>\n",
       "      <td>-0.022720</td>\n",
       "    </tr>\n",
       "    <tr>\n",
       "      <th>MULTIUSDT</th>\n",
       "      <td>0.003604</td>\n",
       "    </tr>\n",
       "    <tr>\n",
       "      <th>POLSUSDT</th>\n",
       "      <td>0.054716</td>\n",
       "    </tr>\n",
       "  </tbody>\n",
       "</table>\n",
       "</div>"
      ],
      "text/plain": [
       "             profit\n",
       "symbol             \n",
       "DCRUSDT   -0.093880\n",
       "PROMUSDT  -0.075276\n",
       "ARKUSDT   -0.040330\n",
       "OMUSDT    -0.022720\n",
       "MULTIUSDT  0.003604\n",
       "POLSUSDT   0.054716"
      ]
     },
     "execution_count": 33,
     "metadata": {},
     "output_type": "execute_result"
    }
   ],
   "source": [
    "dfst_trading[dfst_trading.profit != 0].dropna()[['profit']].groupby('symbol').sum().sort_values('profit')"
   ]
  },
  {
   "cell_type": "code",
   "execution_count": null,
   "id": "b23c9664-48f7-4a7a-8fb4-1cd43f58ffe1",
   "metadata": {},
   "outputs": [],
   "source": []
  },
  {
   "cell_type": "code",
   "execution_count": 34,
   "id": "a70779ac-ba54-4955-9192-3d7eb996b82d",
   "metadata": {
    "execution": {
     "iopub.execute_input": "2024-02-03T21:35:25.525743Z",
     "iopub.status.busy": "2024-02-03T21:35:25.525621Z",
     "iopub.status.idle": "2024-02-03T21:35:25.528493Z",
     "shell.execute_reply": "2024-02-03T21:35:25.528002Z",
     "shell.execute_reply.started": "2024-02-03T21:35:25.525732Z"
    }
   },
   "outputs": [],
   "source": [
    "#dfst_feature.xs('FITFI-USDT-SWAP').loc['2023-12-07 16:38:00']"
   ]
  },
  {
   "cell_type": "code",
   "execution_count": null,
   "id": "d8688707-7e67-42d4-adb4-56c4396ff1a5",
   "metadata": {},
   "outputs": [],
   "source": []
  },
  {
   "cell_type": "code",
   "execution_count": 38,
   "id": "1b14ad24-a88a-4140-84f6-04b5af45c1b2",
   "metadata": {
    "execution": {
     "iopub.execute_input": "2024-02-03T21:35:25.754156Z",
     "iopub.status.busy": "2024-02-03T21:35:25.753907Z",
     "iopub.status.idle": "2024-02-03T21:35:27.560419Z",
     "shell.execute_reply": "2024-02-03T21:35:27.559960Z",
     "shell.execute_reply.started": "2024-02-03T21:35:25.754137Z"
    }
   },
   "outputs": [
    {
     "name": "stdout",
     "output_type": "stream",
     "text": [
      "2024-01-25 07:18:00, ARKUSDT, 1.1201, position_changed: 1.0\n",
      "2024-01-25 07:19:00, ARKUSDT, 1.1456, position_changed: -1.0\n",
      "2024-01-25 07:20:00, ARKUSDT, 1.1786, position_changed: 1.0\n",
      "2024-01-25 07:28:00, ARKUSDT, 1.1971, position_changed: -1.0\n",
      "2024-01-25 09:26:00, PROMUSDT, 8.0, position_changed: 1.0\n",
      "2024-01-25 09:27:00, PROMUSDT, 8.189, position_changed: -1.0\n",
      "2024-01-25 09:29:00, PROMUSDT, 7.919, position_changed: 1.0\n",
      "2024-01-25 09:32:00, PROMUSDT, 8.103, position_changed: -1.0\n",
      "2024-01-25 14:00:00, PROMUSDT, 8.601, position_changed: 1.0\n",
      "2024-01-25 14:09:00, PROMUSDT, 8.847, position_changed: -1.0\n",
      "2024-01-25 16:35:00, OMUSDT, 0.10078, position_changed: 1.0\n",
      "2024-01-25 16:41:00, OMUSDT, 0.10307, position_changed: -1.0\n",
      "2024-01-27 11:03:00, DCRUSDT, 19.67, position_changed: 1.0\n",
      "2024-01-27 11:04:00, DCRUSDT, 20.61, position_changed: -1.0\n",
      "2024-01-27 11:08:00, DCRUSDT, 20.18, position_changed: 1.0\n",
      "2024-01-27 11:10:00, DCRUSDT, 20.64, position_changed: -1.0\n",
      "2024-01-27 11:11:00, DCRUSDT, 20.35, position_changed: 1.0\n",
      "2024-01-27 11:14:00, DCRUSDT, 20.83, position_changed: -1.0\n",
      "2024-01-27 15:48:00, POLSUSDT, 0.8891, position_changed: 1.0\n",
      "2024-01-27 16:42:00, POLSUSDT, 0.841, position_changed: -1.0\n",
      "2024-01-28 09:37:00, MULTIUSDT, 2.971, position_changed: 1.0\n",
      "2024-01-28 09:45:00, MULTIUSDT, 2.9585, position_changed: -1.0\n"
     ]
    }
   ],
   "source": [
    "for _, row in dfst_trading[(dfst_trading.position_changed != 0)].dropna().reset_index().sort_values('timestamp').iterrows():\n",
    "    print(f'{row[\"timestamp\"]}, {row[\"symbol\"]}, {row[\"value\"]}, position_changed: {row[\"position_changed\"]}')"
   ]
  },
  {
   "cell_type": "code",
   "execution_count": null,
   "id": "5e1e524d-b16b-4ceb-a3f7-77aa56a1f2ca",
   "metadata": {},
   "outputs": [],
   "source": []
  },
  {
   "cell_type": "markdown",
   "id": "8d50d0e7-bc53-4639-9ee4-9cf18cc32b43",
   "metadata": {
    "execution": {
     "iopub.execute_input": "2024-02-01T14:36:55.118172Z",
     "iopub.status.busy": "2024-02-01T14:36:55.117200Z",
     "iopub.status.idle": "2024-02-01T14:36:55.121590Z",
     "shell.execute_reply": "2024-02-01T14:36:55.120954Z",
     "shell.execute_reply.started": "2024-02-01T14:36:55.118144Z"
    }
   },
   "source": [
    "## single symobl"
   ]
  },
  {
   "cell_type": "code",
   "execution_count": 43,
   "id": "a68c1eee-4f97-436f-b97a-021fae71f053",
   "metadata": {
    "execution": {
     "iopub.execute_input": "2024-02-03T21:36:12.051185Z",
     "iopub.status.busy": "2024-02-03T21:36:12.049644Z",
     "iopub.status.idle": "2024-02-03T21:36:12.072953Z",
     "shell.execute_reply": "2024-02-03T21:36:12.072412Z",
     "shell.execute_reply.started": "2024-02-03T21:36:12.051087Z"
    }
   },
   "outputs": [
    {
     "data": {
      "text/plain": [
       "<module 'algo.jitter_recovery.research' from '/home/junlim/projects/jitter_recovery/algo/jitter_recovery/research.py'>"
      ]
     },
     "execution_count": 43,
     "metadata": {},
     "output_type": "execute_result"
    }
   ],
   "source": [
    "import algo.jitter_recovery.calculate\n",
    "importlib.reload(algo.jitter_recovery.calculate)\n",
    "import algo.jitter_recovery.research\n",
    "importlib.reload(algo.jitter_recovery.research)"
   ]
  },
  {
   "cell_type": "code",
   "execution_count": 49,
   "id": "fbfd498f-b9ce-4528-b9dd-81dd1b016347",
   "metadata": {
    "execution": {
     "iopub.execute_input": "2024-02-03T21:37:09.256852Z",
     "iopub.status.busy": "2024-02-03T21:37:09.256168Z",
     "iopub.status.idle": "2024-02-03T21:37:09.269591Z",
     "shell.execute_reply": "2024-02-03T21:37:09.269056Z",
     "shell.execute_reply.started": "2024-02-03T21:37:09.256815Z"
    }
   },
   "outputs": [],
   "source": [
    "symbol_investigate = 'DCRUSDT'\n",
    "dfs = dfi.xs(symbol_investigate, level=1)"
   ]
  },
  {
   "cell_type": "code",
   "execution_count": 50,
   "id": "a84c39b2-3f19-4fb2-b008-75b6e0d23473",
   "metadata": {
    "execution": {
     "iopub.execute_input": "2024-02-03T21:37:09.506319Z",
     "iopub.status.busy": "2024-02-03T21:37:09.506062Z",
     "iopub.status.idle": "2024-02-03T21:37:09.509717Z",
     "shell.execute_reply": "2024-02-03T21:37:09.509012Z",
     "shell.execute_reply.started": "2024-02-03T21:37:09.506301Z"
    }
   },
   "outputs": [],
   "source": [
    "jitter_recovery_trading_param = algo.jitter_recovery.calculate.JitterRecoveryTradingParam(\n",
    "    algo.jitter_recovery.calculate.JitterRecoveryFeatureParam(40), \n",
    "    0.20, -0.04, 0.02, is_long_term=False)"
   ]
  },
  {
   "cell_type": "code",
   "execution_count": 51,
   "id": "01981e4d-295c-45cc-bb9e-96ecd8e2ee96",
   "metadata": {
    "execution": {
     "iopub.execute_input": "2024-02-03T21:37:09.795409Z",
     "iopub.status.busy": "2024-02-03T21:37:09.794622Z",
     "iopub.status.idle": "2024-02-03T21:37:11.418982Z",
     "shell.execute_reply": "2024-02-03T21:37:11.418066Z",
     "shell.execute_reply.started": "2024-02-03T21:37:09.795345Z"
    }
   },
   "outputs": [
    {
     "data": {
      "image/png": "[encoded data removed]",
      "text/plain": [
       "<Figure size 600x900 with 5 Axes>"
      ]
     },
     "metadata": {},
     "output_type": "display_data"
    },
    {
     "data": {
      "image/png": "[encoded data removed]",
      "text/plain": [
       "<Figure size 900x200 with 1 Axes>"
      ]
     },
     "metadata": {},
     "output_type": "display_data"
    },
    {
     "data": {
      "image/png": "[encoded data removed]",
      "text/plain": [
       "<Figure size 900x200 with 1 Axes>"
      ]
     },
     "metadata": {},
     "output_type": "display_data"
    }
   ],
   "source": [
    "df_feature, df_trading = algo.jitter_recovery.research.investigate_symbol(df, symbol_investigate, jitter_recovery_trading_param)"
   ]
  },
  {
   "cell_type": "code",
   "execution_count": 43,
   "id": "33779398-cbe4-489e-a110-e3f92c287189",
   "metadata": {
    "execution": {
     "iopub.execute_input": "2024-02-03T20:09:47.662991Z",
     "iopub.status.busy": "2024-02-03T20:09:47.662755Z",
     "iopub.status.idle": "2024-02-03T20:09:47.761641Z",
     "shell.execute_reply": "2024-02-03T20:09:47.760675Z",
     "shell.execute_reply.started": "2024-02-03T20:09:47.662974Z"
    }
   },
   "outputs": [
    {
     "data": {
      "image/png": "[encoded data removed]",
      "text/plain": [
       "<Figure size 900x200 with 1 Axes>"
      ]
     },
     "metadata": {},
     "output_type": "display_data"
    }
   ],
   "source": [
    "i_head = df_trading.index.get_loc(df_trading[df_trading.position_changed == +1].index[0])\n",
    "i_tail = df_trading.index.get_loc(df_trading[df_trading.position_changed == -1].index[-1])\n",
    "df_plot = df_trading.iloc[i_head-3:i_tail+3]\n",
    "ax = df_plot[['value']].plot(figsize=(9,2))\n",
    "ymin, ymax = df_plot[['value']].min(), df_trading[['value']].max()\n",
    "\n",
    "ax.vlines(x=list(df_plot[df_plot.position_changed == +1].index), ymin=ymin, ymax=ymax, color='b', linestyles='dashed', label='enter')\n",
    "ax.vlines(x=list(df_plot[df_plot.position_changed == -1].index), ymin=ymin, ymax=ymax, color='r', linestyles='dashed', label='enter')\n",
    "\n",
    "plt.show()"
   ]
  },
  {
   "cell_type": "code",
   "execution_count": 44,
   "id": "0aa98b0c-02d1-4556-a308-480d4de4589d",
   "metadata": {
    "execution": {
     "iopub.execute_input": "2024-02-03T20:09:47.967871Z",
     "iopub.status.busy": "2024-02-03T20:09:47.967303Z",
     "iopub.status.idle": "2024-02-03T20:09:48.196860Z",
     "shell.execute_reply": "2024-02-03T20:09:48.196210Z",
     "shell.execute_reply.started": "2024-02-03T20:09:47.967838Z"
    }
   },
   "outputs": [
    {
     "data": {
      "image/png": "[encoded data removed]",
      "text/plain": [
       "<Figure size 900x200 with 1 Axes>"
      ]
     },
     "metadata": {},
     "output_type": "display_data"
    }
   ],
   "source": [
    "ax = df_trading[['value']].plot(figsize=(9,2))\n",
    "ymin, ymax = df_trading[['value']].min(), df_trading[['value']].max()\n",
    "\n",
    "ax.vlines(x=list(df_trading[df_trading.position_changed == +1].index), ymin=ymin, ymax=ymax, color='b', linestyles='dashed', label='enter')\n",
    "ax.vlines(x=list(df_trading[df_trading.position_changed == -1].index), ymin=ymin, ymax=ymax, color='r', linestyles='dashed', label='enter')\n",
    "\n",
    "plt.show()"
   ]
  },
  {
   "cell_type": "code",
   "execution_count": 45,
   "id": "96b59c81-1d7e-4232-9d18-55399c7ab9ec",
   "metadata": {
    "execution": {
     "iopub.execute_input": "2024-02-03T20:12:36.298090Z",
     "iopub.status.busy": "2024-02-03T20:12:36.297833Z",
     "iopub.status.idle": "2024-02-03T20:12:36.307106Z",
     "shell.execute_reply": "2024-02-03T20:12:36.306307Z",
     "shell.execute_reply.started": "2024-02-03T20:12:36.298067Z"
    }
   },
   "outputs": [
    {
     "data": {
      "text/html": [
       "<div>\n",
       "<style scoped>\n",
       "    .dataframe tbody tr th:only-of-type {\n",
       "        vertical-align: middle;\n",
       "    }\n",
       "\n",
       "    .dataframe tbody tr th {\n",
       "        vertical-align: top;\n",
       "    }\n",
       "\n",
       "    .dataframe thead th {\n",
       "        text-align: right;\n",
       "    }\n",
       "</style>\n",
       "<table border=\"1\" class=\"dataframe\">\n",
       "  <thead>\n",
       "    <tr style=\"text-align: right;\">\n",
       "      <th></th>\n",
       "      <th>value</th>\n",
       "      <th>ch_max</th>\n",
       "      <th>ch_min</th>\n",
       "      <th>v_ch_max_is_from</th>\n",
       "      <th>v_ch_min_is_from</th>\n",
       "      <th>v_ch_max_is_to</th>\n",
       "      <th>v_ch_min_is_to</th>\n",
       "      <th>ch_since_max</th>\n",
       "      <th>ch_since_min</th>\n",
       "      <th>distance_max_ch</th>\n",
       "      <th>distance_min_ch</th>\n",
       "      <th>in_position</th>\n",
       "      <th>value_at_enter</th>\n",
       "      <th>position_changed</th>\n",
       "      <th>lowest_since_enter</th>\n",
       "      <th>timedelta_since_position_enter</th>\n",
       "      <th>ch_from_enter</th>\n",
       "      <th>ch_from_lowest_since_enter</th>\n",
       "      <th>profit_raw</th>\n",
       "      <th>profit</th>\n",
       "    </tr>\n",
       "    <tr>\n",
       "      <th>timestamp</th>\n",
       "      <th></th>\n",
       "      <th></th>\n",
       "      <th></th>\n",
       "      <th></th>\n",
       "      <th></th>\n",
       "      <th></th>\n",
       "      <th></th>\n",
       "      <th></th>\n",
       "      <th></th>\n",
       "      <th></th>\n",
       "      <th></th>\n",
       "      <th></th>\n",
       "      <th></th>\n",
       "      <th></th>\n",
       "      <th></th>\n",
       "      <th></th>\n",
       "      <th></th>\n",
       "      <th></th>\n",
       "      <th></th>\n",
       "      <th></th>\n",
       "    </tr>\n",
       "  </thead>\n",
       "  <tbody>\n",
       "  </tbody>\n",
       "</table>\n",
       "</div>"
      ],
      "text/plain": [
       "Empty DataFrame\n",
       "Columns: [value, ch_max, ch_min, v_ch_max_is_from, v_ch_min_is_from, v_ch_max_is_to, v_ch_min_is_to, ch_since_max, ch_since_min, distance_max_ch, distance_min_ch, in_position, value_at_enter, position_changed, lowest_since_enter, timedelta_since_position_enter, ch_from_enter, ch_from_lowest_since_enter, profit_raw, profit]\n",
       "Index: []"
      ]
     },
     "execution_count": 45,
     "metadata": {},
     "output_type": "execute_result"
    }
   ],
   "source": [
    "df_trading[\n",
    "    (df_trading.index >=  '2024-01-03 12:14:00') &\n",
    "    (df_trading.index <=  '2024-01-03 12:18:00')\n",
    "]"
   ]
  },
  {
   "cell_type": "code",
   "execution_count": 47,
   "id": "63d3c584-0933-41ff-b011-f355844b2083",
   "metadata": {
    "execution": {
     "iopub.execute_input": "2024-02-03T21:36:42.181364Z",
     "iopub.status.busy": "2024-02-03T21:36:42.179746Z",
     "iopub.status.idle": "2024-02-03T21:36:42.192148Z",
     "shell.execute_reply": "2024-02-03T21:36:42.191599Z",
     "shell.execute_reply.started": "2024-02-03T21:36:42.181266Z"
    }
   },
   "outputs": [
    {
     "data": {
      "text/html": [
       "<div>\n",
       "<style scoped>\n",
       "    .dataframe tbody tr th:only-of-type {\n",
       "        vertical-align: middle;\n",
       "    }\n",
       "\n",
       "    .dataframe tbody tr th {\n",
       "        vertical-align: top;\n",
       "    }\n",
       "\n",
       "    .dataframe thead th {\n",
       "        text-align: right;\n",
       "    }\n",
       "</style>\n",
       "<table border=\"1\" class=\"dataframe\">\n",
       "  <thead>\n",
       "    <tr style=\"text-align: right;\">\n",
       "      <th></th>\n",
       "      <th>value</th>\n",
       "      <th>in_position</th>\n",
       "      <th>position_changed</th>\n",
       "      <th>profit_raw</th>\n",
       "      <th>profit</th>\n",
       "    </tr>\n",
       "    <tr>\n",
       "      <th>timestamp</th>\n",
       "      <th></th>\n",
       "      <th></th>\n",
       "      <th></th>\n",
       "      <th></th>\n",
       "      <th></th>\n",
       "    </tr>\n",
       "  </thead>\n",
       "  <tbody>\n",
       "    <tr>\n",
       "      <th>2024-01-27 15:48:00</th>\n",
       "      <td>0.8891</td>\n",
       "      <td>1</td>\n",
       "      <td>1.0</td>\n",
       "      <td>0.0000</td>\n",
       "      <td>0.000000</td>\n",
       "    </tr>\n",
       "    <tr>\n",
       "      <th>2024-01-27 16:42:00</th>\n",
       "      <td>0.8410</td>\n",
       "      <td>0</td>\n",
       "      <td>-1.0</td>\n",
       "      <td>-0.0164</td>\n",
       "      <td>-0.019888</td>\n",
       "    </tr>\n",
       "  </tbody>\n",
       "</table>\n",
       "</div>"
      ],
      "text/plain": [
       "                      value  in_position  position_changed  profit_raw  \\\n",
       "timestamp                                                                \n",
       "2024-01-27 15:48:00  0.8891            1               1.0      0.0000   \n",
       "2024-01-27 16:42:00  0.8410            0              -1.0     -0.0164   \n",
       "\n",
       "                       profit  \n",
       "timestamp                      \n",
       "2024-01-27 15:48:00  0.000000  \n",
       "2024-01-27 16:42:00 -0.019888  "
      ]
     },
     "execution_count": 47,
     "metadata": {},
     "output_type": "execute_result"
    }
   ],
   "source": [
    "df_trading[(df_trading.position_changed != 0)][['value', 'in_position', 'position_changed', 'profit_raw', 'profit']].dropna()"
   ]
  },
  {
   "cell_type": "code",
   "execution_count": 48,
   "id": "ca4f0673-629c-47ed-87d9-95cd400c97c8",
   "metadata": {
    "execution": {
     "iopub.execute_input": "2024-02-03T21:36:42.322234Z",
     "iopub.status.busy": "2024-02-03T21:36:42.321902Z",
     "iopub.status.idle": "2024-02-03T21:36:43.590658Z",
     "shell.execute_reply": "2024-02-03T21:36:43.590036Z",
     "shell.execute_reply.started": "2024-02-03T21:36:42.322212Z"
    }
   },
   "outputs": [
    {
     "name": "stdout",
     "output_type": "stream",
     "text": [
      "2024-01-27 15:48:00, POLSUSDT, 0.8891, position_changed: 1.0\n",
      "2024-01-27 16:42:00, POLSUSDT, 0.841, position_changed: -1.0\n"
     ]
    }
   ],
   "source": [
    "for _, row in dfst_trading[(dfst_trading.position_changed != 0)].dropna().reset_index().sort_values('timestamp').iterrows():\n",
    "    if row['symbol'] != symbol_investigate: continue\n",
    "    print(f'{row[\"timestamp\"]}, {row[\"symbol\"]}, {row[\"value\"]}, position_changed: {row[\"position_changed\"]}')"
   ]
  },
  {
   "cell_type": "code",
   "execution_count": null,
   "id": "668c9e32-f919-4360-9c27-afd2ef1084ad",
   "metadata": {},
   "outputs": [],
   "source": []
  }
 ],
 "metadata": {
  "kernelspec": {
   "display_name": "Python 3 (ipykernel)",
   "language": "python",
   "name": "python3"
  },
  "language_info": {
   "codemirror_mode": {
    "name": "ipython",
    "version": 3
   },
   "file_extension": ".py",
   "mimetype": "text/x-python",
   "name": "python",
   "nbconvert_exporter": "python",
   "pygments_lexer": "ipython3",
   "version": "3.10.12"
  }
 },
 "nbformat": 4,
 "nbformat_minor": 5
}
