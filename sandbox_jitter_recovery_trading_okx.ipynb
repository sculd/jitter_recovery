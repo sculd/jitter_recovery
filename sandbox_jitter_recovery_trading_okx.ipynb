{
 "cells": [
  {
   "cell_type": "markdown",
   "id": "f2737de0-4e5d-4c43-a52a-96c3c639e234",
   "metadata": {
    "execution": {
     "iopub.execute_input": "2023-12-12T21:48:55.276471Z",
     "iopub.status.busy": "2023-12-12T21:48:55.276035Z",
     "iopub.status.idle": "2023-12-12T21:48:55.282856Z",
     "shell.execute_reply": "2023-12-12T21:48:55.281886Z",
     "shell.execute_reply.started": "2023-12-12T21:48:55.276437Z"
    }
   },
   "source": [
    "## import & load"
   ]
  },
  {
   "cell_type": "code",
   "execution_count": 3,
   "id": "a115d0f3-c935-4c05-a33a-732933233c0a",
   "metadata": {
    "execution": {
     "iopub.execute_input": "2024-03-29T20:22:49.064306Z",
     "iopub.status.busy": "2024-03-29T20:22:49.063827Z",
     "iopub.status.idle": "2024-03-29T20:22:49.552139Z",
     "shell.execute_reply": "2024-03-29T20:22:49.551447Z",
     "shell.execute_reply.started": "2024-03-29T20:22:49.064265Z"
    }
   },
   "outputs": [],
   "source": [
    "import pandas as pd\n",
    "import numpy as np\n",
    "import sys\n",
    "import requests\n",
    "import pprint\n",
    "\n",
    "import datetime\n",
    "import pytz\n",
    "import importlib\n",
    "import matplotlib.pyplot as plt\n",
    "\n",
    "import datetime, json, math\n",
    "from google.cloud import bigquery\n",
    "from numpy_ext import rolling_apply as rolling_apply_ext"
   ]
  },
  {
   "cell_type": "code",
   "execution_count": 4,
   "id": "623cf60e-e7a0-4f98-9d98-8c4fa79fa725",
   "metadata": {
    "execution": {
     "iopub.execute_input": "2024-03-29T20:22:49.553461Z",
     "iopub.status.busy": "2024-03-29T20:22:49.553124Z",
     "iopub.status.idle": "2024-03-29T20:22:49.557243Z",
     "shell.execute_reply": "2024-03-29T20:22:49.556433Z",
     "shell.execute_reply.started": "2024-03-29T20:22:49.553442Z"
    }
   },
   "outputs": [],
   "source": [
    "import logging\n",
    "\n",
    "logging.basicConfig(\n",
    "    level=logging.INFO,\n",
    "    format=\"%(asctime)s [%(threadName)-12.12s] [%(levelname)-5.5s]  %(message)s\",\n",
    "    handlers=[\n",
    "        logging.StreamHandler(sys.stdout)\n",
    "    ]\n",
    ")"
   ]
  },
  {
   "cell_type": "code",
   "execution_count": 5,
   "id": "da881dba-cd40-4bd5-ba15-3fa2691a5107",
   "metadata": {
    "execution": {
     "iopub.execute_input": "2024-03-29T20:22:49.558364Z",
     "iopub.status.busy": "2024-03-29T20:22:49.558102Z",
     "iopub.status.idle": "2024-03-29T20:22:49.576264Z",
     "shell.execute_reply": "2024-03-29T20:22:49.575389Z",
     "shell.execute_reply.started": "2024-03-29T20:22:49.558340Z"
    }
   },
   "outputs": [],
   "source": [
    "import os\n",
    "\n",
    "if os.path.exists('credential.json'):\n",
    "    os.environ[\"GOOGLE_APPLICATION_CREDENTIALS\"] = os.path.join(os.getcwd(), 'credential.json')\n",
    "    os.environ[\"GOOGLE_CLOUD_PROJECT\"] = \"trading-290017\"\n",
    "else:\n",
    "    print('the credential.json file does not exist')\n",
    "\n",
    "import importlib"
   ]
  },
  {
   "cell_type": "code",
   "execution_count": null,
   "id": "bb22a770-cbd0-4c58-9712-b7565998e261",
   "metadata": {},
   "outputs": [],
   "source": []
  },
  {
   "cell_type": "code",
   "execution_count": 29,
   "id": "36a4a892-548f-4c93-a441-423043b5e8ab",
   "metadata": {
    "execution": {
     "iopub.execute_input": "2024-03-29T20:33:33.466882Z",
     "iopub.status.busy": "2024-03-29T20:33:33.466641Z",
     "iopub.status.idle": "2024-03-29T20:33:33.472343Z",
     "shell.execute_reply": "2024-03-29T20:33:33.471694Z",
     "shell.execute_reply.started": "2024-03-29T20:33:33.466866Z"
    }
   },
   "outputs": [
    {
     "data": {
      "text/plain": [
       "<module 'market_data.ingest.bq.cache' from '/home/junlim/projects/jitter_recovery/market_data/ingest/bq/cache.py'>"
      ]
     },
     "execution_count": 29,
     "metadata": {},
     "output_type": "execute_result"
    }
   ],
   "source": [
    "import market_data.ingest.bq.cache\n",
    "importlib.reload(market_data.ingest.bq.common)\n",
    "importlib.reload(market_data.ingest.bq.cache)"
   ]
  },
  {
   "cell_type": "code",
   "execution_count": 55,
   "id": "89404ac0-354b-481e-8bd1-a33db46f38d9",
   "metadata": {
    "execution": {
     "iopub.execute_input": "2024-03-29T22:00:45.448306Z",
     "iopub.status.busy": "2024-03-29T22:00:45.447832Z",
     "iopub.status.idle": "2024-03-29T22:00:45.451411Z",
     "shell.execute_reply": "2024-03-29T22:00:45.450825Z",
     "shell.execute_reply.started": "2024-03-29T22:00:45.448275Z"
    }
   },
   "outputs": [],
   "source": [
    "date_str_from='2023-12-31'\n",
    "date_str_to='2024-03-21'"
   ]
  },
  {
   "cell_type": "code",
   "execution_count": 56,
   "id": "82d060be-d433-4464-8992-cf92744532ad",
   "metadata": {
    "execution": {
     "iopub.execute_input": "2024-03-29T22:00:45.779851Z",
     "iopub.status.busy": "2024-03-29T22:00:45.779522Z",
     "iopub.status.idle": "2024-03-29T22:01:18.962834Z",
     "shell.execute_reply": "2024-03-29T22:01:18.961880Z",
     "shell.execute_reply.started": "2024-03-29T22:00:45.779824Z"
    },
    "scrolled": true
   },
   "outputs": [],
   "source": [
    "dataset_mode = market_data.ingest.bq.common.DATASET_MODE.OKX\n",
    "export_mode = market_data.ingest.bq.common.EXPORT_MODE.BY_MINUTE\n",
    "df = market_data.ingest.bq.cache.fetch_and_cache(\n",
    "    dataset_mode, \n",
    "    export_mode, \n",
    "    market_data.ingest.bq.common.AGGREGATION_MODE.TAKE_LASTEST,\n",
    "    date_str_from=date_str_from, date_str_to=date_str_to).reset_index()\n",
    "df_close = df.pivot(index='timestamp', columns='symbol', values='close')\n",
    "dfi = df.set_index(['timestamp', 'symbol'])"
   ]
  },
  {
   "cell_type": "code",
   "execution_count": 57,
   "id": "6aa8dd6b-4dc7-402a-822c-ea494c6835af",
   "metadata": {
    "execution": {
     "iopub.execute_input": "2024-03-29T22:01:18.963934Z",
     "iopub.status.busy": "2024-03-29T22:01:18.963794Z",
     "iopub.status.idle": "2024-03-29T22:01:19.468412Z",
     "shell.execute_reply": "2024-03-29T22:01:19.467929Z",
     "shell.execute_reply.started": "2024-03-29T22:01:18.963906Z"
    }
   },
   "outputs": [
    {
     "data": {
      "text/plain": [
       "183"
      ]
     },
     "execution_count": 57,
     "metadata": {},
     "output_type": "execute_result"
    }
   ],
   "source": [
    "all_symbols = df.symbol.unique()\n",
    "all_symbols = [s for s in all_symbols if s]\n",
    "len([s for s in all_symbols if 'USDT' in s])"
   ]
  },
  {
   "cell_type": "code",
   "execution_count": null,
   "id": "580bc04c-057f-4f19-827b-0a6d69e35322",
   "metadata": {},
   "outputs": [],
   "source": []
  },
  {
   "cell_type": "markdown",
   "id": "9bb84b8e-cb19-47dd-a19e-fc04b0721b1a",
   "metadata": {},
   "source": [
    "## calculate/cache feature"
   ]
  },
  {
   "cell_type": "code",
   "execution_count": 58,
   "id": "7e4ad85d-1c7a-4dcf-b468-da209eb874d2",
   "metadata": {
    "execution": {
     "iopub.execute_input": "2024-03-29T22:01:19.468996Z",
     "iopub.status.busy": "2024-03-29T22:01:19.468850Z",
     "iopub.status.idle": "2024-03-29T22:01:19.476244Z",
     "shell.execute_reply": "2024-03-29T22:01:19.475809Z",
     "shell.execute_reply.started": "2024-03-29T22:01:19.468986Z"
    }
   },
   "outputs": [
    {
     "data": {
      "text/plain": [
       "<module 'algo.cache' from '/home/junlim/projects/jitter_recovery/algo/cache.py'>"
      ]
     },
     "execution_count": 58,
     "metadata": {},
     "output_type": "execute_result"
    }
   ],
   "source": [
    "import algo.jitter_recovery.calculate\n",
    "importlib.reload(algo.jitter_recovery.calculate)\n",
    "import algo.jitter_recovery.research\n",
    "importlib.reload(algo.jitter_recovery.research)\n",
    "import algo.cache\n",
    "importlib.reload(algo.cache)"
   ]
  },
  {
   "cell_type": "code",
   "execution_count": 59,
   "id": "dde2af94-4fca-46e0-bbf4-ad2201155953",
   "metadata": {
    "execution": {
     "iopub.execute_input": "2024-03-29T22:01:19.477985Z",
     "iopub.status.busy": "2024-03-29T22:01:19.477610Z",
     "iopub.status.idle": "2024-03-29T22:01:19.482623Z",
     "shell.execute_reply": "2024-03-29T22:01:19.482018Z",
     "shell.execute_reply.started": "2024-03-29T22:01:19.477954Z"
    }
   },
   "outputs": [],
   "source": [
    "feature_param = algo.jitter_recovery.calculate.JitterRecoveryFeatureParam(40)"
   ]
  },
  {
   "cell_type": "code",
   "execution_count": 53,
   "id": "a7d2d4bd-60e6-411f-853b-f1e26b4df75b",
   "metadata": {
    "execution": {
     "iopub.execute_input": "2024-03-29T22:00:23.185328Z",
     "iopub.status.busy": "2024-03-29T22:00:23.185036Z",
     "iopub.status.idle": "2024-03-29T22:00:23.201670Z",
     "shell.execute_reply": "2024-03-29T22:00:23.200868Z",
     "shell.execute_reply.started": "2024-03-29T22:00:23.185305Z"
    }
   },
   "outputs": [
    {
     "data": {
      "text/plain": [
       "'changes_window40'"
      ]
     },
     "execution_count": 53,
     "metadata": {},
     "output_type": "execute_result"
    }
   ],
   "source": [
    "algo.jitter_recovery.research.get_feature_label_for_caching(feature_param)"
   ]
  },
  {
   "cell_type": "code",
   "execution_count": 45,
   "id": "b078c545-364b-4759-9aaa-d9c39d1889ab",
   "metadata": {
    "execution": {
     "iopub.execute_input": "2024-03-29T20:56:19.790496Z",
     "iopub.status.busy": "2024-03-29T20:56:19.788901Z",
     "iopub.status.idle": "2024-03-29T20:56:23.964475Z",
     "shell.execute_reply": "2024-03-29T20:56:23.963801Z",
     "shell.execute_reply.started": "2024-03-29T20:56:19.790416Z"
    }
   },
   "outputs": [],
   "source": [
    "dfst_feature = algo.cache.read_df(\n",
    "    label = algo.jitter_recovery.research.get_feature_label_for_caching(feature_param),\n",
    "    dataset_mode=dataset_mode, \n",
    "    export_mode=export_mode, \n",
    "    date_str_from='2024-02-14', \n",
    "    date_str_to='2024-03-01')"
   ]
  },
  {
   "cell_type": "code",
   "execution_count": null,
   "id": "ad32c80c-a3dd-4d88-aab2-782d26a43bec",
   "metadata": {},
   "outputs": [],
   "source": []
  },
  {
   "cell_type": "code",
   "execution_count": null,
   "id": "654c4640-8c77-47f8-b5ca-84e70e9e5f12",
   "metadata": {
    "execution": {
     "iopub.execute_input": "2024-03-29T22:01:19.483576Z",
     "iopub.status.busy": "2024-03-29T22:01:19.483348Z"
    },
    "scrolled": true
   },
   "outputs": [
    {
     "name": "stdout",
     "output_type": "stream",
     "text": [
      "0 symbol: 1INCH-USDT-SWAP (feature)\n"
     ]
    }
   ],
   "source": [
    "dfst_feature = algo.jitter_recovery.research.get_dfst_feature(df, feature_param)"
   ]
  },
  {
   "cell_type": "code",
   "execution_count": null,
   "id": "d3d9b629-072f-4bb5-8214-300b9f6c4cba",
   "metadata": {
    "scrolled": true
   },
   "outputs": [],
   "source": [
    "algo.cache.cache_df(\n",
    "    dfst_feature, \n",
    "    label = algo.jitter_recovery.research.get_feature_label_for_caching(feature_param),\n",
    "    dataset_mode=dataset_mode, \n",
    "    export_mode=export_mode, \n",
    "    overwrite = True)"
   ]
  },
  {
   "cell_type": "code",
   "execution_count": null,
   "id": "570a70c7-9174-470a-bb31-4e0d33033ab8",
   "metadata": {},
   "outputs": [],
   "source": []
  },
  {
   "cell_type": "markdown",
   "id": "fa03db18-fef0-4b9b-bde4-9937b997edf1",
   "metadata": {},
   "source": [
    "## multiple symbols"
   ]
  },
  {
   "cell_type": "code",
   "execution_count": 42,
   "id": "58be5ef4-29c9-476f-9f91-4d2c2c2eee51",
   "metadata": {
    "execution": {
     "iopub.execute_input": "2024-03-29T20:55:27.291182Z",
     "iopub.status.busy": "2024-03-29T20:55:27.290914Z",
     "iopub.status.idle": "2024-03-29T20:55:27.297241Z",
     "shell.execute_reply": "2024-03-29T20:55:27.296786Z",
     "shell.execute_reply.started": "2024-03-29T20:55:27.291162Z"
    }
   },
   "outputs": [
    {
     "data": {
      "text/plain": [
       "<module 'algo.jitter_recovery.research' from '/home/junlim/projects/jitter_recovery/algo/jitter_recovery/research.py'>"
      ]
     },
     "execution_count": 42,
     "metadata": {},
     "output_type": "execute_result"
    }
   ],
   "source": [
    "import algo.jitter_recovery.calculate\n",
    "importlib.reload(algo.jitter_recovery.calculate)\n",
    "import algo.jitter_recovery.research\n",
    "importlib.reload(algo.jitter_recovery.research)"
   ]
  },
  {
   "cell_type": "code",
   "execution_count": null,
   "id": "f2f72800-c17d-4d97-aa9d-d7ab39607498",
   "metadata": {},
   "outputs": [],
   "source": [
    "trading_param = algo.jitter_recovery.calculate.JitterRecoveryTradingParam(\n",
    "    feature_param, \n",
    "    0.20, -0.04, 0.02, is_long_term=False)"
   ]
  },
  {
   "cell_type": "code",
   "execution_count": 46,
   "id": "428d9cb6-3719-4c20-ab98-a80c3c3451b4",
   "metadata": {
    "execution": {
     "iopub.execute_input": "2024-03-29T20:56:31.357331Z",
     "iopub.status.busy": "2024-03-29T20:56:31.357143Z",
     "iopub.status.idle": "2024-03-29T20:56:36.406763Z",
     "shell.execute_reply": "2024-03-29T20:56:36.406129Z",
     "shell.execute_reply.started": "2024-03-29T20:56:31.357317Z"
    }
   },
   "outputs": [
    {
     "name": "stdout",
     "output_type": "stream",
     "text": [
      "symbol_with_jumps: 4\n",
      "0 symbol: COMP-USDT-SWAP: 18 (trading)\n",
      "1 symbol: PEPE-USDT-SWAP: 10 (trading)\n",
      "2 symbol: TURBO-USDT-SWAP: 29 (trading)\n",
      "3 symbol: RACA-USDT-SWAP: 18 (trading)\n"
     ]
    }
   ],
   "source": [
    "dfst_trading = algo.jitter_recovery.research.get_dfst_trading(dfst_feature, trading_param)"
   ]
  },
  {
   "cell_type": "code",
   "execution_count": 47,
   "id": "de761fe2-32cb-45eb-a64b-67ce2a3832f6",
   "metadata": {
    "execution": {
     "iopub.execute_input": "2024-03-29T20:56:36.407559Z",
     "iopub.status.busy": "2024-03-29T20:56:36.407397Z",
     "iopub.status.idle": "2024-03-29T20:56:37.161411Z",
     "shell.execute_reply": "2024-03-29T20:56:37.160818Z",
     "shell.execute_reply.started": "2024-03-29T20:56:36.407548Z"
    }
   },
   "outputs": [
    {
     "name": "stdout",
     "output_type": "stream",
     "text": [
      "profit sum: 0.10022513604787853\n"
     ]
    },
    {
     "data": {
      "image/png": "[encoded data removed]",
      "text/plain": [
       "<Figure size 1600x200 with 1 Axes>"
      ]
     },
     "metadata": {},
     "output_type": "display_data"
    }
   ],
   "source": [
    "algo.jitter_recovery.research.investigate_trading(dfst_trading)"
   ]
  },
  {
   "cell_type": "code",
   "execution_count": null,
   "id": "1e4c8632-454e-4cda-a708-b3838ef68e46",
   "metadata": {},
   "outputs": [],
   "source": []
  },
  {
   "cell_type": "code",
   "execution_count": 16,
   "id": "a108a732-670a-4580-9c22-0119f16175b4",
   "metadata": {
    "execution": {
     "iopub.execute_input": "2024-03-07T22:57:02.299613Z",
     "iopub.status.busy": "2024-03-07T22:57:02.299485Z",
     "iopub.status.idle": "2024-03-07T22:57:03.179940Z",
     "shell.execute_reply": "2024-03-07T22:57:03.179311Z",
     "shell.execute_reply.started": "2024-03-07T22:57:02.299602Z"
    }
   },
   "outputs": [
    {
     "name": "stdout",
     "output_type": "stream",
     "text": [
      "profit sum: -0.0803723749342159\n"
     ]
    },
    {
     "data": {
      "image/png": "[encoded data removed]",
      "text/plain": [
       "<Figure size 1600x200 with 1 Axes>"
      ]
     },
     "metadata": {},
     "output_type": "display_data"
    }
   ],
   "source": [
    "algo.jitter_recovery.research.investigate_trading(dfst_trading)"
   ]
  },
  {
   "cell_type": "code",
   "execution_count": 15,
   "id": "e2556720-7077-42a3-a030-8b3f1a147d1b",
   "metadata": {
    "execution": {
     "iopub.execute_input": "2024-03-07T22:54:04.489195Z",
     "iopub.status.busy": "2024-03-07T22:54:04.489076Z",
     "iopub.status.idle": "2024-03-07T22:54:05.307040Z",
     "shell.execute_reply": "2024-03-07T22:54:05.306437Z",
     "shell.execute_reply.started": "2024-03-07T22:54:04.489185Z"
    }
   },
   "outputs": [
    {
     "name": "stdout",
     "output_type": "stream",
     "text": [
      "profit sum: 0.10168014657456792\n"
     ]
    },
    {
     "data": {
      "image/png": "[encoded data removed]",
      "text/plain": [
       "<Figure size 1600x200 with 1 Axes>"
      ]
     },
     "metadata": {},
     "output_type": "display_data"
    }
   ],
   "source": [
    "algo.jitter_recovery.research.investigate_trading(dfst_trading)"
   ]
  },
  {
   "cell_type": "code",
   "execution_count": 15,
   "id": "8a03a212-4db8-4e31-99f6-e9b661fc5d50",
   "metadata": {
    "execution": {
     "iopub.execute_input": "2024-03-07T22:52:34.905593Z",
     "iopub.status.busy": "2024-03-07T22:52:34.904768Z",
     "iopub.status.idle": "2024-03-07T22:52:35.926670Z",
     "shell.execute_reply": "2024-03-07T22:52:35.926171Z",
     "shell.execute_reply.started": "2024-03-07T22:52:34.905221Z"
    }
   },
   "outputs": [
    {
     "name": "stdout",
     "output_type": "stream",
     "text": [
      "profit sum: -0.0803723749342159\n"
     ]
    },
    {
     "data": {
      "image/png": "[encoded data removed]",
      "text/plain": [
       "<Figure size 1600x200 with 1 Axes>"
      ]
     },
     "metadata": {},
     "output_type": "display_data"
    }
   ],
   "source": [
    "algo.jitter_recovery.research.investigate_trading(dfst_trading)"
   ]
  },
  {
   "cell_type": "code",
   "execution_count": 15,
   "id": "20f306f3-7600-41e1-b9e5-5705ef7548ce",
   "metadata": {
    "execution": {
     "iopub.execute_input": "2024-03-07T22:36:27.558556Z",
     "iopub.status.busy": "2024-03-07T22:36:27.558370Z",
     "iopub.status.idle": "2024-03-07T22:36:28.801997Z",
     "shell.execute_reply": "2024-03-07T22:36:28.801411Z",
     "shell.execute_reply.started": "2024-03-07T22:36:27.558543Z"
    }
   },
   "outputs": [
    {
     "name": "stdout",
     "output_type": "stream",
     "text": [
      "profit sum: 0.17807511312407853\n"
     ]
    },
    {
     "data": {
      "image/png": "[encoded data removed]",
      "text/plain": [
       "<Figure size 1600x200 with 1 Axes>"
      ]
     },
     "metadata": {},
     "output_type": "display_data"
    }
   ],
   "source": [
    "algo.jitter_recovery.research.investigate_trading(dfst_trading)"
   ]
  },
  {
   "cell_type": "code",
   "execution_count": null,
   "id": "98781e99-ab15-4289-83d3-52c3809062a7",
   "metadata": {},
   "outputs": [],
   "source": []
  },
  {
   "cell_type": "code",
   "execution_count": null,
   "id": "c3e03d72-8c52-4ad4-82c9-9cc5426adce2",
   "metadata": {},
   "outputs": [],
   "source": []
  },
  {
   "cell_type": "code",
   "execution_count": 22,
   "id": "186a1fbf-61a1-46ef-8cba-50e75e4c5dde",
   "metadata": {
    "execution": {
     "iopub.execute_input": "2024-03-07T22:35:10.374557Z",
     "iopub.status.busy": "2024-03-07T22:35:10.374283Z",
     "iopub.status.idle": "2024-03-07T22:35:11.138883Z",
     "shell.execute_reply": "2024-03-07T22:35:11.138337Z",
     "shell.execute_reply.started": "2024-03-07T22:35:10.374535Z"
    }
   },
   "outputs": [
    {
     "name": "stdout",
     "output_type": "stream",
     "text": [
      "profit sum: 0.103810580326682\n"
     ]
    },
    {
     "data": {
      "image/png": "[encoded data removed]",
      "text/plain": [
       "<Figure size 1600x200 with 1 Axes>"
      ]
     },
     "metadata": {},
     "output_type": "display_data"
    }
   ],
   "source": [
    "algo.jitter_recovery.research.investigate_trading(dfst_trading)"
   ]
  },
  {
   "cell_type": "code",
   "execution_count": null,
   "id": "d442b6a8-7761-4c7e-a1f8-15113e05954d",
   "metadata": {},
   "outputs": [],
   "source": []
  },
  {
   "cell_type": "code",
   "execution_count": 192,
   "id": "8179a9c6-e2ee-41ee-916c-ba758ed531bc",
   "metadata": {
    "execution": {
     "iopub.execute_input": "2024-03-07T21:03:38.211791Z",
     "iopub.status.busy": "2024-03-07T21:03:38.211658Z",
     "iopub.status.idle": "2024-03-07T21:03:38.403917Z",
     "shell.execute_reply": "2024-03-07T21:03:38.402988Z",
     "shell.execute_reply.started": "2024-03-07T21:03:38.211780Z"
    }
   },
   "outputs": [
    {
     "data": {
      "image/png": "[encoded data removed]",
      "text/plain": [
       "<Figure size 1600x200 with 1 Axes>"
      ]
     },
     "metadata": {},
     "output_type": "display_data"
    }
   ],
   "source": [
    "algo.jitter_recovery.research.investigate_trading(dfst_trading)"
   ]
  },
  {
   "cell_type": "code",
   "execution_count": null,
   "id": "8ba4a100-d44c-4d82-ac33-bf36d94c0857",
   "metadata": {},
   "outputs": [],
   "source": []
  },
  {
   "cell_type": "code",
   "execution_count": 175,
   "id": "122af87b-e351-406e-a0d8-aa8e352e6b18",
   "metadata": {
    "execution": {
     "iopub.execute_input": "2024-03-07T20:59:01.819166Z",
     "iopub.status.busy": "2024-03-07T20:59:01.818421Z",
     "iopub.status.idle": "2024-03-07T20:59:02.014126Z",
     "shell.execute_reply": "2024-03-07T20:59:02.013554Z",
     "shell.execute_reply.started": "2024-03-07T20:59:01.819115Z"
    }
   },
   "outputs": [
    {
     "data": {
      "image/png": "[encoded data removed]",
      "text/plain": [
       "<Figure size 1600x200 with 1 Axes>"
      ]
     },
     "metadata": {},
     "output_type": "display_data"
    }
   ],
   "source": [
    "algo.jitter_recovery.research.investigate_trading(dfst_trading)"
   ]
  },
  {
   "cell_type": "code",
   "execution_count": 95,
   "id": "5a3fa3c3-bf17-4ffd-ab25-64dad1b2a0e5",
   "metadata": {
    "execution": {
     "iopub.execute_input": "2024-03-07T20:44:31.184856Z",
     "iopub.status.busy": "2024-03-07T20:44:31.184630Z",
     "iopub.status.idle": "2024-03-07T20:44:31.341284Z",
     "shell.execute_reply": "2024-03-07T20:44:31.340533Z",
     "shell.execute_reply.started": "2024-03-07T20:44:31.184841Z"
    }
   },
   "outputs": [
    {
     "data": {
      "image/png": "[encoded data removed]",
      "text/plain": [
       "<Figure size 1600x200 with 1 Axes>"
      ]
     },
     "metadata": {},
     "output_type": "display_data"
    }
   ],
   "source": [
    "algo.jitter_recovery.research.investigate_trading(dfst_trading)"
   ]
  },
  {
   "cell_type": "code",
   "execution_count": 33,
   "id": "6f345522-52d8-4562-8ffe-827049917534",
   "metadata": {
    "execution": {
     "iopub.execute_input": "2024-03-04T20:13:00.795793Z",
     "iopub.status.busy": "2024-03-04T20:13:00.795543Z",
     "iopub.status.idle": "2024-03-04T20:13:01.077923Z",
     "shell.execute_reply": "2024-03-04T20:13:01.076765Z",
     "shell.execute_reply.started": "2024-03-04T20:13:00.795769Z"
    }
   },
   "outputs": [
    {
     "data": {
      "image/png": "[encoded data removed]",
      "text/plain": [
       "<Figure size 1600x200 with 1 Axes>"
      ]
     },
     "metadata": {},
     "output_type": "display_data"
    }
   ],
   "source": [
    "algo.jitter_recovery.research.investigate_trading(dfst_trading)"
   ]
  },
  {
   "cell_type": "code",
   "execution_count": null,
   "id": "a7b24023-885d-41c8-98d3-061ea82edade",
   "metadata": {},
   "outputs": [],
   "source": []
  },
  {
   "cell_type": "code",
   "execution_count": 236,
   "id": "86aedbf1-ed66-43ae-b3ea-7f370f1bf412",
   "metadata": {
    "execution": {
     "iopub.execute_input": "2024-03-02T17:55:37.707813Z",
     "iopub.status.busy": "2024-03-02T17:55:37.707618Z",
     "iopub.status.idle": "2024-03-02T17:55:37.882754Z",
     "shell.execute_reply": "2024-03-02T17:55:37.881965Z",
     "shell.execute_reply.started": "2024-03-02T17:55:37.707798Z"
    }
   },
   "outputs": [
    {
     "data": {
      "image/png": "[encoded data removed]",
      "text/plain": [
       "<Figure size 1600x200 with 1 Axes>"
      ]
     },
     "metadata": {},
     "output_type": "display_data"
    }
   ],
   "source": [
    "algo.jitter_recovery.research.investigate_trading(dfst_trading)"
   ]
  },
  {
   "cell_type": "code",
   "execution_count": null,
   "id": "20916952-78da-4596-bb76-2d17201f2c93",
   "metadata": {},
   "outputs": [],
   "source": []
  },
  {
   "cell_type": "code",
   "execution_count": 263,
   "id": "fc8b3991-e10b-4d76-9522-637cf2f6ab91",
   "metadata": {
    "execution": {
     "iopub.execute_input": "2024-03-02T18:06:41.457400Z",
     "iopub.status.busy": "2024-03-02T18:06:41.457288Z",
     "iopub.status.idle": "2024-03-02T18:06:54.246116Z",
     "shell.execute_reply": "2024-03-02T18:06:54.245454Z",
     "shell.execute_reply.started": "2024-03-02T18:06:41.457390Z"
    }
   },
   "outputs": [
    {
     "data": {
      "image/png": "[encoded data removed]",
      "text/plain": [
       "<Figure size 1600x200 with 1 Axes>"
      ]
     },
     "metadata": {},
     "output_type": "display_data"
    }
   ],
   "source": [
    "algo.jitter_recovery.research.investigate_trading(dfst_trading)"
   ]
  },
  {
   "cell_type": "code",
   "execution_count": null,
   "id": "a20da907-9381-41dd-af67-8fa73c751751",
   "metadata": {},
   "outputs": [],
   "source": []
  },
  {
   "cell_type": "code",
   "execution_count": 17,
   "id": "7eb0b24f-3436-4dc1-a7e5-f4b1fd1cd63e",
   "metadata": {
    "execution": {
     "iopub.execute_input": "2024-03-02T19:20:08.098989Z",
     "iopub.status.busy": "2024-03-02T19:20:08.098084Z",
     "iopub.status.idle": "2024-03-02T19:20:28.271752Z",
     "shell.execute_reply": "2024-03-02T19:20:28.271248Z",
     "shell.execute_reply.started": "2024-03-02T19:20:08.098960Z"
    }
   },
   "outputs": [
    {
     "data": {
      "image/png": "[encoded data removed]",
      "text/plain": [
       "<Figure size 1600x200 with 1 Axes>"
      ]
     },
     "metadata": {},
     "output_type": "display_data"
    }
   ],
   "source": [
    "algo.jitter_recovery.research.investigate_trading(dfst_trading)"
   ]
  },
  {
   "cell_type": "code",
   "execution_count": null,
   "id": "0f5738fa-476f-4514-8930-31b67ca022c8",
   "metadata": {},
   "outputs": [],
   "source": []
  },
  {
   "cell_type": "code",
   "execution_count": 36,
   "id": "b23c9664-48f7-4a7a-8fb4-1cd43f58ffe1",
   "metadata": {
    "execution": {
     "iopub.execute_input": "2024-03-04T20:13:15.414263Z",
     "iopub.status.busy": "2024-03-04T20:13:15.414010Z",
     "iopub.status.idle": "2024-03-04T20:13:15.428231Z",
     "shell.execute_reply": "2024-03-04T20:13:15.427635Z",
     "shell.execute_reply.started": "2024-03-04T20:13:15.414249Z"
    }
   },
   "outputs": [
    {
     "data": {
      "text/html": [
       "<div>\n",
       "<style scoped>\n",
       "    .dataframe tbody tr th:only-of-type {\n",
       "        vertical-align: middle;\n",
       "    }\n",
       "\n",
       "    .dataframe tbody tr th {\n",
       "        vertical-align: top;\n",
       "    }\n",
       "\n",
       "    .dataframe thead th {\n",
       "        text-align: right;\n",
       "    }\n",
       "</style>\n",
       "<table border=\"1\" class=\"dataframe\">\n",
       "  <thead>\n",
       "    <tr style=\"text-align: right;\">\n",
       "      <th></th>\n",
       "      <th>profit</th>\n",
       "    </tr>\n",
       "    <tr>\n",
       "      <th>symbol</th>\n",
       "      <th></th>\n",
       "    </tr>\n",
       "  </thead>\n",
       "  <tbody>\n",
       "    <tr>\n",
       "      <th>NFT-USDT-SWAP</th>\n",
       "      <td>-0.016354</td>\n",
       "    </tr>\n",
       "    <tr>\n",
       "      <th>FITFI-USDT-SWAP</th>\n",
       "      <td>0.010111</td>\n",
       "    </tr>\n",
       "  </tbody>\n",
       "</table>\n",
       "</div>"
      ],
      "text/plain": [
       "                   profit\n",
       "symbol                   \n",
       "NFT-USDT-SWAP   -0.016354\n",
       "FITFI-USDT-SWAP  0.010111"
      ]
     },
     "execution_count": 36,
     "metadata": {},
     "output_type": "execute_result"
    }
   ],
   "source": [
    "dfst_trading[dfst_trading.profit.fillna(0) != 0][['profit']].groupby('symbol').sum().sort_values('profit')"
   ]
  },
  {
   "cell_type": "code",
   "execution_count": 1,
   "id": "a70779ac-ba54-4955-9192-3d7eb996b82d",
   "metadata": {
    "execution": {
     "iopub.execute_input": "2024-02-03T21:32:03.845259Z",
     "iopub.status.busy": "2024-02-03T21:32:03.843654Z",
     "iopub.status.idle": "2024-02-03T21:32:03.855210Z",
     "shell.execute_reply": "2024-02-03T21:32:03.854672Z",
     "shell.execute_reply.started": "2024-02-03T21:32:03.845160Z"
    }
   },
   "outputs": [],
   "source": [
    "#dfst_feature.xs('FITFI-USDT-SWAP').loc['2023-12-07 16:38:00']"
   ]
  },
  {
   "cell_type": "code",
   "execution_count": null,
   "id": "b9004c06-a41c-4426-ac8f-e17eca298bbb",
   "metadata": {
    "scrolled": true
   },
   "outputs": [],
   "source": [
    "dfst_trading[(dfst_trading.ch_max > 0.15) & (dfst_trading.ch_since_max < -0.01)]"
   ]
  },
  {
   "cell_type": "code",
   "execution_count": null,
   "id": "5285629b-d2f2-48f8-beb5-2838a3cc6048",
   "metadata": {
    "scrolled": true
   },
   "outputs": [],
   "source": [
    "dfst_trading[(dfst_trading.ch_max > 0.15) & (dfst_trading.ch_since_max < 0)].loc[symbol_with_jumps[0]]"
   ]
  },
  {
   "cell_type": "code",
   "execution_count": null,
   "id": "d8688707-7e67-42d4-adb4-56c4396ff1a5",
   "metadata": {},
   "outputs": [],
   "source": []
  },
  {
   "cell_type": "code",
   "execution_count": 221,
   "id": "1b14ad24-a88a-4140-84f6-04b5af45c1b2",
   "metadata": {
    "execution": {
     "iopub.execute_input": "2024-02-11T00:29:05.458832Z",
     "iopub.status.busy": "2024-02-11T00:29:05.458699Z",
     "iopub.status.idle": "2024-02-11T00:29:05.533090Z",
     "shell.execute_reply": "2024-02-11T00:29:05.532061Z",
     "shell.execute_reply.started": "2024-02-11T00:29:05.458821Z"
    },
    "scrolled": true
   },
   "outputs": [
    {
     "name": "stdout",
     "output_type": "stream",
     "text": [
      "2024-02-03 18:13:00, GAL-USDT-SWAP, 1.905, position_changed: 1.0\n",
      "2024-02-03 19:18:00, GAL-USDT-SWAP, 1.852, position_changed: -1.0\n",
      "2024-02-04 00:19:00, FITFI-USDT-SWAP, 0.006064, position_changed: 1.0\n",
      "2024-02-04 00:31:00, FITFI-USDT-SWAP, 0.005904, position_changed: -1.0\n",
      "2024-02-04 20:20:00, DMAIL-USDT-SWAP, 0.4964, position_changed: 1.0\n",
      "2024-02-04 20:23:00, DMAIL-USDT-SWAP, 0.5023, position_changed: -1.0\n",
      "2024-02-04 20:24:00, DMAIL-USDT-SWAP, 0.4965, position_changed: 1.0\n",
      "2024-02-04 20:55:00, DMAIL-USDT-SWAP, 0.4923, position_changed: -1.0\n"
     ]
    }
   ],
   "source": [
    "for _, row in dfst_trading[(dfst_trading.position_changed != 0)].dropna().reset_index().sort_values('timestamp').iterrows():\n",
    "    print(f'{row[\"timestamp\"]}, {row[\"symbol\"]}, {row[\"value\"]}, position_changed: {row[\"position_changed\"]}')"
   ]
  },
  {
   "cell_type": "code",
   "execution_count": null,
   "id": "5e1e524d-b16b-4ceb-a3f7-77aa56a1f2ca",
   "metadata": {},
   "outputs": [],
   "source": []
  },
  {
   "cell_type": "markdown",
   "id": "8d50d0e7-bc53-4639-9ee4-9cf18cc32b43",
   "metadata": {
    "execution": {
     "iopub.execute_input": "2024-02-01T14:36:55.118172Z",
     "iopub.status.busy": "2024-02-01T14:36:55.117200Z",
     "iopub.status.idle": "2024-02-01T14:36:55.121590Z",
     "shell.execute_reply": "2024-02-01T14:36:55.120954Z",
     "shell.execute_reply.started": "2024-02-01T14:36:55.118144Z"
    },
    "jp-MarkdownHeadingCollapsed": true
   },
   "source": [
    "## single symbol"
   ]
  },
  {
   "cell_type": "code",
   "execution_count": 37,
   "id": "a68c1eee-4f97-436f-b97a-021fae71f053",
   "metadata": {
    "execution": {
     "iopub.execute_input": "2024-03-04T20:16:38.660767Z",
     "iopub.status.busy": "2024-03-04T20:16:38.660482Z",
     "iopub.status.idle": "2024-03-04T20:16:38.793882Z",
     "shell.execute_reply": "2024-03-04T20:16:38.793273Z",
     "shell.execute_reply.started": "2024-03-04T20:16:38.660750Z"
    }
   },
   "outputs": [
    {
     "data": {
      "text/plain": [
       "<module 'algo.jitter_recovery.research' from '/home/junlim/projects/jitter_recovery/algo/jitter_recovery/research.py'>"
      ]
     },
     "execution_count": 37,
     "metadata": {},
     "output_type": "execute_result"
    }
   ],
   "source": [
    "import algo.jitter_recovery.calculate\n",
    "importlib.reload(algo.jitter_recovery.calculate)\n",
    "import algo.jitter_recovery.research\n",
    "importlib.reload(algo.jitter_recovery.research)"
   ]
  },
  {
   "cell_type": "code",
   "execution_count": 47,
   "id": "fbfd498f-b9ce-4528-b9dd-81dd1b016347",
   "metadata": {
    "execution": {
     "iopub.execute_input": "2024-03-04T20:20:12.777864Z",
     "iopub.status.busy": "2024-03-04T20:20:12.777369Z",
     "iopub.status.idle": "2024-03-04T20:20:12.785147Z",
     "shell.execute_reply": "2024-03-04T20:20:12.783882Z",
     "shell.execute_reply.started": "2024-03-04T20:20:12.777827Z"
    }
   },
   "outputs": [],
   "source": [
    "symbol_investigate = 'AIDOGE-USDT-SWAP'\n",
    "dfs = dfi.xs(symbol_investigate, level=1)"
   ]
  },
  {
   "cell_type": "code",
   "execution_count": 50,
   "id": "59cd7928-7c3d-438e-aa44-24324ca09d9b",
   "metadata": {
    "execution": {
     "iopub.execute_input": "2024-03-04T20:20:29.732962Z",
     "iopub.status.busy": "2024-03-04T20:20:29.732756Z",
     "iopub.status.idle": "2024-03-04T20:20:29.760253Z",
     "shell.execute_reply": "2024-03-04T20:20:29.757035Z",
     "shell.execute_reply.started": "2024-03-04T20:20:29.732947Z"
    }
   },
   "outputs": [
    {
     "data": {
      "text/html": [
       "<div>\n",
       "<style scoped>\n",
       "    .dataframe tbody tr th:only-of-type {\n",
       "        vertical-align: middle;\n",
       "    }\n",
       "\n",
       "    .dataframe tbody tr th {\n",
       "        vertical-align: top;\n",
       "    }\n",
       "\n",
       "    .dataframe thead th {\n",
       "        text-align: right;\n",
       "    }\n",
       "</style>\n",
       "<table border=\"1\" class=\"dataframe\">\n",
       "  <thead>\n",
       "    <tr style=\"text-align: right;\">\n",
       "      <th></th>\n",
       "      <th>open</th>\n",
       "      <th>high</th>\n",
       "      <th>low</th>\n",
       "      <th>close</th>\n",
       "      <th>volume</th>\n",
       "    </tr>\n",
       "    <tr>\n",
       "      <th>timestamp</th>\n",
       "      <th></th>\n",
       "      <th></th>\n",
       "      <th></th>\n",
       "      <th></th>\n",
       "      <th></th>\n",
       "    </tr>\n",
       "  </thead>\n",
       "  <tbody>\n",
       "    <tr>\n",
       "      <th>2024-03-03 05:00:00</th>\n",
       "      <td>0.0</td>\n",
       "      <td>0.0</td>\n",
       "      <td>0.0</td>\n",
       "      <td>0.0</td>\n",
       "      <td>3.422000e+13</td>\n",
       "    </tr>\n",
       "    <tr>\n",
       "      <th>2024-03-03 05:01:00</th>\n",
       "      <td>0.0</td>\n",
       "      <td>0.0</td>\n",
       "      <td>0.0</td>\n",
       "      <td>0.0</td>\n",
       "      <td>1.738000e+13</td>\n",
       "    </tr>\n",
       "    <tr>\n",
       "      <th>2024-03-03 05:02:00</th>\n",
       "      <td>0.0</td>\n",
       "      <td>0.0</td>\n",
       "      <td>0.0</td>\n",
       "      <td>0.0</td>\n",
       "      <td>3.181000e+13</td>\n",
       "    </tr>\n",
       "    <tr>\n",
       "      <th>2024-03-03 05:03:00</th>\n",
       "      <td>0.0</td>\n",
       "      <td>0.0</td>\n",
       "      <td>0.0</td>\n",
       "      <td>0.0</td>\n",
       "      <td>1.410000e+13</td>\n",
       "    </tr>\n",
       "    <tr>\n",
       "      <th>2024-03-03 05:04:00</th>\n",
       "      <td>0.0</td>\n",
       "      <td>0.0</td>\n",
       "      <td>0.0</td>\n",
       "      <td>0.0</td>\n",
       "      <td>3.950000e+12</td>\n",
       "    </tr>\n",
       "    <tr>\n",
       "      <th>...</th>\n",
       "      <td>...</td>\n",
       "      <td>...</td>\n",
       "      <td>...</td>\n",
       "      <td>...</td>\n",
       "      <td>...</td>\n",
       "    </tr>\n",
       "    <tr>\n",
       "      <th>2024-03-04 20:03:00</th>\n",
       "      <td>0.0</td>\n",
       "      <td>0.0</td>\n",
       "      <td>0.0</td>\n",
       "      <td>0.0</td>\n",
       "      <td>3.988600e+14</td>\n",
       "    </tr>\n",
       "    <tr>\n",
       "      <th>2024-03-04 20:04:00</th>\n",
       "      <td>0.0</td>\n",
       "      <td>0.0</td>\n",
       "      <td>0.0</td>\n",
       "      <td>0.0</td>\n",
       "      <td>1.538500e+14</td>\n",
       "    </tr>\n",
       "    <tr>\n",
       "      <th>2024-03-04 20:05:00</th>\n",
       "      <td>0.0</td>\n",
       "      <td>0.0</td>\n",
       "      <td>0.0</td>\n",
       "      <td>0.0</td>\n",
       "      <td>8.488000e+13</td>\n",
       "    </tr>\n",
       "    <tr>\n",
       "      <th>2024-03-04 20:06:00</th>\n",
       "      <td>0.0</td>\n",
       "      <td>0.0</td>\n",
       "      <td>0.0</td>\n",
       "      <td>0.0</td>\n",
       "      <td>9.894000e+13</td>\n",
       "    </tr>\n",
       "    <tr>\n",
       "      <th>2024-03-04 20:07:00</th>\n",
       "      <td>0.0</td>\n",
       "      <td>0.0</td>\n",
       "      <td>0.0</td>\n",
       "      <td>0.0</td>\n",
       "      <td>8.778000e+13</td>\n",
       "    </tr>\n",
       "  </tbody>\n",
       "</table>\n",
       "<p>2312 rows × 5 columns</p>\n",
       "</div>"
      ],
      "text/plain": [
       "                     open  high  low  close        volume\n",
       "timestamp                                                \n",
       "2024-03-03 05:00:00   0.0   0.0  0.0    0.0  3.422000e+13\n",
       "2024-03-03 05:01:00   0.0   0.0  0.0    0.0  1.738000e+13\n",
       "2024-03-03 05:02:00   0.0   0.0  0.0    0.0  3.181000e+13\n",
       "2024-03-03 05:03:00   0.0   0.0  0.0    0.0  1.410000e+13\n",
       "2024-03-03 05:04:00   0.0   0.0  0.0    0.0  3.950000e+12\n",
       "...                   ...   ...  ...    ...           ...\n",
       "2024-03-04 20:03:00   0.0   0.0  0.0    0.0  3.988600e+14\n",
       "2024-03-04 20:04:00   0.0   0.0  0.0    0.0  1.538500e+14\n",
       "2024-03-04 20:05:00   0.0   0.0  0.0    0.0  8.488000e+13\n",
       "2024-03-04 20:06:00   0.0   0.0  0.0    0.0  9.894000e+13\n",
       "2024-03-04 20:07:00   0.0   0.0  0.0    0.0  8.778000e+13\n",
       "\n",
       "[2312 rows x 5 columns]"
      ]
     },
     "execution_count": 50,
     "metadata": {},
     "output_type": "execute_result"
    }
   ],
   "source": [
    "dfs"
   ]
  },
  {
   "cell_type": "code",
   "execution_count": 51,
   "id": "a84c39b2-3f19-4fb2-b008-75b6e0d23473",
   "metadata": {
    "execution": {
     "iopub.execute_input": "2024-03-04T20:20:31.765038Z",
     "iopub.status.busy": "2024-03-04T20:20:31.763260Z",
     "iopub.status.idle": "2024-03-04T20:20:31.770188Z",
     "shell.execute_reply": "2024-03-04T20:20:31.769531Z",
     "shell.execute_reply.started": "2024-03-04T20:20:31.764964Z"
    }
   },
   "outputs": [],
   "source": [
    "jitter_recovery_trading_param = algo.jitter_recovery.calculate.JitterRecoveryTradingParam(\n",
    "    algo.jitter_recovery.calculate.JitterRecoveryFeatureParam(30), \n",
    "    0.20, -0.04, 0.02, is_long_term=False)"
   ]
  },
  {
   "cell_type": "code",
   "execution_count": 52,
   "id": "f83df7b4-63cb-43d2-9047-4de1fab6604a",
   "metadata": {
    "execution": {
     "iopub.execute_input": "2024-03-04T20:20:31.934697Z",
     "iopub.status.busy": "2024-03-04T20:20:31.934370Z",
     "iopub.status.idle": "2024-03-04T20:20:32.426493Z",
     "shell.execute_reply": "2024-03-04T20:20:32.425712Z",
     "shell.execute_reply.started": "2024-03-04T20:20:31.934674Z"
    }
   },
   "outputs": [
    {
     "name": "stdout",
     "output_type": "stream",
     "text": [
      "no trading happens\n"
     ]
    },
    {
     "data": {
      "image/png": "[encoded data removed]",
      "text/plain": [
       "<Figure size 640x480 with 1 Axes>"
      ]
     },
     "metadata": {},
     "output_type": "display_data"
    }
   ],
   "source": [
    "df_feature, df_trading = algo.jitter_recovery.research.investigate_symbol(df, symbol_investigate, jitter_recovery_trading_param, figsize=(12, 11))"
   ]
  },
  {
   "cell_type": "code",
   "execution_count": null,
   "id": "b123c5ca-e413-4db6-89c0-fa9b1d7a1b8f",
   "metadata": {},
   "outputs": [],
   "source": []
  },
  {
   "cell_type": "code",
   "execution_count": 146,
   "id": "63d3c584-0933-41ff-b011-f355844b2083",
   "metadata": {
    "execution": {
     "iopub.execute_input": "2024-02-01T16:21:28.219991Z",
     "iopub.status.busy": "2024-02-01T16:21:28.219605Z",
     "iopub.status.idle": "2024-02-01T16:21:28.230264Z",
     "shell.execute_reply": "2024-02-01T16:21:28.229637Z",
     "shell.execute_reply.started": "2024-02-01T16:21:28.219962Z"
    }
   },
   "outputs": [
    {
     "data": {
      "text/html": [
       "<div>\n",
       "<style scoped>\n",
       "    .dataframe tbody tr th:only-of-type {\n",
       "        vertical-align: middle;\n",
       "    }\n",
       "\n",
       "    .dataframe tbody tr th {\n",
       "        vertical-align: top;\n",
       "    }\n",
       "\n",
       "    .dataframe thead th {\n",
       "        text-align: right;\n",
       "    }\n",
       "</style>\n",
       "<table border=\"1\" class=\"dataframe\">\n",
       "  <thead>\n",
       "    <tr style=\"text-align: right;\">\n",
       "      <th></th>\n",
       "      <th>value</th>\n",
       "      <th>in_position</th>\n",
       "      <th>position_changed</th>\n",
       "      <th>profit_raw</th>\n",
       "      <th>profit</th>\n",
       "    </tr>\n",
       "    <tr>\n",
       "      <th>timestamp</th>\n",
       "      <th></th>\n",
       "      <th></th>\n",
       "      <th></th>\n",
       "      <th></th>\n",
       "      <th></th>\n",
       "    </tr>\n",
       "  </thead>\n",
       "  <tbody>\n",
       "    <tr>\n",
       "      <th>2024-01-03 12:27:00</th>\n",
       "      <td>1.7395</td>\n",
       "      <td>1</td>\n",
       "      <td>1.0</td>\n",
       "      <td>0.000</td>\n",
       "      <td>0.000000</td>\n",
       "    </tr>\n",
       "    <tr>\n",
       "      <th>2024-01-03 12:29:00</th>\n",
       "      <td>1.8060</td>\n",
       "      <td>0</td>\n",
       "      <td>-1.0</td>\n",
       "      <td>-0.016</td>\n",
       "      <td>-0.008939</td>\n",
       "    </tr>\n",
       "  </tbody>\n",
       "</table>\n",
       "</div>"
      ],
      "text/plain": [
       "                      value  in_position  position_changed  profit_raw  \\\n",
       "timestamp                                                                \n",
       "2024-01-03 12:27:00  1.7395            1               1.0       0.000   \n",
       "2024-01-03 12:29:00  1.8060            0              -1.0      -0.016   \n",
       "\n",
       "                       profit  \n",
       "timestamp                      \n",
       "2024-01-03 12:27:00  0.000000  \n",
       "2024-01-03 12:29:00 -0.008939  "
      ]
     },
     "execution_count": 146,
     "metadata": {},
     "output_type": "execute_result"
    }
   ],
   "source": [
    "df_trading[(df_trading.position_changed != 0)][['value', 'in_position', 'position_changed', 'profit_raw', 'profit']].dropna()"
   ]
  },
  {
   "cell_type": "code",
   "execution_count": 147,
   "id": "ca4f0673-629c-47ed-87d9-95cd400c97c8",
   "metadata": {
    "execution": {
     "iopub.execute_input": "2024-02-01T16:21:29.822541Z",
     "iopub.status.busy": "2024-02-01T16:21:29.821963Z",
     "iopub.status.idle": "2024-02-01T16:21:30.096208Z",
     "shell.execute_reply": "2024-02-01T16:21:30.095551Z",
     "shell.execute_reply.started": "2024-02-01T16:21:29.822506Z"
    }
   },
   "outputs": [
    {
     "name": "stdout",
     "output_type": "stream",
     "text": [
      "2024-01-03 12:27:00, ARB-USDT-SWAP, 1.7395, position_changed: 1.0\n",
      "2024-01-03 12:28:00, ARB-USDT-SWAP, 1.79, position_changed: -1.0\n"
     ]
    }
   ],
   "source": [
    "for _, row in dfst_trading[(dfst_trading.position_changed != 0)].dropna().reset_index().sort_values('timestamp').iterrows():\n",
    "    if row['symbol'] != symbol_investigate: continue\n",
    "    print(f'{row[\"timestamp\"]}, {row[\"symbol\"]}, {row[\"value\"]}, position_changed: {row[\"position_changed\"]}')"
   ]
  },
  {
   "cell_type": "code",
   "execution_count": null,
   "id": "668c9e32-f919-4360-9c27-afd2ef1084ad",
   "metadata": {},
   "outputs": [],
   "source": []
  }
 ],
 "metadata": {
  "kernelspec": {
   "display_name": "Python 3 (ipykernel)",
   "language": "python",
   "name": "python3"
  },
  "language_info": {
   "codemirror_mode": {
    "name": "ipython",
    "version": 3
   },
   "file_extension": ".py",
   "mimetype": "text/x-python",
   "name": "python",
   "nbconvert_exporter": "python",
   "pygments_lexer": "ipython3",
   "version": "3.10.12"
  }
 },
 "nbformat": 4,
 "nbformat_minor": 5
}
