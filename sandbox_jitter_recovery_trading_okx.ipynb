{
 "cells": [
  {
   "cell_type": "markdown",
   "id": "f2737de0-4e5d-4c43-a52a-96c3c639e234",
   "metadata": {
    "execution": {
     "iopub.execute_input": "2023-12-12T21:48:55.276471Z",
     "iopub.status.busy": "2023-12-12T21:48:55.276035Z",
     "iopub.status.idle": "2023-12-12T21:48:55.282856Z",
     "shell.execute_reply": "2023-12-12T21:48:55.281886Z",
     "shell.execute_reply.started": "2023-12-12T21:48:55.276437Z"
    }
   },
   "source": [
    "## import & load"
   ]
  },
  {
   "cell_type": "code",
   "execution_count": 1,
   "id": "a115d0f3-c935-4c05-a33a-732933233c0a",
   "metadata": {
    "execution": {
     "iopub.execute_input": "2024-02-02T01:46:34.924825Z",
     "iopub.status.busy": "2024-02-02T01:46:34.924298Z",
     "iopub.status.idle": "2024-02-02T01:46:36.048597Z",
     "shell.execute_reply": "2024-02-02T01:46:36.047946Z",
     "shell.execute_reply.started": "2024-02-02T01:46:34.924802Z"
    }
   },
   "outputs": [],
   "source": [
    "import pandas as pd\n",
    "import numpy as np\n",
    "import sys\n",
    "import requests\n",
    "import pprint\n",
    "\n",
    "import datetime\n",
    "import pytz\n",
    "import importlib\n",
    "import matplotlib.pyplot as plt\n",
    "\n",
    "\n",
    "import datetime, json, math\n",
    "from google.cloud import bigquery\n",
    "from numpy_ext import rolling_apply as rolling_apply_ext"
   ]
  },
  {
   "cell_type": "code",
   "execution_count": 2,
   "id": "da881dba-cd40-4bd5-ba15-3fa2691a5107",
   "metadata": {
    "execution": {
     "iopub.execute_input": "2024-02-02T01:46:36.102302Z",
     "iopub.status.busy": "2024-02-02T01:46:36.101900Z",
     "iopub.status.idle": "2024-02-02T01:46:36.105848Z",
     "shell.execute_reply": "2024-02-02T01:46:36.105343Z",
     "shell.execute_reply.started": "2024-02-02T01:46:36.102280Z"
    }
   },
   "outputs": [],
   "source": [
    "import os\n",
    "\n",
    "if os.path.exists('credential.json'):\n",
    "    os.environ[\"GOOGLE_APPLICATION_CREDENTIALS\"] = os.path.join(os.getcwd(), 'credential.json')"
   ]
  },
  {
   "cell_type": "code",
   "execution_count": 3,
   "id": "0781806b-5f96-42f9-acec-2b15f54f6b35",
   "metadata": {
    "execution": {
     "iopub.execute_input": "2024-02-02T01:46:36.301054Z",
     "iopub.status.busy": "2024-02-02T01:46:36.300838Z",
     "iopub.status.idle": "2024-02-02T01:46:48.077069Z",
     "shell.execute_reply": "2024-02-02T01:46:48.076326Z",
     "shell.execute_reply.started": "2024-02-02T01:46:36.301039Z"
    }
   },
   "outputs": [
    {
     "data": {
      "text/plain": [
       "<module 'data.read' from '/home/junlim/projects/jitter_recovery/data/read.py'>"
      ]
     },
     "execution_count": 3,
     "metadata": {},
     "output_type": "execute_result"
    }
   ],
   "source": [
    "import data.read\n",
    "importlib.reload(data.read)"
   ]
  },
  {
   "cell_type": "code",
   "execution_count": 4,
   "id": "6a2ffc80-5719-43fe-b7dd-ea2bc98199b2",
   "metadata": {
    "execution": {
     "iopub.execute_input": "2024-02-02T01:46:48.078236Z",
     "iopub.status.busy": "2024-02-02T01:46:48.078027Z",
     "iopub.status.idle": "2024-02-02T01:46:49.346542Z",
     "shell.execute_reply": "2024-02-02T01:46:49.345773Z",
     "shell.execute_reply.started": "2024-02-02T01:46:48.078219Z"
    }
   },
   "outputs": [],
   "source": [
    "df = data.read.df_okx_20240116_0131\n",
    "df_close = df.pivot(index='timestamp', columns='symbol', values='close')\n",
    "dfi = df.set_index(['timestamp', 'symbol'])\n",
    "all_symbols = df.symbol.unique()"
   ]
  },
  {
   "cell_type": "code",
   "execution_count": 5,
   "id": "f1cd98bd-1939-44bf-ad3d-d96df1a4382e",
   "metadata": {
    "execution": {
     "iopub.execute_input": "2024-02-02T01:46:49.347116Z",
     "iopub.status.busy": "2024-02-02T01:46:49.346991Z",
     "iopub.status.idle": "2024-02-02T01:46:49.359967Z",
     "shell.execute_reply": "2024-02-02T01:46:49.358799Z",
     "shell.execute_reply.started": "2024-02-02T01:46:49.347105Z"
    }
   },
   "outputs": [
    {
     "data": {
      "text/html": [
       "<div>\n",
       "<style scoped>\n",
       "    .dataframe tbody tr th:only-of-type {\n",
       "        vertical-align: middle;\n",
       "    }\n",
       "\n",
       "    .dataframe tbody tr th {\n",
       "        vertical-align: top;\n",
       "    }\n",
       "\n",
       "    .dataframe thead th {\n",
       "        text-align: right;\n",
       "    }\n",
       "</style>\n",
       "<table border=\"1\" class=\"dataframe\">\n",
       "  <thead>\n",
       "    <tr style=\"text-align: right;\">\n",
       "      <th></th>\n",
       "      <th>timestamp</th>\n",
       "      <th>symbol</th>\n",
       "      <th>open</th>\n",
       "      <th>high</th>\n",
       "      <th>low</th>\n",
       "      <th>close</th>\n",
       "      <th>volume</th>\n",
       "    </tr>\n",
       "  </thead>\n",
       "  <tbody>\n",
       "    <tr>\n",
       "      <th>4060708</th>\n",
       "      <td>2024-01-31 04:58:00</td>\n",
       "      <td>NEO-USDT-SWAP</td>\n",
       "      <td>11.6310</td>\n",
       "      <td>11.6320</td>\n",
       "      <td>11.6240</td>\n",
       "      <td>11.6260</td>\n",
       "      <td>310.0000</td>\n",
       "    </tr>\n",
       "    <tr>\n",
       "      <th>4060709</th>\n",
       "      <td>2024-01-31 04:58:00</td>\n",
       "      <td>BTC-USD-SWAP</td>\n",
       "      <td>42960.8000</td>\n",
       "      <td>42960.9000</td>\n",
       "      <td>42951.9000</td>\n",
       "      <td>42954.7000</td>\n",
       "      <td>3.8149</td>\n",
       "    </tr>\n",
       "    <tr>\n",
       "      <th>4060710</th>\n",
       "      <td>2024-01-31 04:58:00</td>\n",
       "      <td>CFX-USDT-SWAP</td>\n",
       "      <td>0.2263</td>\n",
       "      <td>0.2263</td>\n",
       "      <td>0.2259</td>\n",
       "      <td>0.2261</td>\n",
       "      <td>140070.0000</td>\n",
       "    </tr>\n",
       "  </tbody>\n",
       "</table>\n",
       "</div>"
      ],
      "text/plain": [
       "                  timestamp         symbol        open        high  \\\n",
       "4060708 2024-01-31 04:58:00  NEO-USDT-SWAP     11.6310     11.6320   \n",
       "4060709 2024-01-31 04:58:00   BTC-USD-SWAP  42960.8000  42960.9000   \n",
       "4060710 2024-01-31 04:58:00  CFX-USDT-SWAP      0.2263      0.2263   \n",
       "\n",
       "                low       close       volume  \n",
       "4060708     11.6240     11.6260     310.0000  \n",
       "4060709  42951.9000  42954.7000       3.8149  \n",
       "4060710      0.2259      0.2261  140070.0000  "
      ]
     },
     "execution_count": 5,
     "metadata": {},
     "output_type": "execute_result"
    }
   ],
   "source": [
    "df.tail(3)"
   ]
  },
  {
   "cell_type": "code",
   "execution_count": 6,
   "id": "2f63a12c-2f68-4b0f-abe0-e9eb20afd5b4",
   "metadata": {
    "execution": {
     "iopub.execute_input": "2024-02-02T01:46:49.361962Z",
     "iopub.status.busy": "2024-02-02T01:46:49.361619Z",
     "iopub.status.idle": "2024-02-02T01:46:49.366292Z",
     "shell.execute_reply": "2024-02-02T01:46:49.365855Z",
     "shell.execute_reply.started": "2024-02-02T01:46:49.361938Z"
    }
   },
   "outputs": [
    {
     "data": {
      "text/plain": [
       "163"
      ]
     },
     "execution_count": 6,
     "metadata": {},
     "output_type": "execute_result"
    }
   ],
   "source": [
    "len([s for s in all_symbols if 'USDT' in s])"
   ]
  },
  {
   "cell_type": "code",
   "execution_count": null,
   "id": "580bc04c-057f-4f19-827b-0a6d69e35322",
   "metadata": {},
   "outputs": [],
   "source": []
  },
  {
   "cell_type": "markdown",
   "id": "9bb84b8e-cb19-47dd-a19e-fc04b0721b1a",
   "metadata": {},
   "source": [
    "## multiple symbols"
   ]
  },
  {
   "cell_type": "code",
   "execution_count": 7,
   "id": "7e4ad85d-1c7a-4dcf-b468-da209eb874d2",
   "metadata": {
    "execution": {
     "iopub.execute_input": "2024-02-02T01:46:49.370875Z",
     "iopub.status.busy": "2024-02-02T01:46:49.370611Z",
     "iopub.status.idle": "2024-02-02T01:46:49.379572Z",
     "shell.execute_reply": "2024-02-02T01:46:49.379170Z",
     "shell.execute_reply.started": "2024-02-02T01:46:49.370861Z"
    }
   },
   "outputs": [
    {
     "data": {
      "text/plain": [
       "<module 'algo.jitter_recovery.calculate' from '/home/junlim/projects/jitter_recovery/algo/jitter_recovery/calculate.py'>"
      ]
     },
     "execution_count": 7,
     "metadata": {},
     "output_type": "execute_result"
    }
   ],
   "source": [
    "import algo.jitter_recovery.calculate\n",
    "importlib.reload(algo.jitter_recovery.calculate)"
   ]
  },
  {
   "cell_type": "code",
   "execution_count": 8,
   "id": "dde2af94-4fca-46e0-bbf4-ad2201155953",
   "metadata": {
    "execution": {
     "iopub.execute_input": "2024-02-02T01:46:50.169590Z",
     "iopub.status.busy": "2024-02-02T01:46:50.169113Z",
     "iopub.status.idle": "2024-02-02T01:46:50.173773Z",
     "shell.execute_reply": "2024-02-02T01:46:50.173170Z",
     "shell.execute_reply.started": "2024-02-02T01:46:50.169546Z"
    }
   },
   "outputs": [],
   "source": [
    "jitter_recovery_feature_param = algo.jitter_recovery.calculate.JitterRecoveryFeatureParam(40)\n",
    "jitter_recovery_trading_param = algo.jitter_recovery.calculate.JitterRecoveryTradingParam(\n",
    "    jitter_recovery_feature_param, \n",
    "    0.20, -0.04, 0.02, is_long_term=False)"
   ]
  },
  {
   "cell_type": "code",
   "execution_count": 9,
   "id": "5066f44d-7cb8-45a6-bc2c-c0291fac7ace",
   "metadata": {
    "execution": {
     "iopub.execute_input": "2024-02-02T01:46:53.315803Z",
     "iopub.status.busy": "2024-02-02T01:46:53.315415Z",
     "iopub.status.idle": "2024-02-02T01:47:29.590016Z",
     "shell.execute_reply": "2024-02-02T01:47:29.589381Z",
     "shell.execute_reply.started": "2024-02-02T01:46:53.315773Z"
    },
    "scrolled": true
   },
   "outputs": [
    {
     "name": "stdout",
     "output_type": "stream",
     "text": [
      "0 symbol: OP-USDT-SWAP: 0\n",
      "1 symbol: JST-USDT-SWAP: 0\n",
      "2 symbol: LUNC-USDT-SWAP: 0\n",
      "3 symbol: LOOKS-USDT-SWAP: 4\n",
      "4 symbol: XRP-USDT-SWAP: 0\n",
      "5 symbol: SLP-USDT-SWAP: 0\n",
      "8 symbol: ANT-USDT-SWAP: 0\n",
      "9 symbol: MANA-USDT-SWAP: 0\n",
      "11 symbol: LTC-USDT-SWAP: 0\n",
      "12 symbol: CORE-USDT-SWAP: 0\n",
      "13 symbol: KLAY-USDT-SWAP: 4\n",
      "14 symbol: WAVES-USDT-SWAP: 0\n",
      "15 symbol: NFT-USDT-SWAP: 0\n",
      "17 symbol: LRC-USDT-SWAP: 0\n",
      "18 symbol: SAND-USDT-SWAP: 0\n",
      "19 symbol: FLM-USDT-SWAP: 0\n",
      "20 symbol: FLOW-USDT-SWAP: 0\n",
      "22 symbol: BAT-USDT-SWAP: 0\n",
      "23 symbol: SUSHI-USDT-SWAP: 0\n",
      "24 symbol: GMX-USDT-SWAP: 0\n",
      "25 symbol: PEPE-USDT-SWAP: 0\n",
      "26 symbol: LQTY-USDT-SWAP: 0\n",
      "27 symbol: BNB-USDT-SWAP: 0\n",
      "28 symbol: API3-USDT-SWAP: 9\n",
      "30 symbol: AGIX-USDT-SWAP: 0\n",
      "31 symbol: ONT-USDT-SWAP: 0\n",
      "32 symbol: BADGER-USDT-SWAP: 0\n",
      "33 symbol: STX-USDT-SWAP: 0\n",
      "34 symbol: CRO-USDT-SWAP: 0\n",
      "35 symbol: PERP-USDT-SWAP: 0\n",
      "36 symbol: GALA-USDT-SWAP: 0\n",
      "38 symbol: RON-USDT-SWAP: 0\n",
      "40 symbol: TIA-USDT-SWAP: 0\n",
      "41 symbol: ETC-USDT-SWAP: 0\n",
      "42 symbol: WAXP-USDT-SWAP: 0\n",
      "43 symbol: GAS-USDT-SWAP: 0\n",
      "45 symbol: ICP-USDT-SWAP: 0\n",
      "46 symbol: QTUM-USDT-SWAP: 0\n",
      "47 symbol: MEME-USDT-SWAP: 0\n",
      "48 symbol: FTM-USDT-SWAP: 0\n",
      "49 symbol: CTC-USDT-SWAP: 0\n",
      "50 symbol: MAGIC-USDT-SWAP: 0\n",
      "51 symbol: MKR-USDT-SWAP: 0\n",
      "52 symbol: MATIC-USDT-SWAP: 0\n",
      "53 symbol: UMA-USDT-SWAP: 13\n",
      "56 symbol: IOTA-USDT-SWAP: 0\n",
      "57 symbol: SOL-USDT-SWAP: 0\n",
      "59 symbol: IOST-USDT-SWAP: 0\n",
      "63 symbol: TRX-USDT-SWAP: 0\n",
      "64 symbol: DYDX-USDT-SWAP: 0\n",
      "65 symbol: STORJ-USDT-SWAP: 0\n",
      "66 symbol: MASK-USDT-SWAP: 0\n",
      "67 symbol: 1INCH-USDT-SWAP: 0\n",
      "68 symbol: THETA-USDT-SWAP: 0\n",
      "69 symbol: ORDI-USDT-SWAP: 0\n",
      "70 symbol: PEOPLE-USDT-SWAP: 0\n",
      "72 symbol: RSR-USDT-SWAP: 0\n",
      "73 symbol: VRA-USDT-SWAP: 0\n",
      "74 symbol: LDO-USDT-SWAP: 0\n",
      "75 symbol: CELO-USDT-SWAP: 0\n",
      "76 symbol: KSM-USDT-SWAP: 0\n",
      "78 symbol: FET-USDT-SWAP: 0\n",
      "79 symbol: HBAR-USDT-SWAP: 0\n",
      "80 symbol: JOE-USDT-SWAP: 0\n",
      "81 symbol: ETHW-USDT-SWAP: 0\n",
      "82 symbol: DOGE-USDT-SWAP: 0\n",
      "83 symbol: BICO-USDT-SWAP: 0\n",
      "84 symbol: FLOKI-USDT-SWAP: 0\n",
      "86 symbol: WSM-USDT-SWAP: 0\n",
      "87 symbol: ALGO-USDT-SWAP: 0\n",
      "88 symbol: ARB-USDT-SWAP: 0\n",
      "89 symbol: ZRX-USDT-SWAP: 0\n",
      "90 symbol: GRT-USDT-SWAP: 0\n",
      "91 symbol: GODS-USDT-SWAP: 0\n",
      "93 symbol: RNDR-USDT-SWAP: 0\n",
      "94 symbol: BAND-USDT-SWAP: 0\n",
      "95 symbol: GAL-USDT-SWAP: 0\n",
      "96 symbol: XLM-USDT-SWAP: 0\n",
      "97 symbol: BTC-USDT-SWAP: 0\n",
      "99 symbol: PYTH-USDT-SWAP: 0\n",
      "100 symbol: ID-USDT-SWAP: 0\n",
      "101 symbol: DOT-USDT-SWAP: 0\n",
      "102 symbol: TON-USDT-SWAP: 0\n",
      "103 symbol: BCH-USDT-SWAP: 0\n",
      "104 symbol: ORBS-USDT-SWAP: 0\n",
      "105 symbol: BNT-USDT-SWAP: 0\n",
      "106 symbol: COMP-USDT-SWAP: 0\n",
      "107 symbol: OMG-USDT-SWAP: 0\n",
      "108 symbol: IMX-USDT-SWAP: 0\n",
      "109 symbol: GFT-USDT-SWAP: 0\n",
      "110 symbol: LPT-USDT-SWAP: 0\n",
      "111 symbol: WOO-USDT-SWAP: 0\n",
      "112 symbol: NMR-USDT-SWAP: 2\n",
      "113 symbol: SHIB-USDT-SWAP: 0\n",
      "114 symbol: JTO-USDT-SWAP: 0\n",
      "115 symbol: APE-USDT-SWAP: 0\n",
      "116 symbol: SUI-USDT-SWAP: 0\n",
      "117 symbol: FXS-USDT-SWAP: 0\n",
      "118 symbol: ACE-USDT-SWAP: 0\n",
      "119 symbol: YFII-USDT-SWAP: 5\n",
      "120 symbol: AUCTION-USDT-SWAP: 0\n",
      "121 symbol: USDC-USDT-SWAP: 0\n",
      "122 symbol: STARL-USDT-SWAP: 0\n",
      "123 symbol: YGG-USDT-SWAP: 0\n",
      "124 symbol: YFI-USDT-SWAP: 0\n",
      "125 symbol: NEO-USDT-SWAP: 0\n",
      "126 symbol: USTC-USDT-SWAP: 0\n",
      "127 symbol: ALPHA-USDT-SWAP: 0\n",
      "128 symbol: NEAR-USDT-SWAP: 0\n",
      "129 symbol: ATOM-USDT-SWAP: 0\n",
      "131 symbol: FIL-USDT-SWAP: 0\n",
      "133 symbol: EOS-USDT-SWAP: 0\n",
      "135 symbol: GMT-USDT-SWAP: 0\n",
      "136 symbol: INJ-USDT-SWAP: 0\n",
      "137 symbol: CHZ-USDT-SWAP: 0\n",
      "139 symbol: CFX-USDT-SWAP: 4\n",
      "140 symbol: AR-USDT-SWAP: 0\n",
      "141 symbol: SWEAT-USDT-SWAP: 4\n",
      "142 symbol: BONK-USDT-SWAP: 0\n",
      "143 symbol: UNI-USDT-SWAP: 0\n",
      "144 symbol: MOVR-USDT-SWAP: 0\n",
      "145 symbol: XCH-USDT-SWAP: 0\n",
      "146 symbol: AXS-USDT-SWAP: 0\n",
      "147 symbol: REN-USDT-SWAP: 0\n",
      "148 symbol: EGLD-USDT-SWAP: 0\n",
      "149 symbol: CETUS-USDT-SWAP: 0\n",
      "150 symbol: CEL-USDT-SWAP: 6\n",
      "151 symbol: LUNA-USDT-SWAP: 0\n",
      "152 symbol: RACA-USDT-SWAP: 0\n",
      "153 symbol: ADA-USDT-SWAP: 0\n",
      "154 symbol: RVN-USDT-SWAP: 0\n",
      "155 symbol: METIS-USDT-SWAP: 0\n",
      "156 symbol: AGLD-USDT-SWAP: 0\n",
      "157 symbol: BLUR-USDT-SWAP: 0\n",
      "158 symbol: AIDOGE-USDT-SWAP: 0\n",
      "159 symbol: FITFI-USDT-SWAP: 0\n",
      "160 symbol: ZIL-USDT-SWAP: 0\n",
      "161 symbol: TRB-USDT-SWAP: 0\n",
      "162 symbol: ENS-USDT-SWAP: 0\n",
      "163 symbol: SSV-USDT-SWAP: 0\n",
      "164 symbol: BAL-USDT-SWAP: 0\n",
      "165 symbol: ETH-USDT-SWAP: 0\n",
      "168 symbol: KNC-USDT-SWAP: 0\n",
      "169 symbol: LINK-USDT-SWAP: 0\n",
      "172 symbol: TURBO-USDT-SWAP: 0\n",
      "173 symbol: BSV-USDT-SWAP: 0\n",
      "174 symbol: FRONT-USDT-SWAP: 0\n",
      "176 symbol: SNX-USDT-SWAP: 0\n",
      "177 symbol: AVAX-USDT-SWAP: 0\n",
      "178 symbol: BIGTIME-USDT-SWAP: 0\n",
      "179 symbol: XTZ-USDT-SWAP: 0\n",
      "180 symbol: MINA-USDT-SWAP: 0\n",
      "181 symbol: CSPR-USDT-SWAP: 0\n",
      "182 symbol: SATS-USDT-SWAP: 0\n",
      "183 symbol: KISHU-USDT-SWAP: 0\n",
      "185 symbol: RDNT-USDT-SWAP: 0\n",
      "186 symbol: AAVE-USDT-SWAP: 0\n",
      "187 symbol: WLD-USDT-SWAP: 4\n",
      "188 symbol: CRV-USDT-SWAP: 0\n",
      "190 symbol: APT-USDT-SWAP: 0\n",
      "192 symbol: CVC-USDT-SWAP: 0\n",
      "193 symbol: LSK-USDT-SWAP: 0\n",
      "194 symbol: DMAIL-USDT-SWAP: 0\n"
     ]
    }
   ],
   "source": [
    "dfst_feature, dfst_trading = algo.jitter_recovery.research.get_dfsts(df, jitter_recovery_trading_param)"
   ]
  },
  {
   "cell_type": "code",
   "execution_count": null,
   "id": "24cb3b49-b1d2-4367-beeb-e2bb782a9129",
   "metadata": {},
   "outputs": [],
   "source": []
  },
  {
   "cell_type": "code",
   "execution_count": 15,
   "id": "20480c36-f91e-4859-89bb-6b169debe736",
   "metadata": {
    "execution": {
     "iopub.execute_input": "2024-02-01T15:48:30.184876Z",
     "iopub.status.busy": "2024-02-01T15:48:30.184741Z",
     "iopub.status.idle": "2024-02-01T15:48:32.131230Z",
     "shell.execute_reply": "2024-02-01T15:48:32.130714Z",
     "shell.execute_reply.started": "2024-02-01T15:48:30.184865Z"
    }
   },
   "outputs": [
    {
     "data": {
      "text/plain": [
       "<Axes: xlabel='timestamp'>"
      ]
     },
     "execution_count": 15,
     "metadata": {},
     "output_type": "execute_result"
    },
    {
     "data": {
      "image/png": "[encoded data removed]",
      "text/plain": [
       "<Figure size 1600x100 with 1 Axes>"
      ]
     },
     "metadata": {},
     "output_type": "display_data"
    }
   ],
   "source": [
    "dfst_trading[['profit']].groupby('timestamp').sum().cumsum().plot(figsize=(16,1))"
   ]
  },
  {
   "cell_type": "code",
   "execution_count": 28,
   "id": "42238398-5c46-4ab8-8c58-b32b62f55033",
   "metadata": {
    "execution": {
     "iopub.execute_input": "2024-02-01T15:49:49.307456Z",
     "iopub.status.busy": "2024-02-01T15:49:49.307336Z",
     "iopub.status.idle": "2024-02-01T15:49:51.296389Z",
     "shell.execute_reply": "2024-02-01T15:49:51.295868Z",
     "shell.execute_reply.started": "2024-02-01T15:49:49.307444Z"
    }
   },
   "outputs": [
    {
     "data": {
      "text/plain": [
       "<Axes: xlabel='timestamp'>"
      ]
     },
     "execution_count": 28,
     "metadata": {},
     "output_type": "execute_result"
    },
    {
     "data": {
      "image/png": "[encoded data removed]",
      "text/plain": [
       "<Figure size 1600x100 with 1 Axes>"
      ]
     },
     "metadata": {},
     "output_type": "display_data"
    }
   ],
   "source": [
    "dfst_trading[['profit']].groupby('timestamp').sum().cumsum().plot(figsize=(16,1))"
   ]
  },
  {
   "cell_type": "code",
   "execution_count": 42,
   "id": "ef57c499-5346-4779-b9ed-8dc153e7764e",
   "metadata": {
    "execution": {
     "iopub.execute_input": "2024-02-01T15:53:39.772876Z",
     "iopub.status.busy": "2024-02-01T15:53:39.772760Z",
     "iopub.status.idle": "2024-02-01T15:53:41.658322Z",
     "shell.execute_reply": "2024-02-01T15:53:41.657674Z",
     "shell.execute_reply.started": "2024-02-01T15:53:39.772866Z"
    }
   },
   "outputs": [
    {
     "data": {
      "text/plain": [
       "<Axes: xlabel='timestamp'>"
      ]
     },
     "execution_count": 42,
     "metadata": {},
     "output_type": "execute_result"
    },
    {
     "data": {
      "image/png": "[encoded data removed]",
      "text/plain": [
       "<Figure size 1600x100 with 1 Axes>"
      ]
     },
     "metadata": {},
     "output_type": "display_data"
    }
   ],
   "source": [
    "dfst_trading[['profit']].groupby('timestamp').sum().cumsum().plot(figsize=(16,1))"
   ]
  },
  {
   "cell_type": "code",
   "execution_count": 175,
   "id": "4279cac6-cdf0-4535-99f8-51dd9f177d78",
   "metadata": {
    "execution": {
     "iopub.execute_input": "2024-02-01T16:28:08.050164Z",
     "iopub.status.busy": "2024-02-01T16:28:08.049932Z",
     "iopub.status.idle": "2024-02-01T16:28:10.284963Z",
     "shell.execute_reply": "2024-02-01T16:28:10.284141Z",
     "shell.execute_reply.started": "2024-02-01T16:28:08.050147Z"
    }
   },
   "outputs": [
    {
     "data": {
      "text/plain": [
       "<Axes: xlabel='timestamp'>"
      ]
     },
     "execution_count": 175,
     "metadata": {},
     "output_type": "execute_result"
    },
    {
     "data": {
      "image/png": "[encoded data removed]",
      "text/plain": [
       "<Figure size 1600x100 with 1 Axes>"
      ]
     },
     "metadata": {},
     "output_type": "display_data"
    }
   ],
   "source": [
    "dfst_trading[['profit']].groupby('timestamp').sum().cumsum().plot(figsize=(16,1))"
   ]
  },
  {
   "cell_type": "code",
   "execution_count": null,
   "id": "0f5738fa-476f-4514-8930-31b67ca022c8",
   "metadata": {},
   "outputs": [],
   "source": []
  },
  {
   "cell_type": "code",
   "execution_count": 43,
   "id": "71d70f75-f474-42cf-b7f2-bb075b9b7c12",
   "metadata": {
    "execution": {
     "iopub.execute_input": "2024-02-01T16:15:59.898278Z",
     "iopub.status.busy": "2024-02-01T16:15:59.898047Z",
     "iopub.status.idle": "2024-02-01T16:16:00.111340Z",
     "shell.execute_reply": "2024-02-01T16:16:00.110805Z",
     "shell.execute_reply.started": "2024-02-01T16:15:59.898262Z"
    }
   },
   "outputs": [
    {
     "data": {
      "text/html": [
       "<div>\n",
       "<style scoped>\n",
       "    .dataframe tbody tr th:only-of-type {\n",
       "        vertical-align: middle;\n",
       "    }\n",
       "\n",
       "    .dataframe tbody tr th {\n",
       "        vertical-align: top;\n",
       "    }\n",
       "\n",
       "    .dataframe thead th {\n",
       "        text-align: right;\n",
       "    }\n",
       "</style>\n",
       "<table border=\"1\" class=\"dataframe\">\n",
       "  <thead>\n",
       "    <tr style=\"text-align: right;\">\n",
       "      <th></th>\n",
       "      <th>profit</th>\n",
       "    </tr>\n",
       "    <tr>\n",
       "      <th>symbol</th>\n",
       "      <th></th>\n",
       "    </tr>\n",
       "  </thead>\n",
       "  <tbody>\n",
       "    <tr>\n",
       "      <th>STARL-USDT-SWAP</th>\n",
       "      <td>-0.039526</td>\n",
       "    </tr>\n",
       "    <tr>\n",
       "      <th>TURBO-USDT-SWAP</th>\n",
       "      <td>-0.032593</td>\n",
       "    </tr>\n",
       "    <tr>\n",
       "      <th>ARB-USDT-SWAP</th>\n",
       "      <td>-0.029031</td>\n",
       "    </tr>\n",
       "    <tr>\n",
       "      <th>ENS-USDT-SWAP</th>\n",
       "      <td>-0.025108</td>\n",
       "    </tr>\n",
       "    <tr>\n",
       "      <th>YFII-USDT-SWAP</th>\n",
       "      <td>-0.019427</td>\n",
       "    </tr>\n",
       "    <tr>\n",
       "      <th>...</th>\n",
       "      <td>...</td>\n",
       "    </tr>\n",
       "    <tr>\n",
       "      <th>SLP-USDT-SWAP</th>\n",
       "      <td>0.000717</td>\n",
       "    </tr>\n",
       "    <tr>\n",
       "      <th>TRB-USDT-SWAP</th>\n",
       "      <td>0.022805</td>\n",
       "    </tr>\n",
       "    <tr>\n",
       "      <th>GFT-USDT-SWAP</th>\n",
       "      <td>0.028540</td>\n",
       "    </tr>\n",
       "    <tr>\n",
       "      <th>CORE-USDT-SWAP</th>\n",
       "      <td>0.040703</td>\n",
       "    </tr>\n",
       "    <tr>\n",
       "      <th>PEOPLE-USDT-SWAP</th>\n",
       "      <td>0.051118</td>\n",
       "    </tr>\n",
       "  </tbody>\n",
       "</table>\n",
       "<p>193 rows × 1 columns</p>\n",
       "</div>"
      ],
      "text/plain": [
       "                    profit\n",
       "symbol                    \n",
       "STARL-USDT-SWAP  -0.039526\n",
       "TURBO-USDT-SWAP  -0.032593\n",
       "ARB-USDT-SWAP    -0.029031\n",
       "ENS-USDT-SWAP    -0.025108\n",
       "YFII-USDT-SWAP   -0.019427\n",
       "...                    ...\n",
       "SLP-USDT-SWAP     0.000717\n",
       "TRB-USDT-SWAP     0.022805\n",
       "GFT-USDT-SWAP     0.028540\n",
       "CORE-USDT-SWAP    0.040703\n",
       "PEOPLE-USDT-SWAP  0.051118\n",
       "\n",
       "[193 rows x 1 columns]"
      ]
     },
     "execution_count": 43,
     "metadata": {},
     "output_type": "execute_result"
    }
   ],
   "source": [
    "dfst_trading[['profit']].groupby('symbol').sum().sort_values('profit')"
   ]
  },
  {
   "cell_type": "code",
   "execution_count": null,
   "id": "b23c9664-48f7-4a7a-8fb4-1cd43f58ffe1",
   "metadata": {},
   "outputs": [],
   "source": []
  },
  {
   "cell_type": "code",
   "execution_count": 1,
   "id": "a70779ac-ba54-4955-9192-3d7eb996b82d",
   "metadata": {
    "execution": {
     "iopub.execute_input": "2024-02-03T21:32:03.845259Z",
     "iopub.status.busy": "2024-02-03T21:32:03.843654Z",
     "iopub.status.idle": "2024-02-03T21:32:03.855210Z",
     "shell.execute_reply": "2024-02-03T21:32:03.854672Z",
     "shell.execute_reply.started": "2024-02-03T21:32:03.845160Z"
    }
   },
   "outputs": [],
   "source": [
    "#dfst_feature.xs('FITFI-USDT-SWAP').loc['2023-12-07 16:38:00']"
   ]
  },
  {
   "cell_type": "code",
   "execution_count": null,
   "id": "b9004c06-a41c-4426-ac8f-e17eca298bbb",
   "metadata": {
    "scrolled": true
   },
   "outputs": [],
   "source": [
    "dfst_trading[(dfst_trading.ch_max > 0.15) & (dfst_trading.ch_since_max < -0.01)]"
   ]
  },
  {
   "cell_type": "code",
   "execution_count": null,
   "id": "5285629b-d2f2-48f8-beb5-2838a3cc6048",
   "metadata": {
    "scrolled": true
   },
   "outputs": [],
   "source": [
    "dfst_trading[(dfst_trading.ch_max > 0.15) & (dfst_trading.ch_since_max < 0)].loc[symbol_with_jumps[0]]"
   ]
  },
  {
   "cell_type": "code",
   "execution_count": null,
   "id": "d8688707-7e67-42d4-adb4-56c4396ff1a5",
   "metadata": {},
   "outputs": [],
   "source": []
  },
  {
   "cell_type": "code",
   "execution_count": 44,
   "id": "1b14ad24-a88a-4140-84f6-04b5af45c1b2",
   "metadata": {
    "execution": {
     "iopub.execute_input": "2024-02-01T16:16:10.692809Z",
     "iopub.status.busy": "2024-02-01T16:16:10.692147Z",
     "iopub.status.idle": "2024-02-01T16:16:11.008310Z",
     "shell.execute_reply": "2024-02-01T16:16:11.007289Z",
     "shell.execute_reply.started": "2024-02-01T16:16:10.692770Z"
    }
   },
   "outputs": [
    {
     "name": "stdout",
     "output_type": "stream",
     "text": [
      "2024-01-01 05:33:00, TRB-USDT-SWAP, 221.77, position_changed: 1.0\n",
      "2024-01-01 05:37:00, TRB-USDT-SWAP, 209.21, position_changed: -1.0\n",
      "2024-01-01 05:38:00, TRB-USDT-SWAP, 207.11, position_changed: 1.0\n",
      "2024-01-01 05:40:00, TRB-USDT-SWAP, 214.11, position_changed: -1.0\n",
      "2024-01-03 12:19:00, STARL-USDT-SWAP, 2.53e-06, position_changed: 1.0\n",
      "2024-01-03 12:20:00, STARL-USDT-SWAP, 2.63e-06, position_changed: -1.0\n",
      "2024-01-03 12:27:00, ARB-USDT-SWAP, 1.7395, position_changed: 1.0\n",
      "2024-01-03 12:28:00, ARB-USDT-SWAP, 1.79, position_changed: -1.0\n",
      "2024-01-03 12:40:00, PEOPLE-USDT-SWAP, 0.01551, position_changed: 1.0\n",
      "2024-01-03 12:41:00, PEOPLE-USDT-SWAP, 0.01649, position_changed: -1.0\n",
      "2024-01-03 12:46:00, PEOPLE-USDT-SWAP, 0.01661, position_changed: 1.0\n",
      "2024-01-03 12:52:00, PEOPLE-USDT-SWAP, 0.01651, position_changed: -1.0\n",
      "2024-01-03 14:02:00, ENS-USDT-SWAP, 12.462, position_changed: 1.0\n",
      "2024-01-03 14:10:00, ENS-USDT-SWAP, 12.773, position_changed: -1.0\n",
      "2024-01-03 15:05:00, CORE-USDT-SWAP, 0.6703, position_changed: 1.0\n",
      "2024-01-03 15:16:00, CORE-USDT-SWAP, 0.6418, position_changed: -1.0\n",
      "2024-01-03 15:23:00, PEOPLE-USDT-SWAP, 0.05187, position_changed: 1.0\n",
      "2024-01-03 15:25:00, PEOPLE-USDT-SWAP, 0.05138, position_changed: -1.0\n",
      "2024-01-03 15:26:00, PEOPLE-USDT-SWAP, 0.05084, position_changed: 1.0\n",
      "2024-01-03 15:33:00, PEOPLE-USDT-SWAP, 0.04315, position_changed: -1.0\n",
      "2024-01-03 15:43:00, SLP-USDT-SWAP, 0.00372, position_changed: 1.0\n",
      "2024-01-03 15:44:00, SLP-USDT-SWAP, 0.003816, position_changed: -1.0\n",
      "2024-01-03 15:45:00, SLP-USDT-SWAP, 0.003789, position_changed: 1.0\n",
      "2024-01-03 15:53:00, SLP-USDT-SWAP, 0.003687, position_changed: -1.0\n",
      "2024-01-03 15:56:00, PEOPLE-USDT-SWAP, 0.04262, position_changed: 1.0\n",
      "2024-01-03 15:58:00, PEOPLE-USDT-SWAP, 0.04375, position_changed: -1.0\n",
      "2024-01-03 16:17:00, GFT-USDT-SWAP, 0.02204, position_changed: 1.0\n",
      "2024-01-03 16:22:00, GFT-USDT-SWAP, 0.022, position_changed: -1.0\n",
      "2024-01-03 16:23:00, GFT-USDT-SWAP, 0.02164, position_changed: 1.0\n",
      "2024-01-03 16:37:00, GFT-USDT-SWAP, 0.02103, position_changed: -1.0\n",
      "2024-01-04 05:53:00, PEOPLE-USDT-SWAP, 0.02807, position_changed: 1.0\n",
      "2024-01-04 06:01:00, PEOPLE-USDT-SWAP, 0.0279, position_changed: -1.0\n",
      "2024-01-04 16:11:00, TURBO-USDT-SWAP, 0.0003534, position_changed: 1.0\n",
      "2024-01-04 16:37:00, TURBO-USDT-SWAP, 0.0003376, position_changed: -1.0\n",
      "2024-01-05 10:55:00, PEOPLE-USDT-SWAP, 0.03243, position_changed: 1.0\n",
      "2024-01-05 10:56:00, PEOPLE-USDT-SWAP, 0.03331, position_changed: -1.0\n",
      "2024-01-05 10:58:00, PEOPLE-USDT-SWAP, 0.03202, position_changed: 1.0\n",
      "2024-01-05 11:00:00, PEOPLE-USDT-SWAP, 0.03235, position_changed: -1.0\n",
      "2024-01-05 11:01:00, PEOPLE-USDT-SWAP, 0.03227, position_changed: 1.0\n",
      "2024-01-05 11:04:00, PEOPLE-USDT-SWAP, 0.0322, position_changed: -1.0\n",
      "2024-01-05 15:58:00, TURBO-USDT-SWAP, 0.0005113, position_changed: 1.0\n",
      "2024-01-05 16:00:00, TURBO-USDT-SWAP, 0.0005668, position_changed: -1.0\n",
      "2024-01-05 16:03:00, TURBO-USDT-SWAP, 0.0005439, position_changed: 1.0\n",
      "2024-01-05 16:09:00, TURBO-USDT-SWAP, 0.0005271, position_changed: -1.0\n",
      "2024-01-06 16:28:00, YFII-USDT-SWAP, 1474.5, position_changed: 1.0\n",
      "2024-01-06 16:41:00, YFII-USDT-SWAP, 1502.8, position_changed: -1.0\n"
     ]
    }
   ],
   "source": [
    "for _, row in dfst_trading[(dfst_trading.position_changed != 0)].dropna().reset_index().sort_values('timestamp').iterrows():\n",
    "    print(f'{row[\"timestamp\"]}, {row[\"symbol\"]}, {row[\"value\"]}, position_changed: {row[\"position_changed\"]}')"
   ]
  },
  {
   "cell_type": "code",
   "execution_count": null,
   "id": "5e1e524d-b16b-4ceb-a3f7-77aa56a1f2ca",
   "metadata": {},
   "outputs": [],
   "source": []
  },
  {
   "cell_type": "markdown",
   "id": "8d50d0e7-bc53-4639-9ee4-9cf18cc32b43",
   "metadata": {
    "execution": {
     "iopub.execute_input": "2024-02-01T14:36:55.118172Z",
     "iopub.status.busy": "2024-02-01T14:36:55.117200Z",
     "iopub.status.idle": "2024-02-01T14:36:55.121590Z",
     "shell.execute_reply": "2024-02-01T14:36:55.120954Z",
     "shell.execute_reply.started": "2024-02-01T14:36:55.118144Z"
    },
    "jp-MarkdownHeadingCollapsed": true
   },
   "source": [
    "## single symobl"
   ]
  },
  {
   "cell_type": "code",
   "execution_count": 148,
   "id": "a68c1eee-4f97-436f-b97a-021fae71f053",
   "metadata": {
    "execution": {
     "iopub.execute_input": "2024-02-01T16:22:01.414727Z",
     "iopub.status.busy": "2024-02-01T16:22:01.414295Z",
     "iopub.status.idle": "2024-02-01T16:22:01.421159Z",
     "shell.execute_reply": "2024-02-01T16:22:01.420707Z",
     "shell.execute_reply.started": "2024-02-01T16:22:01.414698Z"
    }
   },
   "outputs": [
    {
     "data": {
      "text/plain": [
       "<module 'algo.jitter_recovery.calculate' from '/home/junlim/projects/jitter_recovery/algo/jitter_recovery/calculate.py'>"
      ]
     },
     "execution_count": 148,
     "metadata": {},
     "output_type": "execute_result"
    }
   ],
   "source": [
    "import algo.jitter_recovery.calculate\n",
    "importlib.reload(algo.jitter_recovery.calculate)"
   ]
  },
  {
   "cell_type": "code",
   "execution_count": 149,
   "id": "fbfd498f-b9ce-4528-b9dd-81dd1b016347",
   "metadata": {
    "execution": {
     "iopub.execute_input": "2024-02-01T16:22:01.628924Z",
     "iopub.status.busy": "2024-02-01T16:22:01.628422Z",
     "iopub.status.idle": "2024-02-01T16:22:01.640710Z",
     "shell.execute_reply": "2024-02-01T16:22:01.639978Z",
     "shell.execute_reply.started": "2024-02-01T16:22:01.628895Z"
    }
   },
   "outputs": [],
   "source": [
    "symbol_investigate = 'ARB-USDT-SWAP'\n",
    "dfs = dfi.xs(symbol_investigate, level=1)"
   ]
  },
  {
   "cell_type": "code",
   "execution_count": 150,
   "id": "a84c39b2-3f19-4fb2-b008-75b6e0d23473",
   "metadata": {
    "execution": {
     "iopub.execute_input": "2024-02-01T16:22:01.801944Z",
     "iopub.status.busy": "2024-02-01T16:22:01.801208Z",
     "iopub.status.idle": "2024-02-01T16:22:01.805129Z",
     "shell.execute_reply": "2024-02-01T16:22:01.804593Z",
     "shell.execute_reply.started": "2024-02-01T16:22:01.801921Z"
    }
   },
   "outputs": [],
   "source": [
    "jitter_recovery_trading_param = algo.jitter_recovery.calculate.JitterRecoveryTradingParam(\n",
    "    algo.jitter_recovery.calculate.JitterRecoveryFeatureParam(40), \n",
    "    0.20, -0.04, 0.02, is_long_term=False)"
   ]
  },
  {
   "cell_type": "code",
   "execution_count": 151,
   "id": "f83df7b4-63cb-43d2-9047-4de1fab6604a",
   "metadata": {
    "execution": {
     "iopub.execute_input": "2024-02-01T16:22:01.944582Z",
     "iopub.status.busy": "2024-02-01T16:22:01.944275Z",
     "iopub.status.idle": "2024-02-01T16:22:03.250209Z",
     "shell.execute_reply": "2024-02-01T16:22:03.249618Z",
     "shell.execute_reply.started": "2024-02-01T16:22:01.944558Z"
    }
   },
   "outputs": [],
   "source": [
    "df_feature, df_trading = algo.jitter_recovery.research.investigate_symbol(df, symbol_investigate, jitter_recovery_trading_param)"
   ]
  },
  {
   "cell_type": "code",
   "execution_count": 143,
   "id": "33779398-cbe4-489e-a110-e3f92c287189",
   "metadata": {
    "execution": {
     "iopub.execute_input": "2024-02-01T16:21:27.014618Z",
     "iopub.status.busy": "2024-02-01T16:21:27.014381Z",
     "iopub.status.idle": "2024-02-01T16:21:27.122356Z",
     "shell.execute_reply": "2024-02-01T16:21:27.121821Z",
     "shell.execute_reply.started": "2024-02-01T16:21:27.014604Z"
    }
   },
   "outputs": [
    {
     "data": {
      "image/png": "[encoded data removed]",
      "text/plain": [
       "<Figure size 900x200 with 1 Axes>"
      ]
     },
     "metadata": {},
     "output_type": "display_data"
    }
   ],
   "source": [
    "i_head = df_trading.index.get_loc(df_trading[df_trading.position_changed == +1].index[0])\n",
    "i_tail = df_trading.index.get_loc(df_trading[df_trading.position_changed == -1].index[-1])\n",
    "df_plot = df_trading.iloc[i_head-3:i_tail+3]\n",
    "ax = df_plot[['value']].plot(figsize=(9,2))\n",
    "ymin, ymax = df_plot[['value']].min(), df_trading[['value']].max()\n",
    "\n",
    "ax.vlines(x=list(df_plot[df_plot.position_changed == +1].index), ymin=ymin, ymax=ymax, color='b', linestyles='dashed', label='enter')\n",
    "ax.vlines(x=list(df_plot[df_plot.position_changed == -1].index), ymin=ymin, ymax=ymax, color='r', linestyles='dashed', label='enter')\n",
    "\n",
    "plt.show()"
   ]
  },
  {
   "cell_type": "code",
   "execution_count": 144,
   "id": "0aa98b0c-02d1-4556-a308-480d4de4589d",
   "metadata": {
    "execution": {
     "iopub.execute_input": "2024-02-01T16:21:27.417816Z",
     "iopub.status.busy": "2024-02-01T16:21:27.417484Z",
     "iopub.status.idle": "2024-02-01T16:21:27.566854Z",
     "shell.execute_reply": "2024-02-01T16:21:27.566415Z",
     "shell.execute_reply.started": "2024-02-01T16:21:27.417786Z"
    }
   },
   "outputs": [
    {
     "data": {
      "image/png": "[encoded data removed]",
      "text/plain": [
       "<Figure size 900x200 with 1 Axes>"
      ]
     },
     "metadata": {},
     "output_type": "display_data"
    }
   ],
   "source": [
    "ax = df_trading[['value']].plot(figsize=(9,2))\n",
    "ymin, ymax = df_trading[['value']].min(), df_trading[['value']].max()\n",
    "\n",
    "ax.vlines(x=list(df_trading[df_trading.position_changed == +1].index), ymin=ymin, ymax=ymax, color='b', linestyles='dashed', label='enter')\n",
    "ax.vlines(x=list(df_trading[df_trading.position_changed == -1].index), ymin=ymin, ymax=ymax, color='r', linestyles='dashed', label='enter')\n",
    "\n",
    "plt.show()"
   ]
  },
  {
   "cell_type": "code",
   "execution_count": 145,
   "id": "96b59c81-1d7e-4232-9d18-55399c7ab9ec",
   "metadata": {
    "execution": {
     "iopub.execute_input": "2024-02-01T16:21:27.630866Z",
     "iopub.status.busy": "2024-02-01T16:21:27.630322Z",
     "iopub.status.idle": "2024-02-01T16:21:27.641570Z",
     "shell.execute_reply": "2024-02-01T16:21:27.641091Z",
     "shell.execute_reply.started": "2024-02-01T16:21:27.630846Z"
    }
   },
   "outputs": [
    {
     "data": {
      "text/html": [
       "<div>\n",
       "<style scoped>\n",
       "    .dataframe tbody tr th:only-of-type {\n",
       "        vertical-align: middle;\n",
       "    }\n",
       "\n",
       "    .dataframe tbody tr th {\n",
       "        vertical-align: top;\n",
       "    }\n",
       "\n",
       "    .dataframe thead th {\n",
       "        text-align: right;\n",
       "    }\n",
       "</style>\n",
       "<table border=\"1\" class=\"dataframe\">\n",
       "  <thead>\n",
       "    <tr style=\"text-align: right;\">\n",
       "      <th></th>\n",
       "      <th>value</th>\n",
       "      <th>ch_max</th>\n",
       "      <th>ch_min</th>\n",
       "      <th>v_ch_max_is_from</th>\n",
       "      <th>v_ch_min_is_from</th>\n",
       "      <th>v_ch_max_is_to</th>\n",
       "      <th>v_ch_min_is_to</th>\n",
       "      <th>ch_since_max</th>\n",
       "      <th>ch_since_min</th>\n",
       "      <th>distance_max_ch</th>\n",
       "      <th>distance_min_ch</th>\n",
       "      <th>in_position</th>\n",
       "      <th>value_at_enter</th>\n",
       "      <th>position_changed</th>\n",
       "      <th>lowest_since_enter</th>\n",
       "      <th>timedelta_since_position_enter</th>\n",
       "      <th>ch_from_enter</th>\n",
       "      <th>ch_from_lowest_since_enter</th>\n",
       "      <th>profit_raw</th>\n",
       "      <th>profit</th>\n",
       "    </tr>\n",
       "    <tr>\n",
       "      <th>timestamp</th>\n",
       "      <th></th>\n",
       "      <th></th>\n",
       "      <th></th>\n",
       "      <th></th>\n",
       "      <th></th>\n",
       "      <th></th>\n",
       "      <th></th>\n",
       "      <th></th>\n",
       "      <th></th>\n",
       "      <th></th>\n",
       "      <th></th>\n",
       "      <th></th>\n",
       "      <th></th>\n",
       "      <th></th>\n",
       "      <th></th>\n",
       "      <th></th>\n",
       "      <th></th>\n",
       "      <th></th>\n",
       "      <th></th>\n",
       "      <th></th>\n",
       "    </tr>\n",
       "  </thead>\n",
       "  <tbody>\n",
       "    <tr>\n",
       "      <th>2024-01-03 12:14:00</th>\n",
       "      <td>1.6811</td>\n",
       "      <td>0.141974</td>\n",
       "      <td>-0.232522</td>\n",
       "      <td>0.0</td>\n",
       "      <td>0.0</td>\n",
       "      <td>0.0</td>\n",
       "      <td>0.0</td>\n",
       "      <td>0.000000</td>\n",
       "      <td>0.141974</td>\n",
       "      <td>0</td>\n",
       "      <td>5</td>\n",
       "      <td>0</td>\n",
       "      <td>0.0</td>\n",
       "      <td>0.0</td>\n",
       "      <td>0.0</td>\n",
       "      <td>0</td>\n",
       "      <td>0.0</td>\n",
       "      <td>0.0</td>\n",
       "      <td>-0.0</td>\n",
       "      <td>-0.0</td>\n",
       "    </tr>\n",
       "    <tr>\n",
       "      <th>2024-01-03 12:15:00</th>\n",
       "      <td>1.7300</td>\n",
       "      <td>0.175192</td>\n",
       "      <td>-0.232522</td>\n",
       "      <td>0.0</td>\n",
       "      <td>0.0</td>\n",
       "      <td>0.0</td>\n",
       "      <td>0.0</td>\n",
       "      <td>0.000000</td>\n",
       "      <td>0.175192</td>\n",
       "      <td>0</td>\n",
       "      <td>6</td>\n",
       "      <td>0</td>\n",
       "      <td>0.0</td>\n",
       "      <td>0.0</td>\n",
       "      <td>0.0</td>\n",
       "      <td>0</td>\n",
       "      <td>0.0</td>\n",
       "      <td>0.0</td>\n",
       "      <td>-0.0</td>\n",
       "      <td>-0.0</td>\n",
       "    </tr>\n",
       "    <tr>\n",
       "      <th>2024-01-03 12:16:00</th>\n",
       "      <td>1.7613</td>\n",
       "      <td>0.196454</td>\n",
       "      <td>-0.231440</td>\n",
       "      <td>0.0</td>\n",
       "      <td>0.0</td>\n",
       "      <td>0.0</td>\n",
       "      <td>0.0</td>\n",
       "      <td>0.000000</td>\n",
       "      <td>0.196454</td>\n",
       "      <td>0</td>\n",
       "      <td>7</td>\n",
       "      <td>0</td>\n",
       "      <td>0.0</td>\n",
       "      <td>0.0</td>\n",
       "      <td>0.0</td>\n",
       "      <td>0</td>\n",
       "      <td>0.0</td>\n",
       "      <td>0.0</td>\n",
       "      <td>-0.0</td>\n",
       "      <td>-0.0</td>\n",
       "    </tr>\n",
       "    <tr>\n",
       "      <th>2024-01-03 12:17:00</th>\n",
       "      <td>1.7545</td>\n",
       "      <td>0.196454</td>\n",
       "      <td>-0.229590</td>\n",
       "      <td>0.0</td>\n",
       "      <td>0.0</td>\n",
       "      <td>0.0</td>\n",
       "      <td>0.0</td>\n",
       "      <td>-0.003861</td>\n",
       "      <td>0.191835</td>\n",
       "      <td>1</td>\n",
       "      <td>8</td>\n",
       "      <td>0</td>\n",
       "      <td>0.0</td>\n",
       "      <td>0.0</td>\n",
       "      <td>0.0</td>\n",
       "      <td>0</td>\n",
       "      <td>0.0</td>\n",
       "      <td>0.0</td>\n",
       "      <td>0.0</td>\n",
       "      <td>0.0</td>\n",
       "    </tr>\n",
       "    <tr>\n",
       "      <th>2024-01-03 12:18:00</th>\n",
       "      <td>1.7891</td>\n",
       "      <td>0.215339</td>\n",
       "      <td>-0.227771</td>\n",
       "      <td>0.0</td>\n",
       "      <td>0.0</td>\n",
       "      <td>0.0</td>\n",
       "      <td>0.0</td>\n",
       "      <td>0.000000</td>\n",
       "      <td>0.215339</td>\n",
       "      <td>0</td>\n",
       "      <td>9</td>\n",
       "      <td>0</td>\n",
       "      <td>0.0</td>\n",
       "      <td>0.0</td>\n",
       "      <td>0.0</td>\n",
       "      <td>0</td>\n",
       "      <td>0.0</td>\n",
       "      <td>0.0</td>\n",
       "      <td>-0.0</td>\n",
       "      <td>-0.0</td>\n",
       "    </tr>\n",
       "  </tbody>\n",
       "</table>\n",
       "</div>"
      ],
      "text/plain": [
       "                      value    ch_max    ch_min  v_ch_max_is_from  \\\n",
       "timestamp                                                           \n",
       "2024-01-03 12:14:00  1.6811  0.141974 -0.232522               0.0   \n",
       "2024-01-03 12:15:00  1.7300  0.175192 -0.232522               0.0   \n",
       "2024-01-03 12:16:00  1.7613  0.196454 -0.231440               0.0   \n",
       "2024-01-03 12:17:00  1.7545  0.196454 -0.229590               0.0   \n",
       "2024-01-03 12:18:00  1.7891  0.215339 -0.227771               0.0   \n",
       "\n",
       "                     v_ch_min_is_from  v_ch_max_is_to  v_ch_min_is_to  \\\n",
       "timestamp                                                               \n",
       "2024-01-03 12:14:00               0.0             0.0             0.0   \n",
       "2024-01-03 12:15:00               0.0             0.0             0.0   \n",
       "2024-01-03 12:16:00               0.0             0.0             0.0   \n",
       "2024-01-03 12:17:00               0.0             0.0             0.0   \n",
       "2024-01-03 12:18:00               0.0             0.0             0.0   \n",
       "\n",
       "                     ch_since_max  ch_since_min  distance_max_ch  \\\n",
       "timestamp                                                          \n",
       "2024-01-03 12:14:00      0.000000      0.141974                0   \n",
       "2024-01-03 12:15:00      0.000000      0.175192                0   \n",
       "2024-01-03 12:16:00      0.000000      0.196454                0   \n",
       "2024-01-03 12:17:00     -0.003861      0.191835                1   \n",
       "2024-01-03 12:18:00      0.000000      0.215339                0   \n",
       "\n",
       "                     distance_min_ch  in_position  value_at_enter  \\\n",
       "timestamp                                                           \n",
       "2024-01-03 12:14:00                5            0             0.0   \n",
       "2024-01-03 12:15:00                6            0             0.0   \n",
       "2024-01-03 12:16:00                7            0             0.0   \n",
       "2024-01-03 12:17:00                8            0             0.0   \n",
       "2024-01-03 12:18:00                9            0             0.0   \n",
       "\n",
       "                     position_changed  lowest_since_enter  \\\n",
       "timestamp                                                   \n",
       "2024-01-03 12:14:00               0.0                 0.0   \n",
       "2024-01-03 12:15:00               0.0                 0.0   \n",
       "2024-01-03 12:16:00               0.0                 0.0   \n",
       "2024-01-03 12:17:00               0.0                 0.0   \n",
       "2024-01-03 12:18:00               0.0                 0.0   \n",
       "\n",
       "                     timedelta_since_position_enter  ch_from_enter  \\\n",
       "timestamp                                                            \n",
       "2024-01-03 12:14:00                               0            0.0   \n",
       "2024-01-03 12:15:00                               0            0.0   \n",
       "2024-01-03 12:16:00                               0            0.0   \n",
       "2024-01-03 12:17:00                               0            0.0   \n",
       "2024-01-03 12:18:00                               0            0.0   \n",
       "\n",
       "                     ch_from_lowest_since_enter  profit_raw  profit  \n",
       "timestamp                                                            \n",
       "2024-01-03 12:14:00                         0.0        -0.0    -0.0  \n",
       "2024-01-03 12:15:00                         0.0        -0.0    -0.0  \n",
       "2024-01-03 12:16:00                         0.0        -0.0    -0.0  \n",
       "2024-01-03 12:17:00                         0.0         0.0     0.0  \n",
       "2024-01-03 12:18:00                         0.0        -0.0    -0.0  "
      ]
     },
     "execution_count": 145,
     "metadata": {},
     "output_type": "execute_result"
    }
   ],
   "source": [
    "df_trading[\n",
    "    (df_trading.index >=  '2024-01-03 12:14:00') &\n",
    "    (df_trading.index <=  '2024-01-03 12:18:00')\n",
    "]"
   ]
  },
  {
   "cell_type": "code",
   "execution_count": 146,
   "id": "63d3c584-0933-41ff-b011-f355844b2083",
   "metadata": {
    "execution": {
     "iopub.execute_input": "2024-02-01T16:21:28.219991Z",
     "iopub.status.busy": "2024-02-01T16:21:28.219605Z",
     "iopub.status.idle": "2024-02-01T16:21:28.230264Z",
     "shell.execute_reply": "2024-02-01T16:21:28.229637Z",
     "shell.execute_reply.started": "2024-02-01T16:21:28.219962Z"
    }
   },
   "outputs": [
    {
     "data": {
      "text/html": [
       "<div>\n",
       "<style scoped>\n",
       "    .dataframe tbody tr th:only-of-type {\n",
       "        vertical-align: middle;\n",
       "    }\n",
       "\n",
       "    .dataframe tbody tr th {\n",
       "        vertical-align: top;\n",
       "    }\n",
       "\n",
       "    .dataframe thead th {\n",
       "        text-align: right;\n",
       "    }\n",
       "</style>\n",
       "<table border=\"1\" class=\"dataframe\">\n",
       "  <thead>\n",
       "    <tr style=\"text-align: right;\">\n",
       "      <th></th>\n",
       "      <th>value</th>\n",
       "      <th>in_position</th>\n",
       "      <th>position_changed</th>\n",
       "      <th>profit_raw</th>\n",
       "      <th>profit</th>\n",
       "    </tr>\n",
       "    <tr>\n",
       "      <th>timestamp</th>\n",
       "      <th></th>\n",
       "      <th></th>\n",
       "      <th></th>\n",
       "      <th></th>\n",
       "      <th></th>\n",
       "    </tr>\n",
       "  </thead>\n",
       "  <tbody>\n",
       "    <tr>\n",
       "      <th>2024-01-03 12:27:00</th>\n",
       "      <td>1.7395</td>\n",
       "      <td>1</td>\n",
       "      <td>1.0</td>\n",
       "      <td>0.000</td>\n",
       "      <td>0.000000</td>\n",
       "    </tr>\n",
       "    <tr>\n",
       "      <th>2024-01-03 12:29:00</th>\n",
       "      <td>1.8060</td>\n",
       "      <td>0</td>\n",
       "      <td>-1.0</td>\n",
       "      <td>-0.016</td>\n",
       "      <td>-0.008939</td>\n",
       "    </tr>\n",
       "  </tbody>\n",
       "</table>\n",
       "</div>"
      ],
      "text/plain": [
       "                      value  in_position  position_changed  profit_raw  \\\n",
       "timestamp                                                                \n",
       "2024-01-03 12:27:00  1.7395            1               1.0       0.000   \n",
       "2024-01-03 12:29:00  1.8060            0              -1.0      -0.016   \n",
       "\n",
       "                       profit  \n",
       "timestamp                      \n",
       "2024-01-03 12:27:00  0.000000  \n",
       "2024-01-03 12:29:00 -0.008939  "
      ]
     },
     "execution_count": 146,
     "metadata": {},
     "output_type": "execute_result"
    }
   ],
   "source": [
    "df_trading[(df_trading.position_changed != 0)][['value', 'in_position', 'position_changed', 'profit_raw', 'profit']].dropna()"
   ]
  },
  {
   "cell_type": "code",
   "execution_count": 147,
   "id": "ca4f0673-629c-47ed-87d9-95cd400c97c8",
   "metadata": {
    "execution": {
     "iopub.execute_input": "2024-02-01T16:21:29.822541Z",
     "iopub.status.busy": "2024-02-01T16:21:29.821963Z",
     "iopub.status.idle": "2024-02-01T16:21:30.096208Z",
     "shell.execute_reply": "2024-02-01T16:21:30.095551Z",
     "shell.execute_reply.started": "2024-02-01T16:21:29.822506Z"
    }
   },
   "outputs": [
    {
     "name": "stdout",
     "output_type": "stream",
     "text": [
      "2024-01-03 12:27:00, ARB-USDT-SWAP, 1.7395, position_changed: 1.0\n",
      "2024-01-03 12:28:00, ARB-USDT-SWAP, 1.79, position_changed: -1.0\n"
     ]
    }
   ],
   "source": [
    "for _, row in dfst_trading[(dfst_trading.position_changed != 0)].dropna().reset_index().sort_values('timestamp').iterrows():\n",
    "    if row['symbol'] != symbol_investigate: continue\n",
    "    print(f'{row[\"timestamp\"]}, {row[\"symbol\"]}, {row[\"value\"]}, position_changed: {row[\"position_changed\"]}')"
   ]
  },
  {
   "cell_type": "code",
   "execution_count": null,
   "id": "668c9e32-f919-4360-9c27-afd2ef1084ad",
   "metadata": {},
   "outputs": [],
   "source": []
  }
 ],
 "metadata": {
  "kernelspec": {
   "display_name": "Python 3 (ipykernel)",
   "language": "python",
   "name": "python3"
  },
  "language_info": {
   "codemirror_mode": {
    "name": "ipython",
    "version": 3
   },
   "file_extension": ".py",
   "mimetype": "text/x-python",
   "name": "python",
   "nbconvert_exporter": "python",
   "pygments_lexer": "ipython3",
   "version": "3.10.12"
  }
 },
 "nbformat": 4,
 "nbformat_minor": 5
}
