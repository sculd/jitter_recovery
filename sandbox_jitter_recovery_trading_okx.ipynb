{
 "cells": [
  {
   "cell_type": "markdown",
   "id": "f2737de0-4e5d-4c43-a52a-96c3c639e234",
   "metadata": {
    "execution": {
     "iopub.execute_input": "2023-12-12T21:48:55.276471Z",
     "iopub.status.busy": "2023-12-12T21:48:55.276035Z",
     "iopub.status.idle": "2023-12-12T21:48:55.282856Z",
     "shell.execute_reply": "2023-12-12T21:48:55.281886Z",
     "shell.execute_reply.started": "2023-12-12T21:48:55.276437Z"
    },
    "jp-MarkdownHeadingCollapsed": true
   },
   "source": [
    "## import & load"
   ]
  },
  {
   "cell_type": "code",
   "execution_count": 43,
   "id": "a115d0f3-c935-4c05-a33a-732933233c0a",
   "metadata": {
    "execution": {
     "iopub.execute_input": "2024-03-01T17:11:46.146581Z",
     "iopub.status.busy": "2024-03-01T17:11:46.145738Z",
     "iopub.status.idle": "2024-03-01T17:11:46.150583Z",
     "shell.execute_reply": "2024-03-01T17:11:46.149986Z",
     "shell.execute_reply.started": "2024-03-01T17:11:46.146548Z"
    }
   },
   "outputs": [],
   "source": [
    "import pandas as pd\n",
    "import numpy as np\n",
    "import sys\n",
    "import requests\n",
    "import pprint\n",
    "\n",
    "import datetime\n",
    "import pytz\n",
    "import importlib\n",
    "import matplotlib.pyplot as plt\n",
    "\n",
    "import datetime, json, math\n",
    "from google.cloud import bigquery\n",
    "from numpy_ext import rolling_apply as rolling_apply_ext"
   ]
  },
  {
   "cell_type": "code",
   "execution_count": 44,
   "id": "da881dba-cd40-4bd5-ba15-3fa2691a5107",
   "metadata": {
    "execution": {
     "iopub.execute_input": "2024-03-01T17:11:46.389077Z",
     "iopub.status.busy": "2024-03-01T17:11:46.388690Z",
     "iopub.status.idle": "2024-03-01T17:11:46.393872Z",
     "shell.execute_reply": "2024-03-01T17:11:46.393181Z",
     "shell.execute_reply.started": "2024-03-01T17:11:46.389047Z"
    }
   },
   "outputs": [],
   "source": [
    "import os\n",
    "\n",
    "if os.path.exists('credential.json'):\n",
    "    os.environ[\"GOOGLE_APPLICATION_CREDENTIALS\"] = os.path.join(os.getcwd(), 'credential.json')"
   ]
  },
  {
   "cell_type": "code",
   "execution_count": 78,
   "id": "0781806b-5f96-42f9-acec-2b15f54f6b35",
   "metadata": {
    "execution": {
     "iopub.execute_input": "2024-03-01T21:14:12.911145Z",
     "iopub.status.busy": "2024-03-01T21:14:12.910729Z",
     "iopub.status.idle": "2024-03-01T21:14:18.919506Z",
     "shell.execute_reply": "2024-03-01T21:14:18.918748Z",
     "shell.execute_reply.started": "2024-03-01T21:14:12.911122Z"
    }
   },
   "outputs": [
    {
     "data": {
      "text/plain": [
       "<module 'data.okx.read' from '/home/junlim/projects/jitter_recovery/data/okx/read.py'>"
      ]
     },
     "execution_count": 78,
     "metadata": {},
     "output_type": "execute_result"
    }
   ],
   "source": [
    "import data.read\n",
    "importlib.reload(data.read)\n",
    "import data.okx.read\n",
    "importlib.reload(data.okx.read)"
   ]
  },
  {
   "cell_type": "code",
   "execution_count": 104,
   "id": "6a2ffc80-5719-43fe-b7dd-ea2bc98199b2",
   "metadata": {
    "execution": {
     "iopub.execute_input": "2024-03-01T21:20:21.646348Z",
     "iopub.status.busy": "2024-03-01T21:20:21.646002Z",
     "iopub.status.idle": "2024-03-01T21:20:21.776555Z",
     "shell.execute_reply": "2024-03-01T21:20:21.776180Z",
     "shell.execute_reply.started": "2024-03-01T21:20:21.646325Z"
    }
   },
   "outputs": [],
   "source": [
    "#df = data.okx.read.df_okx_20231201_1231.dropna()\n",
    "#df = data.okx.read.df_okx_20240101_0131.dropna()\n",
    "df = data.okx.read.df_okx_20240229_0302.dropna()\n",
    "df_close = df.pivot(index='timestamp', columns='symbol', values='close')\n",
    "dfi = df.set_index(['timestamp', 'symbol'])\n",
    "all_symbols = df.symbol.unique()"
   ]
  },
  {
   "cell_type": "code",
   "execution_count": 105,
   "id": "1b480da7-73e5-4162-bbe8-d672c5b9439b",
   "metadata": {
    "execution": {
     "iopub.execute_input": "2024-03-01T21:20:21.871642Z",
     "iopub.status.busy": "2024-03-01T21:20:21.871414Z",
     "iopub.status.idle": "2024-03-01T21:20:21.878432Z",
     "shell.execute_reply": "2024-03-01T21:20:21.877942Z",
     "shell.execute_reply.started": "2024-03-01T21:20:21.871620Z"
    }
   },
   "outputs": [
    {
     "data": {
      "text/html": [
       "<div>\n",
       "<style scoped>\n",
       "    .dataframe tbody tr th:only-of-type {\n",
       "        vertical-align: middle;\n",
       "    }\n",
       "\n",
       "    .dataframe tbody tr th {\n",
       "        vertical-align: top;\n",
       "    }\n",
       "\n",
       "    .dataframe thead th {\n",
       "        text-align: right;\n",
       "    }\n",
       "</style>\n",
       "<table border=\"1\" class=\"dataframe\">\n",
       "  <thead>\n",
       "    <tr style=\"text-align: right;\">\n",
       "      <th></th>\n",
       "      <th>timestamp</th>\n",
       "      <th>symbol</th>\n",
       "      <th>open</th>\n",
       "      <th>high</th>\n",
       "      <th>low</th>\n",
       "      <th>close</th>\n",
       "      <th>volume</th>\n",
       "    </tr>\n",
       "  </thead>\n",
       "  <tbody>\n",
       "    <tr>\n",
       "      <th>0</th>\n",
       "      <td>2024-02-29 05:00:00</td>\n",
       "      <td>1INCH-USD-SWAP</td>\n",
       "      <td>0.5124</td>\n",
       "      <td>0.5124</td>\n",
       "      <td>0.5124</td>\n",
       "      <td>0.5124</td>\n",
       "      <td>0.0</td>\n",
       "    </tr>\n",
       "    <tr>\n",
       "      <th>1</th>\n",
       "      <td>2024-02-29 05:00:00</td>\n",
       "      <td>CELO-USDT-SWAP</td>\n",
       "      <td>0.9481</td>\n",
       "      <td>0.9484</td>\n",
       "      <td>0.9466</td>\n",
       "      <td>0.9474</td>\n",
       "      <td>18032.0</td>\n",
       "    </tr>\n",
       "  </tbody>\n",
       "</table>\n",
       "</div>"
      ],
      "text/plain": [
       "            timestamp          symbol    open    high     low   close   volume\n",
       "0 2024-02-29 05:00:00  1INCH-USD-SWAP  0.5124  0.5124  0.5124  0.5124      0.0\n",
       "1 2024-02-29 05:00:00  CELO-USDT-SWAP  0.9481  0.9484  0.9466  0.9474  18032.0"
      ]
     },
     "execution_count": 105,
     "metadata": {},
     "output_type": "execute_result"
    }
   ],
   "source": [
    "df.head(2)"
   ]
  },
  {
   "cell_type": "code",
   "execution_count": 106,
   "id": "f1cd98bd-1939-44bf-ad3d-d96df1a4382e",
   "metadata": {
    "execution": {
     "iopub.execute_input": "2024-03-01T21:20:22.002060Z",
     "iopub.status.busy": "2024-03-01T21:20:22.001812Z",
     "iopub.status.idle": "2024-03-01T21:20:22.011165Z",
     "shell.execute_reply": "2024-03-01T21:20:22.010203Z",
     "shell.execute_reply.started": "2024-03-01T21:20:22.002044Z"
    }
   },
   "outputs": [
    {
     "data": {
      "text/html": [
       "<div>\n",
       "<style scoped>\n",
       "    .dataframe tbody tr th:only-of-type {\n",
       "        vertical-align: middle;\n",
       "    }\n",
       "\n",
       "    .dataframe tbody tr th {\n",
       "        vertical-align: top;\n",
       "    }\n",
       "\n",
       "    .dataframe thead th {\n",
       "        text-align: right;\n",
       "    }\n",
       "</style>\n",
       "<table border=\"1\" class=\"dataframe\">\n",
       "  <thead>\n",
       "    <tr style=\"text-align: right;\">\n",
       "      <th></th>\n",
       "      <th>timestamp</th>\n",
       "      <th>symbol</th>\n",
       "      <th>open</th>\n",
       "      <th>high</th>\n",
       "      <th>low</th>\n",
       "      <th>close</th>\n",
       "      <th>volume</th>\n",
       "    </tr>\n",
       "  </thead>\n",
       "  <tbody>\n",
       "    <tr>\n",
       "      <th>470764</th>\n",
       "      <td>2024-03-01 21:12:00</td>\n",
       "      <td>JTO-USDT-SWAP</td>\n",
       "      <td>2.5210</td>\n",
       "      <td>2.5210</td>\n",
       "      <td>2.5170</td>\n",
       "      <td>2.5170</td>\n",
       "      <td>5614.0</td>\n",
       "    </tr>\n",
       "    <tr>\n",
       "      <th>470765</th>\n",
       "      <td>2024-03-01 21:12:00</td>\n",
       "      <td>SUSHI-USDT-SWAP</td>\n",
       "      <td>1.5964</td>\n",
       "      <td>1.5985</td>\n",
       "      <td>1.5964</td>\n",
       "      <td>1.5985</td>\n",
       "      <td>1285.0</td>\n",
       "    </tr>\n",
       "  </tbody>\n",
       "</table>\n",
       "</div>"
      ],
      "text/plain": [
       "                 timestamp           symbol    open    high     low   close  \\\n",
       "470764 2024-03-01 21:12:00    JTO-USDT-SWAP  2.5210  2.5210  2.5170  2.5170   \n",
       "470765 2024-03-01 21:12:00  SUSHI-USDT-SWAP  1.5964  1.5985  1.5964  1.5985   \n",
       "\n",
       "        volume  \n",
       "470764  5614.0  \n",
       "470765  1285.0  "
      ]
     },
     "execution_count": 106,
     "metadata": {},
     "output_type": "execute_result"
    }
   ],
   "source": [
    "df.tail(2)"
   ]
  },
  {
   "cell_type": "code",
   "execution_count": 107,
   "id": "526d8157-67cd-4563-9446-079ff50a86ec",
   "metadata": {
    "execution": {
     "iopub.execute_input": "2024-03-01T21:20:22.163946Z",
     "iopub.status.busy": "2024-03-01T21:20:22.163248Z",
     "iopub.status.idle": "2024-03-01T21:20:22.169453Z",
     "shell.execute_reply": "2024-03-01T21:20:22.168619Z",
     "shell.execute_reply.started": "2024-03-01T21:20:22.163897Z"
    }
   },
   "outputs": [],
   "source": [
    "all_symbols = [s for s in all_symbols if s]"
   ]
  },
  {
   "cell_type": "code",
   "execution_count": 108,
   "id": "2f63a12c-2f68-4b0f-abe0-e9eb20afd5b4",
   "metadata": {
    "execution": {
     "iopub.execute_input": "2024-03-01T21:20:22.328392Z",
     "iopub.status.busy": "2024-03-01T21:20:22.328128Z",
     "iopub.status.idle": "2024-03-01T21:20:22.333047Z",
     "shell.execute_reply": "2024-03-01T21:20:22.332596Z",
     "shell.execute_reply.started": "2024-03-01T21:20:22.328373Z"
    }
   },
   "outputs": [
    {
     "data": {
      "text/plain": [
       "173"
      ]
     },
     "execution_count": 108,
     "metadata": {},
     "output_type": "execute_result"
    }
   ],
   "source": [
    "len([s for s in all_symbols if 'USDT' in s])"
   ]
  },
  {
   "cell_type": "code",
   "execution_count": null,
   "id": "580bc04c-057f-4f19-827b-0a6d69e35322",
   "metadata": {},
   "outputs": [],
   "source": []
  },
  {
   "cell_type": "markdown",
   "id": "9bb84b8e-cb19-47dd-a19e-fc04b0721b1a",
   "metadata": {},
   "source": [
    "## multiple symbols"
   ]
  },
  {
   "cell_type": "code",
   "execution_count": 178,
   "id": "7e4ad85d-1c7a-4dcf-b468-da209eb874d2",
   "metadata": {
    "execution": {
     "iopub.execute_input": "2024-03-01T21:41:59.824585Z",
     "iopub.status.busy": "2024-03-01T21:41:59.824311Z",
     "iopub.status.idle": "2024-03-01T21:41:59.960075Z",
     "shell.execute_reply": "2024-03-01T21:41:59.959532Z",
     "shell.execute_reply.started": "2024-03-01T21:41:59.824565Z"
    }
   },
   "outputs": [
    {
     "data": {
      "text/plain": [
       "<module 'algo.jitter_recovery.research' from '/home/junlim/projects/jitter_recovery/algo/jitter_recovery/research.py'>"
      ]
     },
     "execution_count": 178,
     "metadata": {},
     "output_type": "execute_result"
    }
   ],
   "source": [
    "import algo.jitter_recovery.calculate\n",
    "importlib.reload(algo.jitter_recovery.calculate)\n",
    "import algo.jitter_recovery.research\n",
    "importlib.reload(algo.jitter_recovery.research)"
   ]
  },
  {
   "cell_type": "code",
   "execution_count": 193,
   "id": "dde2af94-4fca-46e0-bbf4-ad2201155953",
   "metadata": {
    "execution": {
     "iopub.execute_input": "2024-03-01T21:48:56.748426Z",
     "iopub.status.busy": "2024-03-01T21:48:56.748100Z",
     "iopub.status.idle": "2024-03-01T21:48:56.751888Z",
     "shell.execute_reply": "2024-03-01T21:48:56.751440Z",
     "shell.execute_reply.started": "2024-03-01T21:48:56.748398Z"
    }
   },
   "outputs": [],
   "source": [
    "feature_param = algo.jitter_recovery.calculate.JitterRecoveryFeatureParam(60)"
   ]
  },
  {
   "cell_type": "code",
   "execution_count": 194,
   "id": "654c4640-8c77-47f8-b5ca-84e70e9e5f12",
   "metadata": {
    "execution": {
     "iopub.execute_input": "2024-03-01T21:48:56.957735Z",
     "iopub.status.busy": "2024-03-01T21:48:56.957527Z",
     "iopub.status.idle": "2024-03-01T21:49:27.328783Z",
     "shell.execute_reply": "2024-03-01T21:49:27.328201Z",
     "shell.execute_reply.started": "2024-03-01T21:48:56.957722Z"
    },
    "scrolled": true
   },
   "outputs": [
    {
     "name": "stdout",
     "output_type": "stream",
     "text": [
      "0 symbol: CELO-USDT-SWAP (feature)\n",
      "1 symbol: GMT-USDT-SWAP (feature)\n",
      "2 symbol: BICO-USDT-SWAP (feature)\n",
      "3 symbol: JST-USDT-SWAP (feature)\n",
      "4 symbol: GFT-USDT-SWAP (feature)\n",
      "5 symbol: CEL-USDT-SWAP (feature)\n",
      "6 symbol: RACA-USDT-SWAP (feature)\n",
      "7 symbol: API3-USDT-SWAP (feature)\n",
      "8 symbol: ORBS-USDT-SWAP (feature)\n",
      "9 symbol: GRT-USDT-SWAP (feature)\n",
      "10 symbol: ANT-USDT-SWAP (feature)\n",
      "11 symbol: CORE-USDT-SWAP (feature)\n",
      "12 symbol: XLM-USDT-SWAP (feature)\n",
      "13 symbol: AR-USDT-SWAP (feature)\n",
      "14 symbol: BLUR-USDT-SWAP (feature)\n",
      "15 symbol: NEAR-USDT-SWAP (feature)\n",
      "16 symbol: PEOPLE-USDT-SWAP (feature)\n",
      "17 symbol: ENS-USDT-SWAP (feature)\n",
      "18 symbol: DYDX-USDT-SWAP (feature)\n",
      "19 symbol: WLD-USDT-SWAP (feature)\n",
      "20 symbol: BADGER-USDT-SWAP (feature)\n",
      "21 symbol: TRB-USDT-SWAP (feature)\n",
      "22 symbol: MATIC-USDT-SWAP (feature)\n",
      "23 symbol: CETUS-USDT-SWAP (feature)\n",
      "24 symbol: CSPR-USDT-SWAP (feature)\n",
      "25 symbol: BAT-USDT-SWAP (feature)\n",
      "26 symbol: MEME-USDT-SWAP (feature)\n",
      "27 symbol: BTC-USDT-SWAP (feature)\n",
      "28 symbol: ZIL-USDT-SWAP (feature)\n",
      "29 symbol: BONK-USDT-SWAP (feature)\n",
      "30 symbol: AVAX-USDT-SWAP (feature)\n",
      "31 symbol: GPT-USDT-SWAP (feature)\n",
      "32 symbol: XCH-USDT-SWAP (feature)\n",
      "33 symbol: ACH-USDT-SWAP (feature)\n",
      "34 symbol: PERP-USDT-SWAP (feature)\n",
      "35 symbol: CRV-USDT-SWAP (feature)\n",
      "36 symbol: DMAIL-USDT-SWAP (feature)\n",
      "37 symbol: FLR-USDT-SWAP (feature)\n",
      "38 symbol: LQTY-USDT-SWAP (feature)\n",
      "39 symbol: ATOM-USDT-SWAP (feature)\n",
      "40 symbol: RNDR-USDT-SWAP (feature)\n",
      "41 symbol: FXS-USDT-SWAP (feature)\n",
      "42 symbol: BNT-USDT-SWAP (feature)\n",
      "43 symbol: ZRX-USDT-SWAP (feature)\n",
      "44 symbol: YFI-USDT-SWAP (feature)\n",
      "45 symbol: AGLD-USDT-SWAP (feature)\n",
      "46 symbol: SSV-USDT-SWAP (feature)\n",
      "47 symbol: BNB-USDT-SWAP (feature)\n",
      "48 symbol: ETHW-USDT-SWAP (feature)\n",
      "49 symbol: AIDOGE-USDT-SWAP (feature)\n",
      "50 symbol: GALA-USDT-SWAP (feature)\n",
      "51 symbol: IOTA-USDT-SWAP (feature)\n",
      "52 symbol: LOOKS-USDT-SWAP (feature)\n",
      "53 symbol: MASK-USDT-SWAP (feature)\n",
      "54 symbol: LUNC-USDT-SWAP (feature)\n",
      "55 symbol: GMX-USDT-SWAP (feature)\n",
      "56 symbol: THETA-USDT-SWAP (feature)\n",
      "57 symbol: MOVR-USDT-SWAP (feature)\n",
      "58 symbol: LPT-USDT-SWAP (feature)\n",
      "59 symbol: USDC-USDT-SWAP (feature)\n",
      "60 symbol: PEPE-USDT-SWAP (feature)\n",
      "61 symbol: KISHU-USDT-SWAP (feature)\n",
      "62 symbol: CTC-USDT-SWAP (feature)\n",
      "63 symbol: HBAR-USDT-SWAP (feature)\n",
      "64 symbol: SPELL-USDT-SWAP (feature)\n",
      "65 symbol: ALGO-USDT-SWAP (feature)\n",
      "66 symbol: JUP-USDT-SWAP (feature)\n",
      "67 symbol: CVC-USDT-SWAP (feature)\n",
      "68 symbol: SUI-USDT-SWAP (feature)\n",
      "69 symbol: FLOW-USDT-SWAP (feature)\n",
      "70 symbol: ACE-USDT-SWAP (feature)\n",
      "71 symbol: CFX-USDT-SWAP (feature)\n",
      "72 symbol: EGLD-USDT-SWAP (feature)\n",
      "73 symbol: UMA-USDT-SWAP (feature)\n",
      "74 symbol: STRK-USDT-SWAP (feature)\n",
      "75 symbol: TIA-USDT-SWAP (feature)\n",
      "76 symbol: BIGTIME-USDT-SWAP (feature)\n",
      "77 symbol: UNI-USDT-SWAP (feature)\n",
      "78 symbol: OMG-USDT-SWAP (feature)\n",
      "79 symbol: METIS-USDT-SWAP (feature)\n",
      "80 symbol: TRX-USDT-SWAP (feature)\n",
      "81 symbol: FITFI-USDT-SWAP (feature)\n",
      "82 symbol: ETC-USDT-SWAP (feature)\n",
      "83 symbol: GAL-USDT-SWAP (feature)\n",
      "84 symbol: BSV-USDT-SWAP (feature)\n",
      "85 symbol: WOO-USDT-SWAP (feature)\n",
      "86 symbol: FET-USDT-SWAP (feature)\n",
      "87 symbol: LUNA-USDT-SWAP (feature)\n",
      "88 symbol: MINA-USDT-SWAP (feature)\n",
      "89 symbol: XRP-USDT-SWAP (feature)\n",
      "90 symbol: CRO-USDT-SWAP (feature)\n",
      "91 symbol: ICX-USDT-SWAP (feature)\n",
      "92 symbol: CHZ-USDT-SWAP (feature)\n",
      "93 symbol: GAS-USDT-SWAP (feature)\n",
      "94 symbol: RDNT-USDT-SWAP (feature)\n",
      "95 symbol: PYTH-USDT-SWAP (feature)\n",
      "96 symbol: WAXP-USDT-SWAP (feature)\n",
      "97 symbol: YGG-USDT-SWAP (feature)\n",
      "98 symbol: SAND-USDT-SWAP (feature)\n",
      "99 symbol: XTZ-USDT-SWAP (feature)\n",
      "100 symbol: AAVE-USDT-SWAP (feature)\n",
      "101 symbol: IMX-USDT-SWAP (feature)\n",
      "102 symbol: SUSHI-USDT-SWAP (feature)\n",
      "103 symbol: STARL-USDT-SWAP (feature)\n",
      "104 symbol: SHIB-USDT-SWAP (feature)\n",
      "105 symbol: FIL-USDT-SWAP (feature)\n",
      "106 symbol: ETH-USDT-SWAP (feature)\n",
      "107 symbol: MANA-USDT-SWAP (feature)\n",
      "108 symbol: ID-USDT-SWAP (feature)\n",
      "109 symbol: KSM-USDT-SWAP (feature)\n",
      "110 symbol: FLM-USDT-SWAP (feature)\n",
      "111 symbol: AUCTION-USDT-SWAP (feature)\n",
      "112 symbol: ADA-USDT-SWAP (feature)\n",
      "113 symbol: ONE-USDT-SWAP (feature)\n",
      "114 symbol: BAL-USDT-SWAP (feature)\n",
      "115 symbol: NEO-USDT-SWAP (feature)\n",
      "116 symbol: LRC-USDT-SWAP (feature)\n",
      "117 symbol: ZETA-USDT-SWAP (feature)\n",
      "118 symbol: RON-USDT-SWAP (feature)\n",
      "119 symbol: TURBO-USDT-SWAP (feature)\n",
      "120 symbol: STORJ-USDT-SWAP (feature)\n",
      "121 symbol: EOS-USDT-SWAP (feature)\n",
      "122 symbol: JOE-USDT-SWAP (feature)\n",
      "123 symbol: REN-USDT-SWAP (feature)\n",
      "124 symbol: RSR-USDT-SWAP (feature)\n",
      "125 symbol: DOGE-USDT-SWAP (feature)\n",
      "126 symbol: SLP-USDT-SWAP (feature)\n",
      "127 symbol: T-USDT-SWAP (feature)\n",
      "128 symbol: STX-USDT-SWAP (feature)\n",
      "129 symbol: KLAY-USDT-SWAP (feature)\n",
      "130 symbol: BCH-USDT-SWAP (feature)\n",
      "131 symbol: APT-USDT-SWAP (feature)\n",
      "132 symbol: NMR-USDT-SWAP (feature)\n",
      "133 symbol: SOL-USDT-SWAP (feature)\n",
      "134 symbol: GODS-USDT-SWAP (feature)\n",
      "135 symbol: ORDI-USDT-SWAP (feature)\n",
      "136 symbol: ONT-USDT-SWAP (feature)\n",
      "137 symbol: JTO-USDT-SWAP (feature)\n",
      "138 symbol: IOST-USDT-SWAP (feature)\n",
      "139 symbol: LDO-USDT-SWAP (feature)\n",
      "140 symbol: FLOKI-USDT-SWAP (feature)\n",
      "141 symbol: INJ-USDT-SWAP (feature)\n",
      "142 symbol: ALPHA-USDT-SWAP (feature)\n",
      "143 symbol: COMP-USDT-SWAP (feature)\n",
      "144 symbol: OM-USDT-SWAP (feature)\n",
      "145 symbol: VRA-USDT-SWAP (feature)\n",
      "146 symbol: FRONT-USDT-SWAP (feature)\n",
      "147 symbol: RVN-USDT-SWAP (feature)\n",
      "148 symbol: TON-USDT-SWAP (feature)\n",
      "149 symbol: ARB-USDT-SWAP (feature)\n",
      "150 symbol: SWEAT-USDT-SWAP (feature)\n",
      "151 symbol: AGIX-USDT-SWAP (feature)\n",
      "152 symbol: AXS-USDT-SWAP (feature)\n",
      "153 symbol: QTUM-USDT-SWAP (feature)\n",
      "154 symbol: MKR-USDT-SWAP (feature)\n",
      "155 symbol: LSK-USDT-SWAP (feature)\n",
      "156 symbol: FTM-USDT-SWAP (feature)\n",
      "157 symbol: OP-USDT-SWAP (feature)\n",
      "158 symbol: MAGIC-USDT-SWAP (feature)\n",
      "159 symbol: KNC-USDT-SWAP (feature)\n",
      "160 symbol: USTC-USDT-SWAP (feature)\n",
      "161 symbol: SATS-USDT-SWAP (feature)\n",
      "162 symbol: NFT-USDT-SWAP (feature)\n",
      "163 symbol: ICP-USDT-SWAP (feature)\n",
      "164 symbol: LINK-USDT-SWAP (feature)\n",
      "165 symbol: APE-USDT-SWAP (feature)\n",
      "166 symbol: BAND-USDT-SWAP (feature)\n",
      "167 symbol: 1INCH-USDT-SWAP (feature)\n",
      "168 symbol: DOT-USDT-SWAP (feature)\n",
      "169 symbol: LTC-USDT-SWAP (feature)\n",
      "170 symbol: SNX-USDT-SWAP (feature)\n",
      "171 symbol: DGB-USDT-SWAP (feature)\n",
      "172 symbol: ENJ-USDT-SWAP (feature)\n"
     ]
    }
   ],
   "source": [
    "dfst_feature = algo.jitter_recovery.research.get_dfst_feature(df, feature_param)"
   ]
  },
  {
   "cell_type": "code",
   "execution_count": 195,
   "id": "845eb1a9-0ebe-4101-a968-8402ffd96de2",
   "metadata": {
    "execution": {
     "iopub.execute_input": "2024-03-01T21:49:27.329726Z",
     "iopub.status.busy": "2024-03-01T21:49:27.329590Z",
     "iopub.status.idle": "2024-03-01T21:49:27.368994Z",
     "shell.execute_reply": "2024-03-01T21:49:27.368219Z",
     "shell.execute_reply.started": "2024-03-01T21:49:27.329716Z"
    }
   },
   "outputs": [
    {
     "data": {
      "text/plain": [
       "array(['PEOPLE-USDT-SWAP', 'SPELL-USDT-SWAP', 'SHIB-USDT-SWAP',\n",
       "       'TURBO-USDT-SWAP', 'NEO-USDT-SWAP', 'AR-USDT-SWAP',\n",
       "       'CETUS-USDT-SWAP', 'FLOKI-USDT-SWAP', 'ACH-USDT-SWAP',\n",
       "       'BICO-USDT-SWAP', 'BONK-USDT-SWAP', 'STARL-USDT-SWAP',\n",
       "       'USTC-USDT-SWAP', 'FITFI-USDT-SWAP', 'RACA-USDT-SWAP',\n",
       "       'UNI-USDT-SWAP', 'FIL-USDT-SWAP', 'WAXP-USDT-SWAP',\n",
       "       'RSR-USDT-SWAP', 'MANA-USDT-SWAP', 'OM-USDT-SWAP',\n",
       "       'CELO-USDT-SWAP', 'FET-USDT-SWAP', 'YGG-USDT-SWAP',\n",
       "       'AGIX-USDT-SWAP', 'ID-USDT-SWAP', 'PEPE-USDT-SWAP',\n",
       "       'BADGER-USDT-SWAP', 'FLM-USDT-SWAP', 'OMG-USDT-SWAP',\n",
       "       'GPT-USDT-SWAP', 'LOOKS-USDT-SWAP', 'MEME-USDT-SWAP'], dtype=object)"
      ]
     },
     "execution_count": 195,
     "metadata": {},
     "output_type": "execute_result"
    }
   ],
   "source": [
    "dfst_feature[dfst_feature.ch_max > 0.1].index.get_level_values('symbol').unique().values"
   ]
  },
  {
   "cell_type": "code",
   "execution_count": null,
   "id": "570a70c7-9174-470a-bb31-4e0d33033ab8",
   "metadata": {},
   "outputs": [],
   "source": []
  },
  {
   "cell_type": "code",
   "execution_count": 196,
   "id": "1a482aa6-7261-47bb-826d-a52e9e3622a6",
   "metadata": {
    "execution": {
     "iopub.execute_input": "2024-03-01T21:49:27.369952Z",
     "iopub.status.busy": "2024-03-01T21:49:27.369796Z",
     "iopub.status.idle": "2024-03-01T21:49:27.373249Z",
     "shell.execute_reply": "2024-03-01T21:49:27.372523Z",
     "shell.execute_reply.started": "2024-03-01T21:49:27.369940Z"
    }
   },
   "outputs": [],
   "source": [
    "trading_param = algo.jitter_recovery.calculate.JitterRecoveryTradingParam(\n",
    "    feature_param, \n",
    "    0.20, -0.04, 0.02, is_long_term=False)"
   ]
  },
  {
   "cell_type": "code",
   "execution_count": 197,
   "id": "0bb66bbe-3b4c-41c5-ad48-743489aff863",
   "metadata": {
    "execution": {
     "iopub.execute_input": "2024-03-01T21:49:27.374618Z",
     "iopub.status.busy": "2024-03-01T21:49:27.374360Z",
     "iopub.status.idle": "2024-03-01T21:49:28.307259Z",
     "shell.execute_reply": "2024-03-01T21:49:28.306822Z",
     "shell.execute_reply.started": "2024-03-01T21:49:27.374594Z"
    }
   },
   "outputs": [
    {
     "name": "stdout",
     "output_type": "stream",
     "text": [
      "symbol_with_jumps: 7\n",
      "0 symbol: TURBO-USDT-SWAP: 101\n",
      "1 symbol: RACA-USDT-SWAP: 50\n",
      "2 symbol: SPELL-USDT-SWAP: 29\n",
      "3 symbol: BICO-USDT-SWAP: 35\n",
      "4 symbol: PEPE-USDT-SWAP: 8\n",
      "5 symbol: GPT-USDT-SWAP: 93\n",
      "6 symbol: FLOKI-USDT-SWAP: 59\n"
     ]
    }
   ],
   "source": [
    "dfst_trading = algo.jitter_recovery.research.get_dfst_trading(df, dfst_feature, trading_param)"
   ]
  },
  {
   "cell_type": "code",
   "execution_count": 198,
   "id": "36d6f9c2-4c38-4cf1-a04b-e3a6866b123e",
   "metadata": {
    "execution": {
     "iopub.execute_input": "2024-03-01T21:49:28.307779Z",
     "iopub.status.busy": "2024-03-01T21:49:28.307664Z",
     "iopub.status.idle": "2024-03-01T21:49:28.494562Z",
     "shell.execute_reply": "2024-03-01T21:49:28.494072Z",
     "shell.execute_reply.started": "2024-03-01T21:49:28.307769Z"
    }
   },
   "outputs": [
    {
     "data": {
      "image/png": "[encoded data removed]",
      "text/plain": [
       "<Figure size 1600x200 with 1 Axes>"
      ]
     },
     "metadata": {},
     "output_type": "display_data"
    }
   ],
   "source": [
    "algo.jitter_recovery.research.investigate_trading(dfst_feature_approximate, dfst_trading)"
   ]
  },
  {
   "cell_type": "code",
   "execution_count": null,
   "id": "1f732fe2-8ac0-4f6e-b5e5-9b6d201180d7",
   "metadata": {},
   "outputs": [],
   "source": []
  },
  {
   "cell_type": "code",
   "execution_count": null,
   "id": "a146c990-eaab-4734-b7ca-5f26f5c4a79f",
   "metadata": {},
   "outputs": [],
   "source": []
  },
  {
   "cell_type": "code",
   "execution_count": null,
   "id": "20916952-78da-4596-bb76-2d17201f2c93",
   "metadata": {},
   "outputs": [],
   "source": []
  },
  {
   "cell_type": "code",
   "execution_count": null,
   "id": "fc8b3991-e10b-4d76-9522-637cf2f6ab91",
   "metadata": {},
   "outputs": [],
   "source": []
  },
  {
   "cell_type": "code",
   "execution_count": 27,
   "id": "4166f73b-c43e-42af-a66a-9db2d690f17d",
   "metadata": {
    "execution": {
     "iopub.execute_input": "2024-02-15T22:33:46.529229Z",
     "iopub.status.busy": "2024-02-15T22:33:46.528835Z",
     "iopub.status.idle": "2024-02-15T22:33:47.405213Z",
     "shell.execute_reply": "2024-02-15T22:33:47.403947Z",
     "shell.execute_reply.started": "2024-02-15T22:33:46.529203Z"
    }
   },
   "outputs": [
    {
     "data": {
      "image/png": "[encoded data removed]",
      "text/plain": [
       "<Figure size 1600x200 with 1 Axes>"
      ]
     },
     "metadata": {},
     "output_type": "display_data"
    }
   ],
   "source": [
    "algo.jitter_recovery.research.investigate_trading(dfst_feature_approximate, dfst_trading)"
   ]
  },
  {
   "cell_type": "code",
   "execution_count": null,
   "id": "7eb0b24f-3436-4dc1-a7e5-f4b1fd1cd63e",
   "metadata": {},
   "outputs": [],
   "source": []
  },
  {
   "cell_type": "code",
   "execution_count": 35,
   "id": "7af34ff3-4f48-45a5-ad78-8fda284d5ccf",
   "metadata": {
    "execution": {
     "iopub.execute_input": "2024-02-15T22:40:51.664332Z",
     "iopub.status.busy": "2024-02-15T22:40:51.664195Z",
     "iopub.status.idle": "2024-02-15T22:40:55.524462Z",
     "shell.execute_reply": "2024-02-15T22:40:55.522848Z",
     "shell.execute_reply.started": "2024-02-15T22:40:51.664321Z"
    }
   },
   "outputs": [
    {
     "data": {
      "image/png": "[encoded data removed]",
      "text/plain": [
       "<Figure size 1600x200 with 1 Axes>"
      ]
     },
     "metadata": {},
     "output_type": "display_data"
    }
   ],
   "source": [
    "algo.jitter_recovery.research.investigate_trading(dfst_feature_approximate, dfst_trading)"
   ]
  },
  {
   "cell_type": "code",
   "execution_count": null,
   "id": "7ea11d0d-b950-42c0-b26f-0d0e4d0ff3c4",
   "metadata": {},
   "outputs": [],
   "source": []
  },
  {
   "cell_type": "code",
   "execution_count": null,
   "id": "e2b99e86-7425-4ea5-bd49-b545019df8f1",
   "metadata": {},
   "outputs": [],
   "source": []
  },
  {
   "cell_type": "code",
   "execution_count": 28,
   "id": "42238398-5c46-4ab8-8c58-b32b62f55033",
   "metadata": {
    "execution": {
     "iopub.execute_input": "2024-02-01T15:49:49.307456Z",
     "iopub.status.busy": "2024-02-01T15:49:49.307336Z",
     "iopub.status.idle": "2024-02-01T15:49:51.296389Z",
     "shell.execute_reply": "2024-02-01T15:49:51.295868Z",
     "shell.execute_reply.started": "2024-02-01T15:49:49.307444Z"
    }
   },
   "outputs": [
    {
     "data": {
      "text/plain": [
       "<Axes: xlabel='timestamp'>"
      ]
     },
     "execution_count": 28,
     "metadata": {},
     "output_type": "execute_result"
    },
    {
     "data": {
      "image/png": "[encoded data removed]",
      "text/plain": [
       "<Figure size 1600x100 with 1 Axes>"
      ]
     },
     "metadata": {},
     "output_type": "display_data"
    }
   ],
   "source": [
    "dfst_trading[['profit']].groupby('timestamp').sum().cumsum().plot(figsize=(16,1))"
   ]
  },
  {
   "cell_type": "code",
   "execution_count": 42,
   "id": "ef57c499-5346-4779-b9ed-8dc153e7764e",
   "metadata": {
    "execution": {
     "iopub.execute_input": "2024-02-01T15:53:39.772876Z",
     "iopub.status.busy": "2024-02-01T15:53:39.772760Z",
     "iopub.status.idle": "2024-02-01T15:53:41.658322Z",
     "shell.execute_reply": "2024-02-01T15:53:41.657674Z",
     "shell.execute_reply.started": "2024-02-01T15:53:39.772866Z"
    }
   },
   "outputs": [
    {
     "data": {
      "text/plain": [
       "<Axes: xlabel='timestamp'>"
      ]
     },
     "execution_count": 42,
     "metadata": {},
     "output_type": "execute_result"
    },
    {
     "data": {
      "image/png": "[encoded data removed]",
      "text/plain": [
       "<Figure size 1600x100 with 1 Axes>"
      ]
     },
     "metadata": {},
     "output_type": "display_data"
    }
   ],
   "source": [
    "dfst_trading[['profit']].groupby('timestamp').sum().cumsum().plot(figsize=(16,1))"
   ]
  },
  {
   "cell_type": "code",
   "execution_count": 175,
   "id": "4279cac6-cdf0-4535-99f8-51dd9f177d78",
   "metadata": {
    "execution": {
     "iopub.execute_input": "2024-02-01T16:28:08.050164Z",
     "iopub.status.busy": "2024-02-01T16:28:08.049932Z",
     "iopub.status.idle": "2024-02-01T16:28:10.284963Z",
     "shell.execute_reply": "2024-02-01T16:28:10.284141Z",
     "shell.execute_reply.started": "2024-02-01T16:28:08.050147Z"
    }
   },
   "outputs": [
    {
     "data": {
      "text/plain": [
       "<Axes: xlabel='timestamp'>"
      ]
     },
     "execution_count": 175,
     "metadata": {},
     "output_type": "execute_result"
    },
    {
     "data": {
      "image/png": "[encoded data removed]",
      "text/plain": [
       "<Figure size 1600x100 with 1 Axes>"
      ]
     },
     "metadata": {},
     "output_type": "display_data"
    }
   ],
   "source": [
    "dfst_trading[['profit']].groupby('timestamp').sum().cumsum().plot(figsize=(16,1))"
   ]
  },
  {
   "cell_type": "code",
   "execution_count": null,
   "id": "0f5738fa-476f-4514-8930-31b67ca022c8",
   "metadata": {},
   "outputs": [],
   "source": []
  },
  {
   "cell_type": "code",
   "execution_count": 192,
   "id": "b23c9664-48f7-4a7a-8fb4-1cd43f58ffe1",
   "metadata": {
    "execution": {
     "iopub.execute_input": "2024-03-01T21:48:16.690301Z",
     "iopub.status.busy": "2024-03-01T21:48:16.689846Z",
     "iopub.status.idle": "2024-03-01T21:48:16.699193Z",
     "shell.execute_reply": "2024-03-01T21:48:16.698808Z",
     "shell.execute_reply.started": "2024-03-01T21:48:16.690283Z"
    }
   },
   "outputs": [
    {
     "data": {
      "text/html": [
       "<div>\n",
       "<style scoped>\n",
       "    .dataframe tbody tr th:only-of-type {\n",
       "        vertical-align: middle;\n",
       "    }\n",
       "\n",
       "    .dataframe tbody tr th {\n",
       "        vertical-align: top;\n",
       "    }\n",
       "\n",
       "    .dataframe thead th {\n",
       "        text-align: right;\n",
       "    }\n",
       "</style>\n",
       "<table border=\"1\" class=\"dataframe\">\n",
       "  <thead>\n",
       "    <tr style=\"text-align: right;\">\n",
       "      <th></th>\n",
       "      <th>profit</th>\n",
       "    </tr>\n",
       "    <tr>\n",
       "      <th>symbol</th>\n",
       "      <th></th>\n",
       "    </tr>\n",
       "  </thead>\n",
       "  <tbody>\n",
       "    <tr>\n",
       "      <th>TURBO-USDT-SWAP</th>\n",
       "      <td>-0.070777</td>\n",
       "    </tr>\n",
       "    <tr>\n",
       "      <th>GPT-USDT-SWAP</th>\n",
       "      <td>-0.024599</td>\n",
       "    </tr>\n",
       "    <tr>\n",
       "      <th>RACA-USDT-SWAP</th>\n",
       "      <td>0.043110</td>\n",
       "    </tr>\n",
       "  </tbody>\n",
       "</table>\n",
       "</div>"
      ],
      "text/plain": [
       "                   profit\n",
       "symbol                   \n",
       "TURBO-USDT-SWAP -0.070777\n",
       "GPT-USDT-SWAP   -0.024599\n",
       "RACA-USDT-SWAP   0.043110"
      ]
     },
     "execution_count": 192,
     "metadata": {},
     "output_type": "execute_result"
    }
   ],
   "source": [
    "dfst_trading[dfst_trading.profit.fillna(0) != 0][['profit']].groupby('symbol').sum().sort_values('profit')"
   ]
  },
  {
   "cell_type": "code",
   "execution_count": 1,
   "id": "a70779ac-ba54-4955-9192-3d7eb996b82d",
   "metadata": {
    "execution": {
     "iopub.execute_input": "2024-02-03T21:32:03.845259Z",
     "iopub.status.busy": "2024-02-03T21:32:03.843654Z",
     "iopub.status.idle": "2024-02-03T21:32:03.855210Z",
     "shell.execute_reply": "2024-02-03T21:32:03.854672Z",
     "shell.execute_reply.started": "2024-02-03T21:32:03.845160Z"
    }
   },
   "outputs": [],
   "source": [
    "#dfst_feature.xs('FITFI-USDT-SWAP').loc['2023-12-07 16:38:00']"
   ]
  },
  {
   "cell_type": "code",
   "execution_count": null,
   "id": "b9004c06-a41c-4426-ac8f-e17eca298bbb",
   "metadata": {
    "scrolled": true
   },
   "outputs": [],
   "source": [
    "dfst_trading[(dfst_trading.ch_max > 0.15) & (dfst_trading.ch_since_max < -0.01)]"
   ]
  },
  {
   "cell_type": "code",
   "execution_count": null,
   "id": "5285629b-d2f2-48f8-beb5-2838a3cc6048",
   "metadata": {
    "scrolled": true
   },
   "outputs": [],
   "source": [
    "dfst_trading[(dfst_trading.ch_max > 0.15) & (dfst_trading.ch_since_max < 0)].loc[symbol_with_jumps[0]]"
   ]
  },
  {
   "cell_type": "code",
   "execution_count": null,
   "id": "d8688707-7e67-42d4-adb4-56c4396ff1a5",
   "metadata": {},
   "outputs": [],
   "source": []
  },
  {
   "cell_type": "code",
   "execution_count": 221,
   "id": "1b14ad24-a88a-4140-84f6-04b5af45c1b2",
   "metadata": {
    "execution": {
     "iopub.execute_input": "2024-02-11T00:29:05.458832Z",
     "iopub.status.busy": "2024-02-11T00:29:05.458699Z",
     "iopub.status.idle": "2024-02-11T00:29:05.533090Z",
     "shell.execute_reply": "2024-02-11T00:29:05.532061Z",
     "shell.execute_reply.started": "2024-02-11T00:29:05.458821Z"
    },
    "scrolled": true
   },
   "outputs": [
    {
     "name": "stdout",
     "output_type": "stream",
     "text": [
      "2024-02-03 18:13:00, GAL-USDT-SWAP, 1.905, position_changed: 1.0\n",
      "2024-02-03 19:18:00, GAL-USDT-SWAP, 1.852, position_changed: -1.0\n",
      "2024-02-04 00:19:00, FITFI-USDT-SWAP, 0.006064, position_changed: 1.0\n",
      "2024-02-04 00:31:00, FITFI-USDT-SWAP, 0.005904, position_changed: -1.0\n",
      "2024-02-04 20:20:00, DMAIL-USDT-SWAP, 0.4964, position_changed: 1.0\n",
      "2024-02-04 20:23:00, DMAIL-USDT-SWAP, 0.5023, position_changed: -1.0\n",
      "2024-02-04 20:24:00, DMAIL-USDT-SWAP, 0.4965, position_changed: 1.0\n",
      "2024-02-04 20:55:00, DMAIL-USDT-SWAP, 0.4923, position_changed: -1.0\n"
     ]
    }
   ],
   "source": [
    "for _, row in dfst_trading[(dfst_trading.position_changed != 0)].dropna().reset_index().sort_values('timestamp').iterrows():\n",
    "    print(f'{row[\"timestamp\"]}, {row[\"symbol\"]}, {row[\"value\"]}, position_changed: {row[\"position_changed\"]}')"
   ]
  },
  {
   "cell_type": "code",
   "execution_count": null,
   "id": "5e1e524d-b16b-4ceb-a3f7-77aa56a1f2ca",
   "metadata": {},
   "outputs": [],
   "source": []
  },
  {
   "cell_type": "markdown",
   "id": "8d50d0e7-bc53-4639-9ee4-9cf18cc32b43",
   "metadata": {
    "execution": {
     "iopub.execute_input": "2024-02-01T14:36:55.118172Z",
     "iopub.status.busy": "2024-02-01T14:36:55.117200Z",
     "iopub.status.idle": "2024-02-01T14:36:55.121590Z",
     "shell.execute_reply": "2024-02-01T14:36:55.120954Z",
     "shell.execute_reply.started": "2024-02-01T14:36:55.118144Z"
    }
   },
   "source": [
    "## single symobl"
   ]
  },
  {
   "cell_type": "code",
   "execution_count": 187,
   "id": "a68c1eee-4f97-436f-b97a-021fae71f053",
   "metadata": {
    "execution": {
     "iopub.execute_input": "2024-03-01T21:43:54.228659Z",
     "iopub.status.busy": "2024-03-01T21:43:54.228284Z",
     "iopub.status.idle": "2024-03-01T21:43:54.331667Z",
     "shell.execute_reply": "2024-03-01T21:43:54.331140Z",
     "shell.execute_reply.started": "2024-03-01T21:43:54.228629Z"
    }
   },
   "outputs": [
    {
     "data": {
      "text/plain": [
       "<module 'algo.jitter_recovery.research' from '/home/junlim/projects/jitter_recovery/algo/jitter_recovery/research.py'>"
      ]
     },
     "execution_count": 187,
     "metadata": {},
     "output_type": "execute_result"
    }
   ],
   "source": [
    "import algo.jitter_recovery.calculate\n",
    "importlib.reload(algo.jitter_recovery.calculate)\n",
    "import algo.jitter_recovery.research\n",
    "importlib.reload(algo.jitter_recovery.research)"
   ]
  },
  {
   "cell_type": "code",
   "execution_count": 182,
   "id": "fbfd498f-b9ce-4528-b9dd-81dd1b016347",
   "metadata": {
    "execution": {
     "iopub.execute_input": "2024-03-01T21:42:55.420767Z",
     "iopub.status.busy": "2024-03-01T21:42:55.420442Z",
     "iopub.status.idle": "2024-03-01T21:42:55.425156Z",
     "shell.execute_reply": "2024-03-01T21:42:55.424630Z",
     "shell.execute_reply.started": "2024-03-01T21:42:55.420745Z"
    }
   },
   "outputs": [],
   "source": [
    "symbol_investigate = 'FLOKI-USDT-SWAP'\n",
    "dfs = dfi.xs(symbol_investigate, level=1)"
   ]
  },
  {
   "cell_type": "code",
   "execution_count": 183,
   "id": "a84c39b2-3f19-4fb2-b008-75b6e0d23473",
   "metadata": {
    "execution": {
     "iopub.execute_input": "2024-03-01T21:42:55.799529Z",
     "iopub.status.busy": "2024-03-01T21:42:55.799190Z",
     "iopub.status.idle": "2024-03-01T21:42:55.803608Z",
     "shell.execute_reply": "2024-03-01T21:42:55.802956Z",
     "shell.execute_reply.started": "2024-03-01T21:42:55.799504Z"
    }
   },
   "outputs": [],
   "source": [
    "jitter_recovery_trading_param = algo.jitter_recovery.calculate.JitterRecoveryTradingParam(\n",
    "    algo.jitter_recovery.calculate.JitterRecoveryFeatureParam(40), \n",
    "    0.20, -0.04, 0.02, is_long_term=False)"
   ]
  },
  {
   "cell_type": "code",
   "execution_count": 188,
   "id": "f83df7b4-63cb-43d2-9047-4de1fab6604a",
   "metadata": {
    "execution": {
     "iopub.execute_input": "2024-03-01T21:43:55.505829Z",
     "iopub.status.busy": "2024-03-01T21:43:55.505601Z",
     "iopub.status.idle": "2024-03-01T21:43:56.164284Z",
     "shell.execute_reply": "2024-03-01T21:43:56.163591Z",
     "shell.execute_reply.started": "2024-03-01T21:43:55.505815Z"
    }
   },
   "outputs": [
    {
     "name": "stdout",
     "output_type": "stream",
     "text": [
      "no trading happens\n"
     ]
    },
    {
     "data": {
      "image/png": "[encoded data removed]",
      "text/plain": [
       "<Figure size 640x480 with 1 Axes>"
      ]
     },
     "metadata": {},
     "output_type": "display_data"
    }
   ],
   "source": [
    "df_feature, df_trading = algo.jitter_recovery.research.investigate_symbol(df, symbol_investigate, jitter_recovery_trading_param, figsize=(12, 11))"
   ]
  },
  {
   "cell_type": "code",
   "execution_count": 378,
   "id": "96b59c81-1d7e-4232-9d18-55399c7ab9ec",
   "metadata": {
    "execution": {
     "iopub.execute_input": "2024-02-11T00:56:56.947149Z",
     "iopub.status.busy": "2024-02-11T00:56:56.946928Z",
     "iopub.status.idle": "2024-02-11T00:56:56.959919Z",
     "shell.execute_reply": "2024-02-11T00:56:56.959193Z",
     "shell.execute_reply.started": "2024-02-11T00:56:56.947127Z"
    }
   },
   "outputs": [
    {
     "data": {
      "text/html": [
       "<div>\n",
       "<style scoped>\n",
       "    .dataframe tbody tr th:only-of-type {\n",
       "        vertical-align: middle;\n",
       "    }\n",
       "\n",
       "    .dataframe tbody tr th {\n",
       "        vertical-align: top;\n",
       "    }\n",
       "\n",
       "    .dataframe thead th {\n",
       "        text-align: right;\n",
       "    }\n",
       "</style>\n",
       "<table border=\"1\" class=\"dataframe\">\n",
       "  <thead>\n",
       "    <tr style=\"text-align: right;\">\n",
       "      <th></th>\n",
       "      <th>avg_v_before_max_ch</th>\n",
       "      <th>avg_v_before_min_ch</th>\n",
       "      <th>ch</th>\n",
       "      <th>ch_max</th>\n",
       "      <th>ch_min</th>\n",
       "      <th>ch_since_max</th>\n",
       "      <th>ch_since_min</th>\n",
       "      <th>distance_max_ch</th>\n",
       "      <th>distance_min_ch</th>\n",
       "      <th>v_ch_max_is_from</th>\n",
       "      <th>...</th>\n",
       "      <th>timedelta_since_position_enter</th>\n",
       "      <th>v_ch_max_is_to_when_enter</th>\n",
       "      <th>v_ch_min_is_to_when_enter</th>\n",
       "      <th>v_ch_max_is_from_when_enter</th>\n",
       "      <th>v_ch_min_is_from_when_enter</th>\n",
       "      <th>ch_from_enter</th>\n",
       "      <th>ch_from_lowest_since_enter</th>\n",
       "      <th>position_changed</th>\n",
       "      <th>profit_raw</th>\n",
       "      <th>profit</th>\n",
       "    </tr>\n",
       "    <tr>\n",
       "      <th>timestamp</th>\n",
       "      <th></th>\n",
       "      <th></th>\n",
       "      <th></th>\n",
       "      <th></th>\n",
       "      <th></th>\n",
       "      <th></th>\n",
       "      <th></th>\n",
       "      <th></th>\n",
       "      <th></th>\n",
       "      <th></th>\n",
       "      <th></th>\n",
       "      <th></th>\n",
       "      <th></th>\n",
       "      <th></th>\n",
       "      <th></th>\n",
       "      <th></th>\n",
       "      <th></th>\n",
       "      <th></th>\n",
       "      <th></th>\n",
       "      <th></th>\n",
       "      <th></th>\n",
       "    </tr>\n",
       "  </thead>\n",
       "  <tbody>\n",
       "  </tbody>\n",
       "</table>\n",
       "<p>0 rows × 32 columns</p>\n",
       "</div>"
      ],
      "text/plain": [
       "Empty DataFrame\n",
       "Columns: [avg_v_before_max_ch, avg_v_before_min_ch, ch, ch_max, ch_min, ch_since_max, ch_since_min, distance_max_ch, distance_min_ch, v_ch_max_is_from, v_ch_max_is_to, v_ch_min_is_from, v_ch_min_is_to, value, ch_collective, ch_max_collective, ch_min_collective, ch_since_max_collective, ch_since_min_collective, in_position, value_at_enter, lowest_since_enter, timedelta_since_position_enter, v_ch_max_is_to_when_enter, v_ch_min_is_to_when_enter, v_ch_max_is_from_when_enter, v_ch_min_is_from_when_enter, ch_from_enter, ch_from_lowest_since_enter, position_changed, profit_raw, profit]\n",
       "Index: []\n",
       "\n",
       "[0 rows x 32 columns]"
      ]
     },
     "execution_count": 378,
     "metadata": {},
     "output_type": "execute_result"
    }
   ],
   "source": [
    "df_trading[\n",
    "    (df_trading.index >=  '2024-01-03 12:14:00') &\n",
    "    (df_trading.index <=  '2024-01-03 12:18:00')\n",
    "]"
   ]
  },
  {
   "cell_type": "code",
   "execution_count": null,
   "id": "7b753f86-d4cb-4d2c-aa8e-a538789fe9eb",
   "metadata": {},
   "outputs": [],
   "source": []
  },
  {
   "cell_type": "code",
   "execution_count": null,
   "id": "b123c5ca-e413-4db6-89c0-fa9b1d7a1b8f",
   "metadata": {},
   "outputs": [],
   "source": []
  },
  {
   "cell_type": "code",
   "execution_count": 146,
   "id": "63d3c584-0933-41ff-b011-f355844b2083",
   "metadata": {
    "execution": {
     "iopub.execute_input": "2024-02-01T16:21:28.219991Z",
     "iopub.status.busy": "2024-02-01T16:21:28.219605Z",
     "iopub.status.idle": "2024-02-01T16:21:28.230264Z",
     "shell.execute_reply": "2024-02-01T16:21:28.229637Z",
     "shell.execute_reply.started": "2024-02-01T16:21:28.219962Z"
    }
   },
   "outputs": [
    {
     "data": {
      "text/html": [
       "<div>\n",
       "<style scoped>\n",
       "    .dataframe tbody tr th:only-of-type {\n",
       "        vertical-align: middle;\n",
       "    }\n",
       "\n",
       "    .dataframe tbody tr th {\n",
       "        vertical-align: top;\n",
       "    }\n",
       "\n",
       "    .dataframe thead th {\n",
       "        text-align: right;\n",
       "    }\n",
       "</style>\n",
       "<table border=\"1\" class=\"dataframe\">\n",
       "  <thead>\n",
       "    <tr style=\"text-align: right;\">\n",
       "      <th></th>\n",
       "      <th>value</th>\n",
       "      <th>in_position</th>\n",
       "      <th>position_changed</th>\n",
       "      <th>profit_raw</th>\n",
       "      <th>profit</th>\n",
       "    </tr>\n",
       "    <tr>\n",
       "      <th>timestamp</th>\n",
       "      <th></th>\n",
       "      <th></th>\n",
       "      <th></th>\n",
       "      <th></th>\n",
       "      <th></th>\n",
       "    </tr>\n",
       "  </thead>\n",
       "  <tbody>\n",
       "    <tr>\n",
       "      <th>2024-01-03 12:27:00</th>\n",
       "      <td>1.7395</td>\n",
       "      <td>1</td>\n",
       "      <td>1.0</td>\n",
       "      <td>0.000</td>\n",
       "      <td>0.000000</td>\n",
       "    </tr>\n",
       "    <tr>\n",
       "      <th>2024-01-03 12:29:00</th>\n",
       "      <td>1.8060</td>\n",
       "      <td>0</td>\n",
       "      <td>-1.0</td>\n",
       "      <td>-0.016</td>\n",
       "      <td>-0.008939</td>\n",
       "    </tr>\n",
       "  </tbody>\n",
       "</table>\n",
       "</div>"
      ],
      "text/plain": [
       "                      value  in_position  position_changed  profit_raw  \\\n",
       "timestamp                                                                \n",
       "2024-01-03 12:27:00  1.7395            1               1.0       0.000   \n",
       "2024-01-03 12:29:00  1.8060            0              -1.0      -0.016   \n",
       "\n",
       "                       profit  \n",
       "timestamp                      \n",
       "2024-01-03 12:27:00  0.000000  \n",
       "2024-01-03 12:29:00 -0.008939  "
      ]
     },
     "execution_count": 146,
     "metadata": {},
     "output_type": "execute_result"
    }
   ],
   "source": [
    "df_trading[(df_trading.position_changed != 0)][['value', 'in_position', 'position_changed', 'profit_raw', 'profit']].dropna()"
   ]
  },
  {
   "cell_type": "code",
   "execution_count": 147,
   "id": "ca4f0673-629c-47ed-87d9-95cd400c97c8",
   "metadata": {
    "execution": {
     "iopub.execute_input": "2024-02-01T16:21:29.822541Z",
     "iopub.status.busy": "2024-02-01T16:21:29.821963Z",
     "iopub.status.idle": "2024-02-01T16:21:30.096208Z",
     "shell.execute_reply": "2024-02-01T16:21:30.095551Z",
     "shell.execute_reply.started": "2024-02-01T16:21:29.822506Z"
    }
   },
   "outputs": [
    {
     "name": "stdout",
     "output_type": "stream",
     "text": [
      "2024-01-03 12:27:00, ARB-USDT-SWAP, 1.7395, position_changed: 1.0\n",
      "2024-01-03 12:28:00, ARB-USDT-SWAP, 1.79, position_changed: -1.0\n"
     ]
    }
   ],
   "source": [
    "for _, row in dfst_trading[(dfst_trading.position_changed != 0)].dropna().reset_index().sort_values('timestamp').iterrows():\n",
    "    if row['symbol'] != symbol_investigate: continue\n",
    "    print(f'{row[\"timestamp\"]}, {row[\"symbol\"]}, {row[\"value\"]}, position_changed: {row[\"position_changed\"]}')"
   ]
  },
  {
   "cell_type": "code",
   "execution_count": null,
   "id": "668c9e32-f919-4360-9c27-afd2ef1084ad",
   "metadata": {},
   "outputs": [],
   "source": []
  }
 ],
 "metadata": {
  "kernelspec": {
   "display_name": "Python 3 (ipykernel)",
   "language": "python",
   "name": "python3"
  },
  "language_info": {
   "codemirror_mode": {
    "name": "ipython",
    "version": 3
   },
   "file_extension": ".py",
   "mimetype": "text/x-python",
   "name": "python",
   "nbconvert_exporter": "python",
   "pygments_lexer": "ipython3",
   "version": "3.10.12"
  }
 },
 "nbformat": 4,
 "nbformat_minor": 5
}
