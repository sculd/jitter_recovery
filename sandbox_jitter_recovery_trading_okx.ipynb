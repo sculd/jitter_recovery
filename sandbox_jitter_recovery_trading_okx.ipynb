{
 "cells": [
  {
   "cell_type": "markdown",
   "id": "f2737de0-4e5d-4c43-a52a-96c3c639e234",
   "metadata": {
    "execution": {
     "iopub.execute_input": "2023-12-12T21:48:55.276471Z",
     "iopub.status.busy": "2023-12-12T21:48:55.276035Z",
     "iopub.status.idle": "2023-12-12T21:48:55.282856Z",
     "shell.execute_reply": "2023-12-12T21:48:55.281886Z",
     "shell.execute_reply.started": "2023-12-12T21:48:55.276437Z"
    }
   },
   "source": [
    "## import & load"
   ]
  },
  {
   "cell_type": "code",
   "execution_count": 1,
   "id": "a115d0f3-c935-4c05-a33a-732933233c0a",
   "metadata": {
    "execution": {
     "iopub.execute_input": "2024-03-02T18:30:06.853981Z",
     "iopub.status.busy": "2024-03-02T18:30:06.853655Z",
     "iopub.status.idle": "2024-03-02T18:30:07.931959Z",
     "shell.execute_reply": "2024-03-02T18:30:07.931400Z",
     "shell.execute_reply.started": "2024-03-02T18:30:06.853957Z"
    }
   },
   "outputs": [],
   "source": [
    "import pandas as pd\n",
    "import numpy as np\n",
    "import sys\n",
    "import requests\n",
    "import pprint\n",
    "\n",
    "import datetime\n",
    "import pytz\n",
    "import importlib\n",
    "import matplotlib.pyplot as plt\n",
    "\n",
    "import datetime, json, math\n",
    "from google.cloud import bigquery\n",
    "from numpy_ext import rolling_apply as rolling_apply_ext"
   ]
  },
  {
   "cell_type": "code",
   "execution_count": 2,
   "id": "da881dba-cd40-4bd5-ba15-3fa2691a5107",
   "metadata": {
    "execution": {
     "iopub.execute_input": "2024-03-02T18:30:07.932854Z",
     "iopub.status.busy": "2024-03-02T18:30:07.932657Z",
     "iopub.status.idle": "2024-03-02T18:30:07.935442Z",
     "shell.execute_reply": "2024-03-02T18:30:07.934826Z",
     "shell.execute_reply.started": "2024-03-02T18:30:07.932842Z"
    }
   },
   "outputs": [],
   "source": [
    "import os\n",
    "\n",
    "if os.path.exists('credential.json'):\n",
    "    os.environ[\"GOOGLE_APPLICATION_CREDENTIALS\"] = os.path.join(os.getcwd(), 'credential.json')"
   ]
  },
  {
   "cell_type": "code",
   "execution_count": 3,
   "id": "0781806b-5f96-42f9-acec-2b15f54f6b35",
   "metadata": {
    "execution": {
     "iopub.execute_input": "2024-03-02T18:30:07.936937Z",
     "iopub.status.busy": "2024-03-02T18:30:07.936696Z",
     "iopub.status.idle": "2024-03-02T18:30:18.578920Z",
     "shell.execute_reply": "2024-03-02T18:30:18.578210Z",
     "shell.execute_reply.started": "2024-03-02T18:30:07.936917Z"
    }
   },
   "outputs": [
    {
     "data": {
      "text/plain": [
       "<module 'data.okx.read' from '/home/junlim/projects/jitter_recovery/data/okx/read.py'>"
      ]
     },
     "execution_count": 3,
     "metadata": {},
     "output_type": "execute_result"
    }
   ],
   "source": [
    "import data.read\n",
    "importlib.reload(data.read)\n",
    "import data.okx.read\n",
    "importlib.reload(data.okx.read)"
   ]
  },
  {
   "cell_type": "code",
   "execution_count": 4,
   "id": "6a2ffc80-5719-43fe-b7dd-ea2bc98199b2",
   "metadata": {
    "execution": {
     "iopub.execute_input": "2024-03-02T18:30:18.579918Z",
     "iopub.status.busy": "2024-03-02T18:30:18.579789Z",
     "iopub.status.idle": "2024-03-02T18:30:21.637594Z",
     "shell.execute_reply": "2024-03-02T18:30:21.636757Z",
     "shell.execute_reply.started": "2024-03-02T18:30:18.579907Z"
    }
   },
   "outputs": [],
   "source": [
    "#df = data.okx.read.df_okx_20231201_1231.dropna()\n",
    "df = data.okx.read.df_okx_20240101_0131.dropna()\n",
    "#df = data.okx.read.df_okx_20240301_0303.dropna()\n",
    "df_close = df.pivot(index='timestamp', columns='symbol', values='close')\n",
    "dfi = df.set_index(['timestamp', 'symbol'])\n",
    "all_symbols = df.symbol.unique()"
   ]
  },
  {
   "cell_type": "code",
   "execution_count": 5,
   "id": "1b480da7-73e5-4162-bbe8-d672c5b9439b",
   "metadata": {
    "execution": {
     "iopub.execute_input": "2024-03-02T18:30:21.638258Z",
     "iopub.status.busy": "2024-03-02T18:30:21.638131Z",
     "iopub.status.idle": "2024-03-02T18:30:21.646782Z",
     "shell.execute_reply": "2024-03-02T18:30:21.646302Z",
     "shell.execute_reply.started": "2024-03-02T18:30:21.638247Z"
    }
   },
   "outputs": [
    {
     "data": {
      "text/html": [
       "<div>\n",
       "<style scoped>\n",
       "    .dataframe tbody tr th:only-of-type {\n",
       "        vertical-align: middle;\n",
       "    }\n",
       "\n",
       "    .dataframe tbody tr th {\n",
       "        vertical-align: top;\n",
       "    }\n",
       "\n",
       "    .dataframe thead th {\n",
       "        text-align: right;\n",
       "    }\n",
       "</style>\n",
       "<table border=\"1\" class=\"dataframe\">\n",
       "  <thead>\n",
       "    <tr style=\"text-align: right;\">\n",
       "      <th></th>\n",
       "      <th>timestamp</th>\n",
       "      <th>symbol</th>\n",
       "      <th>open</th>\n",
       "      <th>high</th>\n",
       "      <th>low</th>\n",
       "      <th>close</th>\n",
       "      <th>volume</th>\n",
       "    </tr>\n",
       "  </thead>\n",
       "  <tbody>\n",
       "    <tr>\n",
       "      <th>0</th>\n",
       "      <td>2024-01-01 05:00:00</td>\n",
       "      <td>TURBO-USDT-SWAP</td>\n",
       "      <td>0.000352</td>\n",
       "      <td>0.000352</td>\n",
       "      <td>0.000352</td>\n",
       "      <td>0.000352</td>\n",
       "      <td>500000.0</td>\n",
       "    </tr>\n",
       "    <tr>\n",
       "      <th>1</th>\n",
       "      <td>2024-01-01 05:00:00</td>\n",
       "      <td>LOOKS-USDT-SWAP</td>\n",
       "      <td>0.076400</td>\n",
       "      <td>0.076400</td>\n",
       "      <td>0.076300</td>\n",
       "      <td>0.076400</td>\n",
       "      <td>3323.0</td>\n",
       "    </tr>\n",
       "  </tbody>\n",
       "</table>\n",
       "</div>"
      ],
      "text/plain": [
       "            timestamp           symbol      open      high       low  \\\n",
       "0 2024-01-01 05:00:00  TURBO-USDT-SWAP  0.000352  0.000352  0.000352   \n",
       "1 2024-01-01 05:00:00  LOOKS-USDT-SWAP  0.076400  0.076400  0.076300   \n",
       "\n",
       "      close    volume  \n",
       "0  0.000352  500000.0  \n",
       "1  0.076400    3323.0  "
      ]
     },
     "execution_count": 5,
     "metadata": {},
     "output_type": "execute_result"
    }
   ],
   "source": [
    "df.head(2)"
   ]
  },
  {
   "cell_type": "code",
   "execution_count": 6,
   "id": "f1cd98bd-1939-44bf-ad3d-d96df1a4382e",
   "metadata": {
    "execution": {
     "iopub.execute_input": "2024-03-02T18:30:21.647544Z",
     "iopub.status.busy": "2024-03-02T18:30:21.647353Z",
     "iopub.status.idle": "2024-03-02T18:30:21.663187Z",
     "shell.execute_reply": "2024-03-02T18:30:21.662720Z",
     "shell.execute_reply.started": "2024-03-02T18:30:21.647527Z"
    }
   },
   "outputs": [
    {
     "data": {
      "text/html": [
       "<div>\n",
       "<style scoped>\n",
       "    .dataframe tbody tr th:only-of-type {\n",
       "        vertical-align: middle;\n",
       "    }\n",
       "\n",
       "    .dataframe tbody tr th {\n",
       "        vertical-align: top;\n",
       "    }\n",
       "\n",
       "    .dataframe thead th {\n",
       "        text-align: right;\n",
       "    }\n",
       "</style>\n",
       "<table border=\"1\" class=\"dataframe\">\n",
       "  <thead>\n",
       "    <tr style=\"text-align: right;\">\n",
       "      <th></th>\n",
       "      <th>timestamp</th>\n",
       "      <th>symbol</th>\n",
       "      <th>open</th>\n",
       "      <th>high</th>\n",
       "      <th>low</th>\n",
       "      <th>close</th>\n",
       "      <th>volume</th>\n",
       "    </tr>\n",
       "  </thead>\n",
       "  <tbody>\n",
       "    <tr>\n",
       "      <th>4060709</th>\n",
       "      <td>2024-01-31 04:58:00</td>\n",
       "      <td>BTC-USD-SWAP</td>\n",
       "      <td>42960.8000</td>\n",
       "      <td>42960.9000</td>\n",
       "      <td>42951.9000</td>\n",
       "      <td>42954.7000</td>\n",
       "      <td>3.8149</td>\n",
       "    </tr>\n",
       "    <tr>\n",
       "      <th>4060710</th>\n",
       "      <td>2024-01-31 04:58:00</td>\n",
       "      <td>CFX-USDT-SWAP</td>\n",
       "      <td>0.2263</td>\n",
       "      <td>0.2263</td>\n",
       "      <td>0.2259</td>\n",
       "      <td>0.2261</td>\n",
       "      <td>140070.0000</td>\n",
       "    </tr>\n",
       "  </tbody>\n",
       "</table>\n",
       "</div>"
      ],
      "text/plain": [
       "                  timestamp         symbol        open        high  \\\n",
       "4060709 2024-01-31 04:58:00   BTC-USD-SWAP  42960.8000  42960.9000   \n",
       "4060710 2024-01-31 04:58:00  CFX-USDT-SWAP      0.2263      0.2263   \n",
       "\n",
       "                low       close       volume  \n",
       "4060709  42951.9000  42954.7000       3.8149  \n",
       "4060710      0.2259      0.2261  140070.0000  "
      ]
     },
     "execution_count": 6,
     "metadata": {},
     "output_type": "execute_result"
    }
   ],
   "source": [
    "df.tail(2)"
   ]
  },
  {
   "cell_type": "code",
   "execution_count": 7,
   "id": "526d8157-67cd-4563-9446-079ff50a86ec",
   "metadata": {
    "execution": {
     "iopub.execute_input": "2024-03-02T18:30:21.663894Z",
     "iopub.status.busy": "2024-03-02T18:30:21.663753Z",
     "iopub.status.idle": "2024-03-02T18:30:21.672691Z",
     "shell.execute_reply": "2024-03-02T18:30:21.672156Z",
     "shell.execute_reply.started": "2024-03-02T18:30:21.663882Z"
    }
   },
   "outputs": [],
   "source": [
    "all_symbols = [s for s in all_symbols if s]"
   ]
  },
  {
   "cell_type": "code",
   "execution_count": 8,
   "id": "2f63a12c-2f68-4b0f-abe0-e9eb20afd5b4",
   "metadata": {
    "execution": {
     "iopub.execute_input": "2024-03-02T18:30:21.673410Z",
     "iopub.status.busy": "2024-03-02T18:30:21.673222Z",
     "iopub.status.idle": "2024-03-02T18:30:21.683773Z",
     "shell.execute_reply": "2024-03-02T18:30:21.683064Z",
     "shell.execute_reply.started": "2024-03-02T18:30:21.673399Z"
    }
   },
   "outputs": [
    {
     "data": {
      "text/plain": [
       "163"
      ]
     },
     "execution_count": 8,
     "metadata": {},
     "output_type": "execute_result"
    }
   ],
   "source": [
    "len([s for s in all_symbols if 'USDT' in s])"
   ]
  },
  {
   "cell_type": "code",
   "execution_count": null,
   "id": "580bc04c-057f-4f19-827b-0a6d69e35322",
   "metadata": {},
   "outputs": [],
   "source": []
  },
  {
   "cell_type": "markdown",
   "id": "9bb84b8e-cb19-47dd-a19e-fc04b0721b1a",
   "metadata": {},
   "source": [
    "## multiple symbols"
   ]
  },
  {
   "cell_type": "code",
   "execution_count": 16,
   "id": "7e4ad85d-1c7a-4dcf-b468-da209eb874d2",
   "metadata": {
    "execution": {
     "iopub.execute_input": "2024-03-02T19:20:03.421855Z",
     "iopub.status.busy": "2024-03-02T19:20:03.421564Z",
     "iopub.status.idle": "2024-03-02T19:20:03.538683Z",
     "shell.execute_reply": "2024-03-02T19:20:03.538199Z",
     "shell.execute_reply.started": "2024-03-02T19:20:03.421834Z"
    }
   },
   "outputs": [
    {
     "data": {
      "text/plain": [
       "<module 'algo.jitter_recovery.research' from '/home/junlim/projects/jitter_recovery/algo/jitter_recovery/research.py'>"
      ]
     },
     "execution_count": 16,
     "metadata": {},
     "output_type": "execute_result"
    }
   ],
   "source": [
    "import algo.jitter_recovery.calculate\n",
    "importlib.reload(algo.jitter_recovery.calculate)\n",
    "import algo.jitter_recovery.research\n",
    "importlib.reload(algo.jitter_recovery.research)"
   ]
  },
  {
   "cell_type": "code",
   "execution_count": 10,
   "id": "dde2af94-4fca-46e0-bbf4-ad2201155953",
   "metadata": {
    "execution": {
     "iopub.execute_input": "2024-03-02T18:30:22.652874Z",
     "iopub.status.busy": "2024-03-02T18:30:22.652548Z",
     "iopub.status.idle": "2024-03-02T18:30:22.656438Z",
     "shell.execute_reply": "2024-03-02T18:30:22.655797Z",
     "shell.execute_reply.started": "2024-03-02T18:30:22.652853Z"
    }
   },
   "outputs": [],
   "source": [
    "feature_param = algo.jitter_recovery.calculate.JitterRecoveryFeatureParam(30)"
   ]
  },
  {
   "cell_type": "code",
   "execution_count": 11,
   "id": "654c4640-8c77-47f8-b5ca-84e70e9e5f12",
   "metadata": {
    "execution": {
     "iopub.execute_input": "2024-03-02T18:30:22.657500Z",
     "iopub.status.busy": "2024-03-02T18:30:22.657192Z",
     "iopub.status.idle": "2024-03-02T18:38:11.631143Z",
     "shell.execute_reply": "2024-03-02T18:38:11.630406Z",
     "shell.execute_reply.started": "2024-03-02T18:30:22.657477Z"
    },
    "scrolled": true
   },
   "outputs": [
    {
     "name": "stdout",
     "output_type": "stream",
     "text": [
      "0 symbol: TURBO-USDT-SWAP (feature)\n",
      "1 symbol: LOOKS-USDT-SWAP (feature)\n",
      "2 symbol: IOST-USDT-SWAP (feature)\n",
      "3 symbol: TRX-USDT-SWAP (feature)\n",
      "4 symbol: PEPE-USDT-SWAP (feature)\n",
      "5 symbol: BLUR-USDT-SWAP (feature)\n",
      "6 symbol: NFT-USDT-SWAP (feature)\n",
      "7 symbol: TIA-USDT-SWAP (feature)\n",
      "8 symbol: STX-USDT-SWAP (feature)\n",
      "9 symbol: ALGO-USDT-SWAP (feature)\n",
      "10 symbol: ETH-USDT-SWAP (feature)\n",
      "11 symbol: AGIX-USDT-SWAP (feature)\n",
      "12 symbol: FET-USDT-SWAP (feature)\n",
      "13 symbol: THETA-USDT-SWAP (feature)\n",
      "14 symbol: KSM-USDT-SWAP (feature)\n",
      "15 symbol: STORJ-USDT-SWAP (feature)\n",
      "16 symbol: PEOPLE-USDT-SWAP (feature)\n",
      "17 symbol: WOO-USDT-SWAP (feature)\n",
      "18 symbol: USTC-USDT-SWAP (feature)\n",
      "19 symbol: MATIC-USDT-SWAP (feature)\n",
      "20 symbol: TON-USDT-SWAP (feature)\n",
      "21 symbol: AXS-USDT-SWAP (feature)\n",
      "22 symbol: GMX-USDT-SWAP (feature)\n",
      "23 symbol: ONT-USDT-SWAP (feature)\n",
      "24 symbol: HBAR-USDT-SWAP (feature)\n",
      "25 symbol: GMT-USDT-SWAP (feature)\n",
      "26 symbol: CSPR-USDT-SWAP (feature)\n",
      "27 symbol: XCH-USDT-SWAP (feature)\n",
      "28 symbol: GALA-USDT-SWAP (feature)\n",
      "29 symbol: UMA-USDT-SWAP (feature)\n",
      "30 symbol: YFII-USDT-SWAP (feature)\n",
      "31 symbol: XLM-USDT-SWAP (feature)\n",
      "32 symbol: WSM-USDT-SWAP (feature)\n",
      "33 symbol: APE-USDT-SWAP (feature)\n",
      "34 symbol: RVN-USDT-SWAP (feature)\n",
      "35 symbol: AIDOGE-USDT-SWAP (feature)\n",
      "36 symbol: GRT-USDT-SWAP (feature)\n",
      "37 symbol: STARL-USDT-SWAP (feature)\n",
      "38 symbol: FTM-USDT-SWAP (feature)\n",
      "39 symbol: TRB-USDT-SWAP (feature)\n",
      "40 symbol: SUI-USDT-SWAP (feature)\n",
      "41 symbol: AGLD-USDT-SWAP (feature)\n",
      "42 symbol: FLOKI-USDT-SWAP (feature)\n",
      "43 symbol: JST-USDT-SWAP (feature)\n",
      "44 symbol: WAXP-USDT-SWAP (feature)\n",
      "45 symbol: RNDR-USDT-SWAP (feature)\n",
      "46 symbol: SSV-USDT-SWAP (feature)\n",
      "47 symbol: ICP-USDT-SWAP (feature)\n",
      "48 symbol: RSR-USDT-SWAP (feature)\n",
      "49 symbol: SHIB-USDT-SWAP (feature)\n",
      "50 symbol: MAGIC-USDT-SWAP (feature)\n",
      "51 symbol: LDO-USDT-SWAP (feature)\n",
      "52 symbol: BAND-USDT-SWAP (feature)\n",
      "53 symbol: CRO-USDT-SWAP (feature)\n",
      "54 symbol: FITFI-USDT-SWAP (feature)\n",
      "55 symbol: PERP-USDT-SWAP (feature)\n",
      "56 symbol: RACA-USDT-SWAP (feature)\n",
      "57 symbol: COMP-USDT-SWAP (feature)\n",
      "58 symbol: MANA-USDT-SWAP (feature)\n",
      "59 symbol: LUNC-USDT-SWAP (feature)\n",
      "60 symbol: CEL-USDT-SWAP (feature)\n",
      "61 symbol: LPT-USDT-SWAP (feature)\n",
      "62 symbol: RON-USDT-SWAP (feature)\n",
      "63 symbol: YGG-USDT-SWAP (feature)\n",
      "64 symbol: RDNT-USDT-SWAP (feature)\n",
      "65 symbol: LUNA-USDT-SWAP (feature)\n",
      "66 symbol: AUCTION-USDT-SWAP (feature)\n",
      "67 symbol: ZRX-USDT-SWAP (feature)\n",
      "68 symbol: KLAY-USDT-SWAP (feature)\n",
      "69 symbol: CETUS-USDT-SWAP (feature)\n",
      "70 symbol: FLM-USDT-SWAP (feature)\n",
      "71 symbol: ADA-USDT-SWAP (feature)\n",
      "72 symbol: NEO-USDT-SWAP (feature)\n",
      "73 symbol: PYTH-USDT-SWAP (feature)\n",
      "74 symbol: ETHW-USDT-SWAP (feature)\n",
      "75 symbol: ETC-USDT-SWAP (feature)\n",
      "76 symbol: FRONT-USDT-SWAP (feature)\n",
      "77 symbol: SUSHI-USDT-SWAP (feature)\n",
      "78 symbol: SWEAT-USDT-SWAP (feature)\n",
      "79 symbol: UNI-USDT-SWAP (feature)\n",
      "80 symbol: NEAR-USDT-SWAP (feature)\n",
      "81 symbol: KNC-USDT-SWAP (feature)\n",
      "82 symbol: YFI-USDT-SWAP (feature)\n",
      "83 symbol: ENS-USDT-SWAP (feature)\n",
      "84 symbol: ZIL-USDT-SWAP (feature)\n",
      "85 symbol: KISHU-USDT-SWAP (feature)\n",
      "86 symbol: CORE-USDT-SWAP (feature)\n",
      "87 symbol: MASK-USDT-SWAP (feature)\n",
      "88 symbol: AVAX-USDT-SWAP (feature)\n",
      "89 symbol: EOS-USDT-SWAP (feature)\n",
      "90 symbol: INJ-USDT-SWAP (feature)\n",
      "91 symbol: GFT-USDT-SWAP (feature)\n",
      "92 symbol: AAVE-USDT-SWAP (feature)\n",
      "93 symbol: XRP-USDT-SWAP (feature)\n",
      "94 symbol: BAT-USDT-SWAP (feature)\n",
      "95 symbol: LTC-USDT-SWAP (feature)\n",
      "96 symbol: OP-USDT-SWAP (feature)\n",
      "97 symbol: 1INCH-USDT-SWAP (feature)\n",
      "98 symbol: IOTA-USDT-SWAP (feature)\n",
      "99 symbol: ALPHA-USDT-SWAP (feature)\n",
      "100 symbol: DOGE-USDT-SWAP (feature)\n",
      "101 symbol: CFX-USDT-SWAP (feature)\n",
      "102 symbol: SLP-USDT-SWAP (feature)\n",
      "103 symbol: API3-USDT-SWAP (feature)\n",
      "104 symbol: MEME-USDT-SWAP (feature)\n",
      "105 symbol: VRA-USDT-SWAP (feature)\n",
      "106 symbol: LRC-USDT-SWAP (feature)\n",
      "107 symbol: QTUM-USDT-SWAP (feature)\n",
      "108 symbol: CRV-USDT-SWAP (feature)\n",
      "109 symbol: WLD-USDT-SWAP (feature)\n",
      "110 symbol: APT-USDT-SWAP (feature)\n",
      "111 symbol: BAL-USDT-SWAP (feature)\n",
      "112 symbol: FIL-USDT-SWAP (feature)\n",
      "113 symbol: SAND-USDT-SWAP (feature)\n",
      "114 symbol: SOL-USDT-SWAP (feature)\n",
      "115 symbol: USDC-USDT-SWAP (feature)\n",
      "116 symbol: CTC-USDT-SWAP (feature)\n",
      "117 symbol: ARB-USDT-SWAP (feature)\n",
      "118 symbol: ACE-USDT-SWAP (feature)\n",
      "119 symbol: AR-USDT-SWAP (feature)\n",
      "120 symbol: OMG-USDT-SWAP (feature)\n",
      "121 symbol: GAS-USDT-SWAP (feature)\n",
      "122 symbol: FLOW-USDT-SWAP (feature)\n",
      "123 symbol: BNB-USDT-SWAP (feature)\n",
      "124 symbol: BADGER-USDT-SWAP (feature)\n",
      "125 symbol: WAVES-USDT-SWAP (feature)\n",
      "126 symbol: IMX-USDT-SWAP (feature)\n",
      "127 symbol: DOT-USDT-SWAP (feature)\n",
      "128 symbol: SNX-USDT-SWAP (feature)\n",
      "129 symbol: METIS-USDT-SWAP (feature)\n",
      "130 symbol: CELO-USDT-SWAP (feature)\n",
      "131 symbol: LINK-USDT-SWAP (feature)\n",
      "132 symbol: BICO-USDT-SWAP (feature)\n",
      "133 symbol: ATOM-USDT-SWAP (feature)\n",
      "134 symbol: CVC-USDT-SWAP (feature)\n",
      "135 symbol: BTC-USDT-SWAP (feature)\n",
      "136 symbol: ANT-USDT-SWAP (feature)\n",
      "137 symbol: EGLD-USDT-SWAP (feature)\n",
      "138 symbol: BSV-USDT-SWAP (feature)\n",
      "139 symbol: SATS-USDT-SWAP (feature)\n",
      "140 symbol: DYDX-USDT-SWAP (feature)\n",
      "141 symbol: BCH-USDT-SWAP (feature)\n",
      "142 symbol: XTZ-USDT-SWAP (feature)\n",
      "143 symbol: ORDI-USDT-SWAP (feature)\n",
      "144 symbol: MKR-USDT-SWAP (feature)\n",
      "145 symbol: REN-USDT-SWAP (feature)\n",
      "146 symbol: MINA-USDT-SWAP (feature)\n",
      "147 symbol: BNT-USDT-SWAP (feature)\n",
      "148 symbol: ID-USDT-SWAP (feature)\n",
      "149 symbol: ORBS-USDT-SWAP (feature)\n",
      "150 symbol: CHZ-USDT-SWAP (feature)\n",
      "151 symbol: BIGTIME-USDT-SWAP (feature)\n",
      "152 symbol: GODS-USDT-SWAP (feature)\n",
      "153 symbol: BONK-USDT-SWAP (feature)\n",
      "154 symbol: JTO-USDT-SWAP (feature)\n",
      "155 symbol: MOVR-USDT-SWAP (feature)\n",
      "156 symbol: GAL-USDT-SWAP (feature)\n",
      "157 symbol: JOE-USDT-SWAP (feature)\n",
      "158 symbol: NMR-USDT-SWAP (feature)\n",
      "159 symbol: LQTY-USDT-SWAP (feature)\n",
      "160 symbol: FXS-USDT-SWAP (feature)\n",
      "161 symbol: LSK-USDT-SWAP (feature)\n",
      "162 symbol: DMAIL-USDT-SWAP (feature)\n"
     ]
    }
   ],
   "source": [
    "dfst_feature = algo.jitter_recovery.research.get_dfst_feature(df, feature_param)"
   ]
  },
  {
   "cell_type": "code",
   "execution_count": 12,
   "id": "845eb1a9-0ebe-4101-a968-8402ffd96de2",
   "metadata": {
    "execution": {
     "iopub.execute_input": "2024-03-02T18:38:11.632022Z",
     "iopub.status.busy": "2024-03-02T18:38:11.631858Z",
     "iopub.status.idle": "2024-03-02T18:38:14.451694Z",
     "shell.execute_reply": "2024-03-02T18:38:14.450930Z",
     "shell.execute_reply.started": "2024-03-02T18:38:11.632007Z"
    },
    "scrolled": true
   },
   "outputs": [
    {
     "data": {
      "text/plain": [
       "array(['TRB-USDT-SWAP', 'BSV-USDT-SWAP', 'PERP-USDT-SWAP',\n",
       "       'ACE-USDT-SWAP', 'PEPE-USDT-SWAP', 'BIGTIME-USDT-SWAP',\n",
       "       'TURBO-USDT-SWAP', 'AGIX-USDT-SWAP', 'BAND-USDT-SWAP',\n",
       "       'SUSHI-USDT-SWAP', 'WLD-USDT-SWAP', 'GAS-USDT-SWAP',\n",
       "       'SOL-USDT-SWAP', 'CTC-USDT-SWAP', 'BADGER-USDT-SWAP',\n",
       "       'FLOW-USDT-SWAP', 'SHIB-USDT-SWAP', 'GALA-USDT-SWAP',\n",
       "       'OP-USDT-SWAP', 'APE-USDT-SWAP', 'TIA-USDT-SWAP',\n",
       "       'METIS-USDT-SWAP', 'LUNA-USDT-SWAP', 'ARB-USDT-SWAP',\n",
       "       'ORDI-USDT-SWAP', 'USTC-USDT-SWAP', 'ORBS-USDT-SWAP',\n",
       "       'STARL-USDT-SWAP', 'DYDX-USDT-SWAP', 'MINA-USDT-SWAP',\n",
       "       'RSR-USDT-SWAP', 'KNC-USDT-SWAP', 'ALGO-USDT-SWAP',\n",
       "       'MAGIC-USDT-SWAP', 'AUCTION-USDT-SWAP', 'IMX-USDT-SWAP',\n",
       "       'ETHW-USDT-SWAP', 'MKR-USDT-SWAP', 'MATIC-USDT-SWAP',\n",
       "       'KLAY-USDT-SWAP', 'GMX-USDT-SWAP', 'PYTH-USDT-SWAP',\n",
       "       'LOOKS-USDT-SWAP', 'XCH-USDT-SWAP', 'LRC-USDT-SWAP',\n",
       "       'WSM-USDT-SWAP', 'INJ-USDT-SWAP', 'LTC-USDT-SWAP',\n",
       "       'NEAR-USDT-SWAP', 'FIL-USDT-SWAP', 'SAND-USDT-SWAP',\n",
       "       'SATS-USDT-SWAP', 'LUNC-USDT-SWAP', 'SSV-USDT-SWAP',\n",
       "       'COMP-USDT-SWAP', 'LDO-USDT-SWAP', 'RNDR-USDT-SWAP',\n",
       "       'BLUR-USDT-SWAP', 'REN-USDT-SWAP', 'CELO-USDT-SWAP',\n",
       "       'CVC-USDT-SWAP', 'AXS-USDT-SWAP', '1INCH-USDT-SWAP',\n",
       "       'MEME-USDT-SWAP', 'SUI-USDT-SWAP', 'CETUS-USDT-SWAP',\n",
       "       'FTM-USDT-SWAP', 'IOST-USDT-SWAP', 'EGLD-USDT-SWAP',\n",
       "       'KSM-USDT-SWAP', 'ENS-USDT-SWAP', 'DOGE-USDT-SWAP',\n",
       "       'GMT-USDT-SWAP', 'LPT-USDT-SWAP', 'TON-USDT-SWAP', 'ICP-USDT-SWAP',\n",
       "       'SNX-USDT-SWAP', 'OMG-USDT-SWAP', 'XRP-USDT-SWAP',\n",
       "       'ALPHA-USDT-SWAP', 'ATOM-USDT-SWAP', 'BICO-USDT-SWAP',\n",
       "       'AVAX-USDT-SWAP', 'CRO-USDT-SWAP', 'WOO-USDT-SWAP',\n",
       "       'ZRX-USDT-SWAP', 'BAL-USDT-SWAP', 'RACA-USDT-SWAP',\n",
       "       'CEL-USDT-SWAP', 'GRT-USDT-SWAP', 'THETA-USDT-SWAP',\n",
       "       'IOTA-USDT-SWAP', 'AR-USDT-SWAP', 'UMA-USDT-SWAP', 'STX-USDT-SWAP',\n",
       "       'VRA-USDT-SWAP', 'YGG-USDT-SWAP', 'BAT-USDT-SWAP',\n",
       "       'AGLD-USDT-SWAP', 'APT-USDT-SWAP', 'FET-USDT-SWAP',\n",
       "       'UNI-USDT-SWAP', 'MANA-USDT-SWAP', 'STORJ-USDT-SWAP',\n",
       "       'RVN-USDT-SWAP', 'BNT-USDT-SWAP', 'DOT-USDT-SWAP',\n",
       "       'PEOPLE-USDT-SWAP', 'QTUM-USDT-SWAP', 'LINK-USDT-SWAP',\n",
       "       'HBAR-USDT-SWAP', 'CRV-USDT-SWAP', 'FLM-USDT-SWAP',\n",
       "       'MASK-USDT-SWAP', 'WAVES-USDT-SWAP', 'RDNT-USDT-SWAP',\n",
       "       'XLM-USDT-SWAP', 'FLOKI-USDT-SWAP', 'GODS-USDT-SWAP',\n",
       "       'ID-USDT-SWAP', 'API3-USDT-SWAP', 'XTZ-USDT-SWAP',\n",
       "       'AAVE-USDT-SWAP', 'NEO-USDT-SWAP', 'FITFI-USDT-SWAP',\n",
       "       'CFX-USDT-SWAP', 'BCH-USDT-SWAP', 'ADA-USDT-SWAP', 'GFT-USDT-SWAP',\n",
       "       'CORE-USDT-SWAP', 'SLP-USDT-SWAP', 'YFII-USDT-SWAP',\n",
       "       'CSPR-USDT-SWAP', 'YFI-USDT-SWAP', 'JTO-USDT-SWAP',\n",
       "       'BONK-USDT-SWAP', 'SWEAT-USDT-SWAP', 'NMR-USDT-SWAP',\n",
       "       'GAL-USDT-SWAP', 'FRONT-USDT-SWAP'], dtype=object)"
      ]
     },
     "execution_count": 12,
     "metadata": {},
     "output_type": "execute_result"
    }
   ],
   "source": [
    "dfst_feature[dfst_feature.ch_max > 0.1].index.get_level_values('symbol').unique().values"
   ]
  },
  {
   "cell_type": "code",
   "execution_count": null,
   "id": "570a70c7-9174-470a-bb31-4e0d33033ab8",
   "metadata": {},
   "outputs": [],
   "source": []
  },
  {
   "cell_type": "code",
   "execution_count": 13,
   "id": "1a482aa6-7261-47bb-826d-a52e9e3622a6",
   "metadata": {
    "execution": {
     "iopub.execute_input": "2024-03-02T18:38:14.452606Z",
     "iopub.status.busy": "2024-03-02T18:38:14.452398Z",
     "iopub.status.idle": "2024-03-02T18:38:14.455609Z",
     "shell.execute_reply": "2024-03-02T18:38:14.455020Z",
     "shell.execute_reply.started": "2024-03-02T18:38:14.452586Z"
    }
   },
   "outputs": [],
   "source": [
    "trading_param = algo.jitter_recovery.calculate.JitterRecoveryTradingParam(\n",
    "    feature_param, \n",
    "    0.20, -0.04, 0.02, is_long_term=False)"
   ]
  },
  {
   "cell_type": "code",
   "execution_count": 14,
   "id": "0bb66bbe-3b4c-41c5-ad48-743489aff863",
   "metadata": {
    "execution": {
     "iopub.execute_input": "2024-03-02T18:38:14.456878Z",
     "iopub.status.busy": "2024-03-02T18:38:14.456270Z",
     "iopub.status.idle": "2024-03-02T18:40:50.251646Z",
     "shell.execute_reply": "2024-03-02T18:40:50.251194Z",
     "shell.execute_reply.started": "2024-03-02T18:38:14.456846Z"
    },
    "scrolled": true
   },
   "outputs": [
    {
     "name": "stdout",
     "output_type": "stream",
     "text": [
      "symbol_with_jumps: 72\n",
      "0 symbol: TRB-USDT-SWAP: 53\n",
      "1 symbol: BIGTIME-USDT-SWAP: 31\n",
      "2 symbol: PERP-USDT-SWAP: 30\n",
      "3 symbol: CTC-USDT-SWAP: 28\n",
      "4 symbol: TURBO-USDT-SWAP: 78\n",
      "5 symbol: WLD-USDT-SWAP: 27\n",
      "6 symbol: LUNA-USDT-SWAP: 27\n",
      "7 symbol: PYTH-USDT-SWAP: 28\n",
      "8 symbol: WSM-USDT-SWAP: 28\n",
      "9 symbol: DYDX-USDT-SWAP: 25\n",
      "10 symbol: BADGER-USDT-SWAP: 25\n",
      "11 symbol: STARL-USDT-SWAP: 27\n",
      "12 symbol: GAS-USDT-SWAP: 25\n",
      "13 symbol: CETUS-USDT-SWAP: 25\n",
      "14 symbol: USTC-USDT-SWAP: 25\n",
      "15 symbol: FLOW-USDT-SWAP: 25\n",
      "16 symbol: RACA-USDT-SWAP: 28\n",
      "17 symbol: ACE-USDT-SWAP: 24\n",
      "18 symbol: AGIX-USDT-SWAP: 25\n",
      "19 symbol: OP-USDT-SWAP: 25\n",
      "20 symbol: LOOKS-USDT-SWAP: 25\n",
      "21 symbol: INJ-USDT-SWAP: 24\n",
      "22 symbol: METIS-USDT-SWAP: 27\n",
      "23 symbol: AUCTION-USDT-SWAP: 26\n",
      "24 symbol: TIA-USDT-SWAP: 25\n",
      "25 symbol: ARB-USDT-SWAP: 25\n",
      "26 symbol: TON-USDT-SWAP: 24\n",
      "27 symbol: ORBS-USDT-SWAP: 23\n",
      "28 symbol: MKR-USDT-SWAP: 23\n",
      "29 symbol: KLAY-USDT-SWAP: 28\n",
      "30 symbol: GMX-USDT-SWAP: 22\n",
      "31 symbol: FTM-USDT-SWAP: 19\n",
      "32 symbol: MAGIC-USDT-SWAP: 18\n",
      "33 symbol: MEME-USDT-SWAP: 46\n",
      "34 symbol: PEOPLE-USDT-SWAP: 204\n",
      "35 symbol: GALA-USDT-SWAP: 18\n",
      "36 symbol: ORDI-USDT-SWAP: 16\n",
      "37 symbol: ALGO-USDT-SWAP: 17\n",
      "38 symbol: SUSHI-USDT-SWAP: 17\n",
      "39 symbol: VRA-USDT-SWAP: 18\n",
      "40 symbol: APE-USDT-SWAP: 16\n",
      "41 symbol: CEL-USDT-SWAP: 31\n",
      "42 symbol: LRC-USDT-SWAP: 17\n",
      "43 symbol: SOL-USDT-SWAP: 16\n",
      "44 symbol: ICP-USDT-SWAP: 16\n",
      "45 symbol: MINA-USDT-SWAP: 16\n",
      "46 symbol: SHIB-USDT-SWAP: 16\n",
      "47 symbol: LDO-USDT-SWAP: 16\n",
      "48 symbol: BLUR-USDT-SWAP: 16\n",
      "49 symbol: KSM-USDT-SWAP: 14\n",
      "50 symbol: ETHW-USDT-SWAP: 6\n",
      "51 symbol: SSV-USDT-SWAP: 7\n",
      "52 symbol: CRO-USDT-SWAP: 5\n",
      "53 symbol: IMX-USDT-SWAP: 4\n",
      "54 symbol: SATS-USDT-SWAP: 4\n",
      "55 symbol: BAND-USDT-SWAP: 3\n",
      "56 symbol: GMT-USDT-SWAP: 2\n",
      "57 symbol: RNDR-USDT-SWAP: 3\n",
      "58 symbol: FIL-USDT-SWAP: 3\n",
      "59 symbol: YGG-USDT-SWAP: 25\n",
      "60 symbol: GODS-USDT-SWAP: 3\n",
      "61 symbol: FITFI-USDT-SWAP: 23\n",
      "62 symbol: ENS-USDT-SWAP: 45\n",
      "63 symbol: CORE-USDT-SWAP: 26\n",
      "64 symbol: SLP-USDT-SWAP: 28\n",
      "65 symbol: GFT-USDT-SWAP: 25\n",
      "66 symbol: YFII-USDT-SWAP: 44\n",
      "67 symbol: CFX-USDT-SWAP: 7\n",
      "68 symbol: UMA-USDT-SWAP: 43\n",
      "69 symbol: API3-USDT-SWAP: 7\n",
      "70 symbol: NMR-USDT-SWAP: 5\n",
      "71 symbol: SWEAT-USDT-SWAP: 22\n"
     ]
    }
   ],
   "source": [
    "dfst_trading = algo.jitter_recovery.research.get_dfst_trading(df, dfst_feature, trading_param)"
   ]
  },
  {
   "cell_type": "code",
   "execution_count": 236,
   "id": "86aedbf1-ed66-43ae-b3ea-7f370f1bf412",
   "metadata": {
    "execution": {
     "iopub.execute_input": "2024-03-02T17:55:37.707813Z",
     "iopub.status.busy": "2024-03-02T17:55:37.707618Z",
     "iopub.status.idle": "2024-03-02T17:55:37.882754Z",
     "shell.execute_reply": "2024-03-02T17:55:37.881965Z",
     "shell.execute_reply.started": "2024-03-02T17:55:37.707798Z"
    }
   },
   "outputs": [
    {
     "data": {
      "image/png": "[encoded data removed]",
      "text/plain": [
       "<Figure size 1600x200 with 1 Axes>"
      ]
     },
     "metadata": {},
     "output_type": "display_data"
    }
   ],
   "source": [
    "algo.jitter_recovery.research.investigate_trading(dfst_trading)"
   ]
  },
  {
   "cell_type": "code",
   "execution_count": null,
   "id": "1f732fe2-8ac0-4f6e-b5e5-9b6d201180d7",
   "metadata": {},
   "outputs": [],
   "source": []
  },
  {
   "cell_type": "code",
   "execution_count": null,
   "id": "a146c990-eaab-4734-b7ca-5f26f5c4a79f",
   "metadata": {},
   "outputs": [],
   "source": []
  },
  {
   "cell_type": "code",
   "execution_count": null,
   "id": "20916952-78da-4596-bb76-2d17201f2c93",
   "metadata": {},
   "outputs": [],
   "source": []
  },
  {
   "cell_type": "code",
   "execution_count": 263,
   "id": "fc8b3991-e10b-4d76-9522-637cf2f6ab91",
   "metadata": {
    "execution": {
     "iopub.execute_input": "2024-03-02T18:06:41.457400Z",
     "iopub.status.busy": "2024-03-02T18:06:41.457288Z",
     "iopub.status.idle": "2024-03-02T18:06:54.246116Z",
     "shell.execute_reply": "2024-03-02T18:06:54.245454Z",
     "shell.execute_reply.started": "2024-03-02T18:06:41.457390Z"
    }
   },
   "outputs": [
    {
     "data": {
      "image/png": "[encoded data removed]",
      "text/plain": [
       "<Figure size 1600x200 with 1 Axes>"
      ]
     },
     "metadata": {},
     "output_type": "display_data"
    }
   ],
   "source": [
    "algo.jitter_recovery.research.investigate_trading(dfst_trading)"
   ]
  },
  {
   "cell_type": "code",
   "execution_count": null,
   "id": "a20da907-9381-41dd-af67-8fa73c751751",
   "metadata": {},
   "outputs": [],
   "source": []
  },
  {
   "cell_type": "code",
   "execution_count": 17,
   "id": "7eb0b24f-3436-4dc1-a7e5-f4b1fd1cd63e",
   "metadata": {
    "execution": {
     "iopub.execute_input": "2024-03-02T19:20:08.098989Z",
     "iopub.status.busy": "2024-03-02T19:20:08.098084Z",
     "iopub.status.idle": "2024-03-02T19:20:28.271752Z",
     "shell.execute_reply": "2024-03-02T19:20:28.271248Z",
     "shell.execute_reply.started": "2024-03-02T19:20:08.098960Z"
    }
   },
   "outputs": [
    {
     "data": {
      "image/png": "[encoded data removed]",
      "text/plain": [
       "<Figure size 1600x200 with 1 Axes>"
      ]
     },
     "metadata": {},
     "output_type": "display_data"
    }
   ],
   "source": [
    "algo.jitter_recovery.research.investigate_trading(dfst_trading)"
   ]
  },
  {
   "cell_type": "code",
   "execution_count": null,
   "id": "0f5738fa-476f-4514-8930-31b67ca022c8",
   "metadata": {},
   "outputs": [],
   "source": []
  },
  {
   "cell_type": "code",
   "execution_count": 237,
   "id": "b23c9664-48f7-4a7a-8fb4-1cd43f58ffe1",
   "metadata": {
    "execution": {
     "iopub.execute_input": "2024-03-02T17:56:05.037198Z",
     "iopub.status.busy": "2024-03-02T17:56:05.036695Z",
     "iopub.status.idle": "2024-03-02T17:56:05.047036Z",
     "shell.execute_reply": "2024-03-02T17:56:05.046443Z",
     "shell.execute_reply.started": "2024-03-02T17:56:05.037175Z"
    }
   },
   "outputs": [
    {
     "data": {
      "text/html": [
       "<div>\n",
       "<style scoped>\n",
       "    .dataframe tbody tr th:only-of-type {\n",
       "        vertical-align: middle;\n",
       "    }\n",
       "\n",
       "    .dataframe tbody tr th {\n",
       "        vertical-align: top;\n",
       "    }\n",
       "\n",
       "    .dataframe thead th {\n",
       "        text-align: right;\n",
       "    }\n",
       "</style>\n",
       "<table border=\"1\" class=\"dataframe\">\n",
       "  <thead>\n",
       "    <tr style=\"text-align: right;\">\n",
       "      <th></th>\n",
       "      <th>profit</th>\n",
       "    </tr>\n",
       "    <tr>\n",
       "      <th>symbol</th>\n",
       "      <th></th>\n",
       "    </tr>\n",
       "  </thead>\n",
       "  <tbody>\n",
       "    <tr>\n",
       "      <th>SHIB-USDT-SWAP</th>\n",
       "      <td>-0.023490</td>\n",
       "    </tr>\n",
       "    <tr>\n",
       "      <th>TURBO-USDT-SWAP</th>\n",
       "      <td>-0.015470</td>\n",
       "    </tr>\n",
       "    <tr>\n",
       "      <th>STARL-USDT-SWAP</th>\n",
       "      <td>0.006806</td>\n",
       "    </tr>\n",
       "    <tr>\n",
       "      <th>XCH-USDT-SWAP</th>\n",
       "      <td>0.031211</td>\n",
       "    </tr>\n",
       "    <tr>\n",
       "      <th>BADGER-USDT-SWAP</th>\n",
       "      <td>0.119840</td>\n",
       "    </tr>\n",
       "  </tbody>\n",
       "</table>\n",
       "</div>"
      ],
      "text/plain": [
       "                    profit\n",
       "symbol                    \n",
       "SHIB-USDT-SWAP   -0.023490\n",
       "TURBO-USDT-SWAP  -0.015470\n",
       "STARL-USDT-SWAP   0.006806\n",
       "XCH-USDT-SWAP     0.031211\n",
       "BADGER-USDT-SWAP  0.119840"
      ]
     },
     "execution_count": 237,
     "metadata": {},
     "output_type": "execute_result"
    }
   ],
   "source": [
    "dfst_trading[dfst_trading.profit.fillna(0) != 0][['profit']].groupby('symbol').sum().sort_values('profit')"
   ]
  },
  {
   "cell_type": "code",
   "execution_count": 1,
   "id": "a70779ac-ba54-4955-9192-3d7eb996b82d",
   "metadata": {
    "execution": {
     "iopub.execute_input": "2024-02-03T21:32:03.845259Z",
     "iopub.status.busy": "2024-02-03T21:32:03.843654Z",
     "iopub.status.idle": "2024-02-03T21:32:03.855210Z",
     "shell.execute_reply": "2024-02-03T21:32:03.854672Z",
     "shell.execute_reply.started": "2024-02-03T21:32:03.845160Z"
    }
   },
   "outputs": [],
   "source": [
    "#dfst_feature.xs('FITFI-USDT-SWAP').loc['2023-12-07 16:38:00']"
   ]
  },
  {
   "cell_type": "code",
   "execution_count": null,
   "id": "b9004c06-a41c-4426-ac8f-e17eca298bbb",
   "metadata": {
    "scrolled": true
   },
   "outputs": [],
   "source": [
    "dfst_trading[(dfst_trading.ch_max > 0.15) & (dfst_trading.ch_since_max < -0.01)]"
   ]
  },
  {
   "cell_type": "code",
   "execution_count": null,
   "id": "5285629b-d2f2-48f8-beb5-2838a3cc6048",
   "metadata": {
    "scrolled": true
   },
   "outputs": [],
   "source": [
    "dfst_trading[(dfst_trading.ch_max > 0.15) & (dfst_trading.ch_since_max < 0)].loc[symbol_with_jumps[0]]"
   ]
  },
  {
   "cell_type": "code",
   "execution_count": null,
   "id": "d8688707-7e67-42d4-adb4-56c4396ff1a5",
   "metadata": {},
   "outputs": [],
   "source": []
  },
  {
   "cell_type": "code",
   "execution_count": 221,
   "id": "1b14ad24-a88a-4140-84f6-04b5af45c1b2",
   "metadata": {
    "execution": {
     "iopub.execute_input": "2024-02-11T00:29:05.458832Z",
     "iopub.status.busy": "2024-02-11T00:29:05.458699Z",
     "iopub.status.idle": "2024-02-11T00:29:05.533090Z",
     "shell.execute_reply": "2024-02-11T00:29:05.532061Z",
     "shell.execute_reply.started": "2024-02-11T00:29:05.458821Z"
    },
    "scrolled": true
   },
   "outputs": [
    {
     "name": "stdout",
     "output_type": "stream",
     "text": [
      "2024-02-03 18:13:00, GAL-USDT-SWAP, 1.905, position_changed: 1.0\n",
      "2024-02-03 19:18:00, GAL-USDT-SWAP, 1.852, position_changed: -1.0\n",
      "2024-02-04 00:19:00, FITFI-USDT-SWAP, 0.006064, position_changed: 1.0\n",
      "2024-02-04 00:31:00, FITFI-USDT-SWAP, 0.005904, position_changed: -1.0\n",
      "2024-02-04 20:20:00, DMAIL-USDT-SWAP, 0.4964, position_changed: 1.0\n",
      "2024-02-04 20:23:00, DMAIL-USDT-SWAP, 0.5023, position_changed: -1.0\n",
      "2024-02-04 20:24:00, DMAIL-USDT-SWAP, 0.4965, position_changed: 1.0\n",
      "2024-02-04 20:55:00, DMAIL-USDT-SWAP, 0.4923, position_changed: -1.0\n"
     ]
    }
   ],
   "source": [
    "for _, row in dfst_trading[(dfst_trading.position_changed != 0)].dropna().reset_index().sort_values('timestamp').iterrows():\n",
    "    print(f'{row[\"timestamp\"]}, {row[\"symbol\"]}, {row[\"value\"]}, position_changed: {row[\"position_changed\"]}')"
   ]
  },
  {
   "cell_type": "code",
   "execution_count": null,
   "id": "5e1e524d-b16b-4ceb-a3f7-77aa56a1f2ca",
   "metadata": {},
   "outputs": [],
   "source": []
  },
  {
   "cell_type": "markdown",
   "id": "8d50d0e7-bc53-4639-9ee4-9cf18cc32b43",
   "metadata": {
    "execution": {
     "iopub.execute_input": "2024-02-01T14:36:55.118172Z",
     "iopub.status.busy": "2024-02-01T14:36:55.117200Z",
     "iopub.status.idle": "2024-02-01T14:36:55.121590Z",
     "shell.execute_reply": "2024-02-01T14:36:55.120954Z",
     "shell.execute_reply.started": "2024-02-01T14:36:55.118144Z"
    }
   },
   "source": [
    "## single symobl"
   ]
  },
  {
   "cell_type": "code",
   "execution_count": 200,
   "id": "a68c1eee-4f97-436f-b97a-021fae71f053",
   "metadata": {
    "execution": {
     "iopub.execute_input": "2024-03-01T21:54:20.280358Z",
     "iopub.status.busy": "2024-03-01T21:54:20.280044Z",
     "iopub.status.idle": "2024-03-01T21:54:20.398510Z",
     "shell.execute_reply": "2024-03-01T21:54:20.398026Z",
     "shell.execute_reply.started": "2024-03-01T21:54:20.280340Z"
    }
   },
   "outputs": [
    {
     "data": {
      "text/plain": [
       "<module 'algo.jitter_recovery.research' from '/home/junlim/projects/jitter_recovery/algo/jitter_recovery/research.py'>"
      ]
     },
     "execution_count": 200,
     "metadata": {},
     "output_type": "execute_result"
    }
   ],
   "source": [
    "import algo.jitter_recovery.calculate\n",
    "importlib.reload(algo.jitter_recovery.calculate)\n",
    "import algo.jitter_recovery.research\n",
    "importlib.reload(algo.jitter_recovery.research)"
   ]
  },
  {
   "cell_type": "code",
   "execution_count": 224,
   "id": "fbfd498f-b9ce-4528-b9dd-81dd1b016347",
   "metadata": {
    "execution": {
     "iopub.execute_input": "2024-03-02T17:51:16.788379Z",
     "iopub.status.busy": "2024-03-02T17:51:16.787992Z",
     "iopub.status.idle": "2024-03-02T17:51:16.793647Z",
     "shell.execute_reply": "2024-03-02T17:51:16.793066Z",
     "shell.execute_reply.started": "2024-03-02T17:51:16.788355Z"
    }
   },
   "outputs": [],
   "source": [
    "symbol_investigate = 'BADGER-USDT-SWAP'\n",
    "dfs = dfi.xs(symbol_investigate, level=1)"
   ]
  },
  {
   "cell_type": "code",
   "execution_count": 250,
   "id": "a84c39b2-3f19-4fb2-b008-75b6e0d23473",
   "metadata": {
    "execution": {
     "iopub.execute_input": "2024-03-02T17:56:53.939000Z",
     "iopub.status.busy": "2024-03-02T17:56:53.938301Z",
     "iopub.status.idle": "2024-03-02T17:56:53.942520Z",
     "shell.execute_reply": "2024-03-02T17:56:53.941975Z",
     "shell.execute_reply.started": "2024-03-02T17:56:53.938952Z"
    }
   },
   "outputs": [],
   "source": [
    "jitter_recovery_trading_param = algo.jitter_recovery.calculate.JitterRecoveryTradingParam(\n",
    "    algo.jitter_recovery.calculate.JitterRecoveryFeatureParam(30), \n",
    "    0.20, -0.04, 0.02, is_long_term=False)"
   ]
  },
  {
   "cell_type": "code",
   "execution_count": 251,
   "id": "f83df7b4-63cb-43d2-9047-4de1fab6604a",
   "metadata": {
    "execution": {
     "iopub.execute_input": "2024-03-02T17:56:54.345171Z",
     "iopub.status.busy": "2024-03-02T17:56:54.344887Z",
     "iopub.status.idle": "2024-03-02T17:56:55.150243Z",
     "shell.execute_reply": "2024-03-02T17:56:55.149648Z",
     "shell.execute_reply.started": "2024-03-02T17:56:54.345151Z"
    }
   },
   "outputs": [
    {
     "data": {
      "image/png": "[encoded data removed]",
      "text/plain": [
       "<Figure size 1200x1100 with 5 Axes>"
      ]
     },
     "metadata": {},
     "output_type": "display_data"
    },
    {
     "data": {
      "image/png": "[encoded data removed]",
      "text/plain": [
       "<Figure size 900x200 with 1 Axes>"
      ]
     },
     "metadata": {},
     "output_type": "display_data"
    },
    {
     "data": {
      "image/png": "[encoded data removed]",
      "text/plain": [
       "<Figure size 900x200 with 1 Axes>"
      ]
     },
     "metadata": {},
     "output_type": "display_data"
    }
   ],
   "source": [
    "df_feature, df_trading = algo.jitter_recovery.research.investigate_symbol(df, symbol_investigate, jitter_recovery_trading_param, figsize=(12, 11))"
   ]
  },
  {
   "cell_type": "code",
   "execution_count": null,
   "id": "b123c5ca-e413-4db6-89c0-fa9b1d7a1b8f",
   "metadata": {},
   "outputs": [],
   "source": []
  },
  {
   "cell_type": "code",
   "execution_count": 146,
   "id": "63d3c584-0933-41ff-b011-f355844b2083",
   "metadata": {
    "execution": {
     "iopub.execute_input": "2024-02-01T16:21:28.219991Z",
     "iopub.status.busy": "2024-02-01T16:21:28.219605Z",
     "iopub.status.idle": "2024-02-01T16:21:28.230264Z",
     "shell.execute_reply": "2024-02-01T16:21:28.229637Z",
     "shell.execute_reply.started": "2024-02-01T16:21:28.219962Z"
    }
   },
   "outputs": [
    {
     "data": {
      "text/html": [
       "<div>\n",
       "<style scoped>\n",
       "    .dataframe tbody tr th:only-of-type {\n",
       "        vertical-align: middle;\n",
       "    }\n",
       "\n",
       "    .dataframe tbody tr th {\n",
       "        vertical-align: top;\n",
       "    }\n",
       "\n",
       "    .dataframe thead th {\n",
       "        text-align: right;\n",
       "    }\n",
       "</style>\n",
       "<table border=\"1\" class=\"dataframe\">\n",
       "  <thead>\n",
       "    <tr style=\"text-align: right;\">\n",
       "      <th></th>\n",
       "      <th>value</th>\n",
       "      <th>in_position</th>\n",
       "      <th>position_changed</th>\n",
       "      <th>profit_raw</th>\n",
       "      <th>profit</th>\n",
       "    </tr>\n",
       "    <tr>\n",
       "      <th>timestamp</th>\n",
       "      <th></th>\n",
       "      <th></th>\n",
       "      <th></th>\n",
       "      <th></th>\n",
       "      <th></th>\n",
       "    </tr>\n",
       "  </thead>\n",
       "  <tbody>\n",
       "    <tr>\n",
       "      <th>2024-01-03 12:27:00</th>\n",
       "      <td>1.7395</td>\n",
       "      <td>1</td>\n",
       "      <td>1.0</td>\n",
       "      <td>0.000</td>\n",
       "      <td>0.000000</td>\n",
       "    </tr>\n",
       "    <tr>\n",
       "      <th>2024-01-03 12:29:00</th>\n",
       "      <td>1.8060</td>\n",
       "      <td>0</td>\n",
       "      <td>-1.0</td>\n",
       "      <td>-0.016</td>\n",
       "      <td>-0.008939</td>\n",
       "    </tr>\n",
       "  </tbody>\n",
       "</table>\n",
       "</div>"
      ],
      "text/plain": [
       "                      value  in_position  position_changed  profit_raw  \\\n",
       "timestamp                                                                \n",
       "2024-01-03 12:27:00  1.7395            1               1.0       0.000   \n",
       "2024-01-03 12:29:00  1.8060            0              -1.0      -0.016   \n",
       "\n",
       "                       profit  \n",
       "timestamp                      \n",
       "2024-01-03 12:27:00  0.000000  \n",
       "2024-01-03 12:29:00 -0.008939  "
      ]
     },
     "execution_count": 146,
     "metadata": {},
     "output_type": "execute_result"
    }
   ],
   "source": [
    "df_trading[(df_trading.position_changed != 0)][['value', 'in_position', 'position_changed', 'profit_raw', 'profit']].dropna()"
   ]
  },
  {
   "cell_type": "code",
   "execution_count": 147,
   "id": "ca4f0673-629c-47ed-87d9-95cd400c97c8",
   "metadata": {
    "execution": {
     "iopub.execute_input": "2024-02-01T16:21:29.822541Z",
     "iopub.status.busy": "2024-02-01T16:21:29.821963Z",
     "iopub.status.idle": "2024-02-01T16:21:30.096208Z",
     "shell.execute_reply": "2024-02-01T16:21:30.095551Z",
     "shell.execute_reply.started": "2024-02-01T16:21:29.822506Z"
    }
   },
   "outputs": [
    {
     "name": "stdout",
     "output_type": "stream",
     "text": [
      "2024-01-03 12:27:00, ARB-USDT-SWAP, 1.7395, position_changed: 1.0\n",
      "2024-01-03 12:28:00, ARB-USDT-SWAP, 1.79, position_changed: -1.0\n"
     ]
    }
   ],
   "source": [
    "for _, row in dfst_trading[(dfst_trading.position_changed != 0)].dropna().reset_index().sort_values('timestamp').iterrows():\n",
    "    if row['symbol'] != symbol_investigate: continue\n",
    "    print(f'{row[\"timestamp\"]}, {row[\"symbol\"]}, {row[\"value\"]}, position_changed: {row[\"position_changed\"]}')"
   ]
  },
  {
   "cell_type": "code",
   "execution_count": null,
   "id": "668c9e32-f919-4360-9c27-afd2ef1084ad",
   "metadata": {},
   "outputs": [],
   "source": []
  }
 ],
 "metadata": {
  "kernelspec": {
   "display_name": "Python 3 (ipykernel)",
   "language": "python",
   "name": "python3"
  },
  "language_info": {
   "codemirror_mode": {
    "name": "ipython",
    "version": 3
   },
   "file_extension": ".py",
   "mimetype": "text/x-python",
   "name": "python",
   "nbconvert_exporter": "python",
   "pygments_lexer": "ipython3",
   "version": "3.10.12"
  }
 },
 "nbformat": 4,
 "nbformat_minor": 5
}
