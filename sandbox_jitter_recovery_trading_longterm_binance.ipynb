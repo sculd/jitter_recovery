{
 "cells": [
  {
   "cell_type": "markdown",
   "id": "f2737de0-4e5d-4c43-a52a-96c3c639e234",
   "metadata": {
    "execution": {
     "iopub.execute_input": "2023-12-12T21:48:55.276471Z",
     "iopub.status.busy": "2023-12-12T21:48:55.276035Z",
     "iopub.status.idle": "2023-12-12T21:48:55.282856Z",
     "shell.execute_reply": "2023-12-12T21:48:55.281886Z",
     "shell.execute_reply.started": "2023-12-12T21:48:55.276437Z"
    }
   },
   "source": [
    "## import & load"
   ]
  },
  {
   "cell_type": "code",
   "execution_count": 1,
   "id": "a115d0f3-c935-4c05-a33a-732933233c0a",
   "metadata": {
    "execution": {
     "iopub.execute_input": "2024-02-03T22:42:47.000306Z",
     "iopub.status.busy": "2024-02-03T22:42:46.999467Z",
     "iopub.status.idle": "2024-02-03T22:42:48.218400Z",
     "shell.execute_reply": "2024-02-03T22:42:48.217810Z",
     "shell.execute_reply.started": "2024-02-03T22:42:47.000245Z"
    }
   },
   "outputs": [],
   "source": [
    "import pandas as pd\n",
    "import numpy as np\n",
    "import sys\n",
    "import requests\n",
    "import pprint\n",
    "\n",
    "import datetime\n",
    "import pytz\n",
    "import importlib\n",
    "import matplotlib.pyplot as plt\n",
    "\n",
    "\n",
    "import datetime, json, math\n",
    "from google.cloud import bigquery\n",
    "from numpy_ext import rolling_apply as rolling_apply_ext"
   ]
  },
  {
   "cell_type": "code",
   "execution_count": 2,
   "id": "da881dba-cd40-4bd5-ba15-3fa2691a5107",
   "metadata": {
    "execution": {
     "iopub.execute_input": "2024-02-03T22:42:48.219577Z",
     "iopub.status.busy": "2024-02-03T22:42:48.219290Z",
     "iopub.status.idle": "2024-02-03T22:42:48.222752Z",
     "shell.execute_reply": "2024-02-03T22:42:48.222262Z",
     "shell.execute_reply.started": "2024-02-03T22:42:48.219559Z"
    }
   },
   "outputs": [],
   "source": [
    "import os\n",
    "\n",
    "if os.path.exists('credential.json'):\n",
    "    os.environ[\"GOOGLE_APPLICATION_CREDENTIALS\"] = os.path.join(os.getcwd(), 'credential.json')"
   ]
  },
  {
   "cell_type": "code",
   "execution_count": 3,
   "id": "0781806b-5f96-42f9-acec-2b15f54f6b35",
   "metadata": {
    "execution": {
     "iopub.execute_input": "2024-02-03T22:42:48.223623Z",
     "iopub.status.busy": "2024-02-03T22:42:48.223388Z",
     "iopub.status.idle": "2024-02-03T22:42:53.939707Z",
     "shell.execute_reply": "2024-02-03T22:42:53.939235Z",
     "shell.execute_reply.started": "2024-02-03T22:42:48.223601Z"
    }
   },
   "outputs": [
    {
     "data": {
      "text/plain": [
       "<module 'data.read' from '/home/junlim/projects/jitter_recovery/data/read.py'>"
      ]
     },
     "execution_count": 3,
     "metadata": {},
     "output_type": "execute_result"
    }
   ],
   "source": [
    "import data.read\n",
    "importlib.reload(data.read)"
   ]
  },
  {
   "cell_type": "code",
   "execution_count": 4,
   "id": "6a2ffc80-5719-43fe-b7dd-ea2bc98199b2",
   "metadata": {
    "execution": {
     "iopub.execute_input": "2024-02-03T22:42:53.941601Z",
     "iopub.status.busy": "2024-02-03T22:42:53.940923Z",
     "iopub.status.idle": "2024-02-03T22:42:55.414649Z",
     "shell.execute_reply": "2024-02-03T22:42:55.413988Z",
     "shell.execute_reply.started": "2024-02-03T22:42:53.941564Z"
    }
   },
   "outputs": [],
   "source": [
    "df = data.read.df_binance_20240125_0202\n",
    "df_close = df.pivot(index='timestamp', columns='symbol', values='close')\n",
    "dfi = df.set_index(['timestamp', 'symbol'])\n",
    "all_symbols = df.symbol.unique()"
   ]
  },
  {
   "cell_type": "code",
   "execution_count": 5,
   "id": "f1cd98bd-1939-44bf-ad3d-d96df1a4382e",
   "metadata": {
    "execution": {
     "iopub.execute_input": "2024-02-03T22:42:55.415356Z",
     "iopub.status.busy": "2024-02-03T22:42:55.415230Z",
     "iopub.status.idle": "2024-02-03T22:42:55.434172Z",
     "shell.execute_reply": "2024-02-03T22:42:55.433474Z",
     "shell.execute_reply.started": "2024-02-03T22:42:55.415344Z"
    }
   },
   "outputs": [
    {
     "data": {
      "text/html": [
       "<div>\n",
       "<style scoped>\n",
       "    .dataframe tbody tr th:only-of-type {\n",
       "        vertical-align: middle;\n",
       "    }\n",
       "\n",
       "    .dataframe tbody tr th {\n",
       "        vertical-align: top;\n",
       "    }\n",
       "\n",
       "    .dataframe thead th {\n",
       "        text-align: right;\n",
       "    }\n",
       "</style>\n",
       "<table border=\"1\" class=\"dataframe\">\n",
       "  <thead>\n",
       "    <tr style=\"text-align: right;\">\n",
       "      <th></th>\n",
       "      <th>timestamp</th>\n",
       "      <th>symbol</th>\n",
       "      <th>open</th>\n",
       "      <th>high</th>\n",
       "      <th>low</th>\n",
       "      <th>close</th>\n",
       "      <th>volume</th>\n",
       "    </tr>\n",
       "  </thead>\n",
       "  <tbody>\n",
       "    <tr>\n",
       "      <th>4296584</th>\n",
       "      <td>2024-02-02 04:58:00</td>\n",
       "      <td>CREAMUSDT</td>\n",
       "      <td>15.34000</td>\n",
       "      <td>15.36000</td>\n",
       "      <td>15.34000</td>\n",
       "      <td>15.35000</td>\n",
       "      <td>3.533</td>\n",
       "    </tr>\n",
       "    <tr>\n",
       "      <th>4296585</th>\n",
       "      <td>2024-02-02 04:58:00</td>\n",
       "      <td>MINAUSDT</td>\n",
       "      <td>1.24880</td>\n",
       "      <td>1.24950</td>\n",
       "      <td>1.24830</td>\n",
       "      <td>1.24870</td>\n",
       "      <td>2385.200</td>\n",
       "    </tr>\n",
       "    <tr>\n",
       "      <th>4296586</th>\n",
       "      <td>2024-02-02 04:58:00</td>\n",
       "      <td>FIOUSDT</td>\n",
       "      <td>0.02541</td>\n",
       "      <td>0.02541</td>\n",
       "      <td>0.02541</td>\n",
       "      <td>0.02541</td>\n",
       "      <td>5270.000</td>\n",
       "    </tr>\n",
       "  </tbody>\n",
       "</table>\n",
       "</div>"
      ],
      "text/plain": [
       "                  timestamp     symbol      open      high       low  \\\n",
       "4296584 2024-02-02 04:58:00  CREAMUSDT  15.34000  15.36000  15.34000   \n",
       "4296585 2024-02-02 04:58:00   MINAUSDT   1.24880   1.24950   1.24830   \n",
       "4296586 2024-02-02 04:58:00    FIOUSDT   0.02541   0.02541   0.02541   \n",
       "\n",
       "            close    volume  \n",
       "4296584  15.35000     3.533  \n",
       "4296585   1.24870  2385.200  \n",
       "4296586   0.02541  5270.000  "
      ]
     },
     "execution_count": 5,
     "metadata": {},
     "output_type": "execute_result"
    }
   ],
   "source": [
    "df.tail(3)"
   ]
  },
  {
   "cell_type": "code",
   "execution_count": 6,
   "id": "2f63a12c-2f68-4b0f-abe0-e9eb20afd5b4",
   "metadata": {
    "execution": {
     "iopub.execute_input": "2024-02-03T22:42:55.434878Z",
     "iopub.status.busy": "2024-02-03T22:42:55.434736Z",
     "iopub.status.idle": "2024-02-03T22:42:55.439887Z",
     "shell.execute_reply": "2024-02-03T22:42:55.439062Z",
     "shell.execute_reply.started": "2024-02-03T22:42:55.434864Z"
    }
   },
   "outputs": [
    {
     "data": {
      "text/plain": [
       "373"
      ]
     },
     "execution_count": 6,
     "metadata": {},
     "output_type": "execute_result"
    }
   ],
   "source": [
    "len([s for s in all_symbols if 'USDT' in s])"
   ]
  },
  {
   "cell_type": "code",
   "execution_count": null,
   "id": "580bc04c-057f-4f19-827b-0a6d69e35322",
   "metadata": {},
   "outputs": [],
   "source": []
  },
  {
   "cell_type": "markdown",
   "id": "9bb84b8e-cb19-47dd-a19e-fc04b0721b1a",
   "metadata": {},
   "source": [
    "## multiple symbols"
   ]
  },
  {
   "cell_type": "code",
   "execution_count": 7,
   "id": "7e4ad85d-1c7a-4dcf-b468-da209eb874d2",
   "metadata": {
    "execution": {
     "iopub.execute_input": "2024-02-03T22:42:55.441237Z",
     "iopub.status.busy": "2024-02-03T22:42:55.440715Z",
     "iopub.status.idle": "2024-02-03T22:42:55.460292Z",
     "shell.execute_reply": "2024-02-03T22:42:55.458895Z",
     "shell.execute_reply.started": "2024-02-03T22:42:55.441185Z"
    }
   },
   "outputs": [
    {
     "data": {
      "text/plain": [
       "<module 'algo.jitter_recovery.research' from '/home/junlim/projects/jitter_recovery/algo/jitter_recovery/research.py'>"
      ]
     },
     "execution_count": 7,
     "metadata": {},
     "output_type": "execute_result"
    }
   ],
   "source": [
    "import algo.jitter_recovery.calculate\n",
    "importlib.reload(algo.jitter_recovery.calculate)\n",
    "import algo.jitter_recovery.research\n",
    "importlib.reload(algo.jitter_recovery.research)"
   ]
  },
  {
   "cell_type": "code",
   "execution_count": 8,
   "id": "dde2af94-4fca-46e0-bbf4-ad2201155953",
   "metadata": {
    "execution": {
     "iopub.execute_input": "2024-02-03T22:42:55.462228Z",
     "iopub.status.busy": "2024-02-03T22:42:55.461491Z",
     "iopub.status.idle": "2024-02-03T22:42:55.469342Z",
     "shell.execute_reply": "2024-02-03T22:42:55.468737Z",
     "shell.execute_reply.started": "2024-02-03T22:42:55.462194Z"
    }
   },
   "outputs": [],
   "source": [
    "jitter_recovery_feature_param = algo.jitter_recovery.calculate.JitterRecoveryFeatureParam(240)\n",
    "jitter_recovery_feature_param_ = algo.jitter_recovery.calculate.JitterRecoveryFeatureParam(48)\n",
    "max_jump_threshold = 0.4\n",
    "jitter_recovery_trading_param = algo.jitter_recovery.calculate.JitterRecoveryTradingParam(\n",
    "    jitter_recovery_feature_param, \n",
    "    0.4, -0.10, 0.05, is_long_term=True)"
   ]
  },
  {
   "cell_type": "code",
   "execution_count": 9,
   "id": "e8b892b8-842e-407a-b853-08125dba8577",
   "metadata": {
    "execution": {
     "iopub.execute_input": "2024-02-03T22:42:55.470261Z",
     "iopub.status.busy": "2024-02-03T22:42:55.469972Z",
     "iopub.status.idle": "2024-02-03T22:44:18.750294Z",
     "shell.execute_reply": "2024-02-03T22:44:18.749736Z",
     "shell.execute_reply.started": "2024-02-03T22:42:55.470237Z"
    },
    "scrolled": true
   },
   "outputs": [
    {
     "name": "stdout",
     "output_type": "stream",
     "text": [
      "0 symbol: OGUSDT: 0\n",
      "1 symbol: QKCUSDT: 0\n",
      "2 symbol: GNSUSDT: 0\n",
      "3 symbol: FTMUSDT: 0\n",
      "4 symbol: FLUXUSDT: 0\n",
      "5 symbol: XTZUSDT: 0\n",
      "6 symbol: GMXUSDT: 0\n",
      "7 symbol: FETUSDT: 0\n",
      "8 symbol: CELOUSDT: 0\n",
      "9 symbol: MASKUSDT: 0\n",
      "10 symbol: EOSUSDT: 0\n",
      "11 symbol: PERPUSDT: 0\n",
      "12 symbol: LINKUSDT: 0\n",
      "13 symbol: PUNDIXUSDT: 0\n",
      "14 symbol: ETCUSDT: 0\n",
      "15 symbol: SOLUSDT: 0\n",
      "16 symbol: ASRUSDT: 0\n",
      "17 symbol: ETHUPUSDT: 0\n",
      "18 symbol: FTTUSDT: 13\n",
      "19 symbol: OMUSDT: 0\n",
      "20 symbol: SFPUSDT: 0\n",
      "21 symbol: LTCUSDT: 0\n",
      "22 symbol: BELUSDT: 0\n",
      "23 symbol: DODOUSDT: 0\n",
      "24 symbol: LTOUSDT: 0\n",
      "25 symbol: CYBERUSDT: 0\n",
      "26 symbol: VICUSDT: 0\n",
      "27 symbol: RIFUSDT: 0\n",
      "28 symbol: COSUSDT: 18\n",
      "29 symbol: CTSIUSDT: 0\n",
      "30 symbol: BTTCUSDT: 0\n",
      "31 symbol: RENUSDT: 0\n",
      "32 symbol: PLAUSDT: 0\n",
      "33 symbol: LAZIOUSDT: 0\n",
      "34 symbol: MATICUSDT: 0\n",
      "35 symbol: ALICEUSDT: 0\n",
      "36 symbol: BATUSDT: 0\n",
      "37 symbol: KSMUSDT: 0\n",
      "38 symbol: FORTHUSDT: 0\n",
      "39 symbol: EURUSDT: 0\n",
      "40 symbol: XRPUSDT: 0\n",
      "41 symbol: HIVEUSDT: 0\n",
      "42 symbol: MLNUSDT: 0\n",
      "43 symbol: FRONTUSDT: 0\n",
      "44 symbol: ORNUSDT: 0\n",
      "45 symbol: CITYUSDT: 0\n",
      "46 symbol: WINGUSDT: 0\n",
      "47 symbol: ICPUSDT: 0\n",
      "48 symbol: XLMUSDT: 0\n",
      "49 symbol: KP3RUSDT: 0\n",
      "50 symbol: XECUSDT: 0\n",
      "51 symbol: BTCUSDT: 0\n",
      "52 symbol: AIUSDT: 0\n",
      "53 symbol: QUICKUSDT: 0\n",
      "54 symbol: GNOUSDT: 0\n",
      "55 symbol: SCRTUSDT: 0\n",
      "56 symbol: SLPUSDT: 0\n",
      "57 symbol: BSWUSDT: 0\n",
      "58 symbol: XAIUSDT: 0\n",
      "59 symbol: ASTRUSDT: 0\n",
      "60 symbol: ARBUSDT: 0\n",
      "61 symbol: BAKEUSDT: 0\n",
      "62 symbol: C98USDT: 0\n",
      "63 symbol: RPLUSDT: 0\n",
      "64 symbol: CHESSUSDT: 0\n",
      "65 symbol: SUNUSDT: 0\n",
      "66 symbol: DUSKUSDT: 0\n",
      "67 symbol: MANTAUSDT: 0\n",
      "68 symbol: GLMUSDT: 0\n",
      "69 symbol: HFTUSDT: 0\n",
      "70 symbol: FILUSDT: 0\n",
      "71 symbol: LITUSDT: 0\n",
      "72 symbol: ZILUSDT: 0\n",
      "73 symbol: LRCUSDT: 0\n",
      "74 symbol: SEIUSDT: 0\n",
      "75 symbol: DREPUSDT: 0\n",
      "76 symbol: STEEMUSDT: 0\n",
      "77 symbol: DCRUSDT: 44\n",
      "78 symbol: KAVAUSDT: 0\n",
      "79 symbol: AAVEUSDT: 0\n",
      "80 symbol: TUSDUSDT: 0\n",
      "81 symbol: ACEUSDT: 0\n",
      "82 symbol: DIAUSDT: 0\n",
      "83 symbol: YGGUSDT: 0\n",
      "84 symbol: OMGUSDT: 0\n",
      "85 symbol: BLURUSDT: 0\n",
      "86 symbol: ONEUSDT: 0\n",
      "87 symbol: ASTUSDT: 0\n",
      "88 symbol: KLAYUSDT: 0\n",
      "89 symbol: WBTCUSDT: 0\n",
      "90 symbol: AGIXUSDT: 0\n",
      "91 symbol: ORDIUSDT: 0\n",
      "92 symbol: PORTOUSDT: 0\n",
      "93 symbol: JTOUSDT: 0\n",
      "94 symbol: RAREUSDT: 0\n",
      "95 symbol: TFUELUSDT: 0\n",
      "96 symbol: WINUSDT: 0\n",
      "97 symbol: WANUSDT: 0\n",
      "98 symbol: ARKMUSDT: 0\n",
      "99 symbol: MOVRUSDT: 0\n",
      "100 symbol: BEAMXUSDT: 0\n",
      "101 symbol: VGXUSDT: 0\n",
      "102 symbol: CHRUSDT: 0\n",
      "103 symbol: ACMUSDT: 0\n",
      "104 symbol: UNFIUSDT: 0\n",
      "105 symbol: LOOMUSDT: 0\n",
      "106 symbol: HBARUSDT: 0\n",
      "107 symbol: OXTUSDT: 0\n",
      "108 symbol: CAKEUSDT: 0\n",
      "109 symbol: QNTUSDT: 0\n",
      "110 symbol: NEXOUSDT: 0\n",
      "111 symbol: WBETHUSDT: 0\n",
      "112 symbol: STXUSDT: 0\n",
      "113 symbol: ZENUSDT: 0\n",
      "114 symbol: TUSDT: 0\n",
      "115 symbol: LPTUSDT: 0\n",
      "116 symbol: TKOUSDT: 0\n",
      "117 symbol: RNDRUSDT: 0\n",
      "118 symbol: GFTUSDT: 0\n",
      "119 symbol: PROMUSDT: 0\n",
      "120 symbol: SUIUSDT: 0\n",
      "121 symbol: ATAUSDT: 0\n",
      "122 symbol: LINAUSDT: 0\n",
      "123 symbol: XVSUSDT: 0\n",
      "124 symbol: SANTOSUSDT: 0\n",
      "125 symbol: JOEUSDT: 0\n",
      "126 symbol: GALUSDT: 0\n",
      "127 symbol: THETAUSDT: 0\n",
      "128 symbol: VIDTUSDT: 0\n",
      "129 symbol: TRBUSDT: 0\n",
      "130 symbol: OCEANUSDT: 0\n",
      "131 symbol: COMBOUSDT: 0\n",
      "132 symbol: FISUSDT: 0\n",
      "133 symbol: CTKUSDT: 0\n",
      "134 symbol: RSRUSDT: 0\n",
      "135 symbol: 1000SATSUSDT: 0\n",
      "136 symbol: JUVUSDT: 0\n",
      "137 symbol: PEPEUSDT: 0\n",
      "138 symbol: DOCKUSDT: 0\n",
      "139 symbol: ENJUSDT: 0\n",
      "140 symbol: ALPINEUSDT: 0\n",
      "141 symbol: OSMOUSDT: 0\n",
      "142 symbol: ZRXUSDT: 0\n",
      "143 symbol: APEUSDT: 0\n",
      "144 symbol: BICOUSDT: 0\n",
      "145 symbol: BIFIUSDT: 0\n",
      "146 symbol: XMRUSDT: 0\n",
      "147 symbol: MAGICUSDT: 0\n",
      "148 symbol: TRXUSDT: 0\n",
      "149 symbol: WAVESUSDT: 0\n",
      "150 symbol: DEXEUSDT: 0\n",
      "151 symbol: IDEXUSDT: 0\n",
      "152 symbol: IDUSDT: 0\n",
      "153 symbol: PIVXUSDT: 0\n",
      "154 symbol: ENSUSDT: 0\n",
      "155 symbol: USDPUSDT: 0\n",
      "156 symbol: WAXPUSDT: 0\n",
      "157 symbol: ALCXUSDT: 0\n",
      "158 symbol: EGLDUSDT: 0\n",
      "159 symbol: SANDUSDT: 0\n",
      "160 symbol: NFPUSDT: 0\n",
      "161 symbol: LQTYUSDT: 0\n",
      "162 symbol: ANKRUSDT: 0\n",
      "163 symbol: JSTUSDT: 0\n",
      "164 symbol: ETHDOWNUSDT: 0\n",
      "165 symbol: ATOMUSDT: 0\n",
      "166 symbol: HIFIUSDT: 0\n",
      "167 symbol: PSGUSDT: 0\n",
      "168 symbol: PROSUSDT: 0\n",
      "169 symbol: PNTUSDT: 0\n",
      "170 symbol: FIROUSDT: 0\n",
      "171 symbol: WRXUSDT: 0\n",
      "172 symbol: BALUSDT: 0\n",
      "173 symbol: IMXUSDT: 0\n",
      "174 symbol: ALGOUSDT: 0\n",
      "175 symbol: PEOPLEUSDT: 0\n",
      "176 symbol: BONDUSDT: 0\n",
      "177 symbol: PAXGUSDT: 0\n",
      "178 symbol: OAXUSDT: 0\n",
      "179 symbol: MOBUSDT: 0\n",
      "180 symbol: HIGHUSDT: 0\n",
      "181 symbol: 1INCHUSDT: 0\n",
      "182 symbol: MINAUSDT: 0\n",
      "183 symbol: VTHOUSDT: 0\n",
      "184 symbol: SSVUSDT: 0\n",
      "185 symbol: IRISUSDT: 0\n",
      "186 symbol: HARDUSDT: 0\n",
      "187 symbol: AKROUSDT: 0\n",
      "188 symbol: FLOWUSDT: 0\n",
      "189 symbol: LOKAUSDT: 0\n",
      "190 symbol: ARUSDT: 0\n",
      "191 symbol: AERGOUSDT: 0\n",
      "192 symbol: FIOUSDT: 0\n",
      "193 symbol: SNTUSDT: 0\n",
      "194 symbol: OPUSDT: 0\n",
      "195 symbol: FLOKIUSDT: 0\n",
      "196 symbol: BNBUPUSDT: 0\n",
      "197 symbol: STRAXUSDT: 0\n",
      "198 symbol: MKRUSDT: 0\n",
      "199 symbol: AVAXUSDT: 0\n",
      "200 symbol: HOOKUSDT: 0\n",
      "201 symbol: GMTUSDT: 0\n",
      "202 symbol: PYRUSDT: 0\n",
      "203 symbol: RAYUSDT: 0\n",
      "204 symbol: OGNUSDT: 0\n",
      "205 symbol: TROYUSDT: 0\n",
      "206 symbol: CELRUSDT: 0\n",
      "207 symbol: BNBUSDT: 0\n",
      "208 symbol: CTXCUSDT: 0\n",
      "209 symbol: DGBUSDT: 0\n",
      "210 symbol: GLMRUSDT: 0\n",
      "211 symbol: BARUSDT: 0\n",
      "212 symbol: LDOUSDT: 0\n",
      "213 symbol: AUDIOUSDT: 0\n",
      "214 symbol: SPELLUSDT: 0\n",
      "215 symbol: LEVERUSDT: 0\n",
      "216 symbol: RLCUSDT: 0\n",
      "217 symbol: UNIUSDT: 0\n",
      "218 symbol: VIBUSDT: 0\n",
      "219 symbol: SKLUSDT: 0\n",
      "220 symbol: AEURUSDT: 0\n",
      "221 symbol: LUNAUSDT: 0\n",
      "222 symbol: VITEUSDT: 0\n",
      "223 symbol: BNBDOWNUSDT: 0\n",
      "224 symbol: MBLUSDT: 0\n",
      "225 symbol: GHSTUSDT: 0\n",
      "226 symbol: DASHUSDT: 0\n",
      "227 symbol: SYSUSDT: 0\n",
      "228 symbol: ETHUSDT: 0\n",
      "229 symbol: DATAUSDT: 0\n",
      "230 symbol: IOSTUSDT: 0\n",
      "231 symbol: QIUSDT: 0\n",
      "232 symbol: XVGUSDT: 0\n",
      "233 symbol: DEGOUSDT: 0\n",
      "234 symbol: ARPAUSDT: 0\n",
      "235 symbol: STGUSDT: 0\n",
      "236 symbol: AMBUSDT: 0\n",
      "237 symbol: ANTUSDT: 0\n",
      "238 symbol: DARUSDT: 0\n",
      "239 symbol: ICXUSDT: 0\n",
      "240 symbol: COMPUSDT: 0\n",
      "241 symbol: GALAUSDT: 0\n",
      "242 symbol: UFTUSDT: 0\n",
      "243 symbol: MAVUSDT: 0\n",
      "244 symbol: DENTUSDT: 0\n",
      "245 symbol: VETUSDT: 0\n",
      "246 symbol: AGLDUSDT: 0\n",
      "247 symbol: ARDRUSDT: 0\n",
      "248 symbol: BONKUSDT: 0\n",
      "249 symbol: CRVUSDT: 0\n",
      "250 symbol: FORUSDT: 0\n",
      "251 symbol: LUNCUSDT: 0\n",
      "252 symbol: DFUSDT: 0\n",
      "253 symbol: BADGERUSDT: 0\n",
      "254 symbol: SUSHIUSDT: 0\n",
      "255 symbol: IQUSDT: 0\n",
      "256 symbol: ACHUSDT: 0\n",
      "257 symbol: ADXUSDT: 0\n",
      "258 symbol: WOOUSDT: 0\n",
      "259 symbol: EPXUSDT: 0\n",
      "260 symbol: MDXUSDT: 0\n",
      "261 symbol: ALPACAUSDT: 0\n",
      "262 symbol: POLYXUSDT: 0\n",
      "263 symbol: NTRNUSDT: 0\n",
      "264 symbol: BURGERUSDT: 0\n",
      "265 symbol: ALPHAUSDT: 0\n",
      "266 symbol: FIDAUSDT: 0\n",
      "267 symbol: IOTXUSDT: 0\n",
      "268 symbol: SYNUSDT: 0\n",
      "269 symbol: AUCTIONUSDT: 0\n",
      "270 symbol: NEOUSDT: 0\n",
      "271 symbol: DOGEUSDT: 0\n",
      "272 symbol: WNXMUSDT: 0\n",
      "273 symbol: QTUMUSDT: 0\n",
      "274 symbol: ZECUSDT: 0\n",
      "275 symbol: REQUSDT: 0\n",
      "276 symbol: RDNTUSDT: 0\n",
      "277 symbol: IOTAUSDT: 0\n",
      "278 symbol: SCUSDT: 0\n",
      "279 symbol: DYDXUSDT: 0\n",
      "280 symbol: APTUSDT: 0\n",
      "281 symbol: BANDUSDT: 0\n",
      "282 symbol: YFIUSDT: 0\n",
      "283 symbol: KMDUSDT: 0\n",
      "284 symbol: ADAUSDT: 0\n",
      "285 symbol: SNXUSDT: 0\n",
      "286 symbol: TIAUSDT: 0\n",
      "287 symbol: NULSUSDT: 0\n",
      "288 symbol: MEMEUSDT: 0\n",
      "289 symbol: CLVUSDT: 0\n",
      "290 symbol: ONGUSDT: 0\n",
      "291 symbol: TRUUSDT: 0\n",
      "292 symbol: ATMUSDT: 0\n",
      "293 symbol: TLMUSDT: 0\n",
      "294 symbol: FDUSDUSDT: 0\n",
      "295 symbol: PENDLEUSDT: 0\n",
      "296 symbol: USTCUSDT: 0\n",
      "297 symbol: FUNUSDT: 0\n",
      "298 symbol: UMAUSDT: 0\n",
      "299 symbol: VOXELUSDT: 0\n",
      "300 symbol: ARKUSDT: 0\n",
      "301 symbol: MANAUSDT: 0\n",
      "302 symbol: ELFUSDT: 0\n",
      "303 symbol: ROSEUSDT: 0\n",
      "304 symbol: CHZUSDT: 0\n",
      "305 symbol: TWTUSDT: 0\n",
      "306 symbol: KEYUSDT: 0\n",
      "307 symbol: STORJUSDT: 0\n",
      "308 symbol: SHIBUSDT: 0\n",
      "309 symbol: API3USDT: 0\n",
      "310 symbol: BCHUSDT: 0\n",
      "311 symbol: COTIUSDT: 0\n",
      "312 symbol: CVCUSDT: 0\n",
      "313 symbol: RADUSDT: 0\n",
      "314 symbol: CVXUSDT: 0\n",
      "315 symbol: SXPUSDT: 0\n",
      "316 symbol: EDUUSDT: 0\n",
      "317 symbol: ERNUSDT: 0\n",
      "318 symbol: REIUSDT: 0\n",
      "319 symbol: WLDUSDT: 0\n",
      "320 symbol: SUPERUSDT: 0\n",
      "321 symbol: HOTUSDT: 0\n",
      "322 symbol: INJUSDT: 0\n",
      "323 symbol: FLMUSDT: 0\n",
      "324 symbol: DOTUSDT: 0\n",
      "325 symbol: MDTUSDT: 0\n",
      "326 symbol: BETAUSDT: 0\n",
      "327 symbol: GASUSDT: 0\n",
      "328 symbol: GRTUSDT: 0\n",
      "329 symbol: ONTUSDT: 0\n",
      "330 symbol: XEMUSDT: 0\n",
      "331 symbol: JASMYUSDT: 0\n",
      "332 symbol: KDAUSDT: 0\n",
      "333 symbol: CKBUSDT: 0\n",
      "334 symbol: KNCUSDT: 0\n",
      "335 symbol: PHBUSDT: 0\n",
      "336 symbol: AMPUSDT: 0\n",
      "337 symbol: PHAUSDT: 0\n",
      "338 symbol: NMRUSDT: 0\n",
      "339 symbol: USDCUSDT: 0\n",
      "340 symbol: REEFUSDT: 0\n",
      "341 symbol: ACAUSDT: 0\n",
      "342 symbol: CFXUSDT: 0\n",
      "343 symbol: STMXUSDT: 0\n",
      "344 symbol: XNOUSDT: 0\n",
      "345 symbol: POLSUSDT: 0\n",
      "346 symbol: FARMUSDT: 0\n",
      "347 symbol: STPTUSDT: 0\n",
      "348 symbol: MULTIUSDT: 11\n",
      "349 symbol: VANRYUSDT: 0\n",
      "350 symbol: MTLUSDT: 0\n",
      "351 symbol: POWRUSDT: 0\n",
      "352 symbol: BNXUSDT: 0\n",
      "353 symbol: OOKIUSDT: 0\n",
      "354 symbol: GTCUSDT: 0\n",
      "355 symbol: CVPUSDT: 0\n",
      "356 symbol: RVNUSDT: 0\n",
      "357 symbol: MBOXUSDT: 0\n",
      "358 symbol: PONDUSDT: 0\n",
      "359 symbol: AVAUSDT: 0\n",
      "360 symbol: RUNEUSDT: 0\n",
      "361 symbol: ILVUSDT: 0\n",
      "362 symbol: CREAMUSDT: 0\n",
      "363 symbol: BLZUSDT: 0\n",
      "364 symbol: BTCDOWNUSDT: 0\n",
      "365 symbol: NEARUSDT: 0\n",
      "366 symbol: BNTUSDT: 0\n",
      "367 symbol: BTCUPUSDT: 0\n",
      "368 symbol: UTKUSDT: 0\n",
      "369 symbol: FXSUSDT: 0\n",
      "370 symbol: NKNUSDT: 0\n",
      "371 symbol: AXSUSDT: 0\n",
      "372 symbol: LSKUSDT: 0\n",
      "symbol_with_jumps: 4\n"
     ]
    }
   ],
   "source": [
    "dfst_feature, dfst_trading = algo.jitter_recovery.research.get_dfsts(df, jitter_recovery_trading_param)"
   ]
  },
  {
   "cell_type": "code",
   "execution_count": null,
   "id": "0e46998b-b20e-43f6-8fe4-fe905edff36e",
   "metadata": {},
   "outputs": [],
   "source": []
  },
  {
   "cell_type": "code",
   "execution_count": 10,
   "id": "24cb3b49-b1d2-4367-beeb-e2bb782a9129",
   "metadata": {
    "execution": {
     "iopub.execute_input": "2024-02-03T22:44:18.751645Z",
     "iopub.status.busy": "2024-02-03T22:44:18.751506Z",
     "iopub.status.idle": "2024-02-03T22:44:23.073408Z",
     "shell.execute_reply": "2024-02-03T22:44:23.072482Z",
     "shell.execute_reply.started": "2024-02-03T22:44:18.751633Z"
    }
   },
   "outputs": [
    {
     "data": {
      "text/plain": [
       "<Axes: xlabel='timestamp'>"
      ]
     },
     "execution_count": 10,
     "metadata": {},
     "output_type": "execute_result"
    },
    {
     "data": {
      "image/png": "[encoded data removed]",
      "text/plain": [
       "<Figure size 1600x100 with 1 Axes>"
      ]
     },
     "metadata": {},
     "output_type": "display_data"
    }
   ],
   "source": [
    "dfst_trading[['profit']].groupby('timestamp').sum().cumsum().plot(figsize=(16,1))"
   ]
  },
  {
   "cell_type": "code",
   "execution_count": null,
   "id": "b23c9664-48f7-4a7a-8fb4-1cd43f58ffe1",
   "metadata": {},
   "outputs": [],
   "source": []
  },
  {
   "cell_type": "code",
   "execution_count": 11,
   "id": "df42e7a8-0fa0-4e43-8e36-7817e4d7ac79",
   "metadata": {
    "execution": {
     "iopub.execute_input": "2024-02-03T22:44:33.027350Z",
     "iopub.status.busy": "2024-02-03T22:44:33.026969Z",
     "iopub.status.idle": "2024-02-03T22:44:34.550431Z",
     "shell.execute_reply": "2024-02-03T22:44:34.549968Z",
     "shell.execute_reply.started": "2024-02-03T22:44:33.027318Z"
    }
   },
   "outputs": [
    {
     "data": {
      "text/html": [
       "<div>\n",
       "<style scoped>\n",
       "    .dataframe tbody tr th:only-of-type {\n",
       "        vertical-align: middle;\n",
       "    }\n",
       "\n",
       "    .dataframe tbody tr th {\n",
       "        vertical-align: top;\n",
       "    }\n",
       "\n",
       "    .dataframe thead th {\n",
       "        text-align: right;\n",
       "    }\n",
       "</style>\n",
       "<table border=\"1\" class=\"dataframe\">\n",
       "  <thead>\n",
       "    <tr style=\"text-align: right;\">\n",
       "      <th></th>\n",
       "      <th>profit</th>\n",
       "    </tr>\n",
       "    <tr>\n",
       "      <th>symbol</th>\n",
       "      <th></th>\n",
       "    </tr>\n",
       "  </thead>\n",
       "  <tbody>\n",
       "    <tr>\n",
       "      <th>DCRUSDT</th>\n",
       "      <td>0.121887</td>\n",
       "    </tr>\n",
       "    <tr>\n",
       "      <th>FTTUSDT</th>\n",
       "      <td>0.173157</td>\n",
       "    </tr>\n",
       "  </tbody>\n",
       "</table>\n",
       "</div>"
      ],
      "text/plain": [
       "           profit\n",
       "symbol           \n",
       "DCRUSDT  0.121887\n",
       "FTTUSDT  0.173157"
      ]
     },
     "execution_count": 11,
     "metadata": {},
     "output_type": "execute_result"
    }
   ],
   "source": [
    "dfst_trading[dfst_trading.profit != 0].dropna()[['profit']].groupby('symbol').sum().sort_values('profit')"
   ]
  },
  {
   "cell_type": "code",
   "execution_count": 12,
   "id": "1b14ad24-a88a-4140-84f6-04b5af45c1b2",
   "metadata": {
    "execution": {
     "iopub.execute_input": "2024-02-03T22:44:34.551183Z",
     "iopub.status.busy": "2024-02-03T22:44:34.551046Z",
     "iopub.status.idle": "2024-02-03T22:44:36.063724Z",
     "shell.execute_reply": "2024-02-03T22:44:36.063294Z",
     "shell.execute_reply.started": "2024-02-03T22:44:34.551167Z"
    }
   },
   "outputs": [
    {
     "name": "stdout",
     "output_type": "stream",
     "text": [
      "2024-01-27 12:16:00, DCRUSDT, 20.175, position_changed: 1.0\n",
      "2024-01-28 06:52:00, DCRUSDT, 17.62, position_changed: -1.0\n",
      "2024-02-01 08:05:00, FTTUSDT, 2.2368, position_changed: 1.0\n",
      "2024-02-02 00:40:00, FTTUSDT, 1.8591, position_changed: -1.0\n"
     ]
    }
   ],
   "source": [
    "for _, row in dfst_trading[(dfst_trading.position_changed != 0)].dropna().reset_index().sort_values('timestamp').iterrows():\n",
    "    print(f'{row[\"timestamp\"]}, {row[\"symbol\"]}, {row[\"value\"]}, position_changed: {row[\"position_changed\"]}')"
   ]
  },
  {
   "cell_type": "code",
   "execution_count": null,
   "id": "5e1e524d-b16b-4ceb-a3f7-77aa56a1f2ca",
   "metadata": {},
   "outputs": [],
   "source": []
  },
  {
   "cell_type": "markdown",
   "id": "8d50d0e7-bc53-4639-9ee4-9cf18cc32b43",
   "metadata": {
    "execution": {
     "iopub.execute_input": "2024-02-01T14:36:55.118172Z",
     "iopub.status.busy": "2024-02-01T14:36:55.117200Z",
     "iopub.status.idle": "2024-02-01T14:36:55.121590Z",
     "shell.execute_reply": "2024-02-01T14:36:55.120954Z",
     "shell.execute_reply.started": "2024-02-01T14:36:55.118144Z"
    }
   },
   "source": [
    "## single symobl"
   ]
  },
  {
   "cell_type": "code",
   "execution_count": 16,
   "id": "a68c1eee-4f97-436f-b97a-021fae71f053",
   "metadata": {
    "execution": {
     "iopub.execute_input": "2024-02-03T22:46:30.897400Z",
     "iopub.status.busy": "2024-02-03T22:46:30.896150Z",
     "iopub.status.idle": "2024-02-03T22:46:30.914512Z",
     "shell.execute_reply": "2024-02-03T22:46:30.913704Z",
     "shell.execute_reply.started": "2024-02-03T22:46:30.897338Z"
    }
   },
   "outputs": [
    {
     "data": {
      "text/plain": [
       "<module 'algo.jitter_recovery.research' from '/home/junlim/projects/jitter_recovery/algo/jitter_recovery/research.py'>"
      ]
     },
     "execution_count": 16,
     "metadata": {},
     "output_type": "execute_result"
    }
   ],
   "source": [
    "import algo.jitter_recovery.calculate\n",
    "importlib.reload(algo.jitter_recovery.calculate)\n",
    "import algo.jitter_recovery.research\n",
    "importlib.reload(algo.jitter_recovery.research)"
   ]
  },
  {
   "cell_type": "code",
   "execution_count": 17,
   "id": "a84c39b2-3f19-4fb2-b008-75b6e0d23473",
   "metadata": {
    "execution": {
     "iopub.execute_input": "2024-02-03T22:46:33.831668Z",
     "iopub.status.busy": "2024-02-03T22:46:33.830647Z",
     "iopub.status.idle": "2024-02-03T22:46:33.842160Z",
     "shell.execute_reply": "2024-02-03T22:46:33.839358Z",
     "shell.execute_reply.started": "2024-02-03T22:46:33.831596Z"
    }
   },
   "outputs": [],
   "source": [
    "symbol_investigate = 'FTTUSDT'\n",
    "jitter_recovery_trading_param = algo.jitter_recovery.calculate.JitterRecoveryTradingParam(\n",
    "    algo.jitter_recovery.calculate.JitterRecoveryFeatureParam(240), \n",
    "    0.40, -0.10, 0.05, is_long_term=True)"
   ]
  },
  {
   "cell_type": "code",
   "execution_count": 18,
   "id": "ba11327e-923d-4c44-89a9-39a2bf3f5d1d",
   "metadata": {
    "execution": {
     "iopub.execute_input": "2024-02-03T22:46:36.214785Z",
     "iopub.status.busy": "2024-02-03T22:46:36.213675Z",
     "iopub.status.idle": "2024-02-03T22:46:40.265583Z",
     "shell.execute_reply": "2024-02-03T22:46:40.264842Z",
     "shell.execute_reply.started": "2024-02-03T22:46:36.214745Z"
    }
   },
   "outputs": [
    {
     "data": {
      "image/png": "[encoded data removed]",
      "text/plain": [
       "<Figure size 800x900 with 5 Axes>"
      ]
     },
     "metadata": {},
     "output_type": "display_data"
    },
    {
     "data": {
      "image/png": "[encoded data removed]",
      "text/plain": [
       "<Figure size 900x200 with 1 Axes>"
      ]
     },
     "metadata": {},
     "output_type": "display_data"
    },
    {
     "data": {
      "image/png": "[encoded data removed]",
      "text/plain": [
       "<Figure size 900x200 with 1 Axes>"
      ]
     },
     "metadata": {},
     "output_type": "display_data"
    }
   ],
   "source": [
    "df_feature, df_trading = algo.jitter_recovery.research.investigate_symbol(df, symbol_investigate, jitter_recovery_trading_param, figsize=(8,9))"
   ]
  },
  {
   "cell_type": "code",
   "execution_count": null,
   "id": "50087d08-3901-439d-94cc-7b3576dc4d94",
   "metadata": {},
   "outputs": [],
   "source": []
  },
  {
   "cell_type": "code",
   "execution_count": 154,
   "id": "9a59b8c0-3666-4b4e-88c7-7510d00cdbe6",
   "metadata": {
    "execution": {
     "iopub.execute_input": "2024-02-03T22:11:53.617620Z",
     "iopub.status.busy": "2024-02-03T22:11:53.617433Z",
     "iopub.status.idle": "2024-02-03T22:11:53.622406Z",
     "shell.execute_reply": "2024-02-03T22:11:53.621737Z",
     "shell.execute_reply.started": "2024-02-03T22:11:53.617605Z"
    }
   },
   "outputs": [],
   "source": [
    "i_head = df_trading.index.get_loc(df_trading[df_trading.position_changed == +1].index[0])\n",
    "i_tail = df_trading.index.get_loc(df_trading[df_trading.position_changed == -1].index[-1])"
   ]
  },
  {
   "cell_type": "code",
   "execution_count": 155,
   "id": "dc88c4c6-6cb3-45f6-a234-4fb667578994",
   "metadata": {
    "execution": {
     "iopub.execute_input": "2024-02-03T22:11:53.623355Z",
     "iopub.status.busy": "2024-02-03T22:11:53.623117Z",
     "iopub.status.idle": "2024-02-03T22:11:53.668473Z",
     "shell.execute_reply": "2024-02-03T22:11:53.667677Z",
     "shell.execute_reply.started": "2024-02-03T22:11:53.623332Z"
    }
   },
   "outputs": [
    {
     "data": {
      "text/html": [
       "<div>\n",
       "<style scoped>\n",
       "    .dataframe tbody tr th:only-of-type {\n",
       "        vertical-align: middle;\n",
       "    }\n",
       "\n",
       "    .dataframe tbody tr th {\n",
       "        vertical-align: top;\n",
       "    }\n",
       "\n",
       "    .dataframe thead th {\n",
       "        text-align: right;\n",
       "    }\n",
       "</style>\n",
       "<table border=\"1\" class=\"dataframe\">\n",
       "  <thead>\n",
       "    <tr style=\"text-align: right;\">\n",
       "      <th></th>\n",
       "      <th>value</th>\n",
       "      <th>ch_max</th>\n",
       "      <th>ch_min</th>\n",
       "      <th>avg_v_before_max_ch</th>\n",
       "      <th>avg_v_before_min_ch</th>\n",
       "      <th>v_ch_max_is_from</th>\n",
       "      <th>v_ch_min_is_from</th>\n",
       "      <th>v_ch_max_is_to</th>\n",
       "      <th>v_ch_min_is_to</th>\n",
       "      <th>ch_since_max</th>\n",
       "      <th>...</th>\n",
       "      <th>lowest_since_enter</th>\n",
       "      <th>timedelta_since_position_enter</th>\n",
       "      <th>v_ch_max_is_to_when_enter</th>\n",
       "      <th>v_ch_min_is_to_when_enter</th>\n",
       "      <th>v_ch_max_is_from_when_enter</th>\n",
       "      <th>v_ch_min_is_from_when_enter</th>\n",
       "      <th>ch_from_enter</th>\n",
       "      <th>ch_from_lowest_since_enter</th>\n",
       "      <th>profit_raw</th>\n",
       "      <th>profit</th>\n",
       "    </tr>\n",
       "    <tr>\n",
       "      <th>timestamp</th>\n",
       "      <th></th>\n",
       "      <th></th>\n",
       "      <th></th>\n",
       "      <th></th>\n",
       "      <th></th>\n",
       "      <th></th>\n",
       "      <th></th>\n",
       "      <th></th>\n",
       "      <th></th>\n",
       "      <th></th>\n",
       "      <th></th>\n",
       "      <th></th>\n",
       "      <th></th>\n",
       "      <th></th>\n",
       "      <th></th>\n",
       "      <th></th>\n",
       "      <th></th>\n",
       "      <th></th>\n",
       "      <th></th>\n",
       "      <th></th>\n",
       "      <th></th>\n",
       "    </tr>\n",
       "  </thead>\n",
       "  <tbody>\n",
       "    <tr>\n",
       "      <th>2024-02-01 08:03:00</th>\n",
       "      <td>2.2849</td>\n",
       "      <td>0.601321</td>\n",
       "      <td>-0.123834</td>\n",
       "      <td>1.826807</td>\n",
       "      <td>1.698629</td>\n",
       "      <td>1.5594</td>\n",
       "      <td>1.7798</td>\n",
       "      <td>2.4971</td>\n",
       "      <td>1.5594</td>\n",
       "      <td>-0.084979</td>\n",
       "      <td>...</td>\n",
       "      <td>0.0000</td>\n",
       "      <td>0</td>\n",
       "      <td>0.0000</td>\n",
       "      <td>0.0000</td>\n",
       "      <td>0.0000</td>\n",
       "      <td>0.0000</td>\n",
       "      <td>0.000000</td>\n",
       "      <td>0.000000</td>\n",
       "      <td>0.0000</td>\n",
       "      <td>0.000000</td>\n",
       "    </tr>\n",
       "    <tr>\n",
       "      <th>2024-02-01 08:04:00</th>\n",
       "      <td>2.2899</td>\n",
       "      <td>0.601321</td>\n",
       "      <td>-0.123834</td>\n",
       "      <td>1.827330</td>\n",
       "      <td>1.698362</td>\n",
       "      <td>1.5594</td>\n",
       "      <td>1.7798</td>\n",
       "      <td>2.4971</td>\n",
       "      <td>1.5594</td>\n",
       "      <td>-0.082976</td>\n",
       "      <td>...</td>\n",
       "      <td>0.0000</td>\n",
       "      <td>0</td>\n",
       "      <td>0.0000</td>\n",
       "      <td>0.0000</td>\n",
       "      <td>0.0000</td>\n",
       "      <td>0.0000</td>\n",
       "      <td>0.000000</td>\n",
       "      <td>0.000000</td>\n",
       "      <td>-0.0000</td>\n",
       "      <td>-0.000000</td>\n",
       "    </tr>\n",
       "    <tr>\n",
       "      <th>2024-02-01 08:05:00</th>\n",
       "      <td>2.2368</td>\n",
       "      <td>0.601321</td>\n",
       "      <td>-0.123834</td>\n",
       "      <td>1.827744</td>\n",
       "      <td>1.696287</td>\n",
       "      <td>1.5594</td>\n",
       "      <td>1.7798</td>\n",
       "      <td>2.4971</td>\n",
       "      <td>1.5594</td>\n",
       "      <td>-0.104241</td>\n",
       "      <td>...</td>\n",
       "      <td>2.2368</td>\n",
       "      <td>0</td>\n",
       "      <td>2.4971</td>\n",
       "      <td>1.5594</td>\n",
       "      <td>1.5594</td>\n",
       "      <td>1.7798</td>\n",
       "      <td>0.000000</td>\n",
       "      <td>0.000000</td>\n",
       "      <td>0.0000</td>\n",
       "      <td>0.000000</td>\n",
       "    </tr>\n",
       "    <tr>\n",
       "      <th>2024-02-01 08:06:00</th>\n",
       "      <td>2.2522</td>\n",
       "      <td>0.601321</td>\n",
       "      <td>-0.123834</td>\n",
       "      <td>1.827976</td>\n",
       "      <td>1.690779</td>\n",
       "      <td>1.5594</td>\n",
       "      <td>1.7798</td>\n",
       "      <td>2.4971</td>\n",
       "      <td>1.5594</td>\n",
       "      <td>-0.098074</td>\n",
       "      <td>...</td>\n",
       "      <td>2.2368</td>\n",
       "      <td>1</td>\n",
       "      <td>2.4971</td>\n",
       "      <td>1.5594</td>\n",
       "      <td>1.5594</td>\n",
       "      <td>1.7798</td>\n",
       "      <td>0.006885</td>\n",
       "      <td>0.006885</td>\n",
       "      <td>-0.0154</td>\n",
       "      <td>-0.006885</td>\n",
       "    </tr>\n",
       "  </tbody>\n",
       "</table>\n",
       "<p>4 rows × 26 columns</p>\n",
       "</div>"
      ],
      "text/plain": [
       "                      value    ch_max    ch_min  avg_v_before_max_ch  \\\n",
       "timestamp                                                              \n",
       "2024-02-01 08:03:00  2.2849  0.601321 -0.123834             1.826807   \n",
       "2024-02-01 08:04:00  2.2899  0.601321 -0.123834             1.827330   \n",
       "2024-02-01 08:05:00  2.2368  0.601321 -0.123834             1.827744   \n",
       "2024-02-01 08:06:00  2.2522  0.601321 -0.123834             1.827976   \n",
       "\n",
       "                     avg_v_before_min_ch  v_ch_max_is_from  v_ch_min_is_from  \\\n",
       "timestamp                                                                      \n",
       "2024-02-01 08:03:00             1.698629            1.5594            1.7798   \n",
       "2024-02-01 08:04:00             1.698362            1.5594            1.7798   \n",
       "2024-02-01 08:05:00             1.696287            1.5594            1.7798   \n",
       "2024-02-01 08:06:00             1.690779            1.5594            1.7798   \n",
       "\n",
       "                     v_ch_max_is_to  v_ch_min_is_to  ch_since_max  ...  \\\n",
       "timestamp                                                          ...   \n",
       "2024-02-01 08:03:00          2.4971          1.5594     -0.084979  ...   \n",
       "2024-02-01 08:04:00          2.4971          1.5594     -0.082976  ...   \n",
       "2024-02-01 08:05:00          2.4971          1.5594     -0.104241  ...   \n",
       "2024-02-01 08:06:00          2.4971          1.5594     -0.098074  ...   \n",
       "\n",
       "                     lowest_since_enter  timedelta_since_position_enter  \\\n",
       "timestamp                                                                 \n",
       "2024-02-01 08:03:00              0.0000                               0   \n",
       "2024-02-01 08:04:00              0.0000                               0   \n",
       "2024-02-01 08:05:00              2.2368                               0   \n",
       "2024-02-01 08:06:00              2.2368                               1   \n",
       "\n",
       "                     v_ch_max_is_to_when_enter  v_ch_min_is_to_when_enter  \\\n",
       "timestamp                                                                   \n",
       "2024-02-01 08:03:00                     0.0000                     0.0000   \n",
       "2024-02-01 08:04:00                     0.0000                     0.0000   \n",
       "2024-02-01 08:05:00                     2.4971                     1.5594   \n",
       "2024-02-01 08:06:00                     2.4971                     1.5594   \n",
       "\n",
       "                     v_ch_max_is_from_when_enter  v_ch_min_is_from_when_enter  \\\n",
       "timestamp                                                                       \n",
       "2024-02-01 08:03:00                       0.0000                       0.0000   \n",
       "2024-02-01 08:04:00                       0.0000                       0.0000   \n",
       "2024-02-01 08:05:00                       1.5594                       1.7798   \n",
       "2024-02-01 08:06:00                       1.5594                       1.7798   \n",
       "\n",
       "                     ch_from_enter  ch_from_lowest_since_enter  profit_raw  \\\n",
       "timestamp                                                                    \n",
       "2024-02-01 08:03:00       0.000000                    0.000000      0.0000   \n",
       "2024-02-01 08:04:00       0.000000                    0.000000     -0.0000   \n",
       "2024-02-01 08:05:00       0.000000                    0.000000      0.0000   \n",
       "2024-02-01 08:06:00       0.006885                    0.006885     -0.0154   \n",
       "\n",
       "                       profit  \n",
       "timestamp                      \n",
       "2024-02-01 08:03:00  0.000000  \n",
       "2024-02-01 08:04:00 -0.000000  \n",
       "2024-02-01 08:05:00  0.000000  \n",
       "2024-02-01 08:06:00 -0.006885  \n",
       "\n",
       "[4 rows x 26 columns]"
      ]
     },
     "execution_count": 155,
     "metadata": {},
     "output_type": "execute_result"
    }
   ],
   "source": [
    "df_trading.iloc[i_head-2:i_head+2]"
   ]
  },
  {
   "cell_type": "code",
   "execution_count": 156,
   "id": "63d3c584-0933-41ff-b011-f355844b2083",
   "metadata": {
    "execution": {
     "iopub.execute_input": "2024-02-03T22:12:08.758677Z",
     "iopub.status.busy": "2024-02-03T22:12:08.758053Z",
     "iopub.status.idle": "2024-02-03T22:12:08.767135Z",
     "shell.execute_reply": "2024-02-03T22:12:08.766639Z",
     "shell.execute_reply.started": "2024-02-03T22:12:08.758652Z"
    }
   },
   "outputs": [
    {
     "data": {
      "text/html": [
       "<div>\n",
       "<style scoped>\n",
       "    .dataframe tbody tr th:only-of-type {\n",
       "        vertical-align: middle;\n",
       "    }\n",
       "\n",
       "    .dataframe tbody tr th {\n",
       "        vertical-align: top;\n",
       "    }\n",
       "\n",
       "    .dataframe thead th {\n",
       "        text-align: right;\n",
       "    }\n",
       "</style>\n",
       "<table border=\"1\" class=\"dataframe\">\n",
       "  <thead>\n",
       "    <tr style=\"text-align: right;\">\n",
       "      <th></th>\n",
       "      <th>value</th>\n",
       "      <th>in_position</th>\n",
       "      <th>position_changed</th>\n",
       "      <th>profit_raw</th>\n",
       "      <th>profit</th>\n",
       "    </tr>\n",
       "    <tr>\n",
       "      <th>timestamp</th>\n",
       "      <th></th>\n",
       "      <th></th>\n",
       "      <th></th>\n",
       "      <th></th>\n",
       "      <th></th>\n",
       "    </tr>\n",
       "  </thead>\n",
       "  <tbody>\n",
       "    <tr>\n",
       "      <th>2024-02-01 08:05:00</th>\n",
       "      <td>2.2368</td>\n",
       "      <td>1</td>\n",
       "      <td>1.0</td>\n",
       "      <td>0.0000</td>\n",
       "      <td>0.000000</td>\n",
       "    </tr>\n",
       "    <tr>\n",
       "      <th>2024-02-02 00:40:00</th>\n",
       "      <td>1.8591</td>\n",
       "      <td>0</td>\n",
       "      <td>-1.0</td>\n",
       "      <td>0.0147</td>\n",
       "      <td>0.007845</td>\n",
       "    </tr>\n",
       "  </tbody>\n",
       "</table>\n",
       "</div>"
      ],
      "text/plain": [
       "                      value  in_position  position_changed  profit_raw  \\\n",
       "timestamp                                                                \n",
       "2024-02-01 08:05:00  2.2368            1               1.0      0.0000   \n",
       "2024-02-02 00:40:00  1.8591            0              -1.0      0.0147   \n",
       "\n",
       "                       profit  \n",
       "timestamp                      \n",
       "2024-02-01 08:05:00  0.000000  \n",
       "2024-02-02 00:40:00  0.007845  "
      ]
     },
     "execution_count": 156,
     "metadata": {},
     "output_type": "execute_result"
    }
   ],
   "source": [
    "df_trading[(df_trading.position_changed != 0)][['value', 'in_position', 'position_changed', 'profit_raw', 'profit']].dropna()"
   ]
  },
  {
   "cell_type": "code",
   "execution_count": null,
   "id": "668c9e32-f919-4360-9c27-afd2ef1084ad",
   "metadata": {},
   "outputs": [],
   "source": []
  }
 ],
 "metadata": {
  "kernelspec": {
   "display_name": "Python 3 (ipykernel)",
   "language": "python",
   "name": "python3"
  },
  "language_info": {
   "codemirror_mode": {
    "name": "ipython",
    "version": 3
   },
   "file_extension": ".py",
   "mimetype": "text/x-python",
   "name": "python",
   "nbconvert_exporter": "python",
   "pygments_lexer": "ipython3",
   "version": "3.10.12"
  }
 },
 "nbformat": 4,
 "nbformat_minor": 5
}
