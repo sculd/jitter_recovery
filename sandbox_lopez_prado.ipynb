{
 "cells": [
  {
   "cell_type": "code",
   "execution_count": 1,
   "id": "b7729d17-6ed2-4c5e-a86e-172ef22d06d3",
   "metadata": {
    "execution": {
     "iopub.execute_input": "2024-12-12T20:32:14.483627Z",
     "iopub.status.busy": "2024-12-12T20:32:14.483402Z",
     "iopub.status.idle": "2024-12-12T20:32:14.490662Z",
     "shell.execute_reply": "2024-12-12T20:32:14.489705Z",
     "shell.execute_reply.started": "2024-12-12T20:32:14.483605Z"
    }
   },
   "outputs": [],
   "source": [
    "import os\n",
    "\n",
    "if os.path.exists('credential.json'):\n",
    "    os.environ[\"GOOGLE_APPLICATION_CREDENTIALS\"] = os.path.join(os.getcwd(), 'credential.json')\n",
    "    os.environ[\"GOOGLE_CLOUD_PROJECT\"] = \"trading-290017\"\n",
    "else:\n",
    "    print('the credential.json file does not exist')\n",
    "\n",
    "import importlib"
   ]
  },
  {
   "cell_type": "code",
   "execution_count": 2,
   "id": "6eae7d7e-c49d-4d1c-9893-d694a556cdc0",
   "metadata": {
    "execution": {
     "iopub.execute_input": "2024-12-12T20:32:15.669627Z",
     "iopub.status.busy": "2024-12-12T20:32:15.668952Z",
     "iopub.status.idle": "2024-12-12T20:32:15.673849Z",
     "shell.execute_reply": "2024-12-12T20:32:15.672782Z",
     "shell.execute_reply.started": "2024-12-12T20:32:15.669598Z"
    }
   },
   "outputs": [],
   "source": [
    "import logging, sys\n",
    "\n",
    "logging.basicConfig(\n",
    "    level=logging.INFO,\n",
    "    format=\"%(asctime)s [%(threadName)-12.12s] [%(levelname)-5.5s]  %(message)s\",\n",
    "    handlers=[\n",
    "        logging.StreamHandler(sys.stdout)\n",
    "    ]\n",
    ")"
   ]
  },
  {
   "cell_type": "code",
   "execution_count": 13,
   "id": "85834976-89c6-4ae1-82c6-a6784708eaef",
   "metadata": {
    "execution": {
     "iopub.execute_input": "2024-12-12T20:35:00.670345Z",
     "iopub.status.busy": "2024-12-12T20:35:00.669640Z",
     "iopub.status.idle": "2024-12-12T20:35:00.676822Z",
     "shell.execute_reply": "2024-12-12T20:35:00.675742Z",
     "shell.execute_reply.started": "2024-12-12T20:35:00.670284Z"
    }
   },
   "outputs": [],
   "source": [
    "import pandas as pd\n",
    "import numpy as np"
   ]
  },
  {
   "cell_type": "code",
   "execution_count": 3,
   "id": "24536700-0b55-4fef-9df9-369aa11161d2",
   "metadata": {
    "execution": {
     "iopub.execute_input": "2024-12-12T20:32:15.855367Z",
     "iopub.status.busy": "2024-12-12T20:32:15.854774Z",
     "iopub.status.idle": "2024-12-12T20:32:17.012273Z",
     "shell.execute_reply": "2024-12-12T20:32:17.011003Z",
     "shell.execute_reply.started": "2024-12-12T20:32:15.855341Z"
    }
   },
   "outputs": [
    {
     "data": {
      "text/plain": [
       "<module 'market_data.ingest.bq.cache' from '/home/junlim/projects/jitter_recovery/market_data/ingest/bq/cache.py'>"
      ]
     },
     "execution_count": 3,
     "metadata": {},
     "output_type": "execute_result"
    }
   ],
   "source": [
    "import market_data.ingest.bq.cache\n",
    "importlib.reload(market_data.ingest.bq.cache)"
   ]
  },
  {
   "cell_type": "code",
   "execution_count": 9,
   "id": "d1d74362-5236-42bb-9a4f-b6150d44642a",
   "metadata": {
    "execution": {
     "iopub.execute_input": "2024-12-12T20:34:14.907956Z",
     "iopub.status.busy": "2024-12-12T20:34:14.907335Z",
     "iopub.status.idle": "2024-12-12T20:34:28.191491Z",
     "shell.execute_reply": "2024-12-12T20:34:28.190570Z",
     "shell.execute_reply.started": "2024-12-12T20:34:14.907917Z"
    }
   },
   "outputs": [
    {
     "name": "stdout",
     "output_type": "stream",
     "text": [
      "\n",
      "    WITH LATEST AS (\n",
      "    SELECT timestamp, symbol, max(ingestion_timestamp) AS max_ingestion_timestamp\n",
      "    FROM `trading-290017.market_data_okx.by_minute` \n",
      "    WHERE TRUE\n",
      "    AND timestamp >= \"2024-11-20T00:00:00-0500\"\n",
      "    AND timestamp < \"2024-11-21T00:00:00-0500\"\n",
      "    GROUP BY timestamp, symbol\n",
      "    )\n",
      "\n",
      "    SELECT T.timestamp, T.symbol, open, high, low, close, volume\n",
      "    FROM `trading-290017.market_data_okx.by_minute` AS T JOIN \n",
      "        LATEST ON T.timestamp = LATEST.timestamp AND T.symbol = LATEST.symbol \n",
      "        AND IFNULL(T.ingestion_timestamp, PARSE_TIMESTAMP(\"%c\", \"Thu Dec 25 07:30:00 2008\")) = IFNULL(LATEST.max_ingestion_timestamp, PARSE_TIMESTAMP(\"%c\", \"Thu Dec 25 07:30:00 2008\"))\n",
      "    WHERE TRUE\n",
      "    AND T.timestamp >= \"2024-11-20T00:00:00-0500\"\n",
      "    AND T.timestamp < \"2024-11-21T00:00:00-0500\"\n",
      "    ORDER BY T.timestamp ASC\n",
      "\n"
     ]
    }
   ],
   "source": [
    "import market_data\n",
    "import market_data.ingest.bq.common\n",
    "import market_data.ingest.bq.candle\n",
    "dataset_mode = market_data.ingest.bq.common.DATASET_MODE.OKX\n",
    "export_mode = market_data.ingest.bq.common.EXPORT_MODE.BY_MINUTE\n",
    "t_id = market_data.ingest.bq.common.get_full_table_id(dataset_mode, export_mode)\n",
    "date_str_from='2024-11-20'\n",
    "date_str_to='2024-11-21'\n",
    "df = market_data.ingest.bq.candle.fetch_minute_candle(t_id, aggregation_mode=market_data.ingest.bq.common.AGGREGATION_MODE.TAKE_LASTEST, date_str_from=date_str_from, date_str_to=date_str_to)"
   ]
  },
  {
   "cell_type": "code",
   "execution_count": 38,
   "id": "bea718ec-142b-4015-92e4-bbca91f6e33c",
   "metadata": {
    "execution": {
     "iopub.execute_input": "2024-12-12T20:49:00.257552Z",
     "iopub.status.busy": "2024-12-12T20:49:00.256968Z",
     "iopub.status.idle": "2024-12-12T20:49:00.276162Z",
     "shell.execute_reply": "2024-12-12T20:49:00.275500Z",
     "shell.execute_reply.started": "2024-12-12T20:49:00.257499Z"
    }
   },
   "outputs": [
    {
     "data": {
      "text/html": [
       "<div>\n",
       "<style scoped>\n",
       "    .dataframe tbody tr th:only-of-type {\n",
       "        vertical-align: middle;\n",
       "    }\n",
       "\n",
       "    .dataframe tbody tr th {\n",
       "        vertical-align: top;\n",
       "    }\n",
       "\n",
       "    .dataframe thead th {\n",
       "        text-align: right;\n",
       "    }\n",
       "</style>\n",
       "<table border=\"1\" class=\"dataframe\">\n",
       "  <thead>\n",
       "    <tr style=\"text-align: right;\">\n",
       "      <th></th>\n",
       "      <th>symbol</th>\n",
       "      <th>open</th>\n",
       "      <th>high</th>\n",
       "      <th>low</th>\n",
       "      <th>close</th>\n",
       "      <th>volume</th>\n",
       "    </tr>\n",
       "    <tr>\n",
       "      <th>timestamp</th>\n",
       "      <th></th>\n",
       "      <th></th>\n",
       "      <th></th>\n",
       "      <th></th>\n",
       "      <th></th>\n",
       "      <th></th>\n",
       "    </tr>\n",
       "  </thead>\n",
       "  <tbody>\n",
       "    <tr>\n",
       "      <th>2024-11-20 00:00:00-05:00</th>\n",
       "      <td>ATOM-USDT-SWAP</td>\n",
       "      <td>6.348000</td>\n",
       "      <td>6.352000</td>\n",
       "      <td>6.335000</td>\n",
       "      <td>6.343000</td>\n",
       "      <td>6784.0000</td>\n",
       "    </tr>\n",
       "    <tr>\n",
       "      <th>2024-11-20 00:00:00-05:00</th>\n",
       "      <td>SLP-USDT-SWAP</td>\n",
       "      <td>0.003183</td>\n",
       "      <td>0.003185</td>\n",
       "      <td>0.003181</td>\n",
       "      <td>0.003185</td>\n",
       "      <td>741880.0000</td>\n",
       "    </tr>\n",
       "    <tr>\n",
       "      <th>2024-11-20 00:00:00-05:00</th>\n",
       "      <td>ZRX-USDT-SWAP</td>\n",
       "      <td>0.416100</td>\n",
       "      <td>0.416400</td>\n",
       "      <td>0.415500</td>\n",
       "      <td>0.416400</td>\n",
       "      <td>21980.0000</td>\n",
       "    </tr>\n",
       "    <tr>\n",
       "      <th>2024-11-20 00:00:00-05:00</th>\n",
       "      <td>BCH-USDT-SWAP</td>\n",
       "      <td>436.400000</td>\n",
       "      <td>436.900000</td>\n",
       "      <td>436.000000</td>\n",
       "      <td>436.500000</td>\n",
       "      <td>344.6400</td>\n",
       "    </tr>\n",
       "    <tr>\n",
       "      <th>2024-11-20 00:00:00-05:00</th>\n",
       "      <td>UXLINK-USDT-SWAP</td>\n",
       "      <td>0.588200</td>\n",
       "      <td>0.588800</td>\n",
       "      <td>0.587400</td>\n",
       "      <td>0.588400</td>\n",
       "      <td>54680.0000</td>\n",
       "    </tr>\n",
       "    <tr>\n",
       "      <th>...</th>\n",
       "      <td>...</td>\n",
       "      <td>...</td>\n",
       "      <td>...</td>\n",
       "      <td>...</td>\n",
       "      <td>...</td>\n",
       "      <td>...</td>\n",
       "    </tr>\n",
       "    <tr>\n",
       "      <th>2024-11-20 23:59:00-05:00</th>\n",
       "      <td>MAGIC-USDT-SWAP</td>\n",
       "      <td>0.401400</td>\n",
       "      <td>0.401400</td>\n",
       "      <td>0.400600</td>\n",
       "      <td>0.400800</td>\n",
       "      <td>11467.0000</td>\n",
       "    </tr>\n",
       "    <tr>\n",
       "      <th>2024-11-20 23:59:00-05:00</th>\n",
       "      <td>ONT-USDT-SWAP</td>\n",
       "      <td>0.218700</td>\n",
       "      <td>0.219100</td>\n",
       "      <td>0.218600</td>\n",
       "      <td>0.218700</td>\n",
       "      <td>91450.0000</td>\n",
       "    </tr>\n",
       "    <tr>\n",
       "      <th>2024-11-20 23:59:00-05:00</th>\n",
       "      <td>BCH-USD-SWAP</td>\n",
       "      <td>495.700000</td>\n",
       "      <td>497.100000</td>\n",
       "      <td>493.800000</td>\n",
       "      <td>496.400000</td>\n",
       "      <td>82.0277</td>\n",
       "    </tr>\n",
       "    <tr>\n",
       "      <th>2024-11-20 23:59:00-05:00</th>\n",
       "      <td>IOTA-USDT-SWAP</td>\n",
       "      <td>0.169400</td>\n",
       "      <td>0.169400</td>\n",
       "      <td>0.169100</td>\n",
       "      <td>0.169200</td>\n",
       "      <td>5710.0000</td>\n",
       "    </tr>\n",
       "    <tr>\n",
       "      <th>2024-11-20 23:59:00-05:00</th>\n",
       "      <td>ZK-USDT-SWAP</td>\n",
       "      <td>0.136100</td>\n",
       "      <td>0.136100</td>\n",
       "      <td>0.135900</td>\n",
       "      <td>0.135900</td>\n",
       "      <td>72260.0000</td>\n",
       "    </tr>\n",
       "  </tbody>\n",
       "</table>\n",
       "<p>305807 rows × 6 columns</p>\n",
       "</div>"
      ],
      "text/plain": [
       "                                     symbol        open        high  \\\n",
       "timestamp                                                             \n",
       "2024-11-20 00:00:00-05:00    ATOM-USDT-SWAP    6.348000    6.352000   \n",
       "2024-11-20 00:00:00-05:00     SLP-USDT-SWAP    0.003183    0.003185   \n",
       "2024-11-20 00:00:00-05:00     ZRX-USDT-SWAP    0.416100    0.416400   \n",
       "2024-11-20 00:00:00-05:00     BCH-USDT-SWAP  436.400000  436.900000   \n",
       "2024-11-20 00:00:00-05:00  UXLINK-USDT-SWAP    0.588200    0.588800   \n",
       "...                                     ...         ...         ...   \n",
       "2024-11-20 23:59:00-05:00   MAGIC-USDT-SWAP    0.401400    0.401400   \n",
       "2024-11-20 23:59:00-05:00     ONT-USDT-SWAP    0.218700    0.219100   \n",
       "2024-11-20 23:59:00-05:00      BCH-USD-SWAP  495.700000  497.100000   \n",
       "2024-11-20 23:59:00-05:00    IOTA-USDT-SWAP    0.169400    0.169400   \n",
       "2024-11-20 23:59:00-05:00      ZK-USDT-SWAP    0.136100    0.136100   \n",
       "\n",
       "                                  low       close       volume  \n",
       "timestamp                                                       \n",
       "2024-11-20 00:00:00-05:00    6.335000    6.343000    6784.0000  \n",
       "2024-11-20 00:00:00-05:00    0.003181    0.003185  741880.0000  \n",
       "2024-11-20 00:00:00-05:00    0.415500    0.416400   21980.0000  \n",
       "2024-11-20 00:00:00-05:00  436.000000  436.500000     344.6400  \n",
       "2024-11-20 00:00:00-05:00    0.587400    0.588400   54680.0000  \n",
       "...                               ...         ...          ...  \n",
       "2024-11-20 23:59:00-05:00    0.400600    0.400800   11467.0000  \n",
       "2024-11-20 23:59:00-05:00    0.218600    0.218700   91450.0000  \n",
       "2024-11-20 23:59:00-05:00  493.800000  496.400000      82.0277  \n",
       "2024-11-20 23:59:00-05:00    0.169100    0.169200    5710.0000  \n",
       "2024-11-20 23:59:00-05:00    0.135900    0.135900   72260.0000  \n",
       "\n",
       "[305807 rows x 6 columns]"
      ]
     },
     "execution_count": 38,
     "metadata": {},
     "output_type": "execute_result"
    }
   ],
   "source": [
    "df"
   ]
  },
  {
   "cell_type": "code",
   "execution_count": null,
   "id": "fae95f3d-79d8-459a-81c0-79d78e63bc00",
   "metadata": {},
   "outputs": [],
   "source": []
  },
  {
   "cell_type": "code",
   "execution_count": 55,
   "id": "6982a58d-e82e-4266-a175-993c4da05531",
   "metadata": {
    "execution": {
     "iopub.execute_input": "2024-12-12T20:52:34.083199Z",
     "iopub.status.busy": "2024-12-12T20:52:34.082460Z",
     "iopub.status.idle": "2024-12-12T20:52:34.111465Z",
     "shell.execute_reply": "2024-12-12T20:52:34.110169Z",
     "shell.execute_reply.started": "2024-12-12T20:52:34.083137Z"
    }
   },
   "outputs": [],
   "source": [
    "df_btc = df[df.symbol == \"BTC-USDT-SWAP\"]\n",
    "df_btc_short = df_btc.iloc[:20]"
   ]
  },
  {
   "cell_type": "code",
   "execution_count": 23,
   "id": "f4302a76-5c61-4a5e-b8e4-cd8ca946b01d",
   "metadata": {
    "execution": {
     "iopub.execute_input": "2024-12-12T20:35:52.425527Z",
     "iopub.status.busy": "2024-12-12T20:35:52.425255Z",
     "iopub.status.idle": "2024-12-12T20:35:52.430873Z",
     "shell.execute_reply": "2024-12-12T20:35:52.430355Z",
     "shell.execute_reply.started": "2024-12-12T20:35:52.425501Z"
    }
   },
   "outputs": [
    {
     "data": {
      "text/plain": [
       "DatetimeIndex(['2024-11-20 00:00:00-05:00', '2024-11-20 00:01:00-05:00',\n",
       "               '2024-11-20 00:02:00-05:00', '2024-11-20 00:03:00-05:00',\n",
       "               '2024-11-20 00:04:00-05:00', '2024-11-20 00:05:00-05:00',\n",
       "               '2024-11-20 00:06:00-05:00', '2024-11-20 00:07:00-05:00',\n",
       "               '2024-11-20 00:08:00-05:00', '2024-11-20 00:09:00-05:00',\n",
       "               '2024-11-20 00:10:00-05:00', '2024-11-20 00:11:00-05:00',\n",
       "               '2024-11-20 00:12:00-05:00', '2024-11-20 00:13:00-05:00',\n",
       "               '2024-11-20 00:14:00-05:00', '2024-11-20 00:15:00-05:00',\n",
       "               '2024-11-20 00:16:00-05:00', '2024-11-20 00:17:00-05:00',\n",
       "               '2024-11-20 00:18:00-05:00', '2024-11-20 00:19:00-05:00'],\n",
       "              dtype='datetime64[ns, America/New_York]', name='timestamp', freq=None)"
      ]
     },
     "execution_count": 23,
     "metadata": {},
     "output_type": "execute_result"
    }
   ],
   "source": [
    "df_btc_short.index"
   ]
  },
  {
   "cell_type": "code",
   "execution_count": 56,
   "id": "7f45ef89-f8bc-4138-b134-e7a60dd3f778",
   "metadata": {
    "execution": {
     "iopub.execute_input": "2024-12-12T20:52:39.937999Z",
     "iopub.status.busy": "2024-12-12T20:52:39.937454Z",
     "iopub.status.idle": "2024-12-12T20:52:39.944055Z",
     "shell.execute_reply": "2024-12-12T20:52:39.943219Z",
     "shell.execute_reply.started": "2024-12-12T20:52:39.937954Z"
    }
   },
   "outputs": [],
   "source": [
    "df0 = df_btc_short.index.searchsorted(df_btc_short.index - pd.Timedelta(minutes=10))"
   ]
  },
  {
   "cell_type": "code",
   "execution_count": 57,
   "id": "b21ff52d-086b-44ee-84a8-b1e28ac002b2",
   "metadata": {
    "execution": {
     "iopub.execute_input": "2024-12-12T20:52:40.343884Z",
     "iopub.status.busy": "2024-12-12T20:52:40.342476Z",
     "iopub.status.idle": "2024-12-12T20:52:40.348249Z",
     "shell.execute_reply": "2024-12-12T20:52:40.347617Z",
     "shell.execute_reply.started": "2024-12-12T20:52:40.343777Z"
    }
   },
   "outputs": [
    {
     "data": {
      "text/plain": [
       "array([0, 0, 0, 0, 0, 0, 0, 0, 0, 0, 0, 1, 2, 3, 4, 5, 6, 7, 8, 9])"
      ]
     },
     "execution_count": 57,
     "metadata": {},
     "output_type": "execute_result"
    }
   ],
   "source": [
    "df0"
   ]
  },
  {
   "cell_type": "code",
   "execution_count": 58,
   "id": "4d927b78-bacb-41ff-8c54-9d61df8fb7b7",
   "metadata": {
    "execution": {
     "iopub.execute_input": "2024-12-12T20:52:42.582853Z",
     "iopub.status.busy": "2024-12-12T20:52:42.582251Z",
     "iopub.status.idle": "2024-12-12T20:52:42.587187Z",
     "shell.execute_reply": "2024-12-12T20:52:42.586636Z",
     "shell.execute_reply.started": "2024-12-12T20:52:42.582827Z"
    }
   },
   "outputs": [
    {
     "data": {
      "text/plain": [
       "DatetimeIndex(['2024-11-20 00:00:00-05:00', '2024-11-20 00:01:00-05:00',\n",
       "               '2024-11-20 00:02:00-05:00', '2024-11-20 00:03:00-05:00',\n",
       "               '2024-11-20 00:04:00-05:00', '2024-11-20 00:05:00-05:00',\n",
       "               '2024-11-20 00:06:00-05:00', '2024-11-20 00:07:00-05:00',\n",
       "               '2024-11-20 00:08:00-05:00'],\n",
       "              dtype='datetime64[ns, America/New_York]', name='timestamp', freq=None)"
      ]
     },
     "execution_count": 58,
     "metadata": {},
     "output_type": "execute_result"
    }
   ],
   "source": [
    "df_btc_short.index[df0[df0>0]-1]"
   ]
  },
  {
   "cell_type": "code",
   "execution_count": null,
   "id": "e6a635f8-4088-4263-a275-44399ff2926e",
   "metadata": {},
   "outputs": [],
   "source": []
  },
  {
   "cell_type": "code",
   "execution_count": 59,
   "id": "43bda7fa-d033-4e93-8e02-06a687c0f729",
   "metadata": {
    "execution": {
     "iopub.execute_input": "2024-12-12T20:52:53.159254Z",
     "iopub.status.busy": "2024-12-12T20:52:53.157825Z",
     "iopub.status.idle": "2024-12-12T20:52:53.167315Z",
     "shell.execute_reply": "2024-12-12T20:52:53.165137Z",
     "shell.execute_reply.started": "2024-12-12T20:52:53.159189Z"
    }
   },
   "outputs": [],
   "source": [
    "g_raw = df_btc[\"close\"]"
   ]
  },
  {
   "cell_type": "code",
   "execution_count": 60,
   "id": "ad151de2-8cf0-49b5-b79c-cf64698bb4b1",
   "metadata": {
    "execution": {
     "iopub.execute_input": "2024-12-12T20:52:55.981079Z",
     "iopub.status.busy": "2024-12-12T20:52:55.980816Z",
     "iopub.status.idle": "2024-12-12T20:52:55.989282Z",
     "shell.execute_reply": "2024-12-12T20:52:55.988208Z",
     "shell.execute_reply.started": "2024-12-12T20:52:55.981065Z"
    }
   },
   "outputs": [
    {
     "data": {
      "text/plain": [
       "timestamp\n",
       "2024-11-20 00:00:00-05:00      NaN\n",
       "2024-11-20 00:01:00-05:00      0.1\n",
       "2024-11-20 00:02:00-05:00   -103.3\n",
       "2024-11-20 00:03:00-05:00    -44.3\n",
       "2024-11-20 00:04:00-05:00      5.1\n",
       "                             ...  \n",
       "2024-11-20 23:55:00-05:00    391.0\n",
       "2024-11-20 23:56:00-05:00    273.2\n",
       "2024-11-20 23:57:00-05:00    -83.0\n",
       "2024-11-20 23:58:00-05:00   -111.9\n",
       "2024-11-20 23:59:00-05:00    199.8\n",
       "Name: close, Length: 1301, dtype: float64"
      ]
     },
     "execution_count": 60,
     "metadata": {},
     "output_type": "execute_result"
    }
   ],
   "source": [
    "g_raw.diff()"
   ]
  },
  {
   "cell_type": "code",
   "execution_count": null,
   "id": "a78dbce0-59f3-4142-9619-5705fcb1b061",
   "metadata": {},
   "outputs": [],
   "source": []
  },
  {
   "cell_type": "code",
   "execution_count": 61,
   "id": "41db2302-9ce0-45ac-97fa-0c9a00f2e365",
   "metadata": {
    "execution": {
     "iopub.execute_input": "2024-12-12T20:52:57.228728Z",
     "iopub.status.busy": "2024-12-12T20:52:57.228457Z",
     "iopub.status.idle": "2024-12-12T20:52:57.283927Z",
     "shell.execute_reply": "2024-12-12T20:52:57.283496Z",
     "shell.execute_reply.started": "2024-12-12T20:52:57.228711Z"
    }
   },
   "outputs": [],
   "source": [
    "h = 1000\n",
    "\n",
    "t_events, s_pos, s_neg = [], 0, 0\n",
    "diff = g_raw.diff()\n",
    "for i in diff.index[1:]:\n",
    "    s_pos = max(0, s_pos + diff.loc[i])\n",
    "    s_neg = min(0, s_neg + diff.loc[i])\n",
    "    if s_neg < -h:\n",
    "        s_neg = 0\n",
    "        t_events.append(i)\n",
    "    elif s_pos > h:\n",
    "        s_pos = 0\n",
    "        t_events.append(i)\n",
    "\n",
    "events = pd.DatetimeIndex(t_events)"
   ]
  },
  {
   "cell_type": "code",
   "execution_count": 62,
   "id": "d1ec60ba-bd04-4266-9007-1b251df8f96a",
   "metadata": {
    "execution": {
     "iopub.execute_input": "2024-12-12T20:52:58.676702Z",
     "iopub.status.busy": "2024-12-12T20:52:58.676509Z",
     "iopub.status.idle": "2024-12-12T20:52:58.680387Z",
     "shell.execute_reply": "2024-12-12T20:52:58.680000Z",
     "shell.execute_reply.started": "2024-12-12T20:52:58.676688Z"
    }
   },
   "outputs": [
    {
     "data": {
      "text/plain": [
       "DatetimeIndex(['2024-11-20 03:15:00-05:00', '2024-11-20 08:16:00-05:00',\n",
       "               '2024-11-20 11:24:00-05:00', '2024-11-20 13:45:00-05:00',\n",
       "               '2024-11-20 15:25:00-05:00', '2024-11-20 19:28:00-05:00',\n",
       "               '2024-11-20 22:25:00-05:00', '2024-11-20 23:04:00-05:00',\n",
       "               '2024-11-20 23:55:00-05:00'],\n",
       "              dtype='datetime64[ns, America/New_York]', freq=None)"
      ]
     },
     "execution_count": 62,
     "metadata": {},
     "output_type": "execute_result"
    }
   ],
   "source": [
    "events"
   ]
  },
  {
   "cell_type": "code",
   "execution_count": 65,
   "id": "aead6693-1663-418b-94e7-a9b19947fe2c",
   "metadata": {
    "execution": {
     "iopub.execute_input": "2024-12-12T20:54:36.628246Z",
     "iopub.status.busy": "2024-12-12T20:54:36.627740Z",
     "iopub.status.idle": "2024-12-12T20:54:36.642471Z",
     "shell.execute_reply": "2024-12-12T20:54:36.641982Z",
     "shell.execute_reply.started": "2024-12-12T20:54:36.628211Z"
    }
   },
   "outputs": [
    {
     "data": {
      "text/html": [
       "<div>\n",
       "<style scoped>\n",
       "    .dataframe tbody tr th:only-of-type {\n",
       "        vertical-align: middle;\n",
       "    }\n",
       "\n",
       "    .dataframe tbody tr th {\n",
       "        vertical-align: top;\n",
       "    }\n",
       "\n",
       "    .dataframe thead th {\n",
       "        text-align: right;\n",
       "    }\n",
       "</style>\n",
       "<table border=\"1\" class=\"dataframe\">\n",
       "  <thead>\n",
       "    <tr style=\"text-align: right;\">\n",
       "      <th></th>\n",
       "      <th>symbol</th>\n",
       "      <th>open</th>\n",
       "      <th>high</th>\n",
       "      <th>low</th>\n",
       "      <th>close</th>\n",
       "      <th>volume</th>\n",
       "    </tr>\n",
       "  </thead>\n",
       "  <tbody>\n",
       "    <tr>\n",
       "      <th>2024-11-20 03:15:00-05:00</th>\n",
       "      <td>BTC-USDT-SWAP</td>\n",
       "      <td>92965.6</td>\n",
       "      <td>93058.0</td>\n",
       "      <td>92960.0</td>\n",
       "      <td>93037.8</td>\n",
       "      <td>248.659</td>\n",
       "    </tr>\n",
       "    <tr>\n",
       "      <th>2024-11-20 08:16:00-05:00</th>\n",
       "      <td>BTC-USDT-SWAP</td>\n",
       "      <td>94128.2</td>\n",
       "      <td>94381.1</td>\n",
       "      <td>94112.1</td>\n",
       "      <td>94243.9</td>\n",
       "      <td>923.742</td>\n",
       "    </tr>\n",
       "    <tr>\n",
       "      <th>2024-11-20 11:24:00-05:00</th>\n",
       "      <td>BTC-USDT-SWAP</td>\n",
       "      <td>93944.0</td>\n",
       "      <td>93956.3</td>\n",
       "      <td>93750.1</td>\n",
       "      <td>93777.9</td>\n",
       "      <td>610.739</td>\n",
       "    </tr>\n",
       "    <tr>\n",
       "      <th>2024-11-20 13:45:00-05:00</th>\n",
       "      <td>BTC-USDT-SWAP</td>\n",
       "      <td>93400.1</td>\n",
       "      <td>93400.2</td>\n",
       "      <td>93209.9</td>\n",
       "      <td>93234.3</td>\n",
       "      <td>590.618</td>\n",
       "    </tr>\n",
       "    <tr>\n",
       "      <th>2024-11-20 15:25:00-05:00</th>\n",
       "      <td>BTC-USDT-SWAP</td>\n",
       "      <td>94154.8</td>\n",
       "      <td>94235.5</td>\n",
       "      <td>94145.4</td>\n",
       "      <td>94195.1</td>\n",
       "      <td>108.839</td>\n",
       "    </tr>\n",
       "    <tr>\n",
       "      <th>2024-11-20 19:28:00-05:00</th>\n",
       "      <td>BTC-USDT-SWAP</td>\n",
       "      <td>94737.1</td>\n",
       "      <td>94899.9</td>\n",
       "      <td>94688.7</td>\n",
       "      <td>94840.8</td>\n",
       "      <td>668.177</td>\n",
       "    </tr>\n",
       "    <tr>\n",
       "      <th>2024-11-20 22:25:00-05:00</th>\n",
       "      <td>BTC-USDT-SWAP</td>\n",
       "      <td>94975.9</td>\n",
       "      <td>95378.9</td>\n",
       "      <td>94975.9</td>\n",
       "      <td>95325.9</td>\n",
       "      <td>1948.419</td>\n",
       "    </tr>\n",
       "    <tr>\n",
       "      <th>2024-11-20 23:04:00-05:00</th>\n",
       "      <td>BTC-USDT-SWAP</td>\n",
       "      <td>96165.4</td>\n",
       "      <td>96659.7</td>\n",
       "      <td>96120.2</td>\n",
       "      <td>96428.0</td>\n",
       "      <td>2385.779</td>\n",
       "    </tr>\n",
       "    <tr>\n",
       "      <th>2024-11-20 23:55:00-05:00</th>\n",
       "      <td>BTC-USDT-SWAP</td>\n",
       "      <td>96910.7</td>\n",
       "      <td>97332.6</td>\n",
       "      <td>96908.0</td>\n",
       "      <td>97301.7</td>\n",
       "      <td>1178.687</td>\n",
       "    </tr>\n",
       "  </tbody>\n",
       "</table>\n",
       "</div>"
      ],
      "text/plain": [
       "                                  symbol     open     high      low    close  \\\n",
       "2024-11-20 03:15:00-05:00  BTC-USDT-SWAP  92965.6  93058.0  92960.0  93037.8   \n",
       "2024-11-20 08:16:00-05:00  BTC-USDT-SWAP  94128.2  94381.1  94112.1  94243.9   \n",
       "2024-11-20 11:24:00-05:00  BTC-USDT-SWAP  93944.0  93956.3  93750.1  93777.9   \n",
       "2024-11-20 13:45:00-05:00  BTC-USDT-SWAP  93400.1  93400.2  93209.9  93234.3   \n",
       "2024-11-20 15:25:00-05:00  BTC-USDT-SWAP  94154.8  94235.5  94145.4  94195.1   \n",
       "2024-11-20 19:28:00-05:00  BTC-USDT-SWAP  94737.1  94899.9  94688.7  94840.8   \n",
       "2024-11-20 22:25:00-05:00  BTC-USDT-SWAP  94975.9  95378.9  94975.9  95325.9   \n",
       "2024-11-20 23:04:00-05:00  BTC-USDT-SWAP  96165.4  96659.7  96120.2  96428.0   \n",
       "2024-11-20 23:55:00-05:00  BTC-USDT-SWAP  96910.7  97332.6  96908.0  97301.7   \n",
       "\n",
       "                             volume  \n",
       "2024-11-20 03:15:00-05:00   248.659  \n",
       "2024-11-20 08:16:00-05:00   923.742  \n",
       "2024-11-20 11:24:00-05:00   610.739  \n",
       "2024-11-20 13:45:00-05:00   590.618  \n",
       "2024-11-20 15:25:00-05:00   108.839  \n",
       "2024-11-20 19:28:00-05:00   668.177  \n",
       "2024-11-20 22:25:00-05:00  1948.419  \n",
       "2024-11-20 23:04:00-05:00  2385.779  \n",
       "2024-11-20 23:55:00-05:00  1178.687  "
      ]
     },
     "execution_count": 65,
     "metadata": {},
     "output_type": "execute_result"
    }
   ],
   "source": [
    "df_btc.loc[events]"
   ]
  },
  {
   "cell_type": "code",
   "execution_count": 66,
   "id": "0f3dca21-3239-4727-9b28-c3fd125f22ea",
   "metadata": {
    "execution": {
     "iopub.execute_input": "2024-12-12T20:55:33.864137Z",
     "iopub.status.busy": "2024-12-12T20:55:33.863514Z",
     "iopub.status.idle": "2024-12-12T20:55:33.868635Z",
     "shell.execute_reply": "2024-12-12T20:55:33.867234Z",
     "shell.execute_reply.started": "2024-12-12T20:55:33.864094Z"
    }
   },
   "outputs": [],
   "source": [
    "import matplotlib.pyplot as plt"
   ]
  },
  {
   "cell_type": "code",
   "execution_count": 68,
   "id": "37948463-d4de-4c0c-b279-23fdad17407b",
   "metadata": {
    "execution": {
     "iopub.execute_input": "2024-12-12T20:55:56.145249Z",
     "iopub.status.busy": "2024-12-12T20:55:56.144816Z",
     "iopub.status.idle": "2024-12-12T20:55:56.382165Z",
     "shell.execute_reply": "2024-12-12T20:55:56.381709Z",
     "shell.execute_reply.started": "2024-12-12T20:55:56.145214Z"
    }
   },
   "outputs": [
    {
     "data": {
      "text/plain": [
       "<Axes: xlabel='timestamp', ylabel='Price'>"
      ]
     },
     "execution_count": 68,
     "metadata": {},
     "output_type": "execute_result"
    },
    {
     "data": {
      "image/png": "[encoded data removed]",
      "text/plain": [
       "<Figure size 640x480 with 1 Axes>"
      ]
     },
     "metadata": {},
     "output_type": "display_data"
    }
   ],
   "source": [
    "fig = plt.figure()\n",
    "ax1 = fig.add_subplot(111,  ylabel='Price')\n",
    "\n",
    "df_btc[['close']].plot(ax=ax1)\n",
    "df_btc.loc[events]['close'].plot(ax=ax1, marker=\"v\", markersize=5, color='k')"
   ]
  },
  {
   "cell_type": "code",
   "execution_count": null,
   "id": "15909342-5980-42b0-a42d-302675867762",
   "metadata": {},
   "outputs": [],
   "source": []
  }
 ],
 "metadata": {
  "kernelspec": {
   "display_name": "Python 3 (ipykernel)",
   "language": "python",
   "name": "python3"
  },
  "language_info": {
   "codemirror_mode": {
    "name": "ipython",
    "version": 3
   },
   "file_extension": ".py",
   "mimetype": "text/x-python",
   "name": "python",
   "nbconvert_exporter": "python",
   "pygments_lexer": "ipython3",
   "version": "3.10.12"
  }
 },
 "nbformat": 4,
 "nbformat_minor": 5
}
