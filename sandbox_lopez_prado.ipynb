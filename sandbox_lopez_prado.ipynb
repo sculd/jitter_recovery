{
 "cells": [
  {
   "cell_type": "code",
   "execution_count": 1,
   "id": "b7729d17-6ed2-4c5e-a86e-172ef22d06d3",
   "metadata": {
    "tags": []
   },
   "outputs": [],
   "source": [
    "import os\n",
    "\n",
    "if os.path.exists('credential.json'):\n",
    "    os.environ[\"GOOGLE_APPLICATION_CREDENTIALS\"] = os.path.join(os.getcwd(), 'credential.json')\n",
    "    os.environ[\"GOOGLE_CLOUD_PROJECT\"] = \"trading-290017\"\n",
    "else:\n",
    "    print('the credential.json file does not exist')\n",
    "\n",
    "import importlib"
   ]
  },
  {
   "cell_type": "code",
   "execution_count": 2,
   "id": "6eae7d7e-c49d-4d1c-9893-d694a556cdc0",
   "metadata": {
    "tags": []
   },
   "outputs": [],
   "source": [
    "import logging, sys\n",
    "\n",
    "logging.basicConfig(\n",
    "    level=logging.INFO,\n",
    "    format=\"%(asctime)s [%(threadName)-12.12s] [%(levelname)-5.5s]  %(message)s\",\n",
    "    handlers=[\n",
    "        logging.StreamHandler(sys.stdout)\n",
    "    ]\n",
    ")"
   ]
  },
  {
   "cell_type": "code",
   "execution_count": 3,
   "id": "85834976-89c6-4ae1-82c6-a6784708eaef",
   "metadata": {
    "tags": []
   },
   "outputs": [
    {
     "name": "stdout",
     "output_type": "stream",
     "text": [
      "2024-12-13 10:53:13,397 [MainThread  ] [INFO ]  NumExpr defaulting to 8 threads.\n"
     ]
    }
   ],
   "source": [
    "import pandas as pd\n",
    "import numpy as np"
   ]
  },
  {
   "cell_type": "code",
   "execution_count": 4,
   "id": "24536700-0b55-4fef-9df9-369aa11161d2",
   "metadata": {
    "tags": []
   },
   "outputs": [
    {
     "data": {
      "text/plain": [
       "<module 'market_data.ingest.bq.cache' from '/Users/junlim/projects/jitter_recovery/market_data/ingest/bq/cache.py'>"
      ]
     },
     "execution_count": 4,
     "metadata": {},
     "output_type": "execute_result"
    }
   ],
   "source": [
    "import market_data.ingest.bq.cache\n",
    "importlib.reload(market_data.ingest.bq.cache)"
   ]
  },
  {
   "cell_type": "code",
   "execution_count": 19,
   "id": "d1d74362-5236-42bb-9a4f-b6150d44642a",
   "metadata": {
    "tags": []
   },
   "outputs": [
    {
     "name": "stdout",
     "output_type": "stream",
     "text": [
      "\n",
      "    WITH LATEST AS (\n",
      "    SELECT timestamp, symbol, max(ingestion_timestamp) AS max_ingestion_timestamp\n",
      "    FROM `trading-290017.market_data_okx.by_minute` \n",
      "    WHERE TRUE\n",
      "    AND timestamp >= \"2024-11-20T00:00:00-0500\"\n",
      "    AND timestamp < \"2024-11-21T00:00:00-0500\"\n",
      "    GROUP BY timestamp, symbol\n",
      "    )\n",
      "\n",
      "    SELECT T.timestamp, T.symbol, open, high, low, close, volume\n",
      "    FROM `trading-290017.market_data_okx.by_minute` AS T JOIN \n",
      "        LATEST ON T.timestamp = LATEST.timestamp AND T.symbol = LATEST.symbol \n",
      "        AND IFNULL(T.ingestion_timestamp, PARSE_TIMESTAMP(\"%c\", \"Thu Dec 25 07:30:00 2008\")) = IFNULL(LATEST.max_ingestion_timestamp, PARSE_TIMESTAMP(\"%c\", \"Thu Dec 25 07:30:00 2008\"))\n",
      "    WHERE TRUE\n",
      "    AND T.timestamp >= \"2024-11-20T00:00:00-0500\"\n",
      "    AND T.timestamp < \"2024-11-21T00:00:00-0500\"\n",
      "    ORDER BY T.timestamp ASC\n",
      "\n"
     ]
    },
    {
     "name": "stderr",
     "output_type": "stream",
     "text": [
      "\n",
      "KeyboardInterrupt\n",
      "\n"
     ]
    }
   ],
   "source": [
    "import market_data\n",
    "import market_data.ingest.bq.common\n",
    "import market_data.ingest.bq.candle\n",
    "dataset_mode = market_data.ingest.bq.common.DATASET_MODE.OKX\n",
    "export_mode = market_data.ingest.bq.common.EXPORT_MODE.BY_MINUTE\n",
    "t_id = market_data.ingest.bq.common.get_full_table_id(dataset_mode, export_mode)\n",
    "date_str_from='2024-11-20'\n",
    "date_str_to='2024-11-21'\n",
    "df = market_data.ingest.bq.candle.fetch_minute_candle(t_id, aggregation_mode=market_data.ingest.bq.common.AGGREGATION_MODE.TAKE_LASTEST, date_str_from=date_str_from, date_str_to=date_str_to)"
   ]
  },
  {
   "cell_type": "code",
   "execution_count": 22,
   "id": "893986af-ec0a-480c-b8bc-d43cfd2e5d7c",
   "metadata": {},
   "outputs": [],
   "source": [
    "import market_data.ingest.bq.cache\n",
    "\n",
    "df = market_data.ingest.bq.cache.read_from_cache(\n",
    "    label = 'market_data',\n",
    "    dataset_mode = market_data.ingest.bq.common.DATASET_MODE.OKX,\n",
    "    export_mode = market_data.ingest.bq.common.EXPORT_MODE.BY_MINUTE,\n",
    "    aggregation_mode = market_data.ingest.bq.common.AGGREGATION_MODE.TAKE_LASTEST,\n",
    "    date_str_from='2024-11-20',\n",
    "    date_str_to='2024-11-21',\n",
    ")"
   ]
  },
  {
   "cell_type": "code",
   "execution_count": 23,
   "id": "bea718ec-142b-4015-92e4-bbca91f6e33c",
   "metadata": {
    "tags": []
   },
   "outputs": [
    {
     "data": {
      "text/html": [
       "<div>\n",
       "<style scoped>\n",
       "    .dataframe tbody tr th:only-of-type {\n",
       "        vertical-align: middle;\n",
       "    }\n",
       "\n",
       "    .dataframe tbody tr th {\n",
       "        vertical-align: top;\n",
       "    }\n",
       "\n",
       "    .dataframe thead th {\n",
       "        text-align: right;\n",
       "    }\n",
       "</style>\n",
       "<table border=\"1\" class=\"dataframe\">\n",
       "  <thead>\n",
       "    <tr style=\"text-align: right;\">\n",
       "      <th></th>\n",
       "      <th>symbol</th>\n",
       "      <th>open</th>\n",
       "      <th>high</th>\n",
       "      <th>low</th>\n",
       "      <th>close</th>\n",
       "      <th>volume</th>\n",
       "    </tr>\n",
       "    <tr>\n",
       "      <th>timestamp</th>\n",
       "      <th></th>\n",
       "      <th></th>\n",
       "      <th></th>\n",
       "      <th></th>\n",
       "      <th></th>\n",
       "      <th></th>\n",
       "    </tr>\n",
       "  </thead>\n",
       "  <tbody>\n",
       "    <tr>\n",
       "      <th>2024-11-20 00:00:00-05:00</th>\n",
       "      <td>ATOM-USDT-SWAP</td>\n",
       "      <td>6.348000</td>\n",
       "      <td>6.352000</td>\n",
       "      <td>6.335000</td>\n",
       "      <td>6.343000</td>\n",
       "      <td>6784.0000</td>\n",
       "    </tr>\n",
       "    <tr>\n",
       "      <th>2024-11-20 00:00:00-05:00</th>\n",
       "      <td>SLP-USDT-SWAP</td>\n",
       "      <td>0.003183</td>\n",
       "      <td>0.003185</td>\n",
       "      <td>0.003181</td>\n",
       "      <td>0.003185</td>\n",
       "      <td>741880.0000</td>\n",
       "    </tr>\n",
       "    <tr>\n",
       "      <th>2024-11-20 00:00:00-05:00</th>\n",
       "      <td>ZRX-USDT-SWAP</td>\n",
       "      <td>0.416100</td>\n",
       "      <td>0.416400</td>\n",
       "      <td>0.415500</td>\n",
       "      <td>0.416400</td>\n",
       "      <td>21980.0000</td>\n",
       "    </tr>\n",
       "    <tr>\n",
       "      <th>2024-11-20 00:00:00-05:00</th>\n",
       "      <td>BCH-USDT-SWAP</td>\n",
       "      <td>436.400000</td>\n",
       "      <td>436.900000</td>\n",
       "      <td>436.000000</td>\n",
       "      <td>436.500000</td>\n",
       "      <td>344.6400</td>\n",
       "    </tr>\n",
       "    <tr>\n",
       "      <th>2024-11-20 00:00:00-05:00</th>\n",
       "      <td>UXLINK-USDT-SWAP</td>\n",
       "      <td>0.588200</td>\n",
       "      <td>0.588800</td>\n",
       "      <td>0.587400</td>\n",
       "      <td>0.588400</td>\n",
       "      <td>54680.0000</td>\n",
       "    </tr>\n",
       "    <tr>\n",
       "      <th>...</th>\n",
       "      <td>...</td>\n",
       "      <td>...</td>\n",
       "      <td>...</td>\n",
       "      <td>...</td>\n",
       "      <td>...</td>\n",
       "      <td>...</td>\n",
       "    </tr>\n",
       "    <tr>\n",
       "      <th>2024-11-20 23:59:00-05:00</th>\n",
       "      <td>MAGIC-USDT-SWAP</td>\n",
       "      <td>0.401400</td>\n",
       "      <td>0.401400</td>\n",
       "      <td>0.400600</td>\n",
       "      <td>0.400800</td>\n",
       "      <td>11467.0000</td>\n",
       "    </tr>\n",
       "    <tr>\n",
       "      <th>2024-11-20 23:59:00-05:00</th>\n",
       "      <td>ONT-USDT-SWAP</td>\n",
       "      <td>0.218700</td>\n",
       "      <td>0.219100</td>\n",
       "      <td>0.218600</td>\n",
       "      <td>0.218700</td>\n",
       "      <td>91450.0000</td>\n",
       "    </tr>\n",
       "    <tr>\n",
       "      <th>2024-11-20 23:59:00-05:00</th>\n",
       "      <td>BCH-USD-SWAP</td>\n",
       "      <td>495.700000</td>\n",
       "      <td>497.100000</td>\n",
       "      <td>493.800000</td>\n",
       "      <td>496.400000</td>\n",
       "      <td>82.0277</td>\n",
       "    </tr>\n",
       "    <tr>\n",
       "      <th>2024-11-20 23:59:00-05:00</th>\n",
       "      <td>IOTA-USDT-SWAP</td>\n",
       "      <td>0.169400</td>\n",
       "      <td>0.169400</td>\n",
       "      <td>0.169100</td>\n",
       "      <td>0.169200</td>\n",
       "      <td>5710.0000</td>\n",
       "    </tr>\n",
       "    <tr>\n",
       "      <th>2024-11-20 23:59:00-05:00</th>\n",
       "      <td>ZK-USDT-SWAP</td>\n",
       "      <td>0.136100</td>\n",
       "      <td>0.136100</td>\n",
       "      <td>0.135900</td>\n",
       "      <td>0.135900</td>\n",
       "      <td>72260.0000</td>\n",
       "    </tr>\n",
       "  </tbody>\n",
       "</table>\n",
       "<p>305807 rows × 6 columns</p>\n",
       "</div>"
      ],
      "text/plain": [
       "                                     symbol        open        high  \\\n",
       "timestamp                                                             \n",
       "2024-11-20 00:00:00-05:00    ATOM-USDT-SWAP    6.348000    6.352000   \n",
       "2024-11-20 00:00:00-05:00     SLP-USDT-SWAP    0.003183    0.003185   \n",
       "2024-11-20 00:00:00-05:00     ZRX-USDT-SWAP    0.416100    0.416400   \n",
       "2024-11-20 00:00:00-05:00     BCH-USDT-SWAP  436.400000  436.900000   \n",
       "2024-11-20 00:00:00-05:00  UXLINK-USDT-SWAP    0.588200    0.588800   \n",
       "...                                     ...         ...         ...   \n",
       "2024-11-20 23:59:00-05:00   MAGIC-USDT-SWAP    0.401400    0.401400   \n",
       "2024-11-20 23:59:00-05:00     ONT-USDT-SWAP    0.218700    0.219100   \n",
       "2024-11-20 23:59:00-05:00      BCH-USD-SWAP  495.700000  497.100000   \n",
       "2024-11-20 23:59:00-05:00    IOTA-USDT-SWAP    0.169400    0.169400   \n",
       "2024-11-20 23:59:00-05:00      ZK-USDT-SWAP    0.136100    0.136100   \n",
       "\n",
       "                                  low       close       volume  \n",
       "timestamp                                                       \n",
       "2024-11-20 00:00:00-05:00    6.335000    6.343000    6784.0000  \n",
       "2024-11-20 00:00:00-05:00    0.003181    0.003185  741880.0000  \n",
       "2024-11-20 00:00:00-05:00    0.415500    0.416400   21980.0000  \n",
       "2024-11-20 00:00:00-05:00  436.000000  436.500000     344.6400  \n",
       "2024-11-20 00:00:00-05:00    0.587400    0.588400   54680.0000  \n",
       "...                               ...         ...          ...  \n",
       "2024-11-20 23:59:00-05:00    0.400600    0.400800   11467.0000  \n",
       "2024-11-20 23:59:00-05:00    0.218600    0.218700   91450.0000  \n",
       "2024-11-20 23:59:00-05:00  493.800000  496.400000      82.0277  \n",
       "2024-11-20 23:59:00-05:00    0.169100    0.169200    5710.0000  \n",
       "2024-11-20 23:59:00-05:00    0.135900    0.135900   72260.0000  \n",
       "\n",
       "[305807 rows x 6 columns]"
      ]
     },
     "execution_count": 23,
     "metadata": {},
     "output_type": "execute_result"
    }
   ],
   "source": [
    "df"
   ]
  },
  {
   "cell_type": "code",
   "execution_count": null,
   "id": "fae95f3d-79d8-459a-81c0-79d78e63bc00",
   "metadata": {},
   "outputs": [],
   "source": []
  },
  {
   "cell_type": "code",
   "execution_count": 114,
   "id": "6982a58d-e82e-4266-a175-993c4da05531",
   "metadata": {
    "tags": []
   },
   "outputs": [],
   "source": [
    "df_coin = df[df.symbol == \"ETH-USDT-SWAP\"]\n",
    "df_coin_short = df_btc.iloc[:20]"
   ]
  },
  {
   "cell_type": "code",
   "execution_count": 115,
   "id": "f4302a76-5c61-4a5e-b8e4-cd8ca946b01d",
   "metadata": {
    "tags": []
   },
   "outputs": [
    {
     "data": {
      "text/plain": [
       "DatetimeIndex(['2024-11-20 00:00:00-05:00', '2024-11-20 00:01:00-05:00',\n",
       "               '2024-11-20 00:02:00-05:00', '2024-11-20 00:03:00-05:00',\n",
       "               '2024-11-20 00:04:00-05:00', '2024-11-20 00:05:00-05:00',\n",
       "               '2024-11-20 00:06:00-05:00', '2024-11-20 00:07:00-05:00',\n",
       "               '2024-11-20 00:08:00-05:00', '2024-11-20 00:09:00-05:00',\n",
       "               '2024-11-20 00:10:00-05:00', '2024-11-20 00:11:00-05:00',\n",
       "               '2024-11-20 00:12:00-05:00', '2024-11-20 00:13:00-05:00',\n",
       "               '2024-11-20 00:14:00-05:00', '2024-11-20 00:15:00-05:00',\n",
       "               '2024-11-20 00:16:00-05:00', '2024-11-20 00:17:00-05:00',\n",
       "               '2024-11-20 00:18:00-05:00', '2024-11-20 00:19:00-05:00'],\n",
       "              dtype='datetime64[ns, America/New_York]', name='timestamp', freq=None)"
      ]
     },
     "execution_count": 115,
     "metadata": {},
     "output_type": "execute_result"
    }
   ],
   "source": [
    "df_coin_short.index"
   ]
  },
  {
   "cell_type": "code",
   "execution_count": 116,
   "id": "7f45ef89-f8bc-4138-b134-e7a60dd3f778",
   "metadata": {
    "tags": []
   },
   "outputs": [],
   "source": [
    "df0 = df_coin_short.index.searchsorted(df_btc_short.index - pd.Timedelta(minutes=10))"
   ]
  },
  {
   "cell_type": "code",
   "execution_count": 117,
   "id": "b21ff52d-086b-44ee-84a8-b1e28ac002b2",
   "metadata": {
    "tags": []
   },
   "outputs": [
    {
     "data": {
      "text/plain": [
       "array([0, 0, 0, 0, 0, 0, 0, 0, 0, 0, 0, 1, 2, 3, 4, 5, 6, 7, 8, 9])"
      ]
     },
     "execution_count": 117,
     "metadata": {},
     "output_type": "execute_result"
    }
   ],
   "source": [
    "df0"
   ]
  },
  {
   "cell_type": "code",
   "execution_count": 118,
   "id": "4d927b78-bacb-41ff-8c54-9d61df8fb7b7",
   "metadata": {
    "tags": []
   },
   "outputs": [
    {
     "data": {
      "text/plain": [
       "DatetimeIndex(['2024-11-20 00:00:00-05:00', '2024-11-20 00:01:00-05:00',\n",
       "               '2024-11-20 00:02:00-05:00', '2024-11-20 00:03:00-05:00',\n",
       "               '2024-11-20 00:04:00-05:00', '2024-11-20 00:05:00-05:00',\n",
       "               '2024-11-20 00:06:00-05:00', '2024-11-20 00:07:00-05:00',\n",
       "               '2024-11-20 00:08:00-05:00'],\n",
       "              dtype='datetime64[ns, America/New_York]', name='timestamp', freq=None)"
      ]
     },
     "execution_count": 118,
     "metadata": {},
     "output_type": "execute_result"
    }
   ],
   "source": [
    "df_coin_short.index[df0[df0>0]-1]"
   ]
  },
  {
   "cell_type": "code",
   "execution_count": null,
   "id": "e6a635f8-4088-4263-a275-44399ff2926e",
   "metadata": {},
   "outputs": [],
   "source": []
  },
  {
   "cell_type": "code",
   "execution_count": 119,
   "id": "43bda7fa-d033-4e93-8e02-06a687c0f729",
   "metadata": {
    "tags": []
   },
   "outputs": [],
   "source": [
    "g_raw = df_coin[\"close\"]"
   ]
  },
  {
   "cell_type": "code",
   "execution_count": 120,
   "id": "ad151de2-8cf0-49b5-b79c-cf64698bb4b1",
   "metadata": {
    "tags": []
   },
   "outputs": [
    {
     "data": {
      "text/plain": [
       "timestamp\n",
       "2024-11-20 00:00:00-05:00     NaN\n",
       "2024-11-20 00:01:00-05:00   -0.19\n",
       "2024-11-20 00:02:00-05:00   -3.20\n",
       "2024-11-20 00:03:00-05:00   -4.53\n",
       "2024-11-20 00:04:00-05:00    1.41\n",
       "                             ... \n",
       "2024-11-20 23:55:00-05:00    4.96\n",
       "2024-11-20 23:56:00-05:00    6.47\n",
       "2024-11-20 23:57:00-05:00   -1.90\n",
       "2024-11-20 23:58:00-05:00   -0.64\n",
       "2024-11-20 23:59:00-05:00   -0.50\n",
       "Name: close, Length: 1302, dtype: float64"
      ]
     },
     "execution_count": 120,
     "metadata": {},
     "output_type": "execute_result"
    }
   ],
   "source": [
    "g_raw.diff()"
   ]
  },
  {
   "cell_type": "code",
   "execution_count": 125,
   "id": "a78dbce0-59f3-4142-9619-5705fcb1b061",
   "metadata": {},
   "outputs": [],
   "source": [
    "h = g_raw.iloc[0] * 0.01"
   ]
  },
  {
   "cell_type": "code",
   "execution_count": 126,
   "id": "41db2302-9ce0-45ac-97fa-0c9a00f2e365",
   "metadata": {
    "tags": []
   },
   "outputs": [],
   "source": [
    "def get_t_events(g_raw_, h):\n",
    "    t_events, s_pos, s_neg = [], 0, 0\n",
    "    diff = g_raw.diff()\n",
    "    for i in diff.index[1:]:\n",
    "        s_pos = max(0, s_pos + diff.loc[i])\n",
    "        s_neg = min(0, s_neg + diff.loc[i])\n",
    "        if s_neg < -h:\n",
    "            s_neg = 0\n",
    "            t_events.append(i)\n",
    "        elif s_pos > h:\n",
    "            s_pos = 0\n",
    "            t_events.append(i)\n",
    "\n",
    "    events = pd.DatetimeIndex(t_events)\n",
    "    return events"
   ]
  },
  {
   "cell_type": "code",
   "execution_count": 211,
   "id": "d1ec60ba-bd04-4266-9007-1b251df8f96a",
   "metadata": {
    "tags": []
   },
   "outputs": [],
   "source": [
    "t_events = get_t_events(g_raw, h)"
   ]
  },
  {
   "cell_type": "code",
   "execution_count": 212,
   "id": "1c370972-7952-48d1-89e0-63d0155923eb",
   "metadata": {},
   "outputs": [
    {
     "data": {
      "text/plain": [
       "DatetimeIndex(['2024-11-20 03:26:00-05:00', '2024-11-20 06:07:00-05:00',\n",
       "               '2024-11-20 08:18:00-05:00', '2024-11-20 09:06:00-05:00',\n",
       "               '2024-11-20 09:23:00-05:00', '2024-11-20 09:39:00-05:00',\n",
       "               '2024-11-20 10:54:00-05:00', '2024-11-20 11:16:00-05:00',\n",
       "               '2024-11-20 12:19:00-05:00', '2024-11-20 13:20:00-05:00',\n",
       "               '2024-11-20 14:22:00-05:00', '2024-11-20 14:47:00-05:00',\n",
       "               '2024-11-20 15:46:00-05:00', '2024-11-20 20:23:00-05:00',\n",
       "               '2024-11-20 21:11:00-05:00', '2024-11-20 22:06:00-05:00',\n",
       "               '2024-11-20 22:28:00-05:00', '2024-11-20 23:28:00-05:00'],\n",
       "              dtype='datetime64[ns, America/New_York]', freq=None)"
      ]
     },
     "execution_count": 212,
     "metadata": {},
     "output_type": "execute_result"
    }
   ],
   "source": [
    "t_events"
   ]
  },
  {
   "cell_type": "code",
   "execution_count": 129,
   "id": "e332a7be-b74d-4421-9e63-bab91bfc9633",
   "metadata": {},
   "outputs": [],
   "source": [
    "import matplotlib.pyplot as plt"
   ]
  },
  {
   "cell_type": "code",
   "execution_count": 213,
   "id": "e6afb12a-02fa-4aa2-8ae6-cae498d44ce6",
   "metadata": {},
   "outputs": [
    {
     "data": {
      "text/plain": [
       "<AxesSubplot:xlabel='timestamp', ylabel='Price'>"
      ]
     },
     "execution_count": 213,
     "metadata": {},
     "output_type": "execute_result"
    },
    {
     "data": {
      "image/png": "[encoded data removed]",
      "text/plain": [
       "<Figure size 640x480 with 1 Axes>"
      ]
     },
     "metadata": {},
     "output_type": "display_data"
    }
   ],
   "source": [
    "fig = plt.figure()\n",
    "ax1 = fig.add_subplot(111,  ylabel='Price')\n",
    "\n",
    "df_coin[['close']].plot(ax=ax1)\n",
    "df_coin.loc[t_events]['close'].plot(ax=ax1, marker=\"v\", markersize=5, color='k')"
   ]
  },
  {
   "cell_type": "code",
   "execution_count": null,
   "id": "90ce11af-270a-4c43-84c2-4c522de5f009",
   "metadata": {},
   "outputs": [],
   "source": []
  },
  {
   "cell_type": "code",
   "execution_count": null,
   "id": "8d87f3cd-8bd8-4b79-ae3e-36988eb8c0d7",
   "metadata": {},
   "outputs": [],
   "source": [
    "def get_events(close, t_events, pt_sl, trgt, min_ret, t1=False):\n",
    "    trgt = trgt.loc[t_events]\n",
    "    trgt = trgt[trgt > min_ret]\n",
    "    if t1 is False:\n",
    "        t1 = pd.Series(pd.NaT, index=t_events)\n",
    "    side_ = pd.Series(1.,index=trgt.index)\n",
    "    events"
   ]
  },
  {
   "cell_type": "code",
   "execution_count": null,
   "id": "baf96b57-ff55-4cd8-bb81-387608538ba0",
   "metadata": {},
   "outputs": [],
   "source": []
  },
  {
   "cell_type": "code",
   "execution_count": null,
   "id": "dcb88772-ea7d-4fa6-b584-57cb1f9f5de6",
   "metadata": {},
   "outputs": [],
   "source": []
  },
  {
   "cell_type": "code",
   "execution_count": 149,
   "id": "18e4e635-a865-432c-acaa-ee57e2700a88",
   "metadata": {},
   "outputs": [],
   "source": [
    "events_tf = pd.DataFrame(events, index=events, columns=[\"t0\"])\n",
    "events_tf['t1'] = events_tf.t0 + pd.Timedelta(minutes=30)\n",
    "events_tf['trgt'] = 0.001\n",
    "events_tf['side'] = 1"
   ]
  },
  {
   "cell_type": "code",
   "execution_count": 150,
   "id": "ab147d89-be06-42aa-bc05-5f55092af2b5",
   "metadata": {},
   "outputs": [],
   "source": [
    "ptSl = [1, 1]\n",
    "close = g_raw"
   ]
  },
  {
   "cell_type": "code",
   "execution_count": null,
   "id": "b89b6ddc-b4f8-4c1c-a57e-6ac5d69a97a6",
   "metadata": {},
   "outputs": [],
   "source": []
  },
  {
   "cell_type": "code",
   "execution_count": 151,
   "id": "0755d523-b2e2-479f-a04e-56fb77dd9d95",
   "metadata": {},
   "outputs": [],
   "source": [
    "events_ = events_tf.copy()\n",
    "out=events_[[\"t1\"]].copy(deep=True)\n",
    "\n",
    "if ptS1[0] > 0:\n",
    "    pt = ptSl[0] * events_['trgt']\n",
    "else:\n",
    "    pt = pd.Series(index=events_.index)\n",
    "\n",
    "if ptS1[1] > 0:\n",
    "    sl = -ptSl[1] * events_['trgt']\n",
    "else:\n",
    "    sl = pd.Series(index=events_.index)\n"
   ]
  },
  {
   "cell_type": "code",
   "execution_count": null,
   "id": "c6e3e6db-4468-4d63-85f6-488a03ab5a5b",
   "metadata": {},
   "outputs": [],
   "source": []
  },
  {
   "cell_type": "code",
   "execution_count": 152,
   "id": "2ec9f5c5-cc61-470c-b780-a25a0bd48457",
   "metadata": {},
   "outputs": [],
   "source": [
    "loc = events_.index[0]\n",
    "t1 = events_.iloc[0].t1"
   ]
  },
  {
   "cell_type": "code",
   "execution_count": 153,
   "id": "1f8a3886-fea6-4556-b23b-46a21e703a09",
   "metadata": {},
   "outputs": [],
   "source": [
    "df0 = close[loc:t1]\n",
    "df0 = (df0/close[loc]-1)"
   ]
  },
  {
   "cell_type": "code",
   "execution_count": 155,
   "id": "38aea4f4-813e-4b26-a74a-81d27082bd41",
   "metadata": {},
   "outputs": [
    {
     "data": {
      "text/plain": [
       "-0.001"
      ]
     },
     "execution_count": 155,
     "metadata": {},
     "output_type": "execute_result"
    }
   ],
   "source": [
    "sl[loc]"
   ]
  },
  {
   "cell_type": "code",
   "execution_count": null,
   "id": "e63057a5-9b66-49a8-bed7-40f8c31d1a11",
   "metadata": {},
   "outputs": [],
   "source": []
  },
  {
   "cell_type": "code",
   "execution_count": null,
   "id": "c2320bdd-99f8-4220-8fbf-7313b9dd6350",
   "metadata": {},
   "outputs": [],
   "source": []
  },
  {
   "cell_type": "code",
   "execution_count": 208,
   "id": "f5a4b6c5-6c16-4294-974f-0f39b0cd2dbd",
   "metadata": {},
   "outputs": [],
   "source": [
    "def apply_pt_sl_on_t1(close, events, ptSl):\n",
    "    events_ = events_tf.copy()\n",
    "    out=events_[[\"t1\"]].copy(deep=True)\n",
    "    if ptS1[0] > 0:\n",
    "        pt = ptSl[0] * events_['trgt']\n",
    "    else:\n",
    "        pt = pd.Series(index=events_.index)\n",
    "\n",
    "    if ptS1[1] > 0:\n",
    "        sl = -ptSl[1] * events_['trgt']\n",
    "    else:\n",
    "        sl = pd.Series(index=events_.index)\n",
    "\n",
    "    for loc, t1 in events_['t1'].fillna(close.index[-1]).items():\n",
    "        df0=close[loc:t1]\n",
    "        df0=(df0/close[loc]-1) * events_.at[loc, 'side']\n",
    "        out.loc[loc, 'sl'] = df0[df0 < sl[loc]].index.min()\n",
    "        out.loc[loc, 'pt'] = df0[df0 > pt[loc]].index.min()\n",
    "\n",
    "    out = out[out.t1 <= events_.index[-1]]    \n",
    "    return out"
   ]
  },
  {
   "cell_type": "code",
   "execution_count": null,
   "id": "de13c19d-d554-42fb-91ef-0f771838498f",
   "metadata": {},
   "outputs": [],
   "source": []
  },
  {
   "cell_type": "code",
   "execution_count": 209,
   "id": "bce6edbf-4407-4210-8075-d05e80dd22aa",
   "metadata": {},
   "outputs": [],
   "source": [
    "out = apply_pt_sl_on_t1(g_raw, events, ptSl)"
   ]
  },
  {
   "cell_type": "code",
   "execution_count": 210,
   "id": "091cf5c7-8fec-4f12-9b97-7917707fd074",
   "metadata": {},
   "outputs": [
    {
     "data": {
      "text/html": [
       "<div>\n",
       "<style scoped>\n",
       "    .dataframe tbody tr th:only-of-type {\n",
       "        vertical-align: middle;\n",
       "    }\n",
       "\n",
       "    .dataframe tbody tr th {\n",
       "        vertical-align: top;\n",
       "    }\n",
       "\n",
       "    .dataframe thead th {\n",
       "        text-align: right;\n",
       "    }\n",
       "</style>\n",
       "<table border=\"1\" class=\"dataframe\">\n",
       "  <thead>\n",
       "    <tr style=\"text-align: right;\">\n",
       "      <th></th>\n",
       "      <th>t1</th>\n",
       "      <th>sl</th>\n",
       "      <th>pt</th>\n",
       "    </tr>\n",
       "  </thead>\n",
       "  <tbody>\n",
       "    <tr>\n",
       "      <th>2024-11-20 03:26:00-05:00</th>\n",
       "      <td>2024-11-20 03:56:00-05:00</td>\n",
       "      <td>2024-11-20 03:33:00-05:00</td>\n",
       "      <td>2024-11-20 03:51:00-05:00</td>\n",
       "    </tr>\n",
       "    <tr>\n",
       "      <th>2024-11-20 06:07:00-05:00</th>\n",
       "      <td>2024-11-20 06:37:00-05:00</td>\n",
       "      <td>2024-11-20 06:11:00-05:00</td>\n",
       "      <td>2024-11-20 06:08:00-05:00</td>\n",
       "    </tr>\n",
       "    <tr>\n",
       "      <th>2024-11-20 08:18:00-05:00</th>\n",
       "      <td>2024-11-20 08:48:00-05:00</td>\n",
       "      <td>2024-11-20 08:20:00-05:00</td>\n",
       "      <td>NaT</td>\n",
       "    </tr>\n",
       "    <tr>\n",
       "      <th>2024-11-20 09:06:00-05:00</th>\n",
       "      <td>2024-11-20 09:36:00-05:00</td>\n",
       "      <td>2024-11-20 09:23:00-05:00</td>\n",
       "      <td>2024-11-20 09:07:00-05:00</td>\n",
       "    </tr>\n",
       "    <tr>\n",
       "      <th>2024-11-20 09:23:00-05:00</th>\n",
       "      <td>2024-11-20 09:53:00-05:00</td>\n",
       "      <td>2024-11-20 09:32:00-05:00</td>\n",
       "      <td>2024-11-20 09:24:00-05:00</td>\n",
       "    </tr>\n",
       "    <tr>\n",
       "      <th>2024-11-20 09:39:00-05:00</th>\n",
       "      <td>2024-11-20 10:09:00-05:00</td>\n",
       "      <td>2024-11-20 10:09:00-05:00</td>\n",
       "      <td>2024-11-20 09:42:00-05:00</td>\n",
       "    </tr>\n",
       "    <tr>\n",
       "      <th>2024-11-20 10:54:00-05:00</th>\n",
       "      <td>2024-11-20 11:24:00-05:00</td>\n",
       "      <td>2024-11-20 11:08:00-05:00</td>\n",
       "      <td>2024-11-20 10:58:00-05:00</td>\n",
       "    </tr>\n",
       "    <tr>\n",
       "      <th>2024-11-20 11:16:00-05:00</th>\n",
       "      <td>2024-11-20 11:46:00-05:00</td>\n",
       "      <td>2024-11-20 11:21:00-05:00</td>\n",
       "      <td>2024-11-20 11:19:00-05:00</td>\n",
       "    </tr>\n",
       "    <tr>\n",
       "      <th>2024-11-20 12:19:00-05:00</th>\n",
       "      <td>2024-11-20 12:49:00-05:00</td>\n",
       "      <td>2024-11-20 12:20:00-05:00</td>\n",
       "      <td>2024-11-20 12:27:00-05:00</td>\n",
       "    </tr>\n",
       "    <tr>\n",
       "      <th>2024-11-20 13:20:00-05:00</th>\n",
       "      <td>2024-11-20 13:50:00-05:00</td>\n",
       "      <td>2024-11-20 13:22:00-05:00</td>\n",
       "      <td>2024-11-20 13:24:00-05:00</td>\n",
       "    </tr>\n",
       "    <tr>\n",
       "      <th>2024-11-20 14:22:00-05:00</th>\n",
       "      <td>2024-11-20 14:52:00-05:00</td>\n",
       "      <td>NaT</td>\n",
       "      <td>2024-11-20 14:24:00-05:00</td>\n",
       "    </tr>\n",
       "    <tr>\n",
       "      <th>2024-11-20 14:47:00-05:00</th>\n",
       "      <td>2024-11-20 15:17:00-05:00</td>\n",
       "      <td>2024-11-20 14:54:00-05:00</td>\n",
       "      <td>NaT</td>\n",
       "    </tr>\n",
       "    <tr>\n",
       "      <th>2024-11-20 15:46:00-05:00</th>\n",
       "      <td>2024-11-20 16:16:00-05:00</td>\n",
       "      <td>2024-11-20 15:52:00-05:00</td>\n",
       "      <td>NaT</td>\n",
       "    </tr>\n",
       "    <tr>\n",
       "      <th>2024-11-20 20:23:00-05:00</th>\n",
       "      <td>2024-11-20 20:53:00-05:00</td>\n",
       "      <td>2024-11-20 20:26:00-05:00</td>\n",
       "      <td>NaT</td>\n",
       "    </tr>\n",
       "    <tr>\n",
       "      <th>2024-11-20 21:11:00-05:00</th>\n",
       "      <td>2024-11-20 21:41:00-05:00</td>\n",
       "      <td>2024-11-20 21:16:00-05:00</td>\n",
       "      <td>NaT</td>\n",
       "    </tr>\n",
       "    <tr>\n",
       "      <th>2024-11-20 22:06:00-05:00</th>\n",
       "      <td>2024-11-20 22:36:00-05:00</td>\n",
       "      <td>NaT</td>\n",
       "      <td>2024-11-20 22:07:00-05:00</td>\n",
       "    </tr>\n",
       "    <tr>\n",
       "      <th>2024-11-20 22:28:00-05:00</th>\n",
       "      <td>2024-11-20 22:58:00-05:00</td>\n",
       "      <td>2024-11-20 22:30:00-05:00</td>\n",
       "      <td>NaT</td>\n",
       "    </tr>\n",
       "  </tbody>\n",
       "</table>\n",
       "</div>"
      ],
      "text/plain": [
       "                                                 t1  \\\n",
       "2024-11-20 03:26:00-05:00 2024-11-20 03:56:00-05:00   \n",
       "2024-11-20 06:07:00-05:00 2024-11-20 06:37:00-05:00   \n",
       "2024-11-20 08:18:00-05:00 2024-11-20 08:48:00-05:00   \n",
       "2024-11-20 09:06:00-05:00 2024-11-20 09:36:00-05:00   \n",
       "2024-11-20 09:23:00-05:00 2024-11-20 09:53:00-05:00   \n",
       "2024-11-20 09:39:00-05:00 2024-11-20 10:09:00-05:00   \n",
       "2024-11-20 10:54:00-05:00 2024-11-20 11:24:00-05:00   \n",
       "2024-11-20 11:16:00-05:00 2024-11-20 11:46:00-05:00   \n",
       "2024-11-20 12:19:00-05:00 2024-11-20 12:49:00-05:00   \n",
       "2024-11-20 13:20:00-05:00 2024-11-20 13:50:00-05:00   \n",
       "2024-11-20 14:22:00-05:00 2024-11-20 14:52:00-05:00   \n",
       "2024-11-20 14:47:00-05:00 2024-11-20 15:17:00-05:00   \n",
       "2024-11-20 15:46:00-05:00 2024-11-20 16:16:00-05:00   \n",
       "2024-11-20 20:23:00-05:00 2024-11-20 20:53:00-05:00   \n",
       "2024-11-20 21:11:00-05:00 2024-11-20 21:41:00-05:00   \n",
       "2024-11-20 22:06:00-05:00 2024-11-20 22:36:00-05:00   \n",
       "2024-11-20 22:28:00-05:00 2024-11-20 22:58:00-05:00   \n",
       "\n",
       "                                                  sl  \\\n",
       "2024-11-20 03:26:00-05:00  2024-11-20 03:33:00-05:00   \n",
       "2024-11-20 06:07:00-05:00  2024-11-20 06:11:00-05:00   \n",
       "2024-11-20 08:18:00-05:00  2024-11-20 08:20:00-05:00   \n",
       "2024-11-20 09:06:00-05:00  2024-11-20 09:23:00-05:00   \n",
       "2024-11-20 09:23:00-05:00  2024-11-20 09:32:00-05:00   \n",
       "2024-11-20 09:39:00-05:00  2024-11-20 10:09:00-05:00   \n",
       "2024-11-20 10:54:00-05:00  2024-11-20 11:08:00-05:00   \n",
       "2024-11-20 11:16:00-05:00  2024-11-20 11:21:00-05:00   \n",
       "2024-11-20 12:19:00-05:00  2024-11-20 12:20:00-05:00   \n",
       "2024-11-20 13:20:00-05:00  2024-11-20 13:22:00-05:00   \n",
       "2024-11-20 14:22:00-05:00                        NaT   \n",
       "2024-11-20 14:47:00-05:00  2024-11-20 14:54:00-05:00   \n",
       "2024-11-20 15:46:00-05:00  2024-11-20 15:52:00-05:00   \n",
       "2024-11-20 20:23:00-05:00  2024-11-20 20:26:00-05:00   \n",
       "2024-11-20 21:11:00-05:00  2024-11-20 21:16:00-05:00   \n",
       "2024-11-20 22:06:00-05:00                        NaT   \n",
       "2024-11-20 22:28:00-05:00  2024-11-20 22:30:00-05:00   \n",
       "\n",
       "                                                  pt  \n",
       "2024-11-20 03:26:00-05:00  2024-11-20 03:51:00-05:00  \n",
       "2024-11-20 06:07:00-05:00  2024-11-20 06:08:00-05:00  \n",
       "2024-11-20 08:18:00-05:00                        NaT  \n",
       "2024-11-20 09:06:00-05:00  2024-11-20 09:07:00-05:00  \n",
       "2024-11-20 09:23:00-05:00  2024-11-20 09:24:00-05:00  \n",
       "2024-11-20 09:39:00-05:00  2024-11-20 09:42:00-05:00  \n",
       "2024-11-20 10:54:00-05:00  2024-11-20 10:58:00-05:00  \n",
       "2024-11-20 11:16:00-05:00  2024-11-20 11:19:00-05:00  \n",
       "2024-11-20 12:19:00-05:00  2024-11-20 12:27:00-05:00  \n",
       "2024-11-20 13:20:00-05:00  2024-11-20 13:24:00-05:00  \n",
       "2024-11-20 14:22:00-05:00  2024-11-20 14:24:00-05:00  \n",
       "2024-11-20 14:47:00-05:00                        NaT  \n",
       "2024-11-20 15:46:00-05:00                        NaT  \n",
       "2024-11-20 20:23:00-05:00                        NaT  \n",
       "2024-11-20 21:11:00-05:00                        NaT  \n",
       "2024-11-20 22:06:00-05:00  2024-11-20 22:07:00-05:00  \n",
       "2024-11-20 22:28:00-05:00                        NaT  "
      ]
     },
     "execution_count": 210,
     "metadata": {},
     "output_type": "execute_result"
    }
   ],
   "source": [
    "out"
   ]
  },
  {
   "cell_type": "code",
   "execution_count": null,
   "id": "3c19646a-7c84-4c4b-8d9e-ed737300d3c6",
   "metadata": {},
   "outputs": [],
   "source": []
  },
  {
   "cell_type": "code",
   "execution_count": 230,
   "id": "176288ea-9eb3-44f4-8143-bcc9d97503a9",
   "metadata": {},
   "outputs": [
    {
     "data": {
      "text/plain": [
       "<AxesSubplot:xlabel='timestamp', ylabel='Price'>"
      ]
     },
     "execution_count": 230,
     "metadata": {},
     "output_type": "execute_result"
    },
    {
     "data": {
      "image/png": "[encoded data removed]",
      "text/plain": [
       "<Figure size 640x480 with 1 Axes>"
      ]
     },
     "metadata": {},
     "output_type": "display_data"
    }
   ],
   "source": [
    "fig = plt.figure()\n",
    "ax1 = fig.add_subplot(111,  ylabel='Price')\n",
    "\n",
    "\n",
    "idx=df_coin.index.union(out.t1).drop_duplicates()\n",
    "close=df_coin[['close']].reindex(idx, method='bfill')\n",
    "\n",
    "close.plot(ax=ax1)\n",
    "df_coin.loc[events_.t0]['close'].plot(ax=ax1, marker=\"v\", markersize=5, color='y')\n",
    "\n",
    "iset = set(df_coin.index)\n",
    "t1_plot = [t1 for t1 in out.t1 if t1 in iset]\n",
    "pt_plot = [pt for pt in out.pt if pt in iset]\n",
    "sl_plot = [sl for sl in out.sl if sl in iset]\n",
    "#df_coin.loc[t1_plot]['close'].plot(ax=ax1, marker=\"v\", markersize=5, color='r')\n",
    "close.loc[pt_plot]['close'].plot(ax=ax1, marker=\"v\", markersize=5, color='b')\n",
    "close.loc[sl_plot]['close'].plot(ax=ax1, marker=\"v\", markersize=5, color='r')"
   ]
  },
  {
   "cell_type": "code",
   "execution_count": null,
   "id": "92e2f0f6-c953-44cf-9e9d-e4cf3015baad",
   "metadata": {},
   "outputs": [],
   "source": []
  },
  {
   "cell_type": "code",
   "execution_count": null,
   "id": "08420426-8bc4-4495-98d2-55bfa34f3eb4",
   "metadata": {},
   "outputs": [],
   "source": []
  },
  {
   "cell_type": "code",
   "execution_count": 216,
   "id": "6e2adb14-f8cb-4cfa-a684-074bd6f46792",
   "metadata": {},
   "outputs": [],
   "source": [
    "events_ = events_tf.dropna(subset=['t1'])\n",
    "px=events_.index.union(events_['t1'].values).drop_duplicates()\n",
    "px=close.reindex(px, method='bfill')"
   ]
  },
  {
   "cell_type": "code",
   "execution_count": null,
   "id": "65c666b6-ec7b-483f-b0e9-dce528dd7982",
   "metadata": {},
   "outputs": [],
   "source": []
  },
  {
   "cell_type": "code",
   "execution_count": 217,
   "id": "ecd39025-b0f9-4dc7-9964-3fbf79f7e122",
   "metadata": {},
   "outputs": [
    {
     "data": {
      "text/html": [
       "<div>\n",
       "<style scoped>\n",
       "    .dataframe tbody tr th:only-of-type {\n",
       "        vertical-align: middle;\n",
       "    }\n",
       "\n",
       "    .dataframe tbody tr th {\n",
       "        vertical-align: top;\n",
       "    }\n",
       "\n",
       "    .dataframe thead th {\n",
       "        text-align: right;\n",
       "    }\n",
       "</style>\n",
       "<table border=\"1\" class=\"dataframe\">\n",
       "  <thead>\n",
       "    <tr style=\"text-align: right;\">\n",
       "      <th></th>\n",
       "      <th>t0</th>\n",
       "      <th>t1</th>\n",
       "      <th>trgt</th>\n",
       "      <th>side</th>\n",
       "    </tr>\n",
       "  </thead>\n",
       "  <tbody>\n",
       "    <tr>\n",
       "      <th>2024-11-20 03:26:00-05:00</th>\n",
       "      <td>2024-11-20 03:26:00-05:00</td>\n",
       "      <td>2024-11-20 03:56:00-05:00</td>\n",
       "      <td>0.001</td>\n",
       "      <td>1</td>\n",
       "    </tr>\n",
       "    <tr>\n",
       "      <th>2024-11-20 06:07:00-05:00</th>\n",
       "      <td>2024-11-20 06:07:00-05:00</td>\n",
       "      <td>2024-11-20 06:37:00-05:00</td>\n",
       "      <td>0.001</td>\n",
       "      <td>1</td>\n",
       "    </tr>\n",
       "    <tr>\n",
       "      <th>2024-11-20 08:18:00-05:00</th>\n",
       "      <td>2024-11-20 08:18:00-05:00</td>\n",
       "      <td>2024-11-20 08:48:00-05:00</td>\n",
       "      <td>0.001</td>\n",
       "      <td>1</td>\n",
       "    </tr>\n",
       "    <tr>\n",
       "      <th>2024-11-20 09:06:00-05:00</th>\n",
       "      <td>2024-11-20 09:06:00-05:00</td>\n",
       "      <td>2024-11-20 09:36:00-05:00</td>\n",
       "      <td>0.001</td>\n",
       "      <td>1</td>\n",
       "    </tr>\n",
       "    <tr>\n",
       "      <th>2024-11-20 09:23:00-05:00</th>\n",
       "      <td>2024-11-20 09:23:00-05:00</td>\n",
       "      <td>2024-11-20 09:53:00-05:00</td>\n",
       "      <td>0.001</td>\n",
       "      <td>1</td>\n",
       "    </tr>\n",
       "    <tr>\n",
       "      <th>2024-11-20 09:39:00-05:00</th>\n",
       "      <td>2024-11-20 09:39:00-05:00</td>\n",
       "      <td>2024-11-20 10:09:00-05:00</td>\n",
       "      <td>0.001</td>\n",
       "      <td>1</td>\n",
       "    </tr>\n",
       "    <tr>\n",
       "      <th>2024-11-20 10:54:00-05:00</th>\n",
       "      <td>2024-11-20 10:54:00-05:00</td>\n",
       "      <td>2024-11-20 11:24:00-05:00</td>\n",
       "      <td>0.001</td>\n",
       "      <td>1</td>\n",
       "    </tr>\n",
       "    <tr>\n",
       "      <th>2024-11-20 11:16:00-05:00</th>\n",
       "      <td>2024-11-20 11:16:00-05:00</td>\n",
       "      <td>2024-11-20 11:46:00-05:00</td>\n",
       "      <td>0.001</td>\n",
       "      <td>1</td>\n",
       "    </tr>\n",
       "    <tr>\n",
       "      <th>2024-11-20 12:19:00-05:00</th>\n",
       "      <td>2024-11-20 12:19:00-05:00</td>\n",
       "      <td>2024-11-20 12:49:00-05:00</td>\n",
       "      <td>0.001</td>\n",
       "      <td>1</td>\n",
       "    </tr>\n",
       "    <tr>\n",
       "      <th>2024-11-20 13:20:00-05:00</th>\n",
       "      <td>2024-11-20 13:20:00-05:00</td>\n",
       "      <td>2024-11-20 13:50:00-05:00</td>\n",
       "      <td>0.001</td>\n",
       "      <td>1</td>\n",
       "    </tr>\n",
       "    <tr>\n",
       "      <th>2024-11-20 14:22:00-05:00</th>\n",
       "      <td>2024-11-20 14:22:00-05:00</td>\n",
       "      <td>2024-11-20 14:52:00-05:00</td>\n",
       "      <td>0.001</td>\n",
       "      <td>1</td>\n",
       "    </tr>\n",
       "    <tr>\n",
       "      <th>2024-11-20 14:47:00-05:00</th>\n",
       "      <td>2024-11-20 14:47:00-05:00</td>\n",
       "      <td>2024-11-20 15:17:00-05:00</td>\n",
       "      <td>0.001</td>\n",
       "      <td>1</td>\n",
       "    </tr>\n",
       "    <tr>\n",
       "      <th>2024-11-20 15:46:00-05:00</th>\n",
       "      <td>2024-11-20 15:46:00-05:00</td>\n",
       "      <td>2024-11-20 16:16:00-05:00</td>\n",
       "      <td>0.001</td>\n",
       "      <td>1</td>\n",
       "    </tr>\n",
       "    <tr>\n",
       "      <th>2024-11-20 20:23:00-05:00</th>\n",
       "      <td>2024-11-20 20:23:00-05:00</td>\n",
       "      <td>2024-11-20 20:53:00-05:00</td>\n",
       "      <td>0.001</td>\n",
       "      <td>1</td>\n",
       "    </tr>\n",
       "    <tr>\n",
       "      <th>2024-11-20 21:11:00-05:00</th>\n",
       "      <td>2024-11-20 21:11:00-05:00</td>\n",
       "      <td>2024-11-20 21:41:00-05:00</td>\n",
       "      <td>0.001</td>\n",
       "      <td>1</td>\n",
       "    </tr>\n",
       "    <tr>\n",
       "      <th>2024-11-20 22:06:00-05:00</th>\n",
       "      <td>2024-11-20 22:06:00-05:00</td>\n",
       "      <td>2024-11-20 22:36:00-05:00</td>\n",
       "      <td>0.001</td>\n",
       "      <td>1</td>\n",
       "    </tr>\n",
       "    <tr>\n",
       "      <th>2024-11-20 22:28:00-05:00</th>\n",
       "      <td>2024-11-20 22:28:00-05:00</td>\n",
       "      <td>2024-11-20 22:58:00-05:00</td>\n",
       "      <td>0.001</td>\n",
       "      <td>1</td>\n",
       "    </tr>\n",
       "    <tr>\n",
       "      <th>2024-11-20 23:28:00-05:00</th>\n",
       "      <td>2024-11-20 23:28:00-05:00</td>\n",
       "      <td>2024-11-20 23:58:00-05:00</td>\n",
       "      <td>0.001</td>\n",
       "      <td>1</td>\n",
       "    </tr>\n",
       "  </tbody>\n",
       "</table>\n",
       "</div>"
      ],
      "text/plain": [
       "                                                 t0                        t1  \\\n",
       "2024-11-20 03:26:00-05:00 2024-11-20 03:26:00-05:00 2024-11-20 03:56:00-05:00   \n",
       "2024-11-20 06:07:00-05:00 2024-11-20 06:07:00-05:00 2024-11-20 06:37:00-05:00   \n",
       "2024-11-20 08:18:00-05:00 2024-11-20 08:18:00-05:00 2024-11-20 08:48:00-05:00   \n",
       "2024-11-20 09:06:00-05:00 2024-11-20 09:06:00-05:00 2024-11-20 09:36:00-05:00   \n",
       "2024-11-20 09:23:00-05:00 2024-11-20 09:23:00-05:00 2024-11-20 09:53:00-05:00   \n",
       "2024-11-20 09:39:00-05:00 2024-11-20 09:39:00-05:00 2024-11-20 10:09:00-05:00   \n",
       "2024-11-20 10:54:00-05:00 2024-11-20 10:54:00-05:00 2024-11-20 11:24:00-05:00   \n",
       "2024-11-20 11:16:00-05:00 2024-11-20 11:16:00-05:00 2024-11-20 11:46:00-05:00   \n",
       "2024-11-20 12:19:00-05:00 2024-11-20 12:19:00-05:00 2024-11-20 12:49:00-05:00   \n",
       "2024-11-20 13:20:00-05:00 2024-11-20 13:20:00-05:00 2024-11-20 13:50:00-05:00   \n",
       "2024-11-20 14:22:00-05:00 2024-11-20 14:22:00-05:00 2024-11-20 14:52:00-05:00   \n",
       "2024-11-20 14:47:00-05:00 2024-11-20 14:47:00-05:00 2024-11-20 15:17:00-05:00   \n",
       "2024-11-20 15:46:00-05:00 2024-11-20 15:46:00-05:00 2024-11-20 16:16:00-05:00   \n",
       "2024-11-20 20:23:00-05:00 2024-11-20 20:23:00-05:00 2024-11-20 20:53:00-05:00   \n",
       "2024-11-20 21:11:00-05:00 2024-11-20 21:11:00-05:00 2024-11-20 21:41:00-05:00   \n",
       "2024-11-20 22:06:00-05:00 2024-11-20 22:06:00-05:00 2024-11-20 22:36:00-05:00   \n",
       "2024-11-20 22:28:00-05:00 2024-11-20 22:28:00-05:00 2024-11-20 22:58:00-05:00   \n",
       "2024-11-20 23:28:00-05:00 2024-11-20 23:28:00-05:00 2024-11-20 23:58:00-05:00   \n",
       "\n",
       "                            trgt  side  \n",
       "2024-11-20 03:26:00-05:00  0.001     1  \n",
       "2024-11-20 06:07:00-05:00  0.001     1  \n",
       "2024-11-20 08:18:00-05:00  0.001     1  \n",
       "2024-11-20 09:06:00-05:00  0.001     1  \n",
       "2024-11-20 09:23:00-05:00  0.001     1  \n",
       "2024-11-20 09:39:00-05:00  0.001     1  \n",
       "2024-11-20 10:54:00-05:00  0.001     1  \n",
       "2024-11-20 11:16:00-05:00  0.001     1  \n",
       "2024-11-20 12:19:00-05:00  0.001     1  \n",
       "2024-11-20 13:20:00-05:00  0.001     1  \n",
       "2024-11-20 14:22:00-05:00  0.001     1  \n",
       "2024-11-20 14:47:00-05:00  0.001     1  \n",
       "2024-11-20 15:46:00-05:00  0.001     1  \n",
       "2024-11-20 20:23:00-05:00  0.001     1  \n",
       "2024-11-20 21:11:00-05:00  0.001     1  \n",
       "2024-11-20 22:06:00-05:00  0.001     1  \n",
       "2024-11-20 22:28:00-05:00  0.001     1  \n",
       "2024-11-20 23:28:00-05:00  0.001     1  "
      ]
     },
     "execution_count": 217,
     "metadata": {},
     "output_type": "execute_result"
    }
   ],
   "source": [
    "events_"
   ]
  },
  {
   "cell_type": "code",
   "execution_count": null,
   "id": "43eace75-f3a0-4814-b254-f9ec72279f57",
   "metadata": {},
   "outputs": [],
   "source": []
  },
  {
   "cell_type": "code",
   "execution_count": null,
   "id": "15909342-5980-42b0-a42d-302675867762",
   "metadata": {},
   "outputs": [],
   "source": []
  }
 ],
 "metadata": {
  "kernelspec": {
   "display_name": "Python 3 (ipykernel)",
   "language": "python",
   "name": "python3"
  },
  "language_info": {
   "codemirror_mode": {
    "name": "ipython",
    "version": 3
   },
   "file_extension": ".py",
   "mimetype": "text/x-python",
   "name": "python",
   "nbconvert_exporter": "python",
   "pygments_lexer": "ipython3",
   "version": "3.9.6"
  }
 },
 "nbformat": 4,
 "nbformat_minor": 5
}
