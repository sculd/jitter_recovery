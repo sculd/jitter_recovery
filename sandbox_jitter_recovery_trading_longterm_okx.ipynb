{
 "cells": [
  {
   "cell_type": "markdown",
   "id": "f2737de0-4e5d-4c43-a52a-96c3c639e234",
   "metadata": {
    "execution": {
     "iopub.execute_input": "2023-12-12T21:48:55.276471Z",
     "iopub.status.busy": "2023-12-12T21:48:55.276035Z",
     "iopub.status.idle": "2023-12-12T21:48:55.282856Z",
     "shell.execute_reply": "2023-12-12T21:48:55.281886Z",
     "shell.execute_reply.started": "2023-12-12T21:48:55.276437Z"
    }
   },
   "source": [
    "## import & load"
   ]
  },
  {
   "cell_type": "code",
   "execution_count": 2,
   "id": "a115d0f3-c935-4c05-a33a-732933233c0a",
   "metadata": {
    "execution": {
     "iopub.execute_input": "2024-02-03T22:23:13.833169Z",
     "iopub.status.busy": "2024-02-03T22:23:13.832680Z",
     "iopub.status.idle": "2024-02-03T22:23:15.304350Z",
     "shell.execute_reply": "2024-02-03T22:23:15.303821Z",
     "shell.execute_reply.started": "2024-02-03T22:23:13.833138Z"
    }
   },
   "outputs": [],
   "source": [
    "import pandas as pd\n",
    "import numpy as np\n",
    "import sys\n",
    "import requests\n",
    "import pprint\n",
    "\n",
    "import datetime\n",
    "import pytz\n",
    "import importlib\n",
    "import matplotlib.pyplot as plt\n",
    "\n",
    "\n",
    "import datetime, json, math\n",
    "from google.cloud import bigquery\n",
    "from numpy_ext import rolling_apply as rolling_apply_ext"
   ]
  },
  {
   "cell_type": "code",
   "execution_count": 3,
   "id": "da881dba-cd40-4bd5-ba15-3fa2691a5107",
   "metadata": {
    "execution": {
     "iopub.execute_input": "2024-02-03T22:23:15.305704Z",
     "iopub.status.busy": "2024-02-03T22:23:15.305351Z",
     "iopub.status.idle": "2024-02-03T22:23:15.311297Z",
     "shell.execute_reply": "2024-02-03T22:23:15.310064Z",
     "shell.execute_reply.started": "2024-02-03T22:23:15.305682Z"
    }
   },
   "outputs": [],
   "source": [
    "import os\n",
    "\n",
    "if os.path.exists('credential.json'):\n",
    "    os.environ[\"GOOGLE_APPLICATION_CREDENTIALS\"] = os.path.join(os.getcwd(), 'credential.json')"
   ]
  },
  {
   "cell_type": "code",
   "execution_count": 4,
   "id": "0781806b-5f96-42f9-acec-2b15f54f6b35",
   "metadata": {
    "execution": {
     "iopub.execute_input": "2024-02-03T22:23:15.312978Z",
     "iopub.status.busy": "2024-02-03T22:23:15.312686Z",
     "iopub.status.idle": "2024-02-03T22:23:22.190410Z",
     "shell.execute_reply": "2024-02-03T22:23:22.189623Z",
     "shell.execute_reply.started": "2024-02-03T22:23:15.312958Z"
    }
   },
   "outputs": [
    {
     "data": {
      "text/plain": [
       "<module 'data.read' from '/home/junlim/projects/jitter_recovery/data/read.py'>"
      ]
     },
     "execution_count": 4,
     "metadata": {},
     "output_type": "execute_result"
    }
   ],
   "source": [
    "import data.read\n",
    "importlib.reload(data.read)"
   ]
  },
  {
   "cell_type": "code",
   "execution_count": 5,
   "id": "6a2ffc80-5719-43fe-b7dd-ea2bc98199b2",
   "metadata": {
    "execution": {
     "iopub.execute_input": "2024-02-03T22:23:22.192693Z",
     "iopub.status.busy": "2024-02-03T22:23:22.192327Z",
     "iopub.status.idle": "2024-02-03T22:23:23.830695Z",
     "shell.execute_reply": "2024-02-03T22:23:23.829927Z",
     "shell.execute_reply.started": "2024-02-03T22:23:22.192658Z"
    }
   },
   "outputs": [],
   "source": [
    "df = data.read.df_okx_20231216_1231\n",
    "df_close = df.pivot(index='timestamp', columns='symbol', values='close')\n",
    "dfi = df.set_index(['timestamp', 'symbol'])\n",
    "all_symbols = df.symbol.unique()"
   ]
  },
  {
   "cell_type": "code",
   "execution_count": 6,
   "id": "f1cd98bd-1939-44bf-ad3d-d96df1a4382e",
   "metadata": {
    "execution": {
     "iopub.execute_input": "2024-02-03T22:23:23.831591Z",
     "iopub.status.busy": "2024-02-03T22:23:23.831393Z",
     "iopub.status.idle": "2024-02-03T22:23:23.845335Z",
     "shell.execute_reply": "2024-02-03T22:23:23.844195Z",
     "shell.execute_reply.started": "2024-02-03T22:23:23.831575Z"
    }
   },
   "outputs": [
    {
     "data": {
      "text/html": [
       "<div>\n",
       "<style scoped>\n",
       "    .dataframe tbody tr th:only-of-type {\n",
       "        vertical-align: middle;\n",
       "    }\n",
       "\n",
       "    .dataframe tbody tr th {\n",
       "        vertical-align: top;\n",
       "    }\n",
       "\n",
       "    .dataframe thead th {\n",
       "        text-align: right;\n",
       "    }\n",
       "</style>\n",
       "<table border=\"1\" class=\"dataframe\">\n",
       "  <thead>\n",
       "    <tr style=\"text-align: right;\">\n",
       "      <th></th>\n",
       "      <th>timestamp</th>\n",
       "      <th>symbol</th>\n",
       "      <th>open</th>\n",
       "      <th>high</th>\n",
       "      <th>low</th>\n",
       "      <th>close</th>\n",
       "      <th>volume</th>\n",
       "    </tr>\n",
       "  </thead>\n",
       "  <tbody>\n",
       "    <tr>\n",
       "      <th>3953359</th>\n",
       "      <td>2023-12-31 04:58:00</td>\n",
       "      <td>CSPR-USDT-SWAP</td>\n",
       "      <td>0.04951</td>\n",
       "      <td>0.04951</td>\n",
       "      <td>0.04947</td>\n",
       "      <td>0.04947</td>\n",
       "      <td>41425.0</td>\n",
       "    </tr>\n",
       "    <tr>\n",
       "      <th>3953360</th>\n",
       "      <td>2023-12-31 04:58:00</td>\n",
       "      <td>STX-USDT-SWAP</td>\n",
       "      <td>1.43480</td>\n",
       "      <td>1.43500</td>\n",
       "      <td>1.43380</td>\n",
       "      <td>1.43380</td>\n",
       "      <td>3650.0</td>\n",
       "    </tr>\n",
       "    <tr>\n",
       "      <th>3953361</th>\n",
       "      <td>2023-12-31 04:58:00</td>\n",
       "      <td>THETA-USDT-SWAP</td>\n",
       "      <td>1.24600</td>\n",
       "      <td>1.24600</td>\n",
       "      <td>1.24600</td>\n",
       "      <td>1.24600</td>\n",
       "      <td>570.0</td>\n",
       "    </tr>\n",
       "  </tbody>\n",
       "</table>\n",
       "</div>"
      ],
      "text/plain": [
       "                  timestamp           symbol     open     high      low  \\\n",
       "3953359 2023-12-31 04:58:00   CSPR-USDT-SWAP  0.04951  0.04951  0.04947   \n",
       "3953360 2023-12-31 04:58:00    STX-USDT-SWAP  1.43480  1.43500  1.43380   \n",
       "3953361 2023-12-31 04:58:00  THETA-USDT-SWAP  1.24600  1.24600  1.24600   \n",
       "\n",
       "           close   volume  \n",
       "3953359  0.04947  41425.0  \n",
       "3953360  1.43380   3650.0  \n",
       "3953361  1.24600    570.0  "
      ]
     },
     "execution_count": 6,
     "metadata": {},
     "output_type": "execute_result"
    }
   ],
   "source": [
    "df.tail(3)"
   ]
  },
  {
   "cell_type": "code",
   "execution_count": 7,
   "id": "2f63a12c-2f68-4b0f-abe0-e9eb20afd5b4",
   "metadata": {
    "execution": {
     "iopub.execute_input": "2024-02-03T22:23:23.847150Z",
     "iopub.status.busy": "2024-02-03T22:23:23.846836Z",
     "iopub.status.idle": "2024-02-03T22:23:23.852093Z",
     "shell.execute_reply": "2024-02-03T22:23:23.851592Z",
     "shell.execute_reply.started": "2024-02-03T22:23:23.847125Z"
    }
   },
   "outputs": [
    {
     "data": {
      "text/plain": [
       "157"
      ]
     },
     "execution_count": 7,
     "metadata": {},
     "output_type": "execute_result"
    }
   ],
   "source": [
    "len([s for s in all_symbols if 'USDT' in s])"
   ]
  },
  {
   "cell_type": "code",
   "execution_count": null,
   "id": "580bc04c-057f-4f19-827b-0a6d69e35322",
   "metadata": {},
   "outputs": [],
   "source": []
  },
  {
   "cell_type": "markdown",
   "id": "9bb84b8e-cb19-47dd-a19e-fc04b0721b1a",
   "metadata": {},
   "source": [
    "## multiple symbols"
   ]
  },
  {
   "cell_type": "code",
   "execution_count": 8,
   "id": "7e4ad85d-1c7a-4dcf-b468-da209eb874d2",
   "metadata": {
    "execution": {
     "iopub.execute_input": "2024-02-03T22:23:23.853081Z",
     "iopub.status.busy": "2024-02-03T22:23:23.852807Z",
     "iopub.status.idle": "2024-02-03T22:23:23.868713Z",
     "shell.execute_reply": "2024-02-03T22:23:23.868253Z",
     "shell.execute_reply.started": "2024-02-03T22:23:23.853050Z"
    }
   },
   "outputs": [
    {
     "data": {
      "text/plain": [
       "<module 'algo.jitter_recovery.research' from '/home/junlim/projects/jitter_recovery/algo/jitter_recovery/research.py'>"
      ]
     },
     "execution_count": 8,
     "metadata": {},
     "output_type": "execute_result"
    }
   ],
   "source": [
    "import algo.jitter_recovery.calculate\n",
    "importlib.reload(algo.jitter_recovery.calculate)\n",
    "import algo.jitter_recovery.research\n",
    "importlib.reload(algo.jitter_recovery.research)"
   ]
  },
  {
   "cell_type": "code",
   "execution_count": 9,
   "id": "dde2af94-4fca-46e0-bbf4-ad2201155953",
   "metadata": {
    "execution": {
     "iopub.execute_input": "2024-02-03T22:23:23.869580Z",
     "iopub.status.busy": "2024-02-03T22:23:23.869396Z",
     "iopub.status.idle": "2024-02-03T22:23:23.885751Z",
     "shell.execute_reply": "2024-02-03T22:23:23.885059Z",
     "shell.execute_reply.started": "2024-02-03T22:23:23.869562Z"
    }
   },
   "outputs": [],
   "source": [
    "jitter_recovery_feature_param = algo.jitter_recovery.calculate.JitterRecoveryFeatureParam(240)\n",
    "jitter_recovery_trading_param = algo.jitter_recovery.calculate.JitterRecoveryTradingParam(\n",
    "    jitter_recovery_feature_param, \n",
    "    0.40, -0.10, 0.05, is_long_term=True)"
   ]
  },
  {
   "cell_type": "code",
   "execution_count": 10,
   "id": "5066f44d-7cb8-45a6-bc2c-c0291fac7ace",
   "metadata": {
    "execution": {
     "iopub.execute_input": "2024-02-03T22:23:23.886954Z",
     "iopub.status.busy": "2024-02-03T22:23:23.886643Z",
     "iopub.status.idle": "2024-02-03T22:24:46.882177Z",
     "shell.execute_reply": "2024-02-03T22:24:46.881074Z",
     "shell.execute_reply.started": "2024-02-03T22:23:23.886924Z"
    },
    "scrolled": true
   },
   "outputs": [
    {
     "name": "stdout",
     "output_type": "stream",
     "text": [
      "0 symbol: WLD-USDT-SWAP: 29\n",
      "1 symbol: STX-USDT-SWAP: 0\n",
      "2 symbol: DYDX-USDT-SWAP: 0\n",
      "3 symbol: WAVES-USDT-SWAP: 0\n",
      "4 symbol: GFT-USDT-SWAP: 0\n",
      "5 symbol: CHZ-USDT-SWAP: 0\n",
      "6 symbol: XMR-USDT-SWAP: 0\n",
      "7 symbol: API3-USDT-SWAP: 0\n",
      "8 symbol: ARB-USDT-SWAP: 0\n",
      "9 symbol: BCH-USDT-SWAP: 0\n",
      "10 symbol: USDC-USDT-SWAP: 0\n",
      "11 symbol: MATIC-USDT-SWAP: 0\n",
      "12 symbol: FET-USDT-SWAP: 0\n",
      "13 symbol: SLP-USDT-SWAP: 0\n",
      "14 symbol: GALA-USDT-SWAP: 0\n",
      "15 symbol: FTM-USDT-SWAP: 0\n",
      "16 symbol: MKR-USDT-SWAP: 0\n",
      "17 symbol: GAS-USDT-SWAP: 0\n",
      "18 symbol: VRA-USDT-SWAP: 0\n",
      "19 symbol: CETUS-USDT-SWAP: 0\n",
      "20 symbol: AAVE-USDT-SWAP: 0\n",
      "21 symbol: FITFI-USDT-SWAP: 0\n",
      "22 symbol: WOO-USDT-SWAP: 0\n",
      "23 symbol: TON-USDT-SWAP: 0\n",
      "24 symbol: WSM-USDT-SWAP: 0\n",
      "25 symbol: CEL-USDT-SWAP: 0\n",
      "26 symbol: BAT-USDT-SWAP: 0\n",
      "27 symbol: COMP-USDT-SWAP: 0\n",
      "28 symbol: BLUR-USDT-SWAP: 0\n",
      "29 symbol: CELO-USDT-SWAP: 0\n",
      "30 symbol: GMX-USDT-SWAP: 0\n",
      "31 symbol: ADA-USDT-SWAP: 0\n",
      "32 symbol: NEAR-USDT-SWAP: 0\n",
      "33 symbol: DOGE-USDT-SWAP: 0\n",
      "34 symbol: ZIL-USDT-SWAP: 0\n",
      "35 symbol: PEOPLE-USDT-SWAP: 0\n",
      "36 symbol: LDO-USDT-SWAP: 0\n",
      "37 symbol: NFT-USDT-SWAP: 0\n",
      "38 symbol: FRONT-USDT-SWAP: 0\n",
      "39 symbol: SUI-USDT-SWAP: 0\n",
      "40 symbol: OMG-USDT-SWAP: 0\n",
      "41 symbol: GODS-USDT-SWAP: 0\n",
      "42 symbol: KLAY-USDT-SWAP: 0\n",
      "43 symbol: STORJ-USDT-SWAP: 0\n",
      "44 symbol: ETH-USDT-SWAP: 0\n",
      "45 symbol: IOST-USDT-SWAP: 0\n",
      "46 symbol: SOL-USDT-SWAP: 0\n",
      "47 symbol: SHIB-USDT-SWAP: 0\n",
      "48 symbol: ANT-USDT-SWAP: 0\n",
      "49 symbol: KSM-USDT-SWAP: 0\n",
      "50 symbol: REN-USDT-SWAP: 0\n",
      "51 symbol: BICO-USDT-SWAP: 0\n",
      "52 symbol: MEME-USDT-SWAP: 0\n",
      "53 symbol: WAXP-USDT-SWAP: 0\n",
      "54 symbol: LPT-USDT-SWAP: 0\n",
      "55 symbol: SUSHI-USDT-SWAP: 0\n",
      "56 symbol: IOTA-USDT-SWAP: 0\n",
      "57 symbol: AIDOGE-USDT-SWAP: 0\n",
      "58 symbol: RSR-USDT-SWAP: 0\n",
      "59 symbol: AGLD-USDT-SWAP: 0\n",
      "60 symbol: ID-USDT-SWAP: 0\n",
      "61 symbol: BSV-USDT-SWAP: 0\n",
      "62 symbol: RACA-USDT-SWAP: 0\n",
      "63 symbol: OP-USDT-SWAP: 0\n",
      "64 symbol: DOT-USDT-SWAP: 0\n",
      "65 symbol: BAND-USDT-SWAP: 0\n",
      "66 symbol: LUNA-USDT-SWAP: 0\n",
      "67 symbol: BTC-USDT-SWAP: 0\n",
      "68 symbol: 1INCH-USDT-SWAP: 0\n",
      "69 symbol: TRX-USDT-SWAP: 0\n",
      "70 symbol: YFI-USDT-SWAP: 0\n",
      "71 symbol: EGLD-USDT-SWAP: 0\n",
      "72 symbol: MANA-USDT-SWAP: 0\n",
      "73 symbol: AGIX-USDT-SWAP: 0\n",
      "74 symbol: AXS-USDT-SWAP: 0\n",
      "75 symbol: YGG-USDT-SWAP: 0\n",
      "76 symbol: KNC-USDT-SWAP: 0\n",
      "77 symbol: STARL-USDT-SWAP: 0\n",
      "78 symbol: GMT-USDT-SWAP: 0\n",
      "79 symbol: LINK-USDT-SWAP: 0\n",
      "80 symbol: IMX-USDT-SWAP: 0\n",
      "81 symbol: ZEN-USDT-SWAP: 0\n",
      "82 symbol: RNDR-USDT-SWAP: 0\n",
      "83 symbol: INJ-USDT-SWAP: 0\n",
      "84 symbol: ETC-USDT-SWAP: 0\n",
      "85 symbol: ORBS-USDT-SWAP: 0\n",
      "86 symbol: RDNT-USDT-SWAP: 0\n",
      "87 symbol: USTC-USDT-SWAP: 0\n",
      "88 symbol: TURBO-USDT-SWAP: 0\n",
      "89 symbol: FLOKI-USDT-SWAP: 0\n",
      "90 symbol: ZRX-USDT-SWAP: 0\n",
      "91 symbol: LRC-USDT-SWAP: 0\n",
      "92 symbol: CFX-USDT-SWAP: 0\n",
      "93 symbol: KISHU-USDT-SWAP: 0\n",
      "94 symbol: ZEC-USDT-SWAP: 0\n",
      "95 symbol: MASK-USDT-SWAP: 0\n",
      "96 symbol: FLM-USDT-SWAP: 0\n",
      "97 symbol: MAGIC-USDT-SWAP: 0\n",
      "98 symbol: XTZ-USDT-SWAP: 0\n",
      "99 symbol: LUNC-USDT-SWAP: 0\n",
      "100 symbol: PEPE-USDT-SWAP: 0\n",
      "101 symbol: SSV-USDT-SWAP: 0\n",
      "102 symbol: ICP-USDT-SWAP: 0\n",
      "103 symbol: FLOW-USDT-SWAP: 0\n",
      "104 symbol: AUCTION-USDT-SWAP: 0\n",
      "105 symbol: RON-USDT-SWAP: 0\n",
      "106 symbol: XCH-USDT-SWAP: 0\n",
      "107 symbol: AVAX-USDT-SWAP: 0\n",
      "108 symbol: UNI-USDT-SWAP: 0\n",
      "109 symbol: AR-USDT-SWAP: 0\n",
      "110 symbol: SAND-USDT-SWAP: 0\n",
      "111 symbol: CTC-USDT-SWAP: 0\n",
      "112 symbol: BADGER-USDT-SWAP: 0\n",
      "113 symbol: ORDI-USDT-SWAP: 0\n",
      "114 symbol: MINA-USDT-SWAP: 0\n",
      "115 symbol: ONT-USDT-SWAP: 0\n",
      "116 symbol: BIGTIME-USDT-SWAP: 0\n",
      "117 symbol: BAL-USDT-SWAP: 0\n",
      "118 symbol: YFII-USDT-SWAP: 1\n",
      "119 symbol: BNT-USDT-SWAP: 0\n",
      "120 symbol: THETA-USDT-SWAP: 0\n",
      "121 symbol: GRT-USDT-SWAP: 0\n",
      "122 symbol: EOS-USDT-SWAP: 0\n",
      "123 symbol: RVN-USDT-SWAP: 0\n",
      "124 symbol: UMA-USDT-SWAP: 0\n",
      "125 symbol: CSPR-USDT-SWAP: 0\n",
      "126 symbol: TRB-USDT-SWAP: 0\n",
      "127 symbol: QTUM-USDT-SWAP: 0\n",
      "128 symbol: APT-USDT-SWAP: 0\n",
      "129 symbol: APE-USDT-SWAP: 0\n",
      "130 symbol: XLM-USDT-SWAP: 0\n",
      "131 symbol: ALGO-USDT-SWAP: 0\n",
      "132 symbol: ATOM-USDT-SWAP: 0\n",
      "133 symbol: TIA-USDT-SWAP: 0\n",
      "134 symbol: ALPHA-USDT-SWAP: 59\n",
      "135 symbol: CRO-USDT-SWAP: 0\n",
      "136 symbol: SNX-USDT-SWAP: 0\n",
      "137 symbol: ETHW-USDT-SWAP: 0\n",
      "138 symbol: JST-USDT-SWAP: 0\n",
      "139 symbol: NEO-USDT-SWAP: 0\n",
      "140 symbol: CORE-USDT-SWAP: 0\n",
      "141 symbol: ENS-USDT-SWAP: 0\n",
      "142 symbol: FIL-USDT-SWAP: 0\n",
      "143 symbol: HBAR-USDT-SWAP: 0\n",
      "144 symbol: XRP-USDT-SWAP: 0\n",
      "145 symbol: SWEAT-USDT-SWAP: 0\n",
      "146 symbol: DASH-USDT-SWAP: 0\n",
      "147 symbol: BNB-USDT-SWAP: 0\n",
      "148 symbol: LTC-USDT-SWAP: 0\n",
      "149 symbol: LOOKS-USDT-SWAP: 0\n",
      "150 symbol: CVC-USDT-SWAP: 0\n",
      "151 symbol: PERP-USDT-SWAP: 25\n",
      "152 symbol: CRV-USDT-SWAP: 0\n",
      "153 symbol: PYTH-USDT-SWAP: 0\n",
      "154 symbol: SATS-USDT-SWAP: 0\n",
      "155 symbol: ACE-USDT-SWAP: 0\n",
      "156 symbol: METIS-USDT-SWAP: 0\n",
      "symbol_with_jumps: 4\n"
     ]
    }
   ],
   "source": [
    "dfst_feature, dfst_trading = algo.jitter_recovery.research.get_dfsts(df, jitter_recovery_trading_param)"
   ]
  },
  {
   "cell_type": "code",
   "execution_count": null,
   "id": "24cb3b49-b1d2-4367-beeb-e2bb782a9129",
   "metadata": {},
   "outputs": [],
   "source": []
  },
  {
   "cell_type": "code",
   "execution_count": 11,
   "id": "1378ef00-1867-4407-81a6-ddcb9cc92b90",
   "metadata": {
    "execution": {
     "iopub.execute_input": "2024-02-03T22:24:46.884882Z",
     "iopub.status.busy": "2024-02-03T22:24:46.884572Z",
     "iopub.status.idle": "2024-02-03T22:24:50.497313Z",
     "shell.execute_reply": "2024-02-03T22:24:50.496962Z",
     "shell.execute_reply.started": "2024-02-03T22:24:46.884856Z"
    }
   },
   "outputs": [
    {
     "data": {
      "text/plain": [
       "<Axes: xlabel='timestamp'>"
      ]
     },
     "execution_count": 11,
     "metadata": {},
     "output_type": "execute_result"
    },
    {
     "data": {
      "image/png": "[encoded data removed]",
      "text/plain": [
       "<Figure size 1600x100 with 1 Axes>"
      ]
     },
     "metadata": {},
     "output_type": "display_data"
    }
   ],
   "source": [
    "dfst_trading[['profit']].groupby('timestamp').sum().cumsum().plot(figsize=(16,1))"
   ]
  },
  {
   "cell_type": "code",
   "execution_count": null,
   "id": "0f5738fa-476f-4514-8930-31b67ca022c8",
   "metadata": {},
   "outputs": [],
   "source": []
  },
  {
   "cell_type": "code",
   "execution_count": 12,
   "id": "71d70f75-f474-42cf-b7f2-bb075b9b7c12",
   "metadata": {
    "execution": {
     "iopub.execute_input": "2024-02-03T22:25:17.814201Z",
     "iopub.status.busy": "2024-02-03T22:25:17.813215Z",
     "iopub.status.idle": "2024-02-03T22:25:19.307271Z",
     "shell.execute_reply": "2024-02-03T22:25:19.306927Z",
     "shell.execute_reply.started": "2024-02-03T22:25:17.814114Z"
    }
   },
   "outputs": [
    {
     "data": {
      "text/html": [
       "<div>\n",
       "<style scoped>\n",
       "    .dataframe tbody tr th:only-of-type {\n",
       "        vertical-align: middle;\n",
       "    }\n",
       "\n",
       "    .dataframe tbody tr th {\n",
       "        vertical-align: top;\n",
       "    }\n",
       "\n",
       "    .dataframe thead th {\n",
       "        text-align: right;\n",
       "    }\n",
       "</style>\n",
       "<table border=\"1\" class=\"dataframe\">\n",
       "  <thead>\n",
       "    <tr style=\"text-align: right;\">\n",
       "      <th></th>\n",
       "      <th>profit</th>\n",
       "    </tr>\n",
       "    <tr>\n",
       "      <th>symbol</th>\n",
       "      <th></th>\n",
       "    </tr>\n",
       "  </thead>\n",
       "  <tbody>\n",
       "    <tr>\n",
       "      <th>WLD-USDT-SWAP</th>\n",
       "      <td>-0.070679</td>\n",
       "    </tr>\n",
       "    <tr>\n",
       "      <th>ALPHA-USDT-SWAP</th>\n",
       "      <td>0.320987</td>\n",
       "    </tr>\n",
       "  </tbody>\n",
       "</table>\n",
       "</div>"
      ],
      "text/plain": [
       "                   profit\n",
       "symbol                   \n",
       "WLD-USDT-SWAP   -0.070679\n",
       "ALPHA-USDT-SWAP  0.320987"
      ]
     },
     "execution_count": 12,
     "metadata": {},
     "output_type": "execute_result"
    }
   ],
   "source": [
    "dfst_trading[dfst_trading.profit != 0].dropna()[['profit']].groupby('symbol').sum().sort_values('profit')"
   ]
  },
  {
   "cell_type": "code",
   "execution_count": null,
   "id": "b23c9664-48f7-4a7a-8fb4-1cd43f58ffe1",
   "metadata": {},
   "outputs": [],
   "source": []
  },
  {
   "cell_type": "code",
   "execution_count": 13,
   "id": "1b14ad24-a88a-4140-84f6-04b5af45c1b2",
   "metadata": {
    "execution": {
     "iopub.execute_input": "2024-02-03T22:25:20.216855Z",
     "iopub.status.busy": "2024-02-03T22:25:20.216276Z",
     "iopub.status.idle": "2024-02-03T22:25:21.924435Z",
     "shell.execute_reply": "2024-02-03T22:25:21.924109Z",
     "shell.execute_reply.started": "2024-02-03T22:25:20.216835Z"
    }
   },
   "outputs": [
    {
     "name": "stdout",
     "output_type": "stream",
     "text": [
      "2023-12-16 18:40:00, WLD-USDT-SWAP, 4.009, position_changed: 1.0\n",
      "2023-12-17 10:07:00, WLD-USDT-SWAP, 4.262, position_changed: -1.0\n",
      "2023-12-17 12:28:00, ALPHA-USDT-SWAP, 0.2234, position_changed: 1.0\n",
      "2023-12-17 13:21:00, ALPHA-USDT-SWAP, 0.1609, position_changed: -1.0\n",
      "2023-12-17 13:22:00, ALPHA-USDT-SWAP, 0.1619, position_changed: 1.0\n",
      "2023-12-17 13:23:00, ALPHA-USDT-SWAP, 0.1622, position_changed: -1.0\n"
     ]
    }
   ],
   "source": [
    "for _, row in dfst_trading[(dfst_trading.position_changed != 0)].dropna().reset_index().sort_values('timestamp').iterrows():\n",
    "    print(f'{row[\"timestamp\"]}, {row[\"symbol\"]}, {row[\"value\"]}, position_changed: {row[\"position_changed\"]}')"
   ]
  },
  {
   "cell_type": "code",
   "execution_count": null,
   "id": "5e1e524d-b16b-4ceb-a3f7-77aa56a1f2ca",
   "metadata": {},
   "outputs": [],
   "source": []
  },
  {
   "cell_type": "markdown",
   "id": "8d50d0e7-bc53-4639-9ee4-9cf18cc32b43",
   "metadata": {
    "execution": {
     "iopub.execute_input": "2024-02-01T14:36:55.118172Z",
     "iopub.status.busy": "2024-02-01T14:36:55.117200Z",
     "iopub.status.idle": "2024-02-01T14:36:55.121590Z",
     "shell.execute_reply": "2024-02-01T14:36:55.120954Z",
     "shell.execute_reply.started": "2024-02-01T14:36:55.118144Z"
    }
   },
   "source": [
    "## single symobl"
   ]
  },
  {
   "cell_type": "code",
   "execution_count": 26,
   "id": "a68c1eee-4f97-436f-b97a-021fae71f053",
   "metadata": {
    "execution": {
     "iopub.execute_input": "2024-02-03T22:30:36.142710Z",
     "iopub.status.busy": "2024-02-03T22:30:36.142061Z",
     "iopub.status.idle": "2024-02-03T22:30:36.151340Z",
     "shell.execute_reply": "2024-02-03T22:30:36.150832Z",
     "shell.execute_reply.started": "2024-02-03T22:30:36.142656Z"
    }
   },
   "outputs": [
    {
     "data": {
      "text/plain": [
       "<module 'algo.jitter_recovery.research' from '/home/junlim/projects/jitter_recovery/algo/jitter_recovery/research.py'>"
      ]
     },
     "execution_count": 26,
     "metadata": {},
     "output_type": "execute_result"
    }
   ],
   "source": [
    "import algo.jitter_recovery.calculate\n",
    "importlib.reload(algo.jitter_recovery.calculate)\n",
    "import algo.jitter_recovery.research\n",
    "importlib.reload(algo.jitter_recovery.research)"
   ]
  },
  {
   "cell_type": "code",
   "execution_count": 27,
   "id": "fbfd498f-b9ce-4528-b9dd-81dd1b016347",
   "metadata": {
    "execution": {
     "iopub.execute_input": "2024-02-03T22:30:36.441145Z",
     "iopub.status.busy": "2024-02-03T22:30:36.440055Z",
     "iopub.status.idle": "2024-02-03T22:30:36.455190Z",
     "shell.execute_reply": "2024-02-03T22:30:36.454504Z",
     "shell.execute_reply.started": "2024-02-03T22:30:36.441101Z"
    }
   },
   "outputs": [],
   "source": [
    "symbol_investigate = 'ALPHA-USDT-SWAP'\n",
    "dfs = dfi.xs(symbol_investigate, level=1)"
   ]
  },
  {
   "cell_type": "code",
   "execution_count": 28,
   "id": "a84c39b2-3f19-4fb2-b008-75b6e0d23473",
   "metadata": {
    "execution": {
     "iopub.execute_input": "2024-02-03T22:30:36.822150Z",
     "iopub.status.busy": "2024-02-03T22:30:36.821797Z",
     "iopub.status.idle": "2024-02-03T22:30:36.826145Z",
     "shell.execute_reply": "2024-02-03T22:30:36.825638Z",
     "shell.execute_reply.started": "2024-02-03T22:30:36.822121Z"
    }
   },
   "outputs": [],
   "source": [
    "jitter_recovery_trading_param = algo.jitter_recovery.calculate.JitterRecoveryTradingParam(\n",
    "    algo.jitter_recovery.calculate.JitterRecoveryFeatureParam(240), \n",
    "    0.40, -0.10, 0.05, is_long_term=True)"
   ]
  },
  {
   "cell_type": "code",
   "execution_count": 29,
   "id": "5de7bdfb-b690-4f26-a1ac-e3a192a97ea2",
   "metadata": {
    "execution": {
     "iopub.execute_input": "2024-02-03T22:30:37.247296Z",
     "iopub.status.busy": "2024-02-03T22:30:37.246872Z",
     "iopub.status.idle": "2024-02-03T22:30:43.782143Z",
     "shell.execute_reply": "2024-02-03T22:30:43.781558Z",
     "shell.execute_reply.started": "2024-02-03T22:30:37.247263Z"
    }
   },
   "outputs": [
    {
     "data": {
      "image/png": "[encoded data removed]",
      "text/plain": [
       "<Figure size 1000x900 with 5 Axes>"
      ]
     },
     "metadata": {},
     "output_type": "display_data"
    },
    {
     "data": {
      "image/png": "[encoded data removed]",
      "text/plain": [
       "<Figure size 900x200 with 1 Axes>"
      ]
     },
     "metadata": {},
     "output_type": "display_data"
    },
    {
     "data": {
      "image/png": "[encoded data removed]",
      "text/plain": [
       "<Figure size 900x200 with 1 Axes>"
      ]
     },
     "metadata": {},
     "output_type": "display_data"
    }
   ],
   "source": [
    "df_feature, df_trading = algo.jitter_recovery.research.investigate_symbol(df, symbol_investigate, jitter_recovery_trading_param, figsize=(10,9))"
   ]
  },
  {
   "cell_type": "code",
   "execution_count": 32,
   "id": "96b59c81-1d7e-4232-9d18-55399c7ab9ec",
   "metadata": {
    "execution": {
     "iopub.execute_input": "2024-02-03T20:44:50.545888Z",
     "iopub.status.busy": "2024-02-03T20:44:50.545698Z",
     "iopub.status.idle": "2024-02-03T20:44:50.559047Z",
     "shell.execute_reply": "2024-02-03T20:44:50.558447Z",
     "shell.execute_reply.started": "2024-02-03T20:44:50.545875Z"
    }
   },
   "outputs": [
    {
     "data": {
      "text/html": [
       "<div>\n",
       "<style scoped>\n",
       "    .dataframe tbody tr th:only-of-type {\n",
       "        vertical-align: middle;\n",
       "    }\n",
       "\n",
       "    .dataframe tbody tr th {\n",
       "        vertical-align: top;\n",
       "    }\n",
       "\n",
       "    .dataframe thead th {\n",
       "        text-align: right;\n",
       "    }\n",
       "</style>\n",
       "<table border=\"1\" class=\"dataframe\">\n",
       "  <thead>\n",
       "    <tr style=\"text-align: right;\">\n",
       "      <th></th>\n",
       "      <th>value</th>\n",
       "      <th>ch_max</th>\n",
       "      <th>ch_min</th>\n",
       "      <th>v_ch_max_is_from</th>\n",
       "      <th>v_ch_min_is_from</th>\n",
       "      <th>v_ch_max_is_to</th>\n",
       "      <th>v_ch_min_is_to</th>\n",
       "      <th>ch_since_max</th>\n",
       "      <th>ch_since_min</th>\n",
       "      <th>distance_max_ch</th>\n",
       "      <th>distance_min_ch</th>\n",
       "      <th>in_position</th>\n",
       "      <th>value_at_enter</th>\n",
       "      <th>position_changed</th>\n",
       "      <th>lowest_since_enter</th>\n",
       "      <th>timedelta_since_position_enter</th>\n",
       "      <th>ch_from_enter</th>\n",
       "      <th>ch_from_lowest_since_enter</th>\n",
       "      <th>profit_raw</th>\n",
       "      <th>profit</th>\n",
       "    </tr>\n",
       "    <tr>\n",
       "      <th>timestamp</th>\n",
       "      <th></th>\n",
       "      <th></th>\n",
       "      <th></th>\n",
       "      <th></th>\n",
       "      <th></th>\n",
       "      <th></th>\n",
       "      <th></th>\n",
       "      <th></th>\n",
       "      <th></th>\n",
       "      <th></th>\n",
       "      <th></th>\n",
       "      <th></th>\n",
       "      <th></th>\n",
       "      <th></th>\n",
       "      <th></th>\n",
       "      <th></th>\n",
       "      <th></th>\n",
       "      <th></th>\n",
       "      <th></th>\n",
       "      <th></th>\n",
       "    </tr>\n",
       "  </thead>\n",
       "  <tbody>\n",
       "  </tbody>\n",
       "</table>\n",
       "</div>"
      ],
      "text/plain": [
       "Empty DataFrame\n",
       "Columns: [value, ch_max, ch_min, v_ch_max_is_from, v_ch_min_is_from, v_ch_max_is_to, v_ch_min_is_to, ch_since_max, ch_since_min, distance_max_ch, distance_min_ch, in_position, value_at_enter, position_changed, lowest_since_enter, timedelta_since_position_enter, ch_from_enter, ch_from_lowest_since_enter, profit_raw, profit]\n",
       "Index: []"
      ]
     },
     "execution_count": 32,
     "metadata": {},
     "output_type": "execute_result"
    }
   ],
   "source": [
    "df_trading[\n",
    "    (df_trading.index >=  '2024-01-03 12:14:00') &\n",
    "    (df_trading.index <=  '2024-01-03 12:18:00')\n",
    "]"
   ]
  },
  {
   "cell_type": "code",
   "execution_count": 33,
   "id": "63d3c584-0933-41ff-b011-f355844b2083",
   "metadata": {
    "execution": {
     "iopub.execute_input": "2024-02-03T20:44:51.515700Z",
     "iopub.status.busy": "2024-02-03T20:44:51.515309Z",
     "iopub.status.idle": "2024-02-03T20:44:51.525651Z",
     "shell.execute_reply": "2024-02-03T20:44:51.525121Z",
     "shell.execute_reply.started": "2024-02-03T20:44:51.515665Z"
    }
   },
   "outputs": [
    {
     "data": {
      "text/html": [
       "<div>\n",
       "<style scoped>\n",
       "    .dataframe tbody tr th:only-of-type {\n",
       "        vertical-align: middle;\n",
       "    }\n",
       "\n",
       "    .dataframe tbody tr th {\n",
       "        vertical-align: top;\n",
       "    }\n",
       "\n",
       "    .dataframe thead th {\n",
       "        text-align: right;\n",
       "    }\n",
       "</style>\n",
       "<table border=\"1\" class=\"dataframe\">\n",
       "  <thead>\n",
       "    <tr style=\"text-align: right;\">\n",
       "      <th></th>\n",
       "      <th>value</th>\n",
       "      <th>in_position</th>\n",
       "      <th>position_changed</th>\n",
       "      <th>profit_raw</th>\n",
       "      <th>profit</th>\n",
       "    </tr>\n",
       "    <tr>\n",
       "      <th>timestamp</th>\n",
       "      <th></th>\n",
       "      <th></th>\n",
       "      <th></th>\n",
       "      <th></th>\n",
       "      <th></th>\n",
       "    </tr>\n",
       "  </thead>\n",
       "  <tbody>\n",
       "    <tr>\n",
       "      <th>2023-12-17 12:28:00</th>\n",
       "      <td>0.2234</td>\n",
       "      <td>1</td>\n",
       "      <td>1.0</td>\n",
       "      <td>0.0000</td>\n",
       "      <td>0.000000</td>\n",
       "    </tr>\n",
       "    <tr>\n",
       "      <th>2023-12-17 13:21:00</th>\n",
       "      <td>0.1609</td>\n",
       "      <td>0</td>\n",
       "      <td>-1.0</td>\n",
       "      <td>0.0026</td>\n",
       "      <td>0.015902</td>\n",
       "    </tr>\n",
       "    <tr>\n",
       "      <th>2023-12-17 13:22:00</th>\n",
       "      <td>0.1619</td>\n",
       "      <td>1</td>\n",
       "      <td>1.0</td>\n",
       "      <td>-0.0000</td>\n",
       "      <td>-0.000000</td>\n",
       "    </tr>\n",
       "    <tr>\n",
       "      <th>2023-12-17 13:23:00</th>\n",
       "      <td>0.1622</td>\n",
       "      <td>0</td>\n",
       "      <td>-1.0</td>\n",
       "      <td>-0.0003</td>\n",
       "      <td>-0.001853</td>\n",
       "    </tr>\n",
       "  </tbody>\n",
       "</table>\n",
       "</div>"
      ],
      "text/plain": [
       "                      value  in_position  position_changed  profit_raw  \\\n",
       "timestamp                                                                \n",
       "2023-12-17 12:28:00  0.2234            1               1.0      0.0000   \n",
       "2023-12-17 13:21:00  0.1609            0              -1.0      0.0026   \n",
       "2023-12-17 13:22:00  0.1619            1               1.0     -0.0000   \n",
       "2023-12-17 13:23:00  0.1622            0              -1.0     -0.0003   \n",
       "\n",
       "                       profit  \n",
       "timestamp                      \n",
       "2023-12-17 12:28:00  0.000000  \n",
       "2023-12-17 13:21:00  0.015902  \n",
       "2023-12-17 13:22:00 -0.000000  \n",
       "2023-12-17 13:23:00 -0.001853  "
      ]
     },
     "execution_count": 33,
     "metadata": {},
     "output_type": "execute_result"
    }
   ],
   "source": [
    "df_trading[(df_trading.position_changed != 0)][['value', 'in_position', 'position_changed', 'profit_raw', 'profit']].dropna()"
   ]
  },
  {
   "cell_type": "code",
   "execution_count": 34,
   "id": "ca4f0673-629c-47ed-87d9-95cd400c97c8",
   "metadata": {
    "execution": {
     "iopub.execute_input": "2024-02-03T20:44:51.777921Z",
     "iopub.status.busy": "2024-02-03T20:44:51.777623Z",
     "iopub.status.idle": "2024-02-03T20:44:52.342377Z",
     "shell.execute_reply": "2024-02-03T20:44:52.341726Z",
     "shell.execute_reply.started": "2024-02-03T20:44:51.777902Z"
    }
   },
   "outputs": [
    {
     "name": "stdout",
     "output_type": "stream",
     "text": [
      "2023-12-17 12:28:00, ALPHA-USDT-SWAP, 0.2234, position_changed: 1.0\n",
      "2023-12-17 13:21:00, ALPHA-USDT-SWAP, 0.1609, position_changed: -1.0\n",
      "2023-12-17 13:22:00, ALPHA-USDT-SWAP, 0.1619, position_changed: 1.0\n",
      "2023-12-17 13:23:00, ALPHA-USDT-SWAP, 0.1622, position_changed: -1.0\n"
     ]
    }
   ],
   "source": [
    "for _, row in dfst_trading[(dfst_trading.position_changed != 0)].dropna().reset_index().sort_values('timestamp').iterrows():\n",
    "    if row['symbol'] != symbol_investigate: continue\n",
    "    print(f'{row[\"timestamp\"]}, {row[\"symbol\"]}, {row[\"value\"]}, position_changed: {row[\"position_changed\"]}')"
   ]
  },
  {
   "cell_type": "code",
   "execution_count": null,
   "id": "668c9e32-f919-4360-9c27-afd2ef1084ad",
   "metadata": {},
   "outputs": [],
   "source": []
  }
 ],
 "metadata": {
  "kernelspec": {
   "display_name": "Python 3 (ipykernel)",
   "language": "python",
   "name": "python3"
  },
  "language_info": {
   "codemirror_mode": {
    "name": "ipython",
    "version": 3
   },
   "file_extension": ".py",
   "mimetype": "text/x-python",
   "name": "python",
   "nbconvert_exporter": "python",
   "pygments_lexer": "ipython3",
   "version": "3.10.12"
  }
 },
 "nbformat": 4,
 "nbformat_minor": 5
}
