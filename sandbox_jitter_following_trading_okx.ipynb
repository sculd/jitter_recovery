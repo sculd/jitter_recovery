{
 "cells": [
  {
   "cell_type": "markdown",
   "id": "f2737de0-4e5d-4c43-a52a-96c3c639e234",
   "metadata": {
    "execution": {
     "iopub.execute_input": "2023-12-12T21:48:55.276471Z",
     "iopub.status.busy": "2023-12-12T21:48:55.276035Z",
     "iopub.status.idle": "2023-12-12T21:48:55.282856Z",
     "shell.execute_reply": "2023-12-12T21:48:55.281886Z",
     "shell.execute_reply.started": "2023-12-12T21:48:55.276437Z"
    }
   },
   "source": [
    "## import & load"
   ]
  },
  {
   "cell_type": "code",
   "execution_count": 4,
   "id": "a115d0f3-c935-4c05-a33a-732933233c0a",
   "metadata": {
    "execution": {
     "iopub.execute_input": "2024-05-15T20:48:28.874012Z",
     "iopub.status.busy": "2024-05-15T20:48:28.873250Z",
     "iopub.status.idle": "2024-05-15T20:48:30.016752Z",
     "shell.execute_reply": "2024-05-15T20:48:30.015746Z",
     "shell.execute_reply.started": "2024-05-15T20:48:28.873951Z"
    }
   },
   "outputs": [],
   "source": [
    "import pandas as pd\n",
    "import numpy as np\n",
    "import sys\n",
    "import requests\n",
    "import pprint\n",
    "\n",
    "import datetime\n",
    "import pytz\n",
    "import importlib\n",
    "import matplotlib.pyplot as plt\n",
    "\n",
    "import datetime, json, math\n",
    "from google.cloud import bigquery\n",
    "from numpy_ext import rolling_apply as rolling_apply_ext"
   ]
  },
  {
   "cell_type": "code",
   "execution_count": 5,
   "id": "623cf60e-e7a0-4f98-9d98-8c4fa79fa725",
   "metadata": {
    "execution": {
     "iopub.execute_input": "2024-05-15T20:48:30.018927Z",
     "iopub.status.busy": "2024-05-15T20:48:30.018047Z",
     "iopub.status.idle": "2024-05-15T20:48:30.022967Z",
     "shell.execute_reply": "2024-05-15T20:48:30.022027Z",
     "shell.execute_reply.started": "2024-05-15T20:48:30.018898Z"
    }
   },
   "outputs": [],
   "source": [
    "import logging\n",
    "\n",
    "logging.basicConfig(\n",
    "    level=logging.INFO,\n",
    "    format=\"%(asctime)s [%(threadName)-12.12s] [%(levelname)-5.5s]  %(message)s\",\n",
    "    handlers=[\n",
    "        logging.StreamHandler(sys.stdout)\n",
    "    ]\n",
    ")"
   ]
  },
  {
   "cell_type": "code",
   "execution_count": 6,
   "id": "da881dba-cd40-4bd5-ba15-3fa2691a5107",
   "metadata": {
    "execution": {
     "iopub.execute_input": "2024-05-15T20:48:30.024734Z",
     "iopub.status.busy": "2024-05-15T20:48:30.024204Z",
     "iopub.status.idle": "2024-05-15T20:48:30.033808Z",
     "shell.execute_reply": "2024-05-15T20:48:30.033038Z",
     "shell.execute_reply.started": "2024-05-15T20:48:30.024709Z"
    }
   },
   "outputs": [],
   "source": [
    "import os\n",
    "\n",
    "if os.path.exists('credential.json'):\n",
    "    os.environ[\"GOOGLE_APPLICATION_CREDENTIALS\"] = os.path.join(os.getcwd(), 'credential.json')\n",
    "    os.environ[\"GOOGLE_CLOUD_PROJECT\"] = \"trading-290017\"\n",
    "else:\n",
    "    print('the credential.json file does not exist')\n",
    "\n",
    "import importlib"
   ]
  },
  {
   "cell_type": "code",
   "execution_count": null,
   "id": "bb22a770-cbd0-4c58-9712-b7565998e261",
   "metadata": {},
   "outputs": [],
   "source": []
  },
  {
   "cell_type": "code",
   "execution_count": 7,
   "id": "36a4a892-548f-4c93-a441-423043b5e8ab",
   "metadata": {
    "execution": {
     "iopub.execute_input": "2024-05-15T20:48:30.036077Z",
     "iopub.status.busy": "2024-05-15T20:48:30.035664Z",
     "iopub.status.idle": "2024-05-15T20:48:30.077144Z",
     "shell.execute_reply": "2024-05-15T20:48:30.076567Z",
     "shell.execute_reply.started": "2024-05-15T20:48:30.036039Z"
    }
   },
   "outputs": [
    {
     "data": {
      "text/plain": [
       "<module 'market_data.ingest.bq.cache' from '/home/junlim/projects/jitter_recovery/market_data/ingest/bq/cache.py'>"
      ]
     },
     "execution_count": 7,
     "metadata": {},
     "output_type": "execute_result"
    }
   ],
   "source": [
    "import market_data.ingest.bq.cache\n",
    "importlib.reload(market_data.ingest.bq.common)\n",
    "importlib.reload(market_data.ingest.bq.cache)"
   ]
  },
  {
   "cell_type": "code",
   "execution_count": 8,
   "id": "89404ac0-354b-481e-8bd1-a33db46f38d9",
   "metadata": {
    "execution": {
     "iopub.execute_input": "2024-05-15T20:48:30.561019Z",
     "iopub.status.busy": "2024-05-15T20:48:30.560715Z",
     "iopub.status.idle": "2024-05-15T20:48:30.564848Z",
     "shell.execute_reply": "2024-05-15T20:48:30.564108Z",
     "shell.execute_reply.started": "2024-05-15T20:48:30.560994Z"
    }
   },
   "outputs": [],
   "source": [
    "date_str_from='2024-02-14'\n",
    "date_str_to='2024-03-01'\n",
    "dataset_mode = market_data.ingest.bq.common.DATASET_MODE.OKX\n",
    "export_mode = market_data.ingest.bq.common.EXPORT_MODE.BY_MINUTE"
   ]
  },
  {
   "cell_type": "code",
   "execution_count": 15,
   "id": "82d060be-d433-4464-8992-cf92744532ad",
   "metadata": {
    "execution": {
     "iopub.execute_input": "2024-05-15T19:33:28.391310Z",
     "iopub.status.busy": "2024-05-15T19:33:28.390793Z",
     "iopub.status.idle": "2024-05-15T19:33:38.261764Z",
     "shell.execute_reply": "2024-05-15T19:33:38.261071Z",
     "shell.execute_reply.started": "2024-05-15T19:33:28.391252Z"
    },
    "scrolled": true
   },
   "outputs": [],
   "source": [
    "df = market_data.ingest.bq.cache.fetch_and_cache(\n",
    "    dataset_mode, \n",
    "    export_mode, \n",
    "    market_data.ingest.bq.common.AGGREGATION_MODE.TAKE_LASTEST,\n",
    "    date_str_from=date_str_from, date_str_to=date_str_to).reset_index()\n",
    "df_close = df.pivot(index='timestamp', columns='symbol', values='close')\n",
    "dfi = df.set_index(['timestamp', 'symbol'])"
   ]
  },
  {
   "cell_type": "code",
   "execution_count": 16,
   "id": "6aa8dd6b-4dc7-402a-822c-ea494c6835af",
   "metadata": {
    "execution": {
     "iopub.execute_input": "2024-05-15T19:33:38.262582Z",
     "iopub.status.busy": "2024-05-15T19:33:38.262458Z",
     "iopub.status.idle": "2024-05-15T19:33:38.364726Z",
     "shell.execute_reply": "2024-05-15T19:33:38.363682Z",
     "shell.execute_reply.started": "2024-05-15T19:33:38.262573Z"
    }
   },
   "outputs": [
    {
     "data": {
      "text/plain": [
       "172"
      ]
     },
     "execution_count": 16,
     "metadata": {},
     "output_type": "execute_result"
    }
   ],
   "source": [
    "all_symbols = df.symbol.unique()\n",
    "all_symbols = [s for s in all_symbols if s]\n",
    "len([s for s in all_symbols if 'USDT' in s])"
   ]
  },
  {
   "cell_type": "code",
   "execution_count": null,
   "id": "580bc04c-057f-4f19-827b-0a6d69e35322",
   "metadata": {},
   "outputs": [],
   "source": []
  },
  {
   "cell_type": "markdown",
   "id": "9bb84b8e-cb19-47dd-a19e-fc04b0721b1a",
   "metadata": {},
   "source": [
    "## calculate/cache feature"
   ]
  },
  {
   "cell_type": "code",
   "execution_count": 9,
   "id": "7e4ad85d-1c7a-4dcf-b468-da209eb874d2",
   "metadata": {
    "execution": {
     "iopub.execute_input": "2024-05-15T20:48:32.625474Z",
     "iopub.status.busy": "2024-05-15T20:48:32.624753Z",
     "iopub.status.idle": "2024-05-15T20:48:33.014222Z",
     "shell.execute_reply": "2024-05-15T20:48:33.013633Z",
     "shell.execute_reply.started": "2024-05-15T20:48:32.625418Z"
    }
   },
   "outputs": [
    {
     "data": {
      "text/plain": [
       "<module 'algo.cache' from '/home/junlim/projects/jitter_recovery/algo/cache.py'>"
      ]
     },
     "execution_count": 9,
     "metadata": {},
     "output_type": "execute_result"
    }
   ],
   "source": [
    "import algo.jitter_common.calculate\n",
    "importlib.reload(algo.jitter_common.calculate)\n",
    "import algo.jitter_common.research\n",
    "importlib.reload(algo.jitter_common.research)\n",
    "import algo.cache\n",
    "importlib.reload(algo.cache)"
   ]
  },
  {
   "cell_type": "code",
   "execution_count": 10,
   "id": "dde2af94-4fca-46e0-bbf4-ad2201155953",
   "metadata": {
    "execution": {
     "iopub.execute_input": "2024-05-15T20:48:33.015515Z",
     "iopub.status.busy": "2024-05-15T20:48:33.015277Z",
     "iopub.status.idle": "2024-05-15T20:48:33.020093Z",
     "shell.execute_reply": "2024-05-15T20:48:33.019449Z",
     "shell.execute_reply.started": "2024-05-15T20:48:33.015493Z"
    }
   },
   "outputs": [],
   "source": [
    "feature_param = algo.jitter_common.calculate.JitterFeatureParam(30)"
   ]
  },
  {
   "cell_type": "code",
   "execution_count": 11,
   "id": "a7d2d4bd-60e6-411f-853b-f1e26b4df75b",
   "metadata": {
    "execution": {
     "iopub.execute_input": "2024-05-15T20:48:33.130709Z",
     "iopub.status.busy": "2024-05-15T20:48:33.130412Z",
     "iopub.status.idle": "2024-05-15T20:48:33.136673Z",
     "shell.execute_reply": "2024-05-15T20:48:33.135458Z",
     "shell.execute_reply.started": "2024-05-15T20:48:33.130680Z"
    }
   },
   "outputs": [
    {
     "data": {
      "text/plain": [
       "'feature/(changes)_window(30)'"
      ]
     },
     "execution_count": 11,
     "metadata": {},
     "output_type": "execute_result"
    }
   ],
   "source": [
    "algo.jitter_common.research.get_feature_label_for_caching(feature_param)"
   ]
  },
  {
   "cell_type": "code",
   "execution_count": null,
   "id": "b078c545-364b-4759-9aaa-d9c39d1889ab",
   "metadata": {
    "execution": {
     "iopub.execute_input": "2024-05-15T20:48:40.712254Z",
     "iopub.status.busy": "2024-05-15T20:48:40.711546Z"
    }
   },
   "outputs": [],
   "source": [
    "dfst_feature = algo.cache.read_df(\n",
    "    label = algo.jitter_common.research.get_feature_label_for_caching(feature_param),\n",
    "    dataset_mode = market_data.ingest.bq.common.DATASET_MODE.OKX,\n",
    "    export_mode = market_data.ingest.bq.common.EXPORT_MODE.BY_MINUTE,\n",
    "    date_str_from='2024-03-01', \n",
    "    date_str_to='2024-03-14')"
   ]
  },
  {
   "cell_type": "code",
   "execution_count": null,
   "id": "4e1d5a52-2358-4793-a07d-4c59787b858f",
   "metadata": {},
   "outputs": [],
   "source": []
  },
  {
   "cell_type": "markdown",
   "id": "fa03db18-fef0-4b9b-bde4-9937b997edf1",
   "metadata": {},
   "source": [
    "## multiple symbols"
   ]
  },
  {
   "cell_type": "code",
   "execution_count": null,
   "id": "58be5ef4-29c9-476f-9f91-4d2c2c2eee51",
   "metadata": {},
   "outputs": [],
   "source": [
    "import algo.jitter_following.calculate\n",
    "importlib.reload(algo.jitter_following.calculate)\n",
    "import algo.jitter_following.research\n",
    "importlib.reload(algo.jitter_following.research)"
   ]
  },
  {
   "cell_type": "code",
   "execution_count": null,
   "id": "f2f72800-c17d-4d97-aa9d-d7ab39607498",
   "metadata": {},
   "outputs": [],
   "source": [
    "trading_param = algo.jitter_following.calculate.JitterFollowingTradingParam(\n",
    "    feature_param, \n",
    "    0.15, -0.02)"
   ]
  },
  {
   "cell_type": "code",
   "execution_count": null,
   "id": "310c886a-22d0-4445-9be3-915592435eff",
   "metadata": {},
   "outputs": [],
   "source": [
    "algo.jitter_following.research.get_trading_label_for_caching(trading_param)"
   ]
  },
  {
   "cell_type": "code",
   "execution_count": null,
   "id": "3e0db73d-2782-4596-ae5d-6430e0e19fb4",
   "metadata": {},
   "outputs": [],
   "source": []
  },
  {
   "cell_type": "code",
   "execution_count": null,
   "id": "60135ba0-33b2-422d-80c3-43d2c8c2119d",
   "metadata": {
    "scrolled": true
   },
   "outputs": [],
   "source": [
    "dfst_trading = algo.jitter_following.research.get_dfst_trading(dfst_feature, trading_param)"
   ]
  },
  {
   "cell_type": "code",
   "execution_count": null,
   "id": "148f3132-c97e-4807-89d1-a45cb80e5c74",
   "metadata": {},
   "outputs": [],
   "source": []
  },
  {
   "cell_type": "code",
   "execution_count": null,
   "id": "92bd9382-840a-436e-84a9-17849cbad8e0",
   "metadata": {},
   "outputs": [],
   "source": [
    "dfst_trading[['profit']].dropna().groupby('timestamp').sum().cumsum().plot(figsize=(8,2))"
   ]
  },
  {
   "cell_type": "code",
   "execution_count": null,
   "id": "3e0dc017-ebf3-408d-9e03-6ae9b0062cde",
   "metadata": {},
   "outputs": [],
   "source": []
  },
  {
   "cell_type": "code",
   "execution_count": 17,
   "id": "aee8db30-c978-43be-8733-d61d9915cf9e",
   "metadata": {
    "execution": {
     "iopub.execute_input": "2024-05-15T19:45:27.816529Z",
     "iopub.status.busy": "2024-05-15T19:45:27.816271Z",
     "iopub.status.idle": "2024-05-15T19:45:28.175853Z",
     "shell.execute_reply": "2024-05-15T19:45:28.175245Z",
     "shell.execute_reply.started": "2024-05-15T19:45:27.816510Z"
    }
   },
   "outputs": [
    {
     "data": {
      "text/plain": [
       "<Axes: xlabel='timestamp'>"
      ]
     },
     "execution_count": 17,
     "metadata": {},
     "output_type": "execute_result"
    },
    {
     "data": {
      "image/png": "[encoded data removed]",
      "text/plain": [
       "<Figure size 800x200 with 1 Axes>"
      ]
     },
     "metadata": {},
     "output_type": "display_data"
    }
   ],
   "source": [
    "dfst_trading[['profit']].dropna().groupby('timestamp').sum().cumsum().plot(figsize=(8,2))"
   ]
  },
  {
   "cell_type": "code",
   "execution_count": null,
   "id": "c528aa12-0ab1-428f-a618-d3fb21c4c292",
   "metadata": {},
   "outputs": [],
   "source": []
  },
  {
   "cell_type": "code",
   "execution_count": 22,
   "id": "d2062049-7555-400a-8995-efb314642c1a",
   "metadata": {
    "execution": {
     "iopub.execute_input": "2024-05-14T19:53:18.860398Z",
     "iopub.status.busy": "2024-05-14T19:53:18.858623Z",
     "iopub.status.idle": "2024-05-14T19:53:22.570507Z",
     "shell.execute_reply": "2024-05-14T19:53:22.570178Z",
     "shell.execute_reply.started": "2024-05-14T19:53:18.860321Z"
    }
   },
   "outputs": [
    {
     "data": {
      "text/plain": [
       "<Axes: xlabel='timestamp'>"
      ]
     },
     "execution_count": 22,
     "metadata": {},
     "output_type": "execute_result"
    },
    {
     "data": {
      "image/png": "[encoded data removed]",
      "text/plain": [
       "<Figure size 800x200 with 1 Axes>"
      ]
     },
     "metadata": {},
     "output_type": "display_data"
    }
   ],
   "source": [
    "dfst_trading[['profit']].groupby('timestamp').sum().cumsum().plot(figsize=(8,2))"
   ]
  },
  {
   "cell_type": "code",
   "execution_count": null,
   "id": "e6567418-9250-4196-9196-ad4d5247d130",
   "metadata": {},
   "outputs": [],
   "source": []
  },
  {
   "cell_type": "code",
   "execution_count": null,
   "id": "106b12bb-9092-45c2-a2bc-1182901fceed",
   "metadata": {},
   "outputs": [],
   "source": []
  },
  {
   "cell_type": "code",
   "execution_count": null,
   "id": "b215d56d-ace7-43a5-beca-2a2d509709b8",
   "metadata": {},
   "outputs": [],
   "source": []
  },
  {
   "cell_type": "code",
   "execution_count": 36,
   "id": "b23c9664-48f7-4a7a-8fb4-1cd43f58ffe1",
   "metadata": {
    "execution": {
     "iopub.execute_input": "2024-03-04T20:13:15.414263Z",
     "iopub.status.busy": "2024-03-04T20:13:15.414010Z",
     "iopub.status.idle": "2024-03-04T20:13:15.428231Z",
     "shell.execute_reply": "2024-03-04T20:13:15.427635Z",
     "shell.execute_reply.started": "2024-03-04T20:13:15.414249Z"
    }
   },
   "outputs": [
    {
     "data": {
      "text/html": [
       "<div>\n",
       "<style scoped>\n",
       "    .dataframe tbody tr th:only-of-type {\n",
       "        vertical-align: middle;\n",
       "    }\n",
       "\n",
       "    .dataframe tbody tr th {\n",
       "        vertical-align: top;\n",
       "    }\n",
       "\n",
       "    .dataframe thead th {\n",
       "        text-align: right;\n",
       "    }\n",
       "</style>\n",
       "<table border=\"1\" class=\"dataframe\">\n",
       "  <thead>\n",
       "    <tr style=\"text-align: right;\">\n",
       "      <th></th>\n",
       "      <th>profit</th>\n",
       "    </tr>\n",
       "    <tr>\n",
       "      <th>symbol</th>\n",
       "      <th></th>\n",
       "    </tr>\n",
       "  </thead>\n",
       "  <tbody>\n",
       "    <tr>\n",
       "      <th>NFT-USDT-SWAP</th>\n",
       "      <td>-0.016354</td>\n",
       "    </tr>\n",
       "    <tr>\n",
       "      <th>FITFI-USDT-SWAP</th>\n",
       "      <td>0.010111</td>\n",
       "    </tr>\n",
       "  </tbody>\n",
       "</table>\n",
       "</div>"
      ],
      "text/plain": [
       "                   profit\n",
       "symbol                   \n",
       "NFT-USDT-SWAP   -0.016354\n",
       "FITFI-USDT-SWAP  0.010111"
      ]
     },
     "execution_count": 36,
     "metadata": {},
     "output_type": "execute_result"
    }
   ],
   "source": [
    "dfst_trading[dfst_trading.profit.fillna(0) != 0][['profit']].groupby('symbol').sum().sort_values('profit')"
   ]
  },
  {
   "cell_type": "code",
   "execution_count": null,
   "id": "086da360-7e54-40d2-8de7-6e5d13adba58",
   "metadata": {},
   "outputs": [],
   "source": []
  },
  {
   "cell_type": "code",
   "execution_count": null,
   "id": "f91da468-47a9-43e5-978e-99b2dfada59b",
   "metadata": {},
   "outputs": [],
   "source": []
  },
  {
   "cell_type": "code",
   "execution_count": null,
   "id": "d8688707-7e67-42d4-adb4-56c4396ff1a5",
   "metadata": {},
   "outputs": [],
   "source": []
  },
  {
   "cell_type": "code",
   "execution_count": 221,
   "id": "1b14ad24-a88a-4140-84f6-04b5af45c1b2",
   "metadata": {
    "execution": {
     "iopub.execute_input": "2024-02-11T00:29:05.458832Z",
     "iopub.status.busy": "2024-02-11T00:29:05.458699Z",
     "iopub.status.idle": "2024-02-11T00:29:05.533090Z",
     "shell.execute_reply": "2024-02-11T00:29:05.532061Z",
     "shell.execute_reply.started": "2024-02-11T00:29:05.458821Z"
    },
    "scrolled": true
   },
   "outputs": [
    {
     "name": "stdout",
     "output_type": "stream",
     "text": [
      "2024-02-03 18:13:00, GAL-USDT-SWAP, 1.905, position_changed: 1.0\n",
      "2024-02-03 19:18:00, GAL-USDT-SWAP, 1.852, position_changed: -1.0\n",
      "2024-02-04 00:19:00, FITFI-USDT-SWAP, 0.006064, position_changed: 1.0\n",
      "2024-02-04 00:31:00, FITFI-USDT-SWAP, 0.005904, position_changed: -1.0\n",
      "2024-02-04 20:20:00, DMAIL-USDT-SWAP, 0.4964, position_changed: 1.0\n",
      "2024-02-04 20:23:00, DMAIL-USDT-SWAP, 0.5023, position_changed: -1.0\n",
      "2024-02-04 20:24:00, DMAIL-USDT-SWAP, 0.4965, position_changed: 1.0\n",
      "2024-02-04 20:55:00, DMAIL-USDT-SWAP, 0.4923, position_changed: -1.0\n"
     ]
    }
   ],
   "source": [
    "for _, row in dfst_trading[(dfst_trading.position_changed != 0)].dropna().reset_index().sort_values('timestamp').iterrows():\n",
    "    print(f'{row[\"timestamp\"]}, {row[\"symbol\"]}, {row[\"value\"]}, position_changed: {row[\"position_changed\"]}')"
   ]
  },
  {
   "cell_type": "code",
   "execution_count": null,
   "id": "5e1e524d-b16b-4ceb-a3f7-77aa56a1f2ca",
   "metadata": {},
   "outputs": [],
   "source": []
  },
  {
   "cell_type": "markdown",
   "id": "8d50d0e7-bc53-4639-9ee4-9cf18cc32b43",
   "metadata": {
    "execution": {
     "iopub.execute_input": "2024-02-01T14:36:55.118172Z",
     "iopub.status.busy": "2024-02-01T14:36:55.117200Z",
     "iopub.status.idle": "2024-02-01T14:36:55.121590Z",
     "shell.execute_reply": "2024-02-01T14:36:55.120954Z",
     "shell.execute_reply.started": "2024-02-01T14:36:55.118144Z"
    },
    "jp-MarkdownHeadingCollapsed": true
   },
   "source": [
    "## single symbol"
   ]
  },
  {
   "cell_type": "code",
   "execution_count": 37,
   "id": "a68c1eee-4f97-436f-b97a-021fae71f053",
   "metadata": {
    "execution": {
     "iopub.execute_input": "2024-03-04T20:16:38.660767Z",
     "iopub.status.busy": "2024-03-04T20:16:38.660482Z",
     "iopub.status.idle": "2024-03-04T20:16:38.793882Z",
     "shell.execute_reply": "2024-03-04T20:16:38.793273Z",
     "shell.execute_reply.started": "2024-03-04T20:16:38.660750Z"
    }
   },
   "outputs": [
    {
     "data": {
      "text/plain": [
       "<module 'algo.jitter_recovery.research' from '/home/junlim/projects/jitter_recovery/algo/jitter_recovery/research.py'>"
      ]
     },
     "execution_count": 37,
     "metadata": {},
     "output_type": "execute_result"
    }
   ],
   "source": [
    "import algo.jitter_folloinwg.calculate\n",
    "importlib.reload(algo.jitter_folloinwg.calculate)\n",
    "import algo.jitter_folloinwg.research\n",
    "importlib.reload(algo.jitter_folloinwg.research)"
   ]
  },
  {
   "cell_type": "code",
   "execution_count": 47,
   "id": "fbfd498f-b9ce-4528-b9dd-81dd1b016347",
   "metadata": {
    "execution": {
     "iopub.execute_input": "2024-03-04T20:20:12.777864Z",
     "iopub.status.busy": "2024-03-04T20:20:12.777369Z",
     "iopub.status.idle": "2024-03-04T20:20:12.785147Z",
     "shell.execute_reply": "2024-03-04T20:20:12.783882Z",
     "shell.execute_reply.started": "2024-03-04T20:20:12.777827Z"
    }
   },
   "outputs": [],
   "source": [
    "symbol_investigate = 'AIDOGE-USDT-SWAP'\n",
    "dfs = dfi.xs(symbol_investigate, level=1)"
   ]
  },
  {
   "cell_type": "code",
   "execution_count": 50,
   "id": "59cd7928-7c3d-438e-aa44-24324ca09d9b",
   "metadata": {
    "execution": {
     "iopub.execute_input": "2024-03-04T20:20:29.732962Z",
     "iopub.status.busy": "2024-03-04T20:20:29.732756Z",
     "iopub.status.idle": "2024-03-04T20:20:29.760253Z",
     "shell.execute_reply": "2024-03-04T20:20:29.757035Z",
     "shell.execute_reply.started": "2024-03-04T20:20:29.732947Z"
    }
   },
   "outputs": [
    {
     "data": {
      "text/html": [
       "<div>\n",
       "<style scoped>\n",
       "    .dataframe tbody tr th:only-of-type {\n",
       "        vertical-align: middle;\n",
       "    }\n",
       "\n",
       "    .dataframe tbody tr th {\n",
       "        vertical-align: top;\n",
       "    }\n",
       "\n",
       "    .dataframe thead th {\n",
       "        text-align: right;\n",
       "    }\n",
       "</style>\n",
       "<table border=\"1\" class=\"dataframe\">\n",
       "  <thead>\n",
       "    <tr style=\"text-align: right;\">\n",
       "      <th></th>\n",
       "      <th>open</th>\n",
       "      <th>high</th>\n",
       "      <th>low</th>\n",
       "      <th>close</th>\n",
       "      <th>volume</th>\n",
       "    </tr>\n",
       "    <tr>\n",
       "      <th>timestamp</th>\n",
       "      <th></th>\n",
       "      <th></th>\n",
       "      <th></th>\n",
       "      <th></th>\n",
       "      <th></th>\n",
       "    </tr>\n",
       "  </thead>\n",
       "  <tbody>\n",
       "    <tr>\n",
       "      <th>2024-03-03 05:00:00</th>\n",
       "      <td>0.0</td>\n",
       "      <td>0.0</td>\n",
       "      <td>0.0</td>\n",
       "      <td>0.0</td>\n",
       "      <td>3.422000e+13</td>\n",
       "    </tr>\n",
       "    <tr>\n",
       "      <th>2024-03-03 05:01:00</th>\n",
       "      <td>0.0</td>\n",
       "      <td>0.0</td>\n",
       "      <td>0.0</td>\n",
       "      <td>0.0</td>\n",
       "      <td>1.738000e+13</td>\n",
       "    </tr>\n",
       "    <tr>\n",
       "      <th>2024-03-03 05:02:00</th>\n",
       "      <td>0.0</td>\n",
       "      <td>0.0</td>\n",
       "      <td>0.0</td>\n",
       "      <td>0.0</td>\n",
       "      <td>3.181000e+13</td>\n",
       "    </tr>\n",
       "    <tr>\n",
       "      <th>2024-03-03 05:03:00</th>\n",
       "      <td>0.0</td>\n",
       "      <td>0.0</td>\n",
       "      <td>0.0</td>\n",
       "      <td>0.0</td>\n",
       "      <td>1.410000e+13</td>\n",
       "    </tr>\n",
       "    <tr>\n",
       "      <th>2024-03-03 05:04:00</th>\n",
       "      <td>0.0</td>\n",
       "      <td>0.0</td>\n",
       "      <td>0.0</td>\n",
       "      <td>0.0</td>\n",
       "      <td>3.950000e+12</td>\n",
       "    </tr>\n",
       "    <tr>\n",
       "      <th>...</th>\n",
       "      <td>...</td>\n",
       "      <td>...</td>\n",
       "      <td>...</td>\n",
       "      <td>...</td>\n",
       "      <td>...</td>\n",
       "    </tr>\n",
       "    <tr>\n",
       "      <th>2024-03-04 20:03:00</th>\n",
       "      <td>0.0</td>\n",
       "      <td>0.0</td>\n",
       "      <td>0.0</td>\n",
       "      <td>0.0</td>\n",
       "      <td>3.988600e+14</td>\n",
       "    </tr>\n",
       "    <tr>\n",
       "      <th>2024-03-04 20:04:00</th>\n",
       "      <td>0.0</td>\n",
       "      <td>0.0</td>\n",
       "      <td>0.0</td>\n",
       "      <td>0.0</td>\n",
       "      <td>1.538500e+14</td>\n",
       "    </tr>\n",
       "    <tr>\n",
       "      <th>2024-03-04 20:05:00</th>\n",
       "      <td>0.0</td>\n",
       "      <td>0.0</td>\n",
       "      <td>0.0</td>\n",
       "      <td>0.0</td>\n",
       "      <td>8.488000e+13</td>\n",
       "    </tr>\n",
       "    <tr>\n",
       "      <th>2024-03-04 20:06:00</th>\n",
       "      <td>0.0</td>\n",
       "      <td>0.0</td>\n",
       "      <td>0.0</td>\n",
       "      <td>0.0</td>\n",
       "      <td>9.894000e+13</td>\n",
       "    </tr>\n",
       "    <tr>\n",
       "      <th>2024-03-04 20:07:00</th>\n",
       "      <td>0.0</td>\n",
       "      <td>0.0</td>\n",
       "      <td>0.0</td>\n",
       "      <td>0.0</td>\n",
       "      <td>8.778000e+13</td>\n",
       "    </tr>\n",
       "  </tbody>\n",
       "</table>\n",
       "<p>2312 rows × 5 columns</p>\n",
       "</div>"
      ],
      "text/plain": [
       "                     open  high  low  close        volume\n",
       "timestamp                                                \n",
       "2024-03-03 05:00:00   0.0   0.0  0.0    0.0  3.422000e+13\n",
       "2024-03-03 05:01:00   0.0   0.0  0.0    0.0  1.738000e+13\n",
       "2024-03-03 05:02:00   0.0   0.0  0.0    0.0  3.181000e+13\n",
       "2024-03-03 05:03:00   0.0   0.0  0.0    0.0  1.410000e+13\n",
       "2024-03-03 05:04:00   0.0   0.0  0.0    0.0  3.950000e+12\n",
       "...                   ...   ...  ...    ...           ...\n",
       "2024-03-04 20:03:00   0.0   0.0  0.0    0.0  3.988600e+14\n",
       "2024-03-04 20:04:00   0.0   0.0  0.0    0.0  1.538500e+14\n",
       "2024-03-04 20:05:00   0.0   0.0  0.0    0.0  8.488000e+13\n",
       "2024-03-04 20:06:00   0.0   0.0  0.0    0.0  9.894000e+13\n",
       "2024-03-04 20:07:00   0.0   0.0  0.0    0.0  8.778000e+13\n",
       "\n",
       "[2312 rows x 5 columns]"
      ]
     },
     "execution_count": 50,
     "metadata": {},
     "output_type": "execute_result"
    }
   ],
   "source": [
    "dfs"
   ]
  },
  {
   "cell_type": "code",
   "execution_count": 51,
   "id": "a84c39b2-3f19-4fb2-b008-75b6e0d23473",
   "metadata": {
    "execution": {
     "iopub.execute_input": "2024-03-04T20:20:31.765038Z",
     "iopub.status.busy": "2024-03-04T20:20:31.763260Z",
     "iopub.status.idle": "2024-03-04T20:20:31.770188Z",
     "shell.execute_reply": "2024-03-04T20:20:31.769531Z",
     "shell.execute_reply.started": "2024-03-04T20:20:31.764964Z"
    }
   },
   "outputs": [],
   "source": [
    "jitter_recovery_trading_param = algo.jitter_recovery.calculate.JitterRecoveryTradingParam(\n",
    "    algo.jitter_recovery.calculate.JitterRecoveryFeatureParam(30), \n",
    "    0.20, -0.04, 0.02, is_long_term=False)"
   ]
  },
  {
   "cell_type": "code",
   "execution_count": 52,
   "id": "f83df7b4-63cb-43d2-9047-4de1fab6604a",
   "metadata": {
    "execution": {
     "iopub.execute_input": "2024-03-04T20:20:31.934697Z",
     "iopub.status.busy": "2024-03-04T20:20:31.934370Z",
     "iopub.status.idle": "2024-03-04T20:20:32.426493Z",
     "shell.execute_reply": "2024-03-04T20:20:32.425712Z",
     "shell.execute_reply.started": "2024-03-04T20:20:31.934674Z"
    }
   },
   "outputs": [
    {
     "name": "stdout",
     "output_type": "stream",
     "text": [
      "no trading happens\n"
     ]
    },
    {
     "data": {
      "image/png": "[encoded data removed]",
      "text/plain": [
       "<Figure size 640x480 with 1 Axes>"
      ]
     },
     "metadata": {},
     "output_type": "display_data"
    }
   ],
   "source": [
    "df_feature, df_trading = algo.jitter_recovery.research.investigate_symbol(df, symbol_investigate, jitter_recovery_trading_param, figsize=(12, 11))"
   ]
  },
  {
   "cell_type": "code",
   "execution_count": null,
   "id": "b123c5ca-e413-4db6-89c0-fa9b1d7a1b8f",
   "metadata": {},
   "outputs": [],
   "source": []
  },
  {
   "cell_type": "code",
   "execution_count": 146,
   "id": "63d3c584-0933-41ff-b011-f355844b2083",
   "metadata": {
    "execution": {
     "iopub.execute_input": "2024-02-01T16:21:28.219991Z",
     "iopub.status.busy": "2024-02-01T16:21:28.219605Z",
     "iopub.status.idle": "2024-02-01T16:21:28.230264Z",
     "shell.execute_reply": "2024-02-01T16:21:28.229637Z",
     "shell.execute_reply.started": "2024-02-01T16:21:28.219962Z"
    }
   },
   "outputs": [
    {
     "data": {
      "text/html": [
       "<div>\n",
       "<style scoped>\n",
       "    .dataframe tbody tr th:only-of-type {\n",
       "        vertical-align: middle;\n",
       "    }\n",
       "\n",
       "    .dataframe tbody tr th {\n",
       "        vertical-align: top;\n",
       "    }\n",
       "\n",
       "    .dataframe thead th {\n",
       "        text-align: right;\n",
       "    }\n",
       "</style>\n",
       "<table border=\"1\" class=\"dataframe\">\n",
       "  <thead>\n",
       "    <tr style=\"text-align: right;\">\n",
       "      <th></th>\n",
       "      <th>value</th>\n",
       "      <th>in_position</th>\n",
       "      <th>position_changed</th>\n",
       "      <th>profit_raw</th>\n",
       "      <th>profit</th>\n",
       "    </tr>\n",
       "    <tr>\n",
       "      <th>timestamp</th>\n",
       "      <th></th>\n",
       "      <th></th>\n",
       "      <th></th>\n",
       "      <th></th>\n",
       "      <th></th>\n",
       "    </tr>\n",
       "  </thead>\n",
       "  <tbody>\n",
       "    <tr>\n",
       "      <th>2024-01-03 12:27:00</th>\n",
       "      <td>1.7395</td>\n",
       "      <td>1</td>\n",
       "      <td>1.0</td>\n",
       "      <td>0.000</td>\n",
       "      <td>0.000000</td>\n",
       "    </tr>\n",
       "    <tr>\n",
       "      <th>2024-01-03 12:29:00</th>\n",
       "      <td>1.8060</td>\n",
       "      <td>0</td>\n",
       "      <td>-1.0</td>\n",
       "      <td>-0.016</td>\n",
       "      <td>-0.008939</td>\n",
       "    </tr>\n",
       "  </tbody>\n",
       "</table>\n",
       "</div>"
      ],
      "text/plain": [
       "                      value  in_position  position_changed  profit_raw  \\\n",
       "timestamp                                                                \n",
       "2024-01-03 12:27:00  1.7395            1               1.0       0.000   \n",
       "2024-01-03 12:29:00  1.8060            0              -1.0      -0.016   \n",
       "\n",
       "                       profit  \n",
       "timestamp                      \n",
       "2024-01-03 12:27:00  0.000000  \n",
       "2024-01-03 12:29:00 -0.008939  "
      ]
     },
     "execution_count": 146,
     "metadata": {},
     "output_type": "execute_result"
    }
   ],
   "source": [
    "df_trading[(df_trading.position_changed != 0)][['value', 'in_position', 'position_changed', 'profit_raw', 'profit']].dropna()"
   ]
  },
  {
   "cell_type": "code",
   "execution_count": 147,
   "id": "ca4f0673-629c-47ed-87d9-95cd400c97c8",
   "metadata": {
    "execution": {
     "iopub.execute_input": "2024-02-01T16:21:29.822541Z",
     "iopub.status.busy": "2024-02-01T16:21:29.821963Z",
     "iopub.status.idle": "2024-02-01T16:21:30.096208Z",
     "shell.execute_reply": "2024-02-01T16:21:30.095551Z",
     "shell.execute_reply.started": "2024-02-01T16:21:29.822506Z"
    }
   },
   "outputs": [
    {
     "name": "stdout",
     "output_type": "stream",
     "text": [
      "2024-01-03 12:27:00, ARB-USDT-SWAP, 1.7395, position_changed: 1.0\n",
      "2024-01-03 12:28:00, ARB-USDT-SWAP, 1.79, position_changed: -1.0\n"
     ]
    }
   ],
   "source": [
    "for _, row in dfst_trading[(dfst_trading.position_changed != 0)].dropna().reset_index().sort_values('timestamp').iterrows():\n",
    "    if row['symbol'] != symbol_investigate: continue\n",
    "    print(f'{row[\"timestamp\"]}, {row[\"symbol\"]}, {row[\"value\"]}, position_changed: {row[\"position_changed\"]}')"
   ]
  },
  {
   "cell_type": "code",
   "execution_count": null,
   "id": "668c9e32-f919-4360-9c27-afd2ef1084ad",
   "metadata": {},
   "outputs": [],
   "source": []
  }
 ],
 "metadata": {
  "kernelspec": {
   "display_name": "Python 3 (ipykernel)",
   "language": "python",
   "name": "python3"
  },
  "language_info": {
   "codemirror_mode": {
    "name": "ipython",
    "version": 3
   },
   "file_extension": ".py",
   "mimetype": "text/x-python",
   "name": "python",
   "nbconvert_exporter": "python",
   "pygments_lexer": "ipython3",
   "version": "3.10.12"
  }
 },
 "nbformat": 4,
 "nbformat_minor": 5
}
